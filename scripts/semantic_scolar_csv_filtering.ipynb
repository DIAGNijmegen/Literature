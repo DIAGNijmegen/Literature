{
 "cells": [
  {
   "cell_type": "markdown",
   "id": "afe7d8b9",
   "metadata": {},
   "source": [
    "# NEXT:\n",
    "- check unmatched\n",
    "    - check the type (journal, abstract etc)\n",
    "- check dubous titles\n",
    "- get keyfile\n",
    "- add to bib file\n",
    "    - add ss_id's to bibfile\n",
    "    - add ss_doi"
   ]
  },
  {
   "cell_type": "markdown",
   "id": "f24fc613-f464-470a-8450-86303a12be57",
   "metadata": {},
   "source": [
    "## Flowchart\n",
    "1. match on doi\n",
    "    - single match = match\n",
    "    - multiple matches, one with most citations = match\n",
    "        - NOTE: arxiv could be updated with doi, so citations may originate from the arxiv paper. Check what to do?\n",
    "2. match on title\n",
    "    - ss_id has single bibkey match > 80%?\n",
    "        - Check if multiple ss_ids are linked to this single bibkey\n",
    "        - Could be that one of these ss_ids are already linked via doi?\n",
    "    - ss_id has multiple bibkey matches > 80% \n",
    "        - check indivually\n",
    "        - probably arxiv + journal\n",
    "        - take one with most citations?\n",
    "        - sum citations?"
   ]
  },
  {
   "cell_type": "markdown",
   "id": "60a62e21-4e79-42a6-b008-3e0298193a01",
   "metadata": {},
   "source": [
    "### Main task: make csv file with ambiguous cases that can be checked manually\n",
    "should contain:\n",
    "- ss_id\n",
    "- bibkey\n",
    "- Titles"
   ]
  },
  {
   "cell_type": "markdown",
   "id": "08ea22fb-49cf-441b-8291-b8bf293dc2a0",
   "metadata": {},
   "source": [
    "# Q: why no matches?"
   ]
  },
  {
   "cell_type": "code",
   "execution_count": null,
   "id": "1d9f4ef2",
   "metadata": {},
   "outputs": [],
   "source": [
    "import pandas as pd\n",
    "from ast import literal_eval\n",
    "import matplotlib.pyplot as plt\n",
    "import numpy as np\n",
    "from collections import Counter"
   ]
  },
  {
   "cell_type": "code",
   "execution_count": null,
   "id": "d4764d36",
   "metadata": {},
   "outputs": [],
   "source": [
    "df_bib = pd.read_csv('script_data/temp_diag_bib_summary.csv')\n",
    "df_ss = pd.read_csv('script_data/temp_semantic_scholar_all_staff_id_last_500_summary.csv')\n",
    "df_doi = pd.read_csv('script_data/temp_doi_match_data.csv')\n",
    "df_title = pd.read_csv('script_data/temp_title_match_data.csv')"
   ]
  },
  {
   "cell_type": "code",
   "execution_count": null,
   "id": "629b99a7-2027-4f0f-8bb3-8eaea0381328",
   "metadata": {},
   "outputs": [],
   "source": [
    "# df_non_string = df_bib[df_bib['type']!='string']\n",
    "# not_na_doi = df_non_string[df_non_string['type']!='article'][df_non_string[df_non_string['type']!='article']['doi'].notna()]\n",
    "# from collections import Counter\n",
    "# counts = Counter(not_na_doi['type'])"
   ]
  },
  {
   "cell_type": "code",
   "execution_count": null,
   "id": "20766d29",
   "metadata": {},
   "outputs": [],
   "source": [
    "# df_ss[df_ss['ss_id'] == 'c70d5169b5c69171cc2ed3ec40eebda0630988d9']"
   ]
  },
  {
   "cell_type": "markdown",
   "id": "61120b34-a952-4dea-8d2d-d5458552f6f5",
   "metadata": {},
   "source": [
    "# Matches df\n",
    "This is the df we want to make complete"
   ]
  },
  {
   "cell_type": "code",
   "execution_count": null,
   "id": "c19a6ed2-f4d5-4b05-af36-027d5fb5e4e7",
   "metadata": {},
   "outputs": [],
   "source": [
    "df_matches = df_bib[df_bib['type']!='string'][['bibkey']]\n",
    "df_matches['ss_id'] = len(df_matches)*[np.nan]\n",
    "df_matches['all_ss_ids'] = len(df_matches)*[np.nan]\n",
    "df_matches['comment'] = len(df_matches)*[np.nan]\n",
    "df_matches"
   ]
  },
  {
   "cell_type": "markdown",
   "id": "22028e94",
   "metadata": {},
   "source": [
    "# BIB SUMMARY"
   ]
  },
  {
   "cell_type": "code",
   "execution_count": null,
   "id": "764816e1",
   "metadata": {},
   "outputs": [],
   "source": [
    "df_bib"
   ]
  },
  {
   "cell_type": "code",
   "execution_count": null,
   "id": "ece809df",
   "metadata": {},
   "outputs": [],
   "source": [
    "df_bib[df_bib['type']!='string']"
   ]
  },
  {
   "cell_type": "code",
   "execution_count": null,
   "id": "d0607463",
   "metadata": {},
   "outputs": [],
   "source": [
    "df_bib[df_bib['title'].notna()]"
   ]
  },
  {
   "cell_type": "markdown",
   "id": "839715ea",
   "metadata": {},
   "source": [
    "# SEMANTIC SCHOLAR SUMMARY"
   ]
  },
  {
   "cell_type": "code",
   "execution_count": null,
   "id": "f0191389",
   "metadata": {},
   "outputs": [],
   "source": [
    "df_ss"
   ]
  },
  {
   "cell_type": "markdown",
   "id": "a0dce064",
   "metadata": {},
   "source": [
    "# DOI matches"
   ]
  },
  {
   "cell_type": "code",
   "execution_count": null,
   "id": "dabfa43f-2547-4290-8bac-b237dbc55b1d",
   "metadata": {},
   "outputs": [],
   "source": [
    "pd.isna(df_doi.iloc[318]['comment'])"
   ]
  },
  {
   "cell_type": "code",
   "execution_count": null,
   "id": "45be7fa8",
   "metadata": {},
   "outputs": [],
   "source": [
    "print(len(df_doi))\n",
    "df_doi"
   ]
  },
  {
   "cell_type": "code",
   "execution_count": null,
   "id": "f997bb14",
   "metadata": {},
   "outputs": [],
   "source": [
    "df_doi[df_doi['comment'].notna()]['comment'][0]"
   ]
  },
  {
   "cell_type": "code",
   "execution_count": null,
   "id": "31f85bc1-4492-4a4e-ab55-46ba5798d448",
   "metadata": {},
   "outputs": [],
   "source": [
    "df_doi[df_doi['comment'].notna()]['comment'][1]"
   ]
  },
  {
   "cell_type": "markdown",
   "id": "1d6f9824",
   "metadata": {},
   "source": [
    "## Example"
   ]
  },
  {
   "cell_type": "code",
   "execution_count": null,
   "id": "50798e3b",
   "metadata": {},
   "outputs": [],
   "source": [
    "bibkey = 'Altu20'\n",
    "ss_id = df_doi[df_doi['bibkey']==bibkey]['ss_id'].item()\n",
    "display(df_doi[df_doi['bibkey']==bibkey])\n",
    "display(df_ss[df_ss['ss_id']==ss_id])\n",
    "display(df_bib[df_bib['bibkey']==bibkey])"
   ]
  },
  {
   "cell_type": "code",
   "execution_count": null,
   "id": "dd183e0b-21f1-4adf-a687-81fadb23164a",
   "metadata": {},
   "outputs": [],
   "source": [
    "bibkey = 'Amga20'\n",
    "ss_id = df_doi[df_doi['bibkey']==bibkey]['ss_id'].item()\n",
    "display(df_doi[df_doi['bibkey']==bibkey])\n",
    "display(df_ss[df_ss['ss_id']==ss_id])\n",
    "display(df_bib[df_bib['bibkey']==bibkey])"
   ]
  },
  {
   "cell_type": "code",
   "execution_count": null,
   "id": "6748962a-2afa-4ed7-8dc8-89dbb9a16564",
   "metadata": {},
   "outputs": [],
   "source": [
    "df_doi[df_doi['bibkey']==bibkey]['comment'].item()"
   ]
  },
  {
   "cell_type": "code",
   "execution_count": null,
   "id": "fb6812a8-381f-4dcc-b656-cc80cff74ac0",
   "metadata": {},
   "outputs": [],
   "source": [
    "ss_id = '69999230b02054b82254684a73bb8a4c83878d28'\n",
    "display(df_doi[df_doi['bibkey']==bibkey])\n",
    "display(df_ss[df_ss['ss_id']==ss_id])\n",
    "display(df_bib[df_bib['bibkey']==bibkey])"
   ]
  },
  {
   "cell_type": "markdown",
   "id": "2c99fae5-edfd-4f81-8e70-8c355a3de1bd",
   "metadata": {},
   "source": [
    "# FILL DF_MATCHES WITH DOI MATCHES"
   ]
  },
  {
   "cell_type": "code",
   "execution_count": null,
   "id": "03f4f810-4dc7-4f84-8058-656ac3935b6a",
   "metadata": {},
   "outputs": [],
   "source": [
    "df_doi['comment'][df_doi['comment']!='single doi match']"
   ]
  },
  {
   "cell_type": "code",
   "execution_count": null,
   "id": "36e7ab52-c859-4d4a-bec0-0500ba80dc91",
   "metadata": {},
   "outputs": [],
   "source": [
    "df_matches.loc[df_matches['bibkey'].isin(df_doi['bibkey'])].head()"
   ]
  },
  {
   "cell_type": "code",
   "execution_count": null,
   "id": "c68e0a9b-b4ff-444a-9f0a-8538d8c9e96f",
   "metadata": {},
   "outputs": [],
   "source": [
    "df_matches.iloc[df_matches['bibkey'].isin(df_doi['bibkey'])] = df_doi"
   ]
  },
  {
   "cell_type": "code",
   "execution_count": null,
   "id": "d2d3778e-8fcd-40b4-8213-aea7247b4aa7",
   "metadata": {},
   "outputs": [],
   "source": [
    "df_matches[df_matches['bibkey']=='Altu20']"
   ]
  },
  {
   "cell_type": "code",
   "execution_count": null,
   "id": "906fa84a-b0ee-40b3-a56e-851c49cbdc71",
   "metadata": {},
   "outputs": [],
   "source": [
    "df_matches.loc[df_matches['bibkey'].isin(df_doi['bibkey'])].head()"
   ]
  },
  {
   "cell_type": "markdown",
   "id": "63bf6b23",
   "metadata": {},
   "source": [
    "# TITLE matching"
   ]
  },
  {
   "cell_type": "code",
   "execution_count": null,
   "id": "8c52966a",
   "metadata": {},
   "outputs": [],
   "source": [
    "df_title = df_title.drop_duplicates()\n",
    "df_title"
   ]
  },
  {
   "cell_type": "markdown",
   "id": "26b0a395",
   "metadata": {},
   "source": [
    "### >95 =  match, 70 - up = check if not match"
   ]
  },
  {
   "cell_type": "code",
   "execution_count": null,
   "id": "7ea94107",
   "metadata": {
    "scrolled": true,
    "tags": []
   },
   "outputs": [],
   "source": [
    "df_title['max_ratio'].hist()"
   ]
  },
  {
   "cell_type": "markdown",
   "id": "2104844e",
   "metadata": {},
   "source": [
    "## Example of ratios up 80%"
   ]
  },
  {
   "cell_type": "code",
   "execution_count": null,
   "id": "1d1cd056",
   "metadata": {
    "tags": []
   },
   "outputs": [],
   "source": [
    "df_title_up80 = df_title[df_title['max_ratio']>0.8]\n",
    "print(len(df_title_up80))\n",
    "df_title_up80"
   ]
  },
  {
   "cell_type": "markdown",
   "id": "f0267499-1141-4b57-9492-28c7e7babb78",
   "metadata": {},
   "source": [
    "# FILL DF_MATCHES WITH MATCHES ABOVE 80% and single match"
   ]
  },
  {
   "cell_type": "markdown",
   "id": "03390232-1dc8-498b-ae7c-79b2950c874b",
   "metadata": {},
   "source": [
    "#### pd.isna(df_title_up80['up80_bibkeys'])\n",
    "\n",
    "#### This means that there is only a single bibkey match for this ss_id. This can still mean there are multiple ss_ids that are linked to this bibkey. Also it could be that from these doubles, one has already been linked by doi..."
   ]
  },
  {
   "cell_type": "code",
   "execution_count": null,
   "id": "0b3e4b5f-8e12-41c4-8eed-10f62c6ba7df",
   "metadata": {},
   "outputs": [],
   "source": [
    "df_title_up80 = df_title[df_title['max_ratio']>0.80]\n",
    "df_title_up80_single_bib = df_title_up80[pd.isna(df_title_up80['up80_bibkeys'])]\n",
    "df_title_up80_multiple_bib = df_title_up80[pd.notna(df_title_up80['up80_bibkeys'])]\n",
    "\n",
    "df_title_up80_single_bib_merge_prep = df_title_up80_single_bib[['max_bibkey', 'ss_id']].copy()\n",
    "\n",
    "df_title_up80_single_bib_merge_prep.columns = ['bibkey', 'ss_id']\n",
    "df_title_up80_single_bib_merge_prep['comment']=[None]*len(df_title_up80_single_bib_merge_prep)\n",
    "df_title_up80_single_bib_merge_prep.head()"
   ]
  },
  {
   "cell_type": "code",
   "execution_count": null,
   "id": "777ca03f-306d-4e00-bd9b-f6a2d03a18ff",
   "metadata": {},
   "outputs": [],
   "source": [
    "df_title_up80_single_bib_merge_prep"
   ]
  },
  {
   "cell_type": "markdown",
   "id": "52209bff-6749-4815-a726-b0d80e7660d4",
   "metadata": {},
   "source": [
    "# Seperatly save many bib to one/many cases"
   ]
  },
  {
   "cell_type": "code",
   "execution_count": null,
   "id": "47327d92-ad67-41cd-bd2b-3ac4504e180e",
   "metadata": {},
   "outputs": [],
   "source": [
    "df_title_up80_multiple_bib.sort_values('max_bibkey').to_csv('script_data/TEMP_LOOKUP_multiple_bibkeys_maybe_multiple_ss_ids.csv', index=False)"
   ]
  },
  {
   "cell_type": "code",
   "execution_count": null,
   "id": "353b1d82-a7b6-4832-9163-1c7d72a88a77",
   "metadata": {},
   "outputs": [],
   "source": [
    "ss_id_counts = Counter(df_title_up80_single_bib_merge_prep['ss_id'])\n",
    "bibkey_counts = Counter(df_title_up80_single_bib_merge_prep['bibkey'])"
   ]
  },
  {
   "cell_type": "code",
   "execution_count": null,
   "id": "f069fe35-232d-43e0-9a29-93a22038ef45",
   "metadata": {},
   "outputs": [],
   "source": [
    "doi_matched_bibkeys = df_matches[df_matches['ss_id'].notna()]['bibkey']\n",
    "single_bibkey_single_ss_id = [k for k, v in bibkey_counts.items() if v==1]\n",
    "single_bibkey_single_ss_id = [bibkey for bibkey in single_bibkey_single_ss_id if bibkey not in doi_matched_bibkeys]\n",
    "single_bibkey_single_ss_id_doi_matched = [bibkey for bibkey in single_bibkey_single_ss_id if bibkey in doi_matched_bibkeys]\n",
    "single_bibkey_multiple_ss_ids = [k for k, v in bibkey_counts.items() if v>1]\n",
    "single_bibkey_multiple_ss_ids = [bibkey for bibkey in single_bibkey_multiple_ss_ids if bibkey not in doi_matched_bibkeys]\n",
    "single_bibkey_multiple_ss_ids_doi_matched = [bibkey for bibkey in single_bibkey_multiple_ss_ids if bibkey in doi_matched_bibkeys]"
   ]
  },
  {
   "cell_type": "code",
   "execution_count": null,
   "id": "f3c7c4bd-fbe8-42b7-b63b-dab298927905",
   "metadata": {},
   "outputs": [],
   "source": [
    "for i in [single_bibkey_single_ss_id, single_bibkey_single_ss_id_doi_matched, single_bibkey_multiple_ss_ids, single_bibkey_multiple_ss_ids_doi_matched]:\n",
    "    print(len(i))"
   ]
  },
  {
   "cell_type": "markdown",
   "id": "d6cbf070-81f0-4211-ad95-402157aa743b",
   "metadata": {},
   "source": [
    "# Add 1 to 1 matches"
   ]
  },
  {
   "cell_type": "code",
   "execution_count": null,
   "id": "9ff09881-8688-4381-8b90-9628d2602e34",
   "metadata": {},
   "outputs": [],
   "source": [
    "df_title_up80_single_bib_single_ss_id_merge_prep = df_title_up80_single_bib_merge_prep[df_title_up80_single_bib_merge_prep['bibkey'].isin(single_bibkey_single_ss_id)]\n",
    "df_title_up80_single_bib_single_ss_id_merge_prep['all_ss_ids'] = [None] * len(df_title_up80_single_bib_single_ss_id_merge_prep)\n",
    "df_title_up80_single_bib_single_ss_id_merge_prep['comment'] = ['title matching: single bibkey, single ss_id'] * len(df_title_up80_single_bib_single_ss_id_merge_prep)\n",
    "df_title_up80_single_bib_single_ss_id_merge_prep = df_title_up80_single_bib_single_ss_id_merge_prep[['bibkey', 'ss_id', 'all_ss_ids', 'comment']]"
   ]
  },
  {
   "cell_type": "code",
   "execution_count": null,
   "id": "48b5f0ad-b021-4d1d-a964-d06ff64ca2bc",
   "metadata": {},
   "outputs": [],
   "source": [
    "matched_bibkeys = df_matches[df_matches['ss_id'].notna()]['bibkey']"
   ]
  },
  {
   "cell_type": "code",
   "execution_count": null,
   "id": "da4fe5ee-38fe-43a1-a5d4-3ed750fa0ccf",
   "metadata": {},
   "outputs": [],
   "source": [
    "# list(df_title_up80_single_bib_single_ss_id_merge_prep['bibkey'])"
   ]
  },
  {
   "cell_type": "code",
   "execution_count": null,
   "id": "2ed87c8a-c162-444a-b0e2-6cfbcc6e2ea0",
   "metadata": {},
   "outputs": [],
   "source": [
    "df_title_up80_single_bib_single_ss_id_merge_prep"
   ]
  },
  {
   "cell_type": "code",
   "execution_count": null,
   "id": "4a08d8d4-0ac8-41fb-83cb-57a082e8c2e2",
   "metadata": {},
   "outputs": [],
   "source": [
    "df_matches.iloc[df_matches['bibkey'].isin(df_title_up80_single_bib_single_ss_id_merge_prep['bibkey'])] = df_title_up80_single_bib_single_ss_id_merge_prep"
   ]
  },
  {
   "cell_type": "markdown",
   "id": "81c0dfb4-5606-42c0-9359-77aba74a8188",
   "metadata": {},
   "source": [
    "# Add single bib to multiple ss_id matches"
   ]
  },
  {
   "cell_type": "code",
   "execution_count": null,
   "id": "7404af90-6c5f-4176-88c4-560505c331f6",
   "metadata": {},
   "outputs": [],
   "source": [
    "# df_title_up80_single_bib_multiple_ss_id_merge_prep = df_title_up80_single_bib_merge_prep[df_title_up80_single_bib_merge_prep['bibkey'].isin(single_bibkey_multiple_ss_ids)]\n",
    "# df_title_up80_single_bib_multiple_ss_id_merge_prep['comment'] = ['single bibkey, multiple ss_id'] * len(df_title_up80_single_bib_multiple_ss_id_merge_prep)"
   ]
  },
  {
   "cell_type": "code",
   "execution_count": null,
   "id": "5fd644ae-5463-42b6-8f4c-4f643e040104",
   "metadata": {},
   "outputs": [],
   "source": [
    "# df_title_up80_single_bib_multiple_ss_id_merge_prep.sort_values('bibkey')"
   ]
  },
  {
   "cell_type": "code",
   "execution_count": null,
   "id": "3b830830-668f-4eff-a9b8-8f1611f1369f",
   "metadata": {},
   "outputs": [],
   "source": [
    "single_bib_multiple_ss_ids_data = []\n",
    "for bibkey in single_bibkey_multiple_ss_ids:\n",
    "    multiple_ss_ids = list(df_title_up80_single_bib_merge_prep[df_title_up80_single_bib_merge_prep['bibkey'] == bibkey]['ss_id'])\n",
    "    ss_id_most_citations = df_ss[df_ss['ss_id'].isin(multiple_ss_ids)].sort_values('ss_citations', ascending=False).iloc[0]['ss_id']\n",
    "    single_bib_multiple_ss_ids_data.append([bibkey, ss_id_most_citations, multiple_ss_ids, f'title matching: single bibkey with multiple_ss_ids ({multiple_ss_ids}), took the first one with most citations'])\n",
    "df_title_up80_single_bib_multiple_ss_id_merge_prep = pd.DataFrame(single_bib_multiple_ss_ids_data, columns=['bibkey', 'ss_id', 'all_ss_ids', 'comment'])"
   ]
  },
  {
   "cell_type": "code",
   "execution_count": null,
   "id": "885a62d8-1981-47a2-b754-47f295821338",
   "metadata": {},
   "outputs": [],
   "source": [
    "df_matches.iloc[df_matches['bibkey'].isin(df_title_up80_single_bib_multiple_ss_id_merge_prep['bibkey'])] = df_title_up80_single_bib_multiple_ss_id_merge_prep"
   ]
  },
  {
   "cell_type": "code",
   "execution_count": null,
   "id": "a15c55c0-05a2-4d3d-9051-176db619764b",
   "metadata": {},
   "outputs": [],
   "source": [
    "df_matches = pd.merge(df_bib[df_bib['type']!='string'][['bibkey', 'type', 'title', 'authors']], df_matches, on='bibkey')"
   ]
  },
  {
   "cell_type": "code",
   "execution_count": null,
   "id": "9a43e02e-b69f-48f7-9d73-8f0f9ebd7a8e",
   "metadata": {},
   "outputs": [],
   "source": [
    "df_matches"
   ]
  },
  {
   "cell_type": "code",
   "execution_count": null,
   "id": "a1628342-20ad-42d5-86ff-3f082c6cbe25",
   "metadata": {},
   "outputs": [],
   "source": [
    "df_matches_export = df_matches[~df_matches['type'].isin(['conference', 'book', 'inbook', 'mastersthesis', 'phdthesis', 'patent', 'misc'])]"
   ]
  },
  {
   "cell_type": "code",
   "execution_count": null,
   "id": "cf2e338b-c0c4-4263-b30a-a8683580377a",
   "metadata": {},
   "outputs": [],
   "source": [
    "df_matches_export = df_matches_export[~df_matches_export['comment'].isin(['title matching: single bibkey, single ss_id', 'single doi match'])]"
   ]
  },
  {
   "cell_type": "code",
   "execution_count": null,
   "id": "a04d9c35-7f7a-4079-9dd5-a9fc2053bf2b",
   "metadata": {},
   "outputs": [],
   "source": [
    "df_matches_export"
   ]
  },
  {
   "cell_type": "code",
   "execution_count": null,
   "id": "fb6a7bce-5e22-4db0-9724-3374dfd92b06",
   "metadata": {},
   "outputs": [],
   "source": [
    "# len(df_matches[df_matches['all_ss_ids'].notna()])"
   ]
  },
  {
   "cell_type": "code",
   "execution_count": null,
   "id": "40d64e75-dca7-472c-8dc0-1d94cbde27a2",
   "metadata": {},
   "outputs": [],
   "source": [
    "# df_matches[df_matches['ss_id'].isna()]"
   ]
  },
  {
   "cell_type": "code",
   "execution_count": null,
   "id": "f730f706-c999-4ae8-be3d-9871083e7ed3",
   "metadata": {},
   "outputs": [],
   "source": [
    "df_matches_export.to_csv('script_data/TEMP_LOOKUP_matches_single_bibkey_with_none_one_or_many_ss_ids.csv')"
   ]
  },
  {
   "cell_type": "code",
   "execution_count": null,
   "id": "0352bee1-7f50-4c91-ba60-de1c2ebf1849",
   "metadata": {},
   "outputs": [],
   "source": [
    "df_matches_export.to_excel('script_data/TEMP_LOOKUP_matches_single_bibkey_with_none_one_or_many_ss_ids.xlsx')"
   ]
  },
  {
   "cell_type": "code",
   "execution_count": null,
   "id": "71fb7857-2ccb-48a0-874a-b305d71ab4d6",
   "metadata": {},
   "outputs": [],
   "source": [
    "df_bib"
   ]
  },
  {
   "cell_type": "code",
   "execution_count": null,
   "id": "d1a05b7d-3b04-4b66-84e1-19138bf972cd",
   "metadata": {},
   "outputs": [],
   "source": [
    "1/0"
   ]
  },
  {
   "cell_type": "markdown",
   "id": "d345daa3-32a7-4d4d-beb6-65b4725f22de",
   "metadata": {},
   "source": [
    "# OLD"
   ]
  },
  {
   "cell_type": "code",
   "execution_count": null,
   "id": "20a2a02b-7a8b-4fb6-a764-9ff0146749b5",
   "metadata": {},
   "outputs": [],
   "source": []
  },
  {
   "cell_type": "code",
   "execution_count": null,
   "id": "e3942a28-9032-4159-bdc5-db2c1d18b3ff",
   "metadata": {},
   "outputs": [],
   "source": [
    "multiple_ss_ids"
   ]
  },
  {
   "cell_type": "code",
   "execution_count": null,
   "id": "6e5a9770-b0a8-4a5f-8e10-ab0000963cb2",
   "metadata": {},
   "outputs": [],
   "source": [
    "df_ss[df_ss['ss_id'].isin(multiple_ss_ids)].sort_values('ss_citations', ascending=False).iloc[0]['ss_id']"
   ]
  },
  {
   "cell_type": "code",
   "execution_count": null,
   "id": "8766dc8f-4132-452a-828f-61f346f68782",
   "metadata": {},
   "outputs": [],
   "source": [
    "single_bib_multiple_ss_ids_data"
   ]
  },
  {
   "cell_type": "code",
   "execution_count": null,
   "id": "0212a229-3d4a-4808-8762-fbe2a0a9db55",
   "metadata": {},
   "outputs": [],
   "source": [
    "list(df_title_up80_single_bib_merge_prep[df_title_up80_single_bib_merge_prep['bibkey'] == bibkey]['ss_id'])"
   ]
  },
  {
   "cell_type": "code",
   "execution_count": null,
   "id": "024928bf-d559-4f7f-8ff7-f4b0b7e1b7ed",
   "metadata": {},
   "outputs": [],
   "source": []
  },
  {
   "cell_type": "code",
   "execution_count": null,
   "id": "99e59b97-2c19-48df-a01e-ccb8f8dce1a5",
   "metadata": {},
   "outputs": [],
   "source": []
  },
  {
   "cell_type": "code",
   "execution_count": null,
   "id": "1722ec76-aa88-4428-8dfc-61e601d6ebd3",
   "metadata": {},
   "outputs": [],
   "source": []
  },
  {
   "cell_type": "code",
   "execution_count": null,
   "id": "1e3201e0-b911-4d50-a390-6317b2dc4b3a",
   "metadata": {},
   "outputs": [],
   "source": []
  },
  {
   "cell_type": "code",
   "execution_count": null,
   "id": "fbb6f652-1f9d-4f5a-9d16-50c416911bfd",
   "metadata": {},
   "outputs": [],
   "source": []
  },
  {
   "cell_type": "code",
   "execution_count": null,
   "id": "2713ffef-6880-4b14-8ec8-3b06e6eb9f47",
   "metadata": {},
   "outputs": [],
   "source": []
  },
  {
   "cell_type": "code",
   "execution_count": null,
   "id": "74f6e86d-2f83-496e-8bb7-ac51e915109a",
   "metadata": {},
   "outputs": [],
   "source": [
    "1/0"
   ]
  },
  {
   "cell_type": "code",
   "execution_count": null,
   "id": "717783e1-76f5-4f6c-9b35-6fc513c250ac",
   "metadata": {},
   "outputs": [],
   "source": []
  },
  {
   "cell_type": "code",
   "execution_count": null,
   "id": "c1bf63c3-bfc8-40f6-89dd-3307e2c7f207",
   "metadata": {},
   "outputs": [],
   "source": [
    "df_matches.iloc[df_matches['bibkey'].isin(df_df_title_up80_single_merge_prep['bibkey'])] = df_df_title_up80_single_merge_prep"
   ]
  },
  {
   "cell_type": "code",
   "execution_count": null,
   "id": "8d22393f-2d3b-401e-9aab-4711c1609842",
   "metadata": {},
   "outputs": [],
   "source": []
  },
  {
   "cell_type": "code",
   "execution_count": null,
   "id": "43eb4eb7-f93f-423b-8d60-d94f5d14b8d7",
   "metadata": {},
   "outputs": [],
   "source": [
    "bibkeys_single_title_match = [k for k, v in bibkey_counts.items() if v==1]"
   ]
  },
  {
   "cell_type": "code",
   "execution_count": null,
   "id": "bf94a50a-4ae8-457e-9465-107ceb9386af",
   "metadata": {},
   "outputs": [],
   "source": []
  },
  {
   "cell_type": "code",
   "execution_count": null,
   "id": "743fb29d-7cb5-496c-b985-0f8bdf6d9d9a",
   "metadata": {},
   "outputs": [],
   "source": []
  },
  {
   "cell_type": "code",
   "execution_count": null,
   "id": "5edc2c0c-8492-4531-b7e6-8a5fab6da213",
   "metadata": {},
   "outputs": [],
   "source": []
  },
  {
   "cell_type": "code",
   "execution_count": null,
   "id": "207433c7-1b28-464c-8024-6b98ff8d823b",
   "metadata": {},
   "outputs": [],
   "source": []
  },
  {
   "cell_type": "code",
   "execution_count": null,
   "id": "ec78d9fe-1d09-48d3-8ae3-b11604b674bd",
   "metadata": {},
   "outputs": [],
   "source": [
    "df_df_title_up80_single_merge_prep[df_df_title_up80_single_merge_prep['bibkey']=='Altu20']"
   ]
  },
  {
   "cell_type": "code",
   "execution_count": null,
   "id": "d59d476c-3c11-471c-a159-06fc7911548a",
   "metadata": {},
   "outputs": [],
   "source": [
    "df_matches[df_matches['bibkey']=='Altu20']"
   ]
  },
  {
   "cell_type": "code",
   "execution_count": null,
   "id": "759f30da-b87e-44c7-995f-cd7dd72443f0",
   "metadata": {},
   "outputs": [],
   "source": [
    "df_matches.loc[df_matches['bibkey'].isin(df_df_title_up80_single_merge_prep['bibkey'])]"
   ]
  },
  {
   "cell_type": "code",
   "execution_count": null,
   "id": "b25b9bab-8578-413b-bb69-665cd7d75c1f",
   "metadata": {},
   "outputs": [],
   "source": [
    "df_df_title_up80_single_merge_prep"
   ]
  },
  {
   "cell_type": "code",
   "execution_count": null,
   "id": "013d33f3-365e-4414-847c-432a72026edb",
   "metadata": {},
   "outputs": [],
   "source": [
    "df_matches.iloc[df_matches['bibkey'].isin(df_df_title_up80_single_merge_prep['bibkey'])] = df_df_title_up80_single_merge_prep"
   ]
  },
  {
   "cell_type": "markdown",
   "id": "e3c91660",
   "metadata": {},
   "source": [
    "### With multiple matches above 80%"
   ]
  },
  {
   "cell_type": "code",
   "execution_count": null,
   "id": "21924c98",
   "metadata": {},
   "outputs": [],
   "source": [
    "df_title_up80_mult = df_title_up80[df_title_up80['up80_ratios'].notna()]\n",
    "print(len(df_title_up80_mult))\n",
    "df_title_up80_mult.head()"
   ]
  },
  {
   "cell_type": "markdown",
   "id": "79eb48bc",
   "metadata": {},
   "source": [
    "### Example with same name matches"
   ]
  },
  {
   "cell_type": "code",
   "execution_count": null,
   "id": "59521be3",
   "metadata": {},
   "outputs": [],
   "source": [
    "bibkey = 'Anto21'\n",
    "df_title_up80_mult[df_title_up80_mult['max_bibkey']==bibkey]"
   ]
  },
  {
   "cell_type": "code",
   "execution_count": null,
   "id": "10b1f735",
   "metadata": {},
   "outputs": [],
   "source": [
    "temp_ss_ids = list(df_title_up80_mult[df_title_up80_mult['max_bibkey']==bibkey]['ss_id'])\n",
    "temp_ss_ids"
   ]
  },
  {
   "cell_type": "code",
   "execution_count": null,
   "id": "d85d738f",
   "metadata": {},
   "outputs": [],
   "source": [
    "for temp_ss_id in temp_ss_ids:\n",
    "    display(df_ss[df_ss['ss_id']==temp_ss_id])\n",
    "    print(df_ss[df_ss['ss_id']==temp_ss_id].iloc[0]['ss_citations'])"
   ]
  },
  {
   "cell_type": "code",
   "execution_count": null,
   "id": "79dce91b",
   "metadata": {},
   "outputs": [],
   "source": [
    "title_match_bibkeys = literal_eval(df_title_up80_mult[df_title_up80_mult['max_bibkey']==bibkey].iloc[0]['up80_bibkeys'])\n",
    "title_match_bibkeys"
   ]
  },
  {
   "cell_type": "code",
   "execution_count": null,
   "id": "ebf64dc7",
   "metadata": {},
   "outputs": [],
   "source": [
    "df_bib[df_bib['bibkey'].isin(title_match_bibkeys)]"
   ]
  },
  {
   "cell_type": "markdown",
   "id": "730736c8",
   "metadata": {},
   "source": [
    "Above we see one is arxiv and one is journal"
   ]
  },
  {
   "cell_type": "markdown",
   "id": "1103a4d7",
   "metadata": {},
   "source": [
    "### Example with different matches"
   ]
  },
  {
   "cell_type": "code",
   "execution_count": null,
   "id": "243c76d1",
   "metadata": {},
   "outputs": [],
   "source": [
    "bibkey = 'Vos12a'"
   ]
  },
  {
   "cell_type": "code",
   "execution_count": null,
   "id": "572ea4ec",
   "metadata": {},
   "outputs": [],
   "source": [
    "literal_eval(df_title_up80_mult[df_title_up80_mult['max_bibkey']==bibkey]['up80_bibkeys'].item())"
   ]
  },
  {
   "cell_type": "code",
   "execution_count": null,
   "id": "aadb5660",
   "metadata": {},
   "outputs": [],
   "source": [
    "literal_eval(df_title_up80_mult[df_title_up80_mult['max_bibkey']==bibkey]['up80_bib_titles'].item())"
   ]
  },
  {
   "cell_type": "code",
   "execution_count": null,
   "id": "7978b28b",
   "metadata": {},
   "outputs": [],
   "source": [
    "literal_eval(df_title_up80_mult[df_title_up80_mult['max_bibkey']==bibkey]['up80_ratios'].item())"
   ]
  },
  {
   "cell_type": "markdown",
   "id": "c4952fb8",
   "metadata": {},
   "source": [
    "# Loop over cases with multiple matche ratios over 80% "
   ]
  },
  {
   "cell_type": "code",
   "execution_count": null,
   "id": "89677bdd",
   "metadata": {},
   "outputs": [],
   "source": [
    "def flatten(nested_list):\n",
    "    return [item for sublist in nested_list for item in (flatten(sublist) if isinstance(sublist, list) else [sublist])]"
   ]
  },
  {
   "cell_type": "code",
   "execution_count": null,
   "id": "7af826fd",
   "metadata": {},
   "outputs": [],
   "source": [
    "for idx, row in df_title_up80_mult.iterrows():\n",
    "    bibkey = row['max_bibkey']\n",
    "    bibkey_matches = df_title_up80_mult[df_title_up80_mult['max_bibkey']==bibkey]\n",
    "    display(bibkey_matches)\n",
    "    unique_bibkeys = pd.unique(flatten([literal_eval(items) for items in bibkey_matches['up80_bibkeys']]))\n",
    "    unique_ss_ids = list(bibkey_matches['ss_id'])\n",
    "    \n",
    "    print('SS_IDs:')\n",
    "    for ss_id in unique_ss_ids:\n",
    "        print('\\t\\t\\t', ss_id)\n",
    "        print('\\n', df_ss[df_ss['ss_id'] == ss_id].iloc[0])\n",
    "    \n",
    "    print('\\n\\nBIBKEYs:')\n",
    "    for bibkey in unique_bibkeys:\n",
    "        print('\\t\\t\\t', bibkey)\n",
    "        print('\\n', df_bib[df_bib['bibkey'] == bibkey].iloc[0])"
   ]
  },
  {
   "cell_type": "markdown",
   "id": "c3017096",
   "metadata": {},
   "source": [
    "# Validate matches"
   ]
  },
  {
   "cell_type": "code",
   "execution_count": null,
   "id": "ca51d806",
   "metadata": {},
   "outputs": [],
   "source": [
    "# df_bib\n",
    "# df_ss\n",
    "# df_doi\n",
    "# df_title"
   ]
  },
  {
   "cell_type": "code",
   "execution_count": null,
   "id": "85134026",
   "metadata": {},
   "outputs": [],
   "source": [
    "len(df_bib)"
   ]
  },
  {
   "cell_type": "code",
   "execution_count": null,
   "id": "00822a31",
   "metadata": {},
   "outputs": [],
   "source": [
    "df_unmatched = df_bib.copy()\n",
    "df_unmatched = df_unmatched[~df_unmatched['bibkey'].isin(df_doi['bibkey'])]"
   ]
  },
  {
   "cell_type": "code",
   "execution_count": null,
   "id": "0b920f1e",
   "metadata": {},
   "outputs": [],
   "source": [
    "len(df_doi)"
   ]
  },
  {
   "cell_type": "code",
   "execution_count": null,
   "id": "de833fbf",
   "metadata": {},
   "outputs": [],
   "source": [
    "len(df_bib) - len(df_unmatched)"
   ]
  },
  {
   "cell_type": "code",
   "execution_count": null,
   "id": "dae61f31",
   "metadata": {},
   "outputs": [],
   "source": []
  },
  {
   "cell_type": "code",
   "execution_count": null,
   "id": "d78010d2-d89c-41e8-a27d-a99161b4141d",
   "metadata": {},
   "outputs": [],
   "source": []
  },
  {
   "cell_type": "code",
   "execution_count": null,
   "id": "0057096f-2d66-45a1-888a-a391812d0f88",
   "metadata": {},
   "outputs": [],
   "source": []
  }
 ],
 "metadata": {
  "kernelspec": {
   "display_name": "Python 3 (ipykernel)",
   "language": "python",
   "name": "python3"
  },
  "language_info": {
   "codemirror_mode": {
    "name": "ipython",
    "version": 3
   },
   "file_extension": ".py",
   "mimetype": "text/x-python",
   "name": "python",
   "nbconvert_exporter": "python",
   "pygments_lexer": "ipython3",
   "version": "3.9.7"
  }
 },
 "nbformat": 4,
 "nbformat_minor": 5
}
