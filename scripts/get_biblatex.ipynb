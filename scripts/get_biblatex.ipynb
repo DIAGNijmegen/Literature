{
 "cells": [
  {
   "cell_type": "code",
   "execution_count": 1,
   "metadata": {
    "collapsed": true,
    "pycharm": {
     "name": "#%%\n"
    }
   },
   "outputs": [],
   "source": [
    "from get_biblatex import GetBiblatex\n",
    "import pandas as pd\n"
   ]
  },
  {
   "cell_type": "markdown",
   "metadata": {
    "pycharm": {
     "name": "#%% md\n"
    }
   },
   "source": [
    "## SS-ids of Staff members"
   ]
  },
  {
   "cell_type": "code",
   "execution_count": 51,
   "metadata": {
    "pycharm": {
     "name": "#%%\n"
    }
   },
   "outputs": [
    {
     "data": {
      "text/plain": [
       "1611"
      ]
     },
     "execution_count": 51,
     "metadata": {},
     "output_type": "execute_result"
    }
   ],
   "source": [
    "ss_data = pd.read_csv(r\"C:\\Users\\drepeeters\\OneDrive - Radboudumc\\Desktop\\webteam\\Literature\\scripts\\script_data\\temp_semantic_scholar_all_staff_id_last_500_summary.csv\")\n",
    "ss_ids = ss_data['ss_id'].unique().tolist()\n",
    "len(ss_ids)"
   ]
  },
  {
   "cell_type": "markdown",
   "metadata": {
    "pycharm": {
     "name": "#%% md\n"
    }
   },
   "source": [
    "## Double Diag bibkey"
   ]
  },
  {
   "cell_type": "code",
   "execution_count": 3,
   "metadata": {
    "pycharm": {
     "name": "#%%\n"
    }
   },
   "outputs": [
    {
     "data": {
      "text/plain": [
       "37"
      ]
     },
     "execution_count": 3,
     "metadata": {},
     "output_type": "execute_result"
    }
   ],
   "source": [
    "multiple_data = pd.read_csv(r\"C:\\Users\\drepeeters\\OneDrive - Radboudumc\\Desktop\\webteam\\Literature\\scripts\\script_data\\TEMP_LOOKUP_multiple_bibkeys_maybe_multiple_ss_ids.csv\")\n",
    "multiple_data = multiple_data.dropna(subset=[\"ss_id\"])\n",
    "multiple_ss_ids = multiple_data['ss_id'].unique().tolist()\n",
    "len(multiple_ss_ids)"
   ]
  },
  {
   "cell_type": "markdown",
   "metadata": {
    "pycharm": {
     "name": "#%% md\n"
    }
   },
   "source": [
    "## Single diag bibkeys"
   ]
  },
  {
   "cell_type": "code",
   "execution_count": 52,
   "metadata": {
    "pycharm": {
     "name": "#%%\n"
    }
   },
   "outputs": [
    {
     "data": {
      "text/plain": [
       "1017"
      ]
     },
     "execution_count": 52,
     "metadata": {},
     "output_type": "execute_result"
    }
   ],
   "source": [
    "lookup_data = pd.read_csv(r\"C:\\Users\\drepeeters\\OneDrive - Radboudumc\\Desktop\\webteam\\Literature\\scripts\\script_data\\TEMP_LOOKUP_matches_single_bibkey_with_none_one_or_many_ss_ids.csv\")\n",
    "lookup_data = lookup_data.dropna(subset=[\"ss_id\"])\n",
    "lookup_ss_ids = lookup_data['ss_id'].unique().tolist()\n",
    "len(lookup_ss_ids)"
   ]
  },
  {
   "cell_type": "markdown",
   "metadata": {
    "pycharm": {
     "name": "#%% md\n"
    }
   },
   "source": [
    "## Get doi's of SS_ids that are not in TEMP_LOOKUP"
   ]
  },
  {
   "cell_type": "code",
   "execution_count": 53,
   "metadata": {
    "pycharm": {
     "name": "#%%\n"
    }
   },
   "outputs": [
    {
     "data": {
      "text/plain": [
       "594"
      ]
     },
     "execution_count": 53,
     "metadata": {},
     "output_type": "execute_result"
    }
   ],
   "source": [
    "new_ids = [new_id for new_id in ss_ids if new_id not in lookup_ss_ids]\n",
    "len(new_ids)"
   ]
  },
  {
   "cell_type": "code",
   "execution_count": 54,
   "metadata": {
    "pycharm": {
     "name": "#%%\n"
    }
   },
   "outputs": [
    {
     "name": "stdout",
     "output_type": "stream",
     "text": [
      "Total number of unique doi's 440\n"
     ]
    }
   ],
   "source": [
    "dois = ss_data[ss_data['ss_id'].isin(new_ids)].dropna(subset=[\"doi\"])[\"doi\"].unique().tolist()\n",
    "print(f\"Total number of unique doi's {len(dois)}\")"
   ]
  },
  {
   "cell_type": "code",
   "execution_count": 55,
   "metadata": {
    "pycharm": {
     "name": "#%%\n"
    }
   },
   "outputs": [],
   "source": [
    "with open(r\"C:\\Users\\drepeeters\\OneDrive - Radboudumc\\Desktop\\webteam\\Literature\\diag.bib\", encoding=\"utf8\") as bibtex_file:\n",
    "    diag_bib = bibtex_file.read()"
   ]
  },
  {
   "cell_type": "code",
   "execution_count": null,
   "metadata": {
    "pycharm": {
     "is_executing": true,
     "name": "#%%\n"
    }
   },
   "outputs": [],
   "source": [
    "for index, doi in enumerate(dois):\n",
    "    print(f\"Working on {index}/{len(dois)}: {doi}\")\n",
    "    try:\n",
    "        reader = GetBiblatex(doi=doi, diag_bib=diag_bib)\n",
    "        biblatex = reader.get_bib_text()\n",
    "    except Exception as e:\n",
    "        print(e)\n",
    "\n"
   ]
  },
  {
   "cell_type": "code",
   "execution_count": 56,
   "metadata": {
    "pycharm": {
     "name": "#%%\n"
    }
   },
   "outputs": [
    {
     "name": "stdout",
     "output_type": "stream",
     "text": [
      "Working on 0/440: 10.1016/j.media.2022.102605\n",
      "Working on 1/440: 10.1177/0271678X18756218\n",
      "Working on 2/440: 10.1007/978-3-642-59327-7_37\n",
      "Working on 3/440: 10.1007/978-3-540-39701-4_33\n",
      "Working on 4/440: 10.1016/J.OFTAL.2011.04.015\n",
      "Working on 5/440: 10.1055/B-0034-84660\n",
      "'author'\n",
      "Working on 6/440: 10.1055/B-0034-84648\n",
      "'author'\n",
      "Working on 7/440: 10.1074/jbc.M710314200\n",
      "Working on 8/440: 10.1023/B:NEON.0000013493.31107.20\n",
      "Working on 9/440: 10.1038/s41585-020-0324-x\n",
      "'family'\n",
      "Working on 10/440: 10.1148/radiol.2019182666\n",
      "Working on 11/440: 10.1007/978-3-319-07887-8_80\n",
      "Working on 12/440: 10.1016/j.ejso.2020.04.038\n",
      "Working on 13/440: 10.23698/AIDA/BRLN\n",
      "'published'\n",
      "Working on 14/440: 10.1002/path.2613\n",
      "Working on 15/440: 10.1007/978-3-642-59327-7_100\n",
      "Working on 16/440: 10.1055/B-0034-84659\n",
      "'author'\n",
      "Working on 17/440: 10.1093/neuonc/now292.004\n",
      "Working on 18/440: 10.1016/j.oraloncology.2013.09.006\n",
      "Working on 19/440: 10.1002/hed.10100\n",
      "Working on 20/440: 10.1513/ANNALSATS.201809-601OC\n",
      "Working on 21/440: 10.1093/cid/ciac623\n",
      "'family'\n",
      "Working on 22/440: 10.1055/b-0034-84674\n",
      "'author'\n",
      "Working on 23/440: 10.1038/bjc.1997.427\n",
      "Working on 24/440: 10.1002/mp.12408\n",
      "Working on 25/440: 10.1118/1.2230359\n",
      "Working on 26/440: 10.1016/j.modpat.2023.100233\n",
      "Working on 27/440: 10.1093/rheumatology/keab835\n",
      "'family'\n",
      "Working on 28/440: 10.1016/J.ULTRAMIC.2005.08.001\n",
      "Working on 29/440: 10.1001/jamaophthalmol.2021.1407\n",
      "'family'\n",
      "Working on 30/440: 10.1186/s13058-017-0859-9\n",
      "Working on 31/440: 10.1016/j.resuscitation.2022.03.025\n",
      "Working on 32/440: 10.1148/radiol.210832\n",
      "Working on 33/440: 10.1016/j.ebiom.2022.104427\n",
      "Working on 34/440: 10.1016/j.ejrad.2021.109894\n",
      "Working on 35/440: 10.1002/1097-0142(20011001)92:7<1881::AID-CNCR1705>3.0.CO;2-M\n",
      "Working on 36/440: 10.1007/978-3-319-24574-4_13\n",
      "Working on 37/440: 10.1007/s13402-010-0008-2\n",
      "Working on 38/440: 10.1007/s00117-013-2602-6\n",
      "Working on 39/440: 10.1038/s41598-020-63084-7\n",
      "Working on 40/440: 10.1038/s41588-018-0342-2\n",
      "'family'\n",
      "Working on 41/440: 10.1186/s13058-017-0917-3\n",
      "Working on 42/440: 10.1002/(SICI)1096-9896(199603)178:3<268::AID-PATH482>3.0.CO;2-4\n",
      "Working on 43/440: 10.1016/j.media.2014.03.003\n",
      "Working on 44/440: 10.1007/978-3-540-73273-0\n",
      "'author'\n",
      "Working on 45/440: 10.1016/j.ejca.2013.06.022\n",
      "Working on 46/440: 10.1158/1538-7445.sabcs21-pd11-05\n",
      "Working on 47/440: 10.3390/cancers14122992\n",
      "Working on 48/440: 10.1002/jum.16192\n",
      "Working on 49/440: 10.1055/a-1543-6156\n",
      "Working on 50/440: 10.1007/978-3-540-39903-2_66\n",
      "Working on 51/440: 10.1117/12.950468\n",
      "Working on 52/440: 10.1055/B-0034-84649\n",
      "'author'\n",
      "Working on 53/440: 10.1111/j.1365-2559.2010.03599.x\n",
      "Working on 54/440: 10.1111/J.1523-1755.2005.00568.X\n",
      "Working on 55/440: 10.1007/978-1-4419-8772-3_57\n",
      "Working on 56/440: 10.1159/000049788\n",
      "Working on 57/440: 10.1117/1.JMI.6.3.035501\n",
      "Working on 58/440: 10.1007/978-1-4471-2063-6_281\n",
      "Working on 59/440: 10.1097/RTI.0b013e3182870b97\n",
      "Working on 60/440: 10.1117/12.2564155\n",
      "Working on 61/440: 10.1164/AJRCCM-CONFERENCE.2011.183.1_MEETINGABSTRACTS.A1009\n",
      "Working on 62/440: 10.1007/BFb0013806\n",
      "'published'\n",
      "Working on 63/440: 10.1007/978-3-319-47157-0_37\n",
      "Working on 64/440: 10.1117/12.2081909\n",
      "Working on 65/440: 10.1016/j.neuroimage.2022.119725\n",
      "Working on 66/440: 10.1118/1.4917481\n",
      "Working on 67/440: 10.1055/B-0034-84672\n",
      "'author'\n",
      "Working on 68/440: 10.1186/s13058-018-1019-6\n",
      "Working on 69/440: 10.1002/mrm.26667\n",
      "Working on 70/440: 10.1186/2197-425X-1-8\n",
      "Working on 71/440: 10.5244/C.30.71\n",
      "Working on 72/440: 10.1016/j.jval.2017.04.012\n",
      "Working on 73/440: 10.1016/J.AJOG.2004.09.031\n",
      "Working on 74/440: 10.1161/STROKEAHA.118.020980\n",
      "Working on 75/440: 10.1016/j.jpi.2022.100026\n",
      "Working on 76/440: 10.1038/s41467-022-30728-3\n",
      "'author'\n",
      "Working on 77/440: 10.1016/j.resuscitation.2022.10.002\n",
      "Working on 78/440: 10.1007/s13402-019-00429-z\n",
      "Working on 79/440: 10.1186/s13000-021-01136-w\n",
      "Working on 80/440: 10.1097/MCP.0000000000000355\n",
      "Working on 81/440: 10.1158/1940-6207.PREV-12-A116\n",
      "Working on 82/440: 10.1117/1.JMI.8.2.024501\n",
      "Working on 83/440: 10.48550/arXiv.2206.01653\n",
      "'published'\n",
      "Working on 84/440: 10.1183/09031936.50005914\n",
      "'author'\n",
      "Working on 85/440: 10.1117/12.2293717\n",
      "Working on 86/440: 10.1016/j.chest.2020.11.027\n",
      "Working on 87/440: 10.1242/dmm.046342\n",
      "Working on 88/440: 10.1055/s-0040-1722564\n",
      "Working on 89/440: 10.1117/12.773209\n",
      "Working on 90/440: 10.1371/journal.pone.0058262\n",
      "Working on 91/440: 10.1201/B18191-23\n",
      "'author'\n",
      "Working on 92/440: 10.1007/978-3-642-31271-7_7\n",
      "Working on 93/440: 10.2967/jnumed.114.137034\n",
      "Working on 94/440: 10.1002/rth2.12422\n",
      "Working on 95/440: 10.1016/j.oftal.2011.04.015\n",
      "Working on 96/440: 10.1201/B18191-11\n",
      "'author'\n",
      "Working on 97/440: 10.1007/978-3-319-07887-8_93\n",
      "Working on 98/440: 10.1201/B18191-7\n",
      "'author'\n",
      "Working on 99/440: 10.1007/s00330-021-08519-z\n",
      "Working on 100/440: 10.1118/1.598302\n",
      "Working on 101/440: 10.1007/s00117-013-2598-y\n",
      "Working on 102/440: 10.1109/ISBI.2018.8363641\n",
      "Working on 103/440: 10.1002/lary.20888\n",
      "Working on 104/440: 10.1201/9780203909355.CH8\n",
      "Working on 105/440: 10.1016/J.ULTRASMEDBIO.2004.05.002\n",
      "Working on 106/440: 10.1016/J.OFTALE.2011.04.009\n",
      "Working on 107/440: 10.1016/S1359-6349(12)70015-0\n",
      "Working on 108/440: 10.1038/s41523-021-00378-7\n",
      "Working on 109/440: 10.47184/tp.2023.01.04\n",
      "Working on 110/440: 10.1007/978-3-642-59327-7_108\n",
      "Working on 111/440: 10.1158/2326-6066.CIR-20-0741\n",
      "Working on 112/440: 10.1158/1940-6207.PREV-12-B10\n",
      "Working on 113/440: 10.1109/CBMS.2017.29\n",
      "Working on 114/440: 10.1055/s-0040-1713119\n",
      "Working on 115/440: 10.1155/2001/780576\n",
      "Working on 116/440: 10.1117/12.651138\n",
      "Working on 117/440: 10.1093/NEUONC/NOX036.484\n",
      "Working on 118/440: 10.1136/ijgc-2022-esgo.790\n",
      "Working on 119/440: 10.1109/tai.2021.3115093\n",
      "Working on 120/440: 10.1007/s00330-021-07721-3\n",
      "'family'\n",
      "Working on 121/440: 10.1117/12.896233\n",
      "Working on 122/440: 10.1117/12.2317937\n",
      "Working on 123/440: 10.5220/0011669000003414\n",
      "Working on 124/440: 10.1002/(SICI)1097-0320(19990301)35:3<196::AID-CYTO2>3.0.CO;2-V\n",
      "Working on 125/440: 10.1016/s1120-1797(22)00024-2\n",
      "Working on 126/440: 10.1016/J.CMPB.2020.105821\n",
      "Working on 127/440: 10.1007/978-1-4612-2920-9_14\n",
      "Working on 128/440: 10.1007/S12194-017-0394-5\n",
      "Working on 129/440: 10.3390/cancers14133260\n",
      "Working on 130/440: 10.1002/mus.22254\n",
      "Working on 131/440: 10.1016/j.jaci.2018.04.010\n",
      "Working on 132/440: 10.1007/978-3-642-59327-7_117\n",
      "Working on 133/440: 10.1117/12.2043780\n",
      "Working on 134/440: 10.1007/978-3-642-59327-7_52\n",
      "Working on 135/440: 10.1007/978-3-319-67534-3_2\n",
      "Working on 136/440: 10.1177/10935266211059809\n",
      "Working on 137/440: 10.1016/j.media.2023.102755\n",
      "Working on 138/440: 10.1007/978-3-642-59327-7_88\n",
      "Working on 139/440: 10.1007/s002400050083\n",
      "Working on 140/440: 10.1117/12.829302\n",
      "Working on 141/440: 10.1055/b-002-85490\n",
      "'author'\n",
      "Working on 142/440: 10.1158/1538-7445.SABCS18-P6-13-01\n",
      "Working on 143/440: 10.1117/1.JMI.6.1.010101\n",
      "'author'\n",
      "Working on 144/440: 10.1117/1.JMI.3.1.010101\n",
      "'author'\n",
      "Working on 145/440: 10.1117/12.2564179\n",
      "Working on 146/440: 10.1088/0031-9155/58/17/R187\n",
      "Working on 147/440: 10.1117/12.2209613\n",
      "Working on 148/440: 10.1055/B-0034-84626\n",
      "'author'\n",
      "Working on 149/440: 10.1016/b978-0-12-816176-0.00025-9\n",
      "Working on 150/440: 10.1038/s41598-017-19101-3\n",
      "Working on 151/440: 10.1016/j.humpath.2009.12.015\n",
      "Working on 152/440: 10.1117/1.JMI.7.1.010102\n",
      "'author'\n",
      "Working on 153/440: 10.1055/B-0034-84646\n",
      "'author'\n",
      "Working on 154/440: 10.1007/978-3-030-00949-6_14\n",
      "Working on 155/440: 10.1007/s10549-022-06600-9\n",
      "Working on 156/440: 10.1007/s00117-020-00675-5\n",
      "Working on 157/440: 10.1148/radiol.2020204038\n",
      "Working on 158/440: 10.1158/1078-0432.CCR-04-1524\n",
      "Working on 159/440: 10.1117/12.797938\n",
      "Working on 160/440: 10.3174/ajnr.A7028\n",
      "Working on 161/440: 10.3389/fnins.2022.919186\n",
      "Working on 162/440: 10.1097/CCO.0000000000000055\n",
      "Working on 163/440: 10.1055/b-0034-84627\n",
      "'author'\n",
      "Working on 164/440: 10.5281/ZENODO.4008954\n",
      "'published'\n",
      "Working on 165/440: 10.1016/S0049-3848(07)70073-7\n",
      "Working on 166/440: 10.1186/bcr3641\n",
      "Working on 167/440: 10.1097/RTI.0000000000000255\n",
      "Working on 168/440: 10.1016/S0167-8140(21)00135-3\n",
      "Working on 169/440: 10.1002/(SICI)1096-9896(200004)190:5<545::AID-PATH549>3.0.CO;2-S\n",
      "Working on 170/440: 10.6084/M9.FIGSHARE.2077399.V1\n",
      "'published'\n",
      "Working on 171/440: 10.3390/diagnostics11060959\n",
      "Working on 172/440: 10.1007/978-3-642-21257-4_82\n",
      "Working on 173/440: 10.1109/ISBI.2014.6867826\n",
      "Working on 174/440: 10.1186/s12890-020-1148-4\n",
      "'family'\n",
      "Working on 175/440: 10.1097/00006231-200606000-00007\n",
      "Working on 176/440: 10.1038/s41598-017-15617-w\n",
      "Working on 177/440: 10.1117/12.845501\n",
      "Working on 178/440: 10.1007/s00428-004-1033-1\n",
      "Working on 179/440: 10.1055/b-0034-84637\n",
      "'author'\n",
      "Working on 180/440: 10.1101/2022.11.11.22282205\n",
      "Working on 181/440: 10.1016/J.JTHO.2017.09.580\n",
      "Working on 182/440: 10.1158/1538-7445.am2020-2113\n",
      "Working on 183/440: 10.1001/jamanetworkopen.2022.12964\n",
      "Working on 184/440: 10.1038/s41598-019-43144-3\n",
      "Working on 185/440: 10.1002/mrm.29371\n",
      "'family'\n",
      "Working on 186/440: 10.1007/978-3-642-03891-4_47\n",
      "Working on 187/440: 10.3390/jpm11070663\n",
      "'family'\n",
      "Working on 188/440: 10.48550/arXiv.2305.05984\n",
      "'published'\n",
      "Working on 189/440: 10.1038/s41598-018-25729-6\n",
      "Working on 190/440: 10.1159/000072026\n",
      "Working on 191/440: 10.1038/s41523-020-0154-2\n",
      "'family'\n",
      "Working on 192/440: 10.1016/j.media.2013.05.001\n",
      "Working on 193/440: 10.1158/1538-7445.sabcs22-p2-11-34\n",
      "Working on 194/440: 10.1002/(SICI)1096-9896(199806)185:2<175::AID-PATH69>3.0.CO;2-U\n",
      "Working on 195/440: 10.5281/ZENODO.3715938\n",
      "'family'\n",
      "Working on 196/440: 10.1136/jcp.2009.065953\n",
      "Working on 197/440: 10.1016/j.ejca.2022.09.018\n",
      "Working on 198/440: 10.1016/j.ejrad.2017.01.021\n",
      "Working on 199/440: 10.1016/J.EJMP.2018.06.325\n",
      "Working on 200/440: 10.1002/hipo.23039\n",
      "Working on 201/440: 10.1158/1538-7445.SABCS18-651\n",
      "Working on 202/440: 10.1210/jc.2009-0517\n",
      "Working on 203/440: 10.1093/cid/ciz1008\n",
      "Working on 204/440: 10.5772/22763\n",
      "Working on 205/440: 10.1016/S0167-8140(21)01009-4\n",
      "Working on 206/440: 10.1117/12.736969\n",
      "Working on 207/440: 10.1016/j.ejrad.2017.01.020\n",
      "Working on 208/440: 10.1007/978-94-011-5318-8_27\n",
      "Working on 209/440: 10.1093/annonc/mdx393.087\n",
      "Working on 210/440: 10.1055/B-0034-84673\n",
      "'author'\n",
      "Working on 211/440: 10.1007/s00330-019-06020-2\n",
      "Working on 212/440: 10.48550/arXiv.2302.01738\n",
      "'published'\n",
      "Working on 213/440: 10.1097/GOX.0000000000004495\n",
      "Working on 214/440: 10.1136/JCP.55.6.446\n",
      "Working on 215/440: 10.1117/12.2211640\n",
      "Working on 216/440: 10.6084/m9.figshare.936571.v1\n",
      "'published'\n",
      "Working on 217/440: 10.1007/s00330-021-08217-w\n",
      "Working on 218/440: 10.1109/ISBI.2011.5872474\n",
      "Working on 219/440: 10.1016/S0046-8177(98)90115-0\n",
      "Working on 220/440: 10.1016/s0959-8049(20)30589-x\n",
      "Working on 221/440: 10.1055/b-0034-84620\n",
      "'author'\n",
      "Working on 222/440: 10.1007/s10549-020-05814-z\n",
      "Working on 223/440: 10.1002/ijc.32353\n",
      "Working on 224/440: 10.1007/s00117-019-0525-6\n",
      "Working on 225/440: 10.4103/2153-3539.270744\n",
      "'author'\n",
      "Working on 226/440: 10.1055/b-0034-84664\n",
      "'author'\n",
      "Working on 227/440: 10.48550/arXiv.2212.08568\n",
      "'published'\n",
      "Working on 228/440: 10.1111/j.1365-2303.2012.00990.x\n",
      "Working on 229/440: 10.2214/AJR.21.25903\n",
      "Working on 230/440: 10.1007/s00259-021-05375-3\n",
      "Working on 231/440: 10.1002/mrm.29504\n",
      "Working on 232/440: 10.1155/2007/487435\n",
      "Working on 233/440: 10.1038/s41467-019-08563-w\n",
      "Working on 234/440: 10.1055/b-0034-84622\n",
      "'author'\n",
      "Working on 235/440: 10.1038/srep46878\n",
      "Working on 236/440: 10.1007/978-3-030-32245-8_16\n",
      "Working on 237/440: 10.1111/pin.13309\n",
      "Working on 238/440: 10.1055/B-0034-84671\n",
      "'author'\n",
      "Working on 239/440: 10.1186/s12931-022-02013-w\n",
      "'family'\n",
      "Working on 240/440: 10.5281/ZENODO.3835682\n",
      "'published'\n",
      "Working on 241/440: 10.1038/s41523-020-0156-0\n",
      "'family'\n",
      "Working on 242/440: 10.3389/fcvm.2022.981901\n",
      "Working on 243/440: 10.1002/mp.13342\n",
      "Working on 244/440: 10.1148/radiol.2020201365\n",
      "Working on 245/440: 10.1117/12.2318016\n",
      "Working on 246/440: 10.1148/radiol.2021203427\n",
      "Working on 247/440: 10.1007/s00330-022-08702-w\n",
      "Working on 248/440: 10.1371/journal.pgph.0001799\n",
      "Working on 249/440: 10.3389/fnimg.2022.977491\n",
      "Working on 250/440: 10.5281/ZENODO.3715001\n",
      "'family'\n",
      "Working on 251/440: 10.1148/RADIOL.2020204238\n",
      "Working on 252/440: 10.1007/978-3-319-30355-0_7\n",
      "Working on 253/440: 10.1016/S0301-5629(97)80796-X\n",
      "Working on 254/440: 10.1007/978-3-030-67194-5_8\n",
      "Working on 255/440: 10.1016/j.ejrad.2021.109626\n",
      "Working on 256/440: 10.1007/978-3-030-97281-3_21\n",
      "Working on 257/440: 10.1007/s13402-019-00445-z\n",
      "Working on 258/440: 10.1109/ISBI.2009.5193065\n",
      "Working on 259/440: 10.1038/s41598-017-05300-5\n",
      "Working on 260/440: 10.1007/s00234-021-02839-z\n",
      "Working on 261/440: 10.1007/174_2011_491\n",
      "Working on 262/440: 10.1016/j.ejca.2021.11.005\n",
      "Working on 263/440: 10.1117/12.383415\n",
      "Working on 264/440: 10.1117/12.931426\n",
      "Working on 265/440: 10.1055/B-0034-84656\n",
      "'author'\n",
      "Working on 266/440: 10.1055/b-0034-84621\n",
      "'author'\n",
      "Working on 267/440: 10.1007/s00117-018-0476-3\n",
      "Working on 268/440: 10.1038/s41598-018-33860-7\n",
      "Working on 269/440: 10.22443/RMS.EMC2020.286\n",
      "'family'\n",
      "Working on 270/440: 10.1038/s41523-019-0134-6\n",
      "Working on 271/440: 10.48550/arXiv.2212.13439\n",
      "'published'\n",
      "Working on 272/440: 10.5281/ZENODO.3715652\n",
      "'family'\n",
      "Working on 273/440: 10.1002/ijc.22072\n",
      "Working on 274/440: 10.1117/12.2611542\n",
      "Working on 275/440: 10.1007/978-3-319-68548-9_27\n",
      "Working on 276/440: 10.2214/AJR.18.20786\n",
      "Working on 277/440: 10.1117/12.2254160\n",
      "Working on 278/440: 10.1007/s00330-021-08035-0\n",
      "Working on 279/440: 10.1111/j.1524-475X.2009.00558.x\n",
      "Working on 280/440: 10.1118/1.2795672\n",
      "Working on 281/440: 10.1093/annonc/mdn428\n",
      "Working on 282/440: 10.1002/pros.22588\n",
      "Working on 283/440: 10.1117/12.2318326\n",
      "Working on 284/440: 10.1055/b-0034-84657\n",
      "'author'\n",
      "Working on 285/440: 10.1016/j.chest.2020.04.003\n",
      "Working on 286/440: 10.1007/s00330-018-5740-4\n",
      "Working on 287/440: 10.3390/jof8090925\n",
      "Working on 288/440: 10.1148/radiol.210948\n",
      "Working on 289/440: 10.1016/s0959-8049(20)30543-8\n",
      "Working on 290/440: 10.1007/11783237_8\n",
      "Working on 291/440: 10.1038/s41374-021-00601-w\n",
      "Working on 292/440: 10.1109/JBHI.2020.3039741\n",
      "Working on 293/440: 10.1109/TMI.2020.2995108\n",
      "Working on 294/440: 10.1164/rccm.201908-1600OC\n",
      "Working on 295/440: 10.1007/174_2015_1080\n",
      "Working on 296/440: 10.1007/978-3-642-13666-5_46\n",
      "Working on 297/440: 10.1007/978-3-319-07887-8_13\n",
      "Working on 298/440: 10.48550/arXiv.2303.17719\n",
      "'published'\n",
      "Working on 299/440: 10.1055/b-0034-84625\n",
      "'author'\n",
      "Working on 300/440: 10.1016/j.lungcan.2011.10.008\n",
      "Working on 301/440: 10.1016/s2153-3539(22)00450-3\n",
      "'author'\n",
      "Working on 302/440: 10.3171/JNS.2005.103.4.0702\n",
      "Working on 303/440: 10.1007/s00330-014-3301-z\n",
      "Working on 304/440: 10.1016/J.EJMP.2018.06.317\n",
      "Working on 305/440: 10.1109/isbi.2014.6867788\n",
      "'author'\n",
      "Working on 306/440: 10.1007/s10456-005-9019-4\n",
      "Working on 307/440: 10.1371/journal.pcbi.1004823\n",
      "Working on 308/440: 10.5281/ZENODO.4643381\n",
      "'published'\n",
      "Working on 309/440: 10.1038/s41523-021-00346-1\n",
      "'family'\n",
      "Working on 310/440: 10.48550/arXiv.2301.06304\n",
      "'published'\n",
      "Working on 311/440: 10.1002/CYTO.10078\n",
      "Working on 312/440: 10.1002/cyto.a.22053\n",
      "Working on 313/440: 10.1212/WNL.0000000000008364\n",
      "Working on 314/440: 10.1038/s41379-019-0450-2\n",
      "Working on 315/440: 10.1002/pros.21225\n",
      "Working on 316/440: 10.1016/S0167-8140(21)01765-5\n",
      "Working on 317/440: 10.1007/s00261-021-03207-4\n",
      "Working on 318/440: 10.1117/12.2043552\n",
      "Working on 319/440: 10.1055/b-0034-84654\n",
      "'author'\n",
      "Working on 320/440: 10.1038/s41598-018-37257-4\n",
      "Working on 321/440: 10.3109/03008207.2010.551616\n",
      "Working on 322/440: 10.1016/j.ejrad.2018.01.015\n",
      "Working on 323/440: 10.1055/b-0034-84658\n",
      "'author'\n",
      "Working on 324/440: 10.1201/B18191-4\n",
      "Working on 325/440: 10.1016/s0302-2838(22)00693-5\n",
      "Working on 326/440: 10.1109/IEMBS.1996.652759\n",
      "'published'\n",
      "Working on 327/440: 10.48550/arXiv.2209.05160\n",
      "'published'\n",
      "Working on 328/440: 10.1109/ACCESS.2022.3141021\n",
      "Working on 329/440: 10.1016/j.ultrasmedbio.2008.09.016\n",
      "Working on 330/440: 10.1109/IEMBS.1996.652753\n",
      "'published'\n",
      "Working on 331/440: 10.4103/2153-3539.255259\n",
      "'author'\n",
      "Working on 332/440: 10.1007/978-3-030-11149-6_11\n",
      "Working on 333/440: 10.1055/b-0034-84662\n",
      "'author'\n",
      "Working on 334/440: 10.1155/2001/740909\n",
      "Working on 335/440: 10.54294/lmkqvm\n",
      "Working on 336/440: 10.1109/ISBI.2009.5193099\n",
      "Working on 337/440: 10.1016/S1569-9056(05)80173-3\n",
      "Working on 338/440: 10.1002/(SICI)1096-9896(199802)184:2<136::AID-PATH970>3.0.CO;2-9\n",
      "Working on 339/440: 10.1093/OFID/OFX163.1199\n",
      "Working on 340/440: 10.1007/978-3-030-00949-6\n",
      "'author'\n",
      "Working on 341/440: 10.1136/ijgc-2021-esgo.533\n",
      "Working on 342/440: 10.1117/12.856064\n",
      "Working on 343/440: 10.1101/2022.05.17.492245\n",
      "Working on 344/440: 10.3390/cancers15092656\n",
      "Working on 345/440: 10.1038/s41467-022-30695-9\n",
      "Working on 346/440: 10.1016/j.ygyno.2012.06.015\n",
      "Working on 347/440: 10.1109/ISBI52829.2022.9761453\n",
      "Working on 348/440: 10.1016/j.neo.2014.12.011\n",
      "Working on 349/440: 10.1038/s41598-020-62148-y\n",
      "Working on 350/440: 10.1007/s00330-020-07598-8\n",
      "Working on 351/440: 10.4236/ABCR.2013.23016\n",
      "Working on 352/440: 10.1016/j.thromres.2012.11.027\n",
      "Working on 353/440: 10.1016/0301-5629(94)90082-5\n",
      "Working on 354/440: 10.1186/s12931-021-01712-0\n",
      "'family'\n",
      "Working on 355/440: 10.4103/jpi.jpi_64_19\n",
      "Working on 356/440: 10.1038/s41523-020-0155-1\n",
      "'family'\n",
      "Working on 357/440: 10.1016/j.parkreldis.2018.11.010\n",
      "Working on 358/440: 10.1016/j.media.2021.102061\n",
      "Working on 359/440: 10.1038/s41585-020-0355-3\n",
      "'family'\n",
      "Working on 360/440: 10.1055/b-0034-84624\n",
      "'author'\n",
      "Working on 361/440: 10.1007/s00428-021-03059-9\n",
      "Working on 362/440: 10.1002/MP.13065\n",
      "Working on 363/440: 10.1055/b-0034-84652\n",
      "'author'\n",
      "Working on 364/440: 10.1177/0284185114531754\n",
      "Working on 365/440: 10.1186/s13058-018-0961-7\n",
      "Working on 366/440: 10.1097/RTI.0000000000000121\n",
      "'author'\n",
      "Working on 367/440: 10.1117/12.2318054\n",
      "Working on 368/440: 10.3390/diagnostics12020436\n",
      "Working on 369/440: 10.1016/j.rmed.2023.107126\n",
      "Working on 370/440: 10.1007/s12308-009-0036-x\n",
      "'family'\n",
      "Working on 371/440: 10.1016/S1462-3889(12)70140-0\n",
      "Working on 372/440: 10.1183/2312508X.10003015\n",
      "'published'\n",
      "Working on 373/440: 10.1007/978-3-540-89208-3_131\n",
      "Working on 374/440: 10.1055/B-0034-84645\n",
      "'author'\n",
      "Working on 375/440: 10.1177/02841851221076324\n",
      "Working on 376/440: 10.1007/11783237_72\n",
      "Working on 377/440: 10.1309/AJCPTGJOPXUW6RVO\n",
      "Working on 378/440: 10.1109/ISBI.2010.5490361\n",
      "Working on 379/440: 10.1371/JOURNAL.PONE.0085952.T002\n",
      "'author'\n",
      "Working on 380/440: 10.1002/ijc.23756\n",
      "Working on 381/440: 10.1183/13993003.01359-2018\n",
      "Working on 382/440: 10.1055/B-0034-84663\n",
      "'author'\n",
      "Working on 383/440: 10.1117/12.2586357\n",
      "Working on 384/440: 10.3390/diagnostics12071690\n",
      "Working on 385/440: 10.1016/b978-0-12-818833-0.00010-2\n",
      "Working on 386/440: 10.1111/J.1617-0830.2009.00130.X\n",
      "Working on 387/440: 10.1097/RTI.0b013e3181cc4cc0\n",
      "Working on 388/440: 10.1002/(SICI)1097-0045(20000201)42:2<116::AID-PROS5>3.0.CO;2-9\n",
      "Working on 389/440: 10.1111/his.14902\n",
      "'family'\n",
      "Working on 390/440: 10.1016/S0531-5131(01)00103-0\n",
      "Working on 391/440: 10.1093/cercor/bhac154\n",
      "Working on 392/440: 10.1007/BFb0033756\n",
      "'published'\n",
      "Working on 393/440: 10.1007/s00330-021-07798-w\n",
      "Working on 394/440: 10.1148/radiol.2021203633\n",
      "'family'\n",
      "Working on 395/440: 10.1088/0031-9155/55/4/004\n",
      "Working on 396/440: 10.1118/1.1584044\n",
      "Working on 397/440: 10.1016/j.ajog.2010.02.002\n",
      "Working on 398/440: 10.1007/978-3-031-28241-6_18\n",
      "Working on 399/440: 10.1117/2.1201609.006617\n",
      "Working on 400/440: 10.1038/s41598-017-00239-z\n",
      "Working on 401/440: 10.1259/BJR/37622515\n",
      "Working on 402/440: 10.3171/JNS.1994.81.6.0902\n",
      "Working on 403/440: 10.1158/1538-7445.sabcs18-ms1-2\n",
      "Working on 404/440: 10.1101/2022.09.02.22279476\n",
      "Working on 405/440: 10.1055/B000000232\n",
      "'author'\n",
      "Working on 406/440: 10.1055/S-2001-16347\n",
      "Working on 407/440: 10.1183/16000617.0079-2018\n",
      "Working on 408/440: 10.1016/S1076-6332(03)00673-1\n",
      "Working on 409/440: 10.1117/12.2042863\n",
      "Working on 410/440: 10.1016/S0167-8140(21)00154-7\n",
      "Working on 411/440: 10.2139/ssrn.4444233\n",
      "Working on 412/440: 10.1007/s00330-021-07992-w\n",
      "Working on 413/440: 10.5281/ZENODO.4048761\n",
      "'published'\n",
      "Working on 414/440: 10.1007/11783237_33\n",
      "Working on 415/440: 10.1016/j.ejso.2021.12.179\n",
      "Working on 416/440: 10.1201/9780203732656-17\n",
      "Working on 417/440: 10.1117/1.JMI.4.1.010101\n",
      "'author'\n",
      "Working on 418/440: 10.1007/978-94-011-5318-8_19\n",
      "Working on 419/440: 10.1038/s41467-018-07619-7\n",
      "Working on 420/440: 10.1055/b-0034-84650\n",
      "'author'\n",
      "Working on 421/440: 10.1148/radiol.2017161659\n",
      "Working on 422/440: 10.1007/3-540-45468-3_241\n",
      "Working on 423/440: 10.5281/ZENODO.4573968\n",
      "'family'\n",
      "Working on 424/440: 10.1101/2023.04.03.535381\n",
      "Working on 425/440: 10.1183/13993003.CONGRESS-2015.PA762\n",
      "Working on 426/440: 10.1136/thoraxjnl-2018-211891\n",
      "Working on 427/440: 10.1117/12.2512818\n",
      "Working on 428/440: 10.1016/j.jtho.2018.08.020\n",
      "Working on 429/440: 10.1101/158014\n",
      "Working on 430/440: 10.1088/0031-9155/59/10/2445\n",
      "Working on 431/440: 10.1007/978-94-011-5318-8_16\n",
      "Working on 432/440: 10.1007/s00428-021-03213-3\n",
      "Working on 433/440: 10.1093/cid/ciaa1855\n",
      "Working on 434/440: 10.1186/s13058-022-01541-z\n",
      "Working on 435/440: 10.1038/s41598-018-30810-1\n",
      "Working on 436/440: 10.21037/TLCR-20-924\n",
      "Working on 437/440: 10.1117/12.2318069\n",
      "Working on 438/440: 10.1118/1.1376645\n",
      "Working on 439/440: 10.11409/MIT.14.623\n",
      "'published'\n"
     ]
    }
   ],
   "source": [
    "authors, titles, years, dois_to_check = [], [], [], []\n",
    "for index2, doi in enumerate(dois):\n",
    "    print(f\"Working on {index2}/{len(dois)}: {doi}\")\n",
    "    reader = GetBiblatex(doi=doi, diag_bib=diag_bib)\n",
    "    response = reader._get_doi_csl()\n",
    "\n",
    "    try:\n",
    "        author = response['author']\n",
    "        author_string = \"{\"\n",
    "        for index, author in enumerate(author):\n",
    "            if index == len(author)-1:\n",
    "                if 'given' in author:\n",
    "                    author_string = author_string + f\"{author['family']}, {author['given']}\" + \"}\"\n",
    "                else:\n",
    "                    author_string = author_string + f\"{author['family']} and \"\n",
    "            else:\n",
    "                if 'given' in author:\n",
    "                    author_string = author_string + f\"{author['family']}, {author['given']} and \"\n",
    "                else:\n",
    "                    author_string = author_string + f\"{author['family']} and \"\n",
    "\n",
    "        title = response[\"title\"]\n",
    "        year = str(response[\"published\"][\"date-parts\"][0][0])\n",
    "        dois_to_check.append(doi)\n",
    "        authors.append(author_string)\n",
    "        titles.append(title)\n",
    "        years.append(year)\n",
    "    except Exception as e:\n",
    "        print(e)\n",
    "        author = 'not available'\n",
    "        title = 'not available'\n",
    "        year = 'not available'\n"
   ]
  },
  {
   "cell_type": "code",
   "execution_count": 57,
   "metadata": {
    "pycharm": {
     "name": "#%%\n"
    }
   },
   "outputs": [],
   "source": [
    "data = pd.DataFrame(list(zip(dois_to_check, authors, titles, years)), columns=['doi', 'authors', 'title', 'year'])"
   ]
  },
  {
   "cell_type": "code",
   "execution_count": 60,
   "metadata": {
    "pycharm": {
     "name": "#%%\n"
    }
   },
   "outputs": [],
   "source": [
    "data.to_csv(\"script_data/temp_overview_new_dois.csv\", index=False)"
   ]
  },
  {
   "cell_type": "code",
   "execution_count": 61,
   "metadata": {
    "pycharm": {
     "name": "#%%\n"
    }
   },
   "outputs": [
    {
     "data": {
      "text/plain": [
       "349"
      ]
     },
     "execution_count": 61,
     "metadata": {},
     "output_type": "execute_result"
    }
   ],
   "source": [
    "len(data)"
   ]
  },
  {
   "cell_type": "code",
   "execution_count": null,
   "metadata": {
    "pycharm": {
     "name": "#%%\n"
    }
   },
   "outputs": [],
   "source": []
  }
 ],
 "metadata": {
  "kernelspec": {
   "display_name": "Python 3 (ipykernel)",
   "language": "python",
   "name": "python3"
  },
  "language_info": {
   "codemirror_mode": {
    "name": "ipython",
    "version": 3
   },
   "file_extension": ".py",
   "mimetype": "text/x-python",
   "name": "python",
   "nbconvert_exporter": "python",
   "pygments_lexer": "ipython3",
   "version": "3.9.7"
  }
 },
 "nbformat": 4,
 "nbformat_minor": 1
}
