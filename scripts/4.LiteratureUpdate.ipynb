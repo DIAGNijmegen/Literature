{
 "cells": [
  {
   "cell_type": "code",
   "execution_count": null,
   "id": "971bc53a-1e07-45c4-a813-f26d0c153c6d",
   "metadata": {
    "collapsed": true,
    "jupyter": {
     "outputs_hidden": true
    },
    "tags": [],
    "pycharm": {
     "name": "#%%\n",
     "is_executing": true
    }
   },
   "outputs": [],
   "source": [
    "!pip3 install pyarxiv\n",
    "!pip3 install pybtex\n",
    "!pip3 install dropbox\n",
    "!pip3 install tqdm\n",
    "!pip3 install pycolors2\n",
    "!pip3 install pdf2image\n",
    "!pip3 install Unidecode"
   ]
  },
  {
   "cell_type": "code",
   "execution_count": 1,
   "id": "ce4d4a1a-89e6-4f70-bc4e-77cf301d9191",
   "metadata": {
    "pycharm": {
     "name": "#%%\n"
    }
   },
   "outputs": [],
   "source": [
    "import os\n",
    "from bib_handling_code.processbib import read_bibfile\n",
    "from bib_handling_code.processbib import save_to_file\n",
    "import requests\n",
    "import pandas as pd \n",
    "from get_biblatex import GetBiblatex\n",
    "import string"
   ]
  },
  {
   "cell_type": "code",
   "execution_count": 2,
   "id": "ea4d1227-a735-47e5-975e-ae4cb703a691",
   "metadata": {
    "pycharm": {
     "name": "#%%\n"
    }
   },
   "outputs": [],
   "source": [
    "path_diag_bib = os.path.join('script_data/', 'diag_ss.bib')\n",
    "diag_bib_raw = read_bibfile(None, path_diag_bib) # I changed the code in such a way that IF I give a second argument, it uses the second argument as a full path"
   ]
  },
  {
   "cell_type": "code",
   "execution_count": 3,
   "id": "70e5d466-32a0-4522-8675-8ce625b4cfcc",
   "metadata": {
    "pycharm": {
     "name": "#%%\n"
    }
   },
   "outputs": [],
   "source": [
    "staff_id_dict = {'Bram van Ginneken': [8038506, 123637526],\n",
    "'Francesco Ciompi': [143613202],\n",
    "'Alessa Hering': [153744566],\n",
    "'Henkjan Huisman': [34754023],\n",
    "'Colin Jacobs': [2895994],\n",
    "'Peter Koopmans': [34726383],\n",
    "'Jeroen van der Laak': [145441238, 145388932],\n",
    "'Geert Litjens': [145959882],\n",
    "'James Meakin': [4960344],\n",
    "'Keelin Murphy': [35730362],\n",
    "'Ajay Patel': [2109170880, 2116215861],\n",
    "'Cornelia Schaefer-Prokop': [1419819133, 1445069528, 1400632685],\n",
    "'Matthieu Rutten': [2074975080, 2156546],\n",
    "'Jos Thannhauser': [5752941],\n",
    "\"Bram Platel\" : [1798137], \n",
    "\"Nico Karssemeijer\" : [1745574], \n",
    "\"Clarisa Sanchez\" : [144085811, 32187701], \n",
    "\"Nikolas Lessman\" : [2913408], \n",
    "\"Jonas Teuwen\" : [32649341, 119024451], \n",
    "\"Rashindra Manniesing\" : [2657081]}"
   ]
  },
  {
   "cell_type": "code",
   "execution_count": 4,
   "id": "d95c791e-7ebb-489d-8e58-981b93864d7c",
   "metadata": {
    "pycharm": {
     "name": "#%%\n"
    }
   },
   "outputs": [],
   "source": [
    "staff_year_dict = {\n",
    "'Bram van Ginneken':  {'start' : 1996, 'end': 9999},\n",
    "'Francesco Ciompi':  {'start' : 2013, 'end': 9999},\n",
    "'Alessa Hering':  {'start' : 2018, 'end': 9999},\n",
    "'Henkjan Huisman':  {'start' : 1992, 'end': 9999},\n",
    "'Colin Jacobs':  {'start' : 2010, 'end': 9999},\n",
    "'Peter Koopmans':  {'start' : 2022, 'end': 9999},\n",
    "'Jeroen van der Laak':  {'start' : 1991, 'end': 9999},\n",
    "'Geert Litjens':  {'start' : 2016, 'end': 9999},\n",
    "'James Meakin':  {'start' : 2017, 'end': 9999},\n",
    "'Keelin Murphy':  {'start' : 2018, 'end': 9999},\n",
    "'Ajay Patel':  {'start' : 2015, 'end': 9999},\n",
    "'Cornelia Schaefer-Prokop':  {'start' : 2010, 'end': 9999},\n",
    "'Matthieu Rutten':  {'start' : 2019, 'end': 9999},\n",
    "'Jos Thannhauser': {'start' : 2022, 'end': 9999},\n",
    "\"Bram Platel\" : {'start' : 2010,  'end' : 2019},\n",
    "\"Nico Karssemeijer\" : {'start' : 1989, 'end' : 2022}, \n",
    "\"Clarisa Sanchez\" : {'start' : 2008, 'end' : 2021}, \n",
    "\"Nikolas Lessman\" : {'start' : 2019, 'end' : 2022}, \n",
    "\"Jonas Teuwen\" : {'start' : 2017, 'end' : 2020}, \n",
    "\"Rashindra Manniesing\" : {'start' : 2010, 'end' : 2021}\n",
    "}"
   ]
  },
  {
   "cell_type": "code",
   "execution_count": 5,
   "id": "65bf3ce0-346c-4a4c-a210-57397fcc29d9",
   "metadata": {
    "pycharm": {
     "name": "#%%\n"
    }
   },
   "outputs": [],
   "source": [
    "def find_new_ssids():\n",
    "    staff_dict = {key: {'ids': staff_id_dict[key], 'years': staff_year_dict[key]} for key in staff_id_dict}\n",
    "    all_staff_id_ss_data = []\n",
    "\n",
    "    # get data for staff memb|er\n",
    "    for idx, (staff_name, values) in enumerate(staff_dict.items()):\n",
    "        staff_ids = values['ids']\n",
    "        staff_start = values['years']['start']\n",
    "        staff_end = values['years']['end']\n",
    "        print(f'[{idx+1}/{len(staff_dict.items())}]: {staff_name}')\n",
    "        for staff_id in staff_ids:\n",
    "            print('\\t\\t', staff_id)\n",
    "            staff_id_ss_data = []\n",
    "            # get semantic scolar data\n",
    "            url=f'https://api.semanticscholar.org/graph/v1/author/{staff_id}/papers?fields=year,title,authors,externalIds,citationCount&limit=500'\n",
    "            r = requests.get(url)\n",
    "            ss_staff_data = r.json()['data']\n",
    "\n",
    "            # loop over semantic scolar data entries\n",
    "            for ss_staff_entry in ss_staff_data:\n",
    "                ss_id = None\n",
    "                ss_title = None\n",
    "                ss_doi = None\n",
    "                ss_citations = None\n",
    "                ss_year = None\n",
    "\n",
    "                if 'paperId' in ss_staff_entry:\n",
    "                    ss_id = ss_staff_entry['paperId']\n",
    "                if 'title' in ss_staff_entry:\n",
    "                    ss_title = ss_staff_entry['title']\n",
    "                if 'DOI' in ss_staff_entry['externalIds']:\n",
    "                    ss_doi = ss_staff_entry['externalIds']['DOI']\n",
    "                if 'citationCount' in ss_staff_entry:\n",
    "                    ss_citations = ss_staff_entry['citationCount']\n",
    "                if 'year' in ss_staff_entry:\n",
    "                    ss_year = ss_staff_entry['year']\n",
    "\n",
    "                if ss_year != None:\n",
    "                    if not staff_start <= ss_year <= staff_end:\n",
    "                    # probably doesnt belong to DIAG, still captured via another staff member if also in the same paper\n",
    "                        continue\n",
    "\n",
    "                staff_id_ss_data.append([staff_id, staff_name, staff_start, staff_end, ss_year, ss_id, ss_title, ss_doi, ss_citations])\n",
    "            all_staff_id_ss_data.extend(staff_id_ss_data)    \n",
    "    ss_columns = ['staff_id', 'staff_name', 'staff_from', 'staff_till', 'ss_year', 'ss_id', 'title', 'doi', 'ss_citations']\n",
    "    df_all_staff_id_ss_data = pd.DataFrame(all_staff_id_ss_data, columns=ss_columns)\n",
    "    print('DONE')\n",
    "    return df_all_staff_id_ss_data, df_all_staff_id_ss_data['ss_id'].tolist()"
   ]
  },
  {
   "cell_type": "code",
   "execution_count": 39,
   "id": "9a3e2624-4f3e-4e4e-a58b-7e11b8a74902",
   "metadata": {
    "pycharm": {
     "name": "#%%\n"
    }
   },
   "outputs": [],
   "source": [
    "url=f'https://api.semanticscholar.org/graph/v1/author/{143613202}/papers?fields=year,title,authors,externalIds,citationCount&limit=500'\n",
    "r = requests.get(url)\n",
    "ss_staff_data = r.json()['data']"
   ]
  },
  {
   "cell_type": "code",
   "execution_count": 6,
   "id": "e45e1142-5055-4d00-a355-30c613ce4b68",
   "metadata": {
    "pycharm": {
     "name": "#%%\n"
    }
   },
   "outputs": [],
   "source": [
    "def return_current_ssids(bib_file):\n",
    "    ss_ids=[]\n",
    "    for entry in bib_file:\n",
    "        if entry.type == 'string':\n",
    "            continue\n",
    "        if 'ss_id' in entry.fields:\n",
    "            ss_ids.append(entry.fields['ss_id'].translate(str.maketrans('', '', string.punctuation)))\n",
    "    return ss_ids"
   ]
  },
  {
   "cell_type": "code",
   "execution_count": 7,
   "id": "265d82d3-0044-4656-9db7-0f0fea996f8f",
   "metadata": {
    "collapsed": true,
    "jupyter": {
     "outputs_hidden": true
    },
    "tags": [],
    "pycharm": {
     "name": "#%%\n"
    }
   },
   "outputs": [
    {
     "name": "stdout",
     "output_type": "stream",
     "text": [
      "[1/20]: Bram van Ginneken\n",
      "\t\t 8038506\n",
      "\t\t 123637526\n",
      "[2/20]: Francesco Ciompi\n",
      "\t\t 143613202\n",
      "[3/20]: Alessa Hering\n",
      "\t\t 153744566\n",
      "[4/20]: Henkjan Huisman\n",
      "\t\t 34754023\n",
      "[5/20]: Colin Jacobs\n",
      "\t\t 2895994\n",
      "[6/20]: Peter Koopmans\n",
      "\t\t 34726383\n",
      "[7/20]: Jeroen van der Laak\n",
      "\t\t 145441238\n",
      "\t\t 145388932\n",
      "[8/20]: Geert Litjens\n",
      "\t\t 145959882\n",
      "[9/20]: James Meakin\n",
      "\t\t 4960344\n",
      "[10/20]: Keelin Murphy\n",
      "\t\t 35730362\n",
      "[11/20]: Ajay Patel\n",
      "\t\t 2109170880\n",
      "\t\t 2116215861\n",
      "[12/20]: Cornelia Schaefer-Prokop\n",
      "\t\t 1419819133\n",
      "\t\t 1445069528\n",
      "\t\t 1400632685\n",
      "[13/20]: Matthieu Rutten\n",
      "\t\t 2074975080\n",
      "\t\t 2156546\n",
      "[14/20]: Jos Thannhauser\n",
      "\t\t 5752941\n",
      "[15/20]: Bram Platel\n",
      "\t\t 1798137\n",
      "[16/20]: Nico Karssemeijer\n",
      "\t\t 1745574\n",
      "[17/20]: Clarisa Sanchez\n",
      "\t\t 144085811\n",
      "\t\t 32187701\n",
      "[18/20]: Nikolas Lessman\n",
      "\t\t 2913408\n",
      "[19/20]: Jonas Teuwen\n",
      "\t\t 32649341\n",
      "\t\t 119024451\n",
      "[20/20]: Rashindra Manniesing\n",
      "\t\t 2657081\n",
      "DONE\n"
     ]
    }
   ],
   "source": [
    "df, new_ss_ids = find_new_ssids()\n",
    "current_ss_ids=return_current_ssids(diag_bib_raw)"
   ]
  },
  {
   "cell_type": "code",
   "execution_count": 8,
   "outputs": [
    {
     "name": "stdout",
     "output_type": "stream",
     "text": [
      "Number of current ss_ids in diag_bib: 940\n",
      "Number of new ss_ids: 2163\n"
     ]
    }
   ],
   "source": [
    "print(f\"Number of current ss_ids in diag_bib: {len(current_ss_ids)}\")\n",
    "print(f\"Number of new ss_ids: {len(new_ss_ids)}\")\n"
   ],
   "metadata": {
    "collapsed": false,
    "pycharm": {
     "name": "#%%\n"
    }
   }
  },
  {
   "cell_type": "markdown",
   "source": [
    "## ss_ids not in the diag_bib but not in found by our staff member search"
   ],
   "metadata": {
    "collapsed": false,
    "pycharm": {
     "name": "#%% md\n"
    }
   }
  },
  {
   "cell_type": "code",
   "execution_count": 9,
   "outputs": [
    {
     "data": {
      "text/plain": "{'056af49e670a8c5385d7c39977acd8d49de9fff0',\n '1e0bf0fbefbb0404c3c18740123a969091c67ef4',\n '23bcee96f8bb86f925bb2d3d0d3b0fb3d870fcee',\n '2662ff8ddd7135754bc72ca833eacfc1f307aeb1',\n '271cc27f0f6b1b4a87e43eed7c85df9c729b3279',\n '2cbfeefc3025a11beced3681bd0b358d44d4c0a8',\n '2f10f440accedc9e5cac27b58f606939d41b9c0b',\n '31f676889affcf561b077e661380e5fd945aabba',\n '35ee6606ec99b5bf282a0c5f400edbd16a6e22d9',\n '39a52867ea3d60ec4f28182e0e618b762d3d7909',\n '4992f23e29e711eec8b92e17ce35610da3758ecd',\n '57e693a3e04b766b142f72df5c6c6767620fb369',\n '608a5409afa9a5f535d5b3f4776b75ae92ec9e26',\n '66f70286594b27928fb0eea3b4a0f292261c292f',\n '6873c25b4466ae69a4755dd1f937bf0b82f6ad11',\n '699e59747454c422766132be28c2aa3c4c04de99',\n '6a340e97fd3c7c5f9f2f5401d1a2fb07c39fb8ed',\n '6b18013b756f365ee486e752272327a554ea841a',\n '7383ab9582f0e50753a0571f6e4d759f99f49d27',\n '766b44a5bc3a4ffb30dd1b4b4d76752e8c81698e',\n '7bfa78ee6a6d93bac31a1e29bc0552ca8e5a215c',\n '8a4482179ae334ba0dbd76060c30332a65f9861a',\n '93d384fea8e9acd340445c227ed226e1642bed49',\n '9ca3badc4daf9fd3da93b868e84d06476393fc78',\n 'a0083e8d84d4858e4c85dcfce6db4ec18b57535a',\n 'aaa9f7fc2e216f4f0ce40ef000d1ac9ed3a991e9',\n 'afb28ac7f8988cf0da21a8b18a2cd37ac5350917',\n 'b47eb89360053492a2c57e7474301f12260ac1ea',\n 'c05538614208ef1e78d54fa9325730adcad07b7d',\n 'c20ebcc69b4c426fa0231ce719576ed7ba7b0629',\n 'c4c99492376b43d7120067f806aa2d000fbc0b2f',\n 'ceddfad717e3e521d337f35904a1c78c1d75c490',\n 'd214f7c0440c815029df15d85ac33c9fabb24d29',\n 'd64d150155c9e1995efae28446625f1dfced6031',\n 'd67d1dbabc705e5b2d7cb675e8737ff249c1a88f',\n 'd7a2d54955eb4d75b6226e469f3136050225a7b2',\n 'e034856f4f0949b6ebbe7d4161e253719fdcb399',\n 'e8c5a5edd60ed560edaa87fe335cabf1702e14c4',\n 'eaea24fdc6aa24479ff0cbd3b58dfcb2e8d56868',\n 'ee32a128265b62aff8581e2a28bc9a7c8496cf0d',\n 'f46d34f0234422fb7db3837dd2b32efe03fc6e9a',\n 'f8e3b007a829e53c9a9f7527d26d495c8463dd7f',\n 'fed7c0d369d8991f6b76a661dedd0d1768a402d2'}"
     },
     "execution_count": 9,
     "metadata": {},
     "output_type": "execute_result"
    }
   ],
   "source": [
    "set(current_ss_ids) - set(new_ss_ids)"
   ],
   "metadata": {
    "collapsed": false,
    "pycharm": {
     "name": "#%%\n"
    }
   }
  },
  {
   "cell_type": "markdown",
   "id": "fe59f791-ab7f-4c26-abeb-5fab71a324e0",
   "metadata": {
    "pycharm": {
     "name": "#%% md\n"
    }
   },
   "source": [
    "There are 1631 unique semantic scholar ids found. The current bib file has 915 unique semantic scholar ids.\n",
    "The intersection is 910 = that means that there are 5 semantic scholar ids in the current bib that are not found from the new search. Why is that?"
   ]
  },
  {
   "cell_type": "code",
   "execution_count": 10,
   "id": "e960d6a7-9748-4bcc-b8ad-ba3956738399",
   "metadata": {
    "pycharm": {
     "name": "#%%\n"
    }
   },
   "outputs": [
    {
     "name": "stdout",
     "output_type": "stream",
     "text": [
      "Number of newly found items: 708\n"
     ]
    }
   ],
   "source": [
    "found_items=set(new_ss_ids)-set(current_ss_ids)\n",
    "print(f\"Number of newly found items: {len(found_items)}\")"
   ]
  },
  {
   "cell_type": "code",
   "execution_count": 11,
   "id": "a696eff4-3681-4091-b085-b6acd40c176a",
   "metadata": {
    "pycharm": {
     "name": "#%%\n"
    }
   },
   "outputs": [],
   "source": [
    "new_items = df[df['ss_id'].isin(found_items)]"
   ]
  },
  {
   "cell_type": "code",
   "execution_count": 12,
   "id": "ec181bcd-589c-4028-b21d-6a258adeea9a",
   "metadata": {
    "pycharm": {
     "name": "#%%\n"
    }
   },
   "outputs": [],
   "source": [
    "new_items = new_items[new_items['ss_year']>=2015]\n",
    "new_items = new_items.loc[new_items['doi'].notna()]\n",
    "new_items = new_items.drop_duplicates(subset='doi', keep='first')"
   ]
  },
  {
   "cell_type": "code",
   "execution_count": 13,
   "id": "25ebb975-51c5-4880-8ace-7ae59200a4aa",
   "metadata": {
    "pycharm": {
     "name": "#%%\n"
    }
   },
   "outputs": [
    {
     "data": {
      "text/plain": "      staff_id            staff_name  staff_from  staff_till  ss_year  \\\n3      8038506     Bram van Ginneken        1996        9999   2023.0   \n6      8038506     Bram van Ginneken        1996        9999   2023.0   \n8      8038506     Bram van Ginneken        1996        9999   2023.0   \n9      8038506     Bram van Ginneken        1996        9999   2023.0   \n10     8038506     Bram van Ginneken        1996        9999   2022.0   \n...        ...                   ...         ...         ...      ...   \n2100   2657081  Rashindra Manniesing        2010        2021   2021.0   \n2102   2657081  Rashindra Manniesing        2010        2021   2021.0   \n2103   2657081  Rashindra Manniesing        2010        2021   2021.0   \n2104   2657081  Rashindra Manniesing        2010        2021   2021.0   \n2140   2657081  Rashindra Manniesing        2010        2021   2015.0   \n\n                                         ss_id  \\\n3     4bcd672218ecec70473c84f6f1cc52c64031f3e5   \n6     9ddb2f47695191553a3623ac33eddeb9c7e416cd   \n8     be95c8bbd8a4297d620b1c2644cf2a898603e355   \n9     e738d94746b0f33b1c48737022ab186618d4d4cd   \n10    2d49fb82fd715a213e2149f9f08dd2fb4749b235   \n...                                        ...   \n2100  4202f56b0e22eedd6921d9b26519bc72f89cf4fd   \n2102  571285fab9ced6a4d0bf3abd5f886d9a64e1790c   \n2103  92a2cb9804d3599cc1e8e81c512d0203c6d10da7   \n2104  c859bd469080b82dc14db62e78d65ef5b5ffa686   \n2140  349ca29f588b9c785085da7147a4b58df032a8bf   \n\n                                                  title  \\\n3     Continual learning strategies for cancer-indep...   \n6     The STOIC2021 COVID-19 AI challenge: applying ...   \n8     Kidney abnormality segmentation in thorax-abdo...   \n9     SimpleRad: Patient-Friendly Dutch Radiology Re...   \n10    Challenges in digital medicine applications in...   \n...                                                 ...   \n2100  Correction to: Incorporating radiomics into cl...   \n2102  Traumatic Cerebral Microbleeds in the Subacute...   \n2103  The radiological interpretation of possible mi...   \n2104  Incorporating radiomics into clinical trials: ...   \n2140          4D-CTA in Neurovascular Disease: A Review   \n\n                               doi  ss_citations  \n3      10.1016/j.media.2023.102755             4  \n6        10.48550/arXiv.2306.10484             1  \n8        10.48550/arXiv.2309.03383             0  \n9     10.1007/978-3-031-28241-6_18             0  \n10      10.1038/s41467-022-30728-3             8  \n...                            ...           ...  \n2100    10.1007/s00330-021-07721-3             5  \n2102            10.3174/ajnr.A7028             3  \n2103    10.1007/s00234-021-02839-z             2  \n2104    10.1007/s00330-020-07598-8            46  \n2140            10.3174/ajnr.A4162            76  \n\n[303 rows x 9 columns]",
      "text/html": "<div>\n<style scoped>\n    .dataframe tbody tr th:only-of-type {\n        vertical-align: middle;\n    }\n\n    .dataframe tbody tr th {\n        vertical-align: top;\n    }\n\n    .dataframe thead th {\n        text-align: right;\n    }\n</style>\n<table border=\"1\" class=\"dataframe\">\n  <thead>\n    <tr style=\"text-align: right;\">\n      <th></th>\n      <th>staff_id</th>\n      <th>staff_name</th>\n      <th>staff_from</th>\n      <th>staff_till</th>\n      <th>ss_year</th>\n      <th>ss_id</th>\n      <th>title</th>\n      <th>doi</th>\n      <th>ss_citations</th>\n    </tr>\n  </thead>\n  <tbody>\n    <tr>\n      <th>3</th>\n      <td>8038506</td>\n      <td>Bram van Ginneken</td>\n      <td>1996</td>\n      <td>9999</td>\n      <td>2023.0</td>\n      <td>4bcd672218ecec70473c84f6f1cc52c64031f3e5</td>\n      <td>Continual learning strategies for cancer-indep...</td>\n      <td>10.1016/j.media.2023.102755</td>\n      <td>4</td>\n    </tr>\n    <tr>\n      <th>6</th>\n      <td>8038506</td>\n      <td>Bram van Ginneken</td>\n      <td>1996</td>\n      <td>9999</td>\n      <td>2023.0</td>\n      <td>9ddb2f47695191553a3623ac33eddeb9c7e416cd</td>\n      <td>The STOIC2021 COVID-19 AI challenge: applying ...</td>\n      <td>10.48550/arXiv.2306.10484</td>\n      <td>1</td>\n    </tr>\n    <tr>\n      <th>8</th>\n      <td>8038506</td>\n      <td>Bram van Ginneken</td>\n      <td>1996</td>\n      <td>9999</td>\n      <td>2023.0</td>\n      <td>be95c8bbd8a4297d620b1c2644cf2a898603e355</td>\n      <td>Kidney abnormality segmentation in thorax-abdo...</td>\n      <td>10.48550/arXiv.2309.03383</td>\n      <td>0</td>\n    </tr>\n    <tr>\n      <th>9</th>\n      <td>8038506</td>\n      <td>Bram van Ginneken</td>\n      <td>1996</td>\n      <td>9999</td>\n      <td>2023.0</td>\n      <td>e738d94746b0f33b1c48737022ab186618d4d4cd</td>\n      <td>SimpleRad: Patient-Friendly Dutch Radiology Re...</td>\n      <td>10.1007/978-3-031-28241-6_18</td>\n      <td>0</td>\n    </tr>\n    <tr>\n      <th>10</th>\n      <td>8038506</td>\n      <td>Bram van Ginneken</td>\n      <td>1996</td>\n      <td>9999</td>\n      <td>2022.0</td>\n      <td>2d49fb82fd715a213e2149f9f08dd2fb4749b235</td>\n      <td>Challenges in digital medicine applications in...</td>\n      <td>10.1038/s41467-022-30728-3</td>\n      <td>8</td>\n    </tr>\n    <tr>\n      <th>...</th>\n      <td>...</td>\n      <td>...</td>\n      <td>...</td>\n      <td>...</td>\n      <td>...</td>\n      <td>...</td>\n      <td>...</td>\n      <td>...</td>\n      <td>...</td>\n    </tr>\n    <tr>\n      <th>2100</th>\n      <td>2657081</td>\n      <td>Rashindra Manniesing</td>\n      <td>2010</td>\n      <td>2021</td>\n      <td>2021.0</td>\n      <td>4202f56b0e22eedd6921d9b26519bc72f89cf4fd</td>\n      <td>Correction to: Incorporating radiomics into cl...</td>\n      <td>10.1007/s00330-021-07721-3</td>\n      <td>5</td>\n    </tr>\n    <tr>\n      <th>2102</th>\n      <td>2657081</td>\n      <td>Rashindra Manniesing</td>\n      <td>2010</td>\n      <td>2021</td>\n      <td>2021.0</td>\n      <td>571285fab9ced6a4d0bf3abd5f886d9a64e1790c</td>\n      <td>Traumatic Cerebral Microbleeds in the Subacute...</td>\n      <td>10.3174/ajnr.A7028</td>\n      <td>3</td>\n    </tr>\n    <tr>\n      <th>2103</th>\n      <td>2657081</td>\n      <td>Rashindra Manniesing</td>\n      <td>2010</td>\n      <td>2021</td>\n      <td>2021.0</td>\n      <td>92a2cb9804d3599cc1e8e81c512d0203c6d10da7</td>\n      <td>The radiological interpretation of possible mi...</td>\n      <td>10.1007/s00234-021-02839-z</td>\n      <td>2</td>\n    </tr>\n    <tr>\n      <th>2104</th>\n      <td>2657081</td>\n      <td>Rashindra Manniesing</td>\n      <td>2010</td>\n      <td>2021</td>\n      <td>2021.0</td>\n      <td>c859bd469080b82dc14db62e78d65ef5b5ffa686</td>\n      <td>Incorporating radiomics into clinical trials: ...</td>\n      <td>10.1007/s00330-020-07598-8</td>\n      <td>46</td>\n    </tr>\n    <tr>\n      <th>2140</th>\n      <td>2657081</td>\n      <td>Rashindra Manniesing</td>\n      <td>2010</td>\n      <td>2021</td>\n      <td>2015.0</td>\n      <td>349ca29f588b9c785085da7147a4b58df032a8bf</td>\n      <td>4D-CTA in Neurovascular Disease: A Review</td>\n      <td>10.3174/ajnr.A4162</td>\n      <td>76</td>\n    </tr>\n  </tbody>\n</table>\n<p>303 rows × 9 columns</p>\n</div>"
     },
     "execution_count": 13,
     "metadata": {},
     "output_type": "execute_result"
    }
   ],
   "source": [
    "new_items"
   ]
  },
  {
   "cell_type": "markdown",
   "source": [
    "# Removing blacklisted items"
   ],
   "metadata": {
    "collapsed": false,
    "pycharm": {
     "name": "#%% md\n"
    }
   }
  },
  {
   "cell_type": "code",
   "execution_count": 16,
   "outputs": [
    {
     "data": {
      "text/plain": "      staff_id            staff_name  staff_from  staff_till  ss_year  \\\n3      8038506     Bram van Ginneken        1996        9999   2023.0   \n6      8038506     Bram van Ginneken        1996        9999   2023.0   \n8      8038506     Bram van Ginneken        1996        9999   2023.0   \n12     8038506     Bram van Ginneken        1996        9999   2022.0   \n24     8038506     Bram van Ginneken        1996        9999   2021.0   \n...        ...                   ...         ...         ...      ...   \n2092  32649341          Jonas Teuwen        2017        2020   2018.0   \n2102   2657081  Rashindra Manniesing        2010        2021   2021.0   \n2103   2657081  Rashindra Manniesing        2010        2021   2021.0   \n2104   2657081  Rashindra Manniesing        2010        2021   2021.0   \n2140   2657081  Rashindra Manniesing        2010        2021   2015.0   \n\n                                         ss_id  \\\n3     4bcd672218ecec70473c84f6f1cc52c64031f3e5   \n6     9ddb2f47695191553a3623ac33eddeb9c7e416cd   \n8     be95c8bbd8a4297d620b1c2644cf2a898603e355   \n12    41f386d38567e38132525cad9bdc7da1ad6e8f1c   \n24    979a9f247700d00ff2c3f0612d5eb001379f93c8   \n...                                        ...   \n2092  9fca3cab7f8cf1071094591bc13ca53de528dac6   \n2102  571285fab9ced6a4d0bf3abd5f886d9a64e1790c   \n2103  92a2cb9804d3599cc1e8e81c512d0203c6d10da7   \n2104  c859bd469080b82dc14db62e78d65ef5b5ffa686   \n2140  349ca29f588b9c785085da7147a4b58df032a8bf   \n\n                                                  title  \\\n3     Continual learning strategies for cancer-indep...   \n6     The STOIC2021 COVID-19 AI challenge: applying ...   \n8     Kidney abnormality segmentation in thorax-abdo...   \n12    Automated COVID-19 Grading With Convolutional ...   \n24                   The Medical Segmentation Decathlon   \n...                                                 ...   \n2092  Automated lesion detection and segmentation in...   \n2102  Traumatic Cerebral Microbleeds in the Subacute...   \n2103  The radiological interpretation of possible mi...   \n2104  Incorporating radiomics into clinical trials: ...   \n2140          4D-CTA in Neurovascular Disease: A Review   \n\n                              doi  ss_citations  \n3     10.1016/j.media.2023.102755             4  \n6       10.48550/arXiv.2306.10484             1  \n8       10.48550/arXiv.2309.03383             0  \n12       10.1109/tai.2021.3115093             6  \n24     10.1038/s41467-022-30695-9           369  \n...                           ...           ...  \n2092           10.1117/12.2318326            33  \n2102           10.3174/ajnr.A7028             3  \n2103   10.1007/s00234-021-02839-z             2  \n2104   10.1007/s00330-020-07598-8            46  \n2140           10.3174/ajnr.A4162            76  \n\n[234 rows x 9 columns]",
      "text/html": "<div>\n<style scoped>\n    .dataframe tbody tr th:only-of-type {\n        vertical-align: middle;\n    }\n\n    .dataframe tbody tr th {\n        vertical-align: top;\n    }\n\n    .dataframe thead th {\n        text-align: right;\n    }\n</style>\n<table border=\"1\" class=\"dataframe\">\n  <thead>\n    <tr style=\"text-align: right;\">\n      <th></th>\n      <th>staff_id</th>\n      <th>staff_name</th>\n      <th>staff_from</th>\n      <th>staff_till</th>\n      <th>ss_year</th>\n      <th>ss_id</th>\n      <th>title</th>\n      <th>doi</th>\n      <th>ss_citations</th>\n    </tr>\n  </thead>\n  <tbody>\n    <tr>\n      <th>3</th>\n      <td>8038506</td>\n      <td>Bram van Ginneken</td>\n      <td>1996</td>\n      <td>9999</td>\n      <td>2023.0</td>\n      <td>4bcd672218ecec70473c84f6f1cc52c64031f3e5</td>\n      <td>Continual learning strategies for cancer-indep...</td>\n      <td>10.1016/j.media.2023.102755</td>\n      <td>4</td>\n    </tr>\n    <tr>\n      <th>6</th>\n      <td>8038506</td>\n      <td>Bram van Ginneken</td>\n      <td>1996</td>\n      <td>9999</td>\n      <td>2023.0</td>\n      <td>9ddb2f47695191553a3623ac33eddeb9c7e416cd</td>\n      <td>The STOIC2021 COVID-19 AI challenge: applying ...</td>\n      <td>10.48550/arXiv.2306.10484</td>\n      <td>1</td>\n    </tr>\n    <tr>\n      <th>8</th>\n      <td>8038506</td>\n      <td>Bram van Ginneken</td>\n      <td>1996</td>\n      <td>9999</td>\n      <td>2023.0</td>\n      <td>be95c8bbd8a4297d620b1c2644cf2a898603e355</td>\n      <td>Kidney abnormality segmentation in thorax-abdo...</td>\n      <td>10.48550/arXiv.2309.03383</td>\n      <td>0</td>\n    </tr>\n    <tr>\n      <th>12</th>\n      <td>8038506</td>\n      <td>Bram van Ginneken</td>\n      <td>1996</td>\n      <td>9999</td>\n      <td>2022.0</td>\n      <td>41f386d38567e38132525cad9bdc7da1ad6e8f1c</td>\n      <td>Automated COVID-19 Grading With Convolutional ...</td>\n      <td>10.1109/tai.2021.3115093</td>\n      <td>6</td>\n    </tr>\n    <tr>\n      <th>24</th>\n      <td>8038506</td>\n      <td>Bram van Ginneken</td>\n      <td>1996</td>\n      <td>9999</td>\n      <td>2021.0</td>\n      <td>979a9f247700d00ff2c3f0612d5eb001379f93c8</td>\n      <td>The Medical Segmentation Decathlon</td>\n      <td>10.1038/s41467-022-30695-9</td>\n      <td>369</td>\n    </tr>\n    <tr>\n      <th>...</th>\n      <td>...</td>\n      <td>...</td>\n      <td>...</td>\n      <td>...</td>\n      <td>...</td>\n      <td>...</td>\n      <td>...</td>\n      <td>...</td>\n      <td>...</td>\n    </tr>\n    <tr>\n      <th>2092</th>\n      <td>32649341</td>\n      <td>Jonas Teuwen</td>\n      <td>2017</td>\n      <td>2020</td>\n      <td>2018.0</td>\n      <td>9fca3cab7f8cf1071094591bc13ca53de528dac6</td>\n      <td>Automated lesion detection and segmentation in...</td>\n      <td>10.1117/12.2318326</td>\n      <td>33</td>\n    </tr>\n    <tr>\n      <th>2102</th>\n      <td>2657081</td>\n      <td>Rashindra Manniesing</td>\n      <td>2010</td>\n      <td>2021</td>\n      <td>2021.0</td>\n      <td>571285fab9ced6a4d0bf3abd5f886d9a64e1790c</td>\n      <td>Traumatic Cerebral Microbleeds in the Subacute...</td>\n      <td>10.3174/ajnr.A7028</td>\n      <td>3</td>\n    </tr>\n    <tr>\n      <th>2103</th>\n      <td>2657081</td>\n      <td>Rashindra Manniesing</td>\n      <td>2010</td>\n      <td>2021</td>\n      <td>2021.0</td>\n      <td>92a2cb9804d3599cc1e8e81c512d0203c6d10da7</td>\n      <td>The radiological interpretation of possible mi...</td>\n      <td>10.1007/s00234-021-02839-z</td>\n      <td>2</td>\n    </tr>\n    <tr>\n      <th>2104</th>\n      <td>2657081</td>\n      <td>Rashindra Manniesing</td>\n      <td>2010</td>\n      <td>2021</td>\n      <td>2021.0</td>\n      <td>c859bd469080b82dc14db62e78d65ef5b5ffa686</td>\n      <td>Incorporating radiomics into clinical trials: ...</td>\n      <td>10.1007/s00330-020-07598-8</td>\n      <td>46</td>\n    </tr>\n    <tr>\n      <th>2140</th>\n      <td>2657081</td>\n      <td>Rashindra Manniesing</td>\n      <td>2010</td>\n      <td>2021</td>\n      <td>2015.0</td>\n      <td>349ca29f588b9c785085da7147a4b58df032a8bf</td>\n      <td>4D-CTA in Neurovascular Disease: A Review</td>\n      <td>10.3174/ajnr.A4162</td>\n      <td>76</td>\n    </tr>\n  </tbody>\n</table>\n<p>234 rows × 9 columns</p>\n</div>"
     },
     "execution_count": 16,
     "metadata": {},
     "output_type": "execute_result"
    }
   ],
   "source": [
    "blacklist = pd.read_csv(\"./script_data/blacklist.csv\")\n",
    "new_items = new_items[~new_items['doi'].isin(blacklist['doi'].unique().tolist())]\n",
    "new_items"
   ],
   "metadata": {
    "collapsed": false,
    "pycharm": {
     "name": "#%%\n"
    }
   }
  },
  {
   "cell_type": "code",
   "execution_count": 48,
   "id": "497c8199-733f-4367-91f9-09b1b883e515",
   "metadata": {
    "pycharm": {
     "name": "#%%\n"
    }
   },
   "outputs": [],
   "source": [
    "dois = new_items['doi'].tolist()"
   ]
  },
  {
   "cell_type": "code",
   "execution_count": 49,
   "id": "238b3ae8-d9a8-4965-9d7c-1e46e9b2dcd4",
   "metadata": {
    "pycharm": {
     "name": "#%%\n"
    }
   },
   "outputs": [],
   "source": [
    "ss_ids = new_items['ss_id'].tolist()"
   ]
  },
  {
   "cell_type": "markdown",
   "id": "8124c44a-e6d7-4b9c-b115-db369f0d70cc",
   "metadata": {
    "pycharm": {
     "name": "#%% md\n"
    }
   },
   "source": [
    "**Here: remove blacklist items**"
   ]
  },
  {
   "cell_type": "markdown",
   "id": "483a8a65-052b-4bd5-bc73-299154def17f",
   "metadata": {
    "pycharm": {
     "name": "#%% md\n"
    }
   },
   "source": [
    "Check dois: the first one refers to this publication https://www.semanticscholar.org/paper/Continual-learning-strategies-for-detection-of-node-B%C3%A1ndi-Balkenhol/4bcd672218ecec70473c84f6f1cc52c64031f3e5, it's already in diag.bib and should have a ss_id associated (it seems to be a one-to-one match). Why is it detected as a new item?"
   ]
  },
  {
   "cell_type": "code",
   "execution_count": 32,
   "id": "f795693d-183f-451b-b179-cf34d36464a6",
   "metadata": {
    "collapsed": true,
    "jupyter": {
     "outputs_hidden": true
    },
    "tags": [],
    "pycharm": {
     "name": "#%%\n"
    }
   },
   "outputs": [
    {
     "name": "stdout",
     "output_type": "stream",
     "text": [
      "Collecting semanticscholar\n",
      "  Downloading semanticscholar-0.5.0-py3-none-any.whl (18 kB)\n",
      "Requirement already satisfied: requests in c:\\users\\drepeeters\\.conda\\envs\\amara\\lib\\site-packages (from semanticscholar) (2.28.1)\n",
      "Collecting tenacity\n",
      "  Downloading tenacity-8.2.3-py3-none-any.whl (24 kB)\n",
      "Requirement already satisfied: idna<4,>=2.5 in c:\\users\\drepeeters\\.conda\\envs\\amara\\lib\\site-packages (from requests->semanticscholar) (3.4)\n",
      "Requirement already satisfied: charset-normalizer<3,>=2 in c:\\users\\drepeeters\\.conda\\envs\\amara\\lib\\site-packages (from requests->semanticscholar) (2.1.1)\n",
      "Requirement already satisfied: certifi>=2017.4.17 in c:\\users\\drepeeters\\.conda\\envs\\amara\\lib\\site-packages (from requests->semanticscholar) (2022.9.24)\n",
      "Requirement already satisfied: urllib3<1.27,>=1.21.1 in c:\\users\\drepeeters\\.conda\\envs\\amara\\lib\\site-packages (from requests->semanticscholar) (1.26.13)\n",
      "Installing collected packages: tenacity, semanticscholar\n",
      "Successfully installed semanticscholar-0.5.0 tenacity-8.2.3\n"
     ]
    }
   ],
   "source": [
    "!pip3 install semanticscholar"
   ]
  },
  {
   "cell_type": "code",
   "execution_count": 33,
   "id": "ee3356ec-945b-44dd-b556-d92fb1ff26dd",
   "metadata": {
    "pycharm": {
     "name": "#%%\n"
    }
   },
   "outputs": [],
   "source": [
    "# Code to get citations from semantic scholar. If there are multiple ss_ids, we should get the number of citations for each of them and sum the two (or more?) values. \n",
    "def get_citations(ss_id):\n",
    "    from semanticscholar import SemanticScholar\n",
    "    sch = SemanticScholar()\n",
    "    paper = sch.get_paper(ss_id)\n",
    "    return len(paper['citations'])"
   ]
  },
  {
   "cell_type": "code",
   "execution_count": 45,
   "id": "c8c1d406-7ff3-4b66-9fac-86827fff2b39",
   "metadata": {
    "pycharm": {
     "name": "#%%\n"
    }
   },
   "outputs": [],
   "source": [
    "# Read the diag.bib file\n",
    "cwd = os.getcwd()\n",
    "parent_directory = os.path.abspath(os.path.join(cwd, \"..\"))\n",
    "diag_bib_path = os.path.join(parent_directory, 'diag.bib')\n",
    "\n",
    "with open(diag_bib_path, encoding=\"utf8\") as bibtex_file:\n",
    "    diag_bib = bibtex_file.read()\n",
    "\n",
    "for i, el in enumerate(dois): #Make sure to only use unique dois\n",
    "    citations = 0\n",
    "    if isinstance(ss_ids[i], list):\n",
    "        for ss_id in ss_ids[i]:\n",
    "            citations += get_citations(ss_id)\n",
    "    else:\n",
    "        citations = get_citations(ss_ids[i])\n",
    "    # Update Dre's code and add an extra argument for citations so that it uses the correct number when creating the bib item? \n",
    "    reader = GetBiblatex(doi=el, diag_bib=diag_bib, num_citations=citations)\n",
    "    bibtext = reader.get_bib_text()\n",
    "    # Code to add item to diag.bib ?\n",
    "    if bibtext != 'empty':\n",
    "        diag_bib = diag_bib + bibtext\n"
   ]
  },
  {
   "cell_type": "code",
   "execution_count": null,
   "outputs": [],
   "source": [],
   "metadata": {
    "collapsed": false,
    "pycharm": {
     "name": "#%%\n"
    }
   }
  }
 ],
 "metadata": {
  "kernelspec": {
   "display_name": "Python 3 (ipykernel)",
   "language": "python",
   "name": "python3"
  },
  "language_info": {
   "codemirror_mode": {
    "name": "ipython",
    "version": 3
   },
   "file_extension": ".py",
   "mimetype": "text/x-python",
   "name": "python",
   "nbconvert_exporter": "python",
   "pygments_lexer": "ipython3",
   "version": "3.9.15"
  }
 },
 "nbformat": 4,
 "nbformat_minor": 5
}