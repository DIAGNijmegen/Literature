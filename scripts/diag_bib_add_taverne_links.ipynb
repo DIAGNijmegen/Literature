{
 "cells": [
  {
   "cell_type": "code",
   "execution_count": 1,
   "id": "c5df60b9",
   "metadata": {},
   "outputs": [],
   "source": [
    "# !pip install pyarxiv\n",
    "# !pip install pybtex\n",
    "# !pip install dropbox\n",
    "# !pip install tqdm\n",
    "# !pip install pycolors2\n",
    "# !pip install pdf2image"
   ]
  },
  {
   "cell_type": "markdown",
   "id": "618d7d0e",
   "metadata": {},
   "source": [
    "# Libraries"
   ]
  },
  {
   "cell_type": "code",
   "execution_count": 9,
   "id": "c8fb2ae2",
   "metadata": {},
   "outputs": [],
   "source": [
    "from pathlib import Path\n",
    "from processbib import read_bibfile\n",
    "from processbib import save_to_file\n",
    "import pandas as pd"
   ]
  },
  {
   "cell_type": "markdown",
   "id": "b4227f78",
   "metadata": {},
   "source": [
    "# Imports"
   ]
  },
  {
   "cell_type": "markdown",
   "id": "eca32615",
   "metadata": {},
   "source": [
    "### diag bib"
   ]
  },
  {
   "cell_type": "code",
   "execution_count": 38,
   "id": "e8650e1d",
   "metadata": {},
   "outputs": [],
   "source": [
    "path_diag_bib = r\"C:\\Users\\joeyspronck\\Documents\\Github\\Literature\\diag.bib\"\n",
    "path_output_diag_bib = r\"C:\\Users\\joeyspronck\\Documents\\Github\\Literature\\diag_taverne.bib\""
   ]
  },
  {
   "cell_type": "code",
   "execution_count": 3,
   "id": "ac38218a",
   "metadata": {},
   "outputs": [],
   "source": [
    "diag_bib_raw = read_bibfile(None, path_diag_bib) # I changed the code in such a way that IF I give a second argument, it uses the second argument as a full path"
   ]
  },
  {
   "cell_type": "markdown",
   "id": "c3e16a65",
   "metadata": {},
   "source": [
    "### csv with taverne links"
   ]
  },
  {
   "cell_type": "code",
   "execution_count": 13,
   "id": "46ce3614",
   "metadata": {},
   "outputs": [],
   "source": [
    "path_df_links = r\"C:\\Users\\joeyspronck\\Documents\\Github\\Literature\\scripts\\script_data\\publication_download_links.csv\"\n",
    "df_links = pd.read_csv(path_df_links)\n",
    "# df_links.head()"
   ]
  },
  {
   "cell_type": "code",
   "execution_count": 26,
   "id": "dee03993",
   "metadata": {},
   "outputs": [],
   "source": [
    "df_links_match = df_links[(df_links['same_doi'] | (~df_links['same_doi']) & (df_links['title_match_ratio']>0.9))]\n",
    "df_links_match = df_links_match[~df_links_match['url'].isna()]"
   ]
  },
  {
   "cell_type": "code",
   "execution_count": 27,
   "id": "621555f0",
   "metadata": {},
   "outputs": [
    {
     "data": {
      "text/plain": [
       "199"
      ]
     },
     "execution_count": 27,
     "metadata": {},
     "output_type": "execute_result"
    }
   ],
   "source": [
    "len(df_links_match)"
   ]
  },
  {
   "cell_type": "code",
   "execution_count": 42,
   "id": "f9d6ffb4",
   "metadata": {},
   "outputs": [],
   "source": [
    "# df_links_match.head()"
   ]
  },
  {
   "cell_type": "markdown",
   "id": "1834d43f",
   "metadata": {},
   "source": [
    "# Loop \n",
    "- loop over df bibkeys and urls\n",
    "    - loop over diag bib entries\n",
    "        - match bibkeys\n",
    "        - add url to entry"
   ]
  },
  {
   "cell_type": "code",
   "execution_count": 35,
   "id": "1a0f03b1",
   "metadata": {},
   "outputs": [
    {
     "name": "stdout",
     "output_type": "stream",
     "text": [
      "added: 199\n"
     ]
    }
   ],
   "source": [
    "added_count = 0\n",
    "for bibkey, url in zip(df_links_match['bibkey'], df_links_match['url']):\n",
    "    for entry in diag_bib_raw:\n",
    "        if (entry.key).lower() == bibkey:\n",
    "            entry.fields['taverne_url'] = \"{\" + url + \"}\"\n",
    "            added_count += 1\n",
    "print('added:', added_count)"
   ]
  },
  {
   "cell_type": "markdown",
   "id": "d8ffeed8",
   "metadata": {},
   "source": [
    "# Save new diag_taverne.bib"
   ]
  },
  {
   "cell_type": "code",
   "execution_count": 41,
   "id": "e9be53cd",
   "metadata": {},
   "outputs": [],
   "source": [
    "path_output_diag_bib = r\"C:\\Users\\joeyspronck\\Documents\\Github\\Literature\\diag_taverne.bib\""
   ]
  },
  {
   "cell_type": "code",
   "execution_count": 40,
   "id": "c8242b35",
   "metadata": {},
   "outputs": [],
   "source": [
    "save_to_file(diag_bib_raw, None, path_output_diag_bib)"
   ]
  },
  {
   "cell_type": "markdown",
   "id": "588425e8",
   "metadata": {},
   "source": [
    "Note for if we want to add other fields later, we need to adjust the \"entry.to_lines()\" function as well, because it only allows a specified list of fields to be written. I now added the \"taverne_url\" field to this list. "
   ]
  }
 ],
 "metadata": {
  "kernelspec": {
   "display_name": "Python 3 (ipykernel)",
   "language": "python",
   "name": "python3"
  },
  "language_info": {
   "codemirror_mode": {
    "name": "ipython",
    "version": 3
   },
   "file_extension": ".py",
   "mimetype": "text/x-python",
   "name": "python",
   "nbconvert_exporter": "python",
   "pygments_lexer": "ipython3",
   "version": "3.9.7"
  }
 },
 "nbformat": 4,
 "nbformat_minor": 5
}
