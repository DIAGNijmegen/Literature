{
 "cells": [
  {
   "cell_type": "code",
   "execution_count": 1,
   "metadata": {
    "collapsed": true,
    "pycharm": {
     "name": "#%%\n"
    }
   },
   "outputs": [],
   "source": [
    "import pandas as pd\n",
    "import os\n",
    "from semanticscholar import SemanticScholar\n",
    "from get_biblatex import GetBiblatex\n"
   ]
  },
  {
   "cell_type": "code",
   "execution_count": null,
   "outputs": [],
   "source": [
    "def remove_blacklist_items(df_new_items):\n",
    "    blacklisted_items = pd.read_csv(\"./script_data/blacklist.csv\")\n",
    "    initial_length = len(df_new_items)\n",
    "    df_new_items = df_new_items[~df_new_items['ss_doi'].isin(blacklisted_items['doi'].unique().tolist())] # remove blacklisted dois\n",
    "    df_new_items = df_new_items[~df_new_items['ss_id'].isin(blacklisted_items['ss_id'].unique().tolist())] # remove blacklisted dois\n",
    "\n",
    "    print(f\"{initial_length-len(df_new_items)} items removed from newly found items.\")\n",
    "    return df_new_items"
   ],
   "metadata": {
    "collapsed": false,
    "pycharm": {
     "name": "#%%\n"
    }
   }
  },
  {
   "cell_type": "code",
   "execution_count": null,
   "outputs": [],
   "source": [
    "def add_item_to_blacklist(item):\n",
    "    #Read blacklist.csv\n",
    "    blacklist_csv = pd.read_csv('./script_data/blacklist.csv')\n",
    "\n",
    "    #Add item to blacklist.csv\n",
    "    move_to_blacklist = {\n",
    "        'staff_id': item.get('staff_id', None),\n",
    "        'staff_name': item.get('staff_id', None),\n",
    "        'ss_year': item.get('ss_year', None),\n",
    "        'ss_id': item.get('ss_id', None),\n",
    "        'title': item.get('ss_title', None),\n",
    "        'doi': item.get('ss_doi', None),\n",
    "        'Should be in diag.bib': 'no',\n",
    "        'Reason': item.get('Blacklist reason', None)\n",
    "    }\n",
    "\n",
    "    blacklist_csv = pd.concat([blacklist_csv, pd.DataFrame([move_to_blacklist])], ignore_index=True)\n",
    "    #Save blacklist.csv\n",
    "    blacklist_csv.to_csv('./script_data/blacklist.csv', index=False)\n",
    "\n",
    "    return f\"{item['ss_id']}: added to blacklist.csv\""
   ],
   "metadata": {
    "collapsed": false,
    "pycharm": {
     "name": "#%%\n"
    }
   }
  },
  {
   "cell_type": "code",
   "execution_count": null,
   "outputs": [],
   "source": [
    "# Code to get citations from semantic scholar. If there are multiple ss_ids, we should get the number of citations for each of them and sum the two (or more?) values.\n",
    "def get_citations(schemantic_scholar_id):\n",
    "    sch = SemanticScholar()\n",
    "    paper = sch.get_paper(schemantic_scholar_id)\n",
    "    return len(paper['citations'])"
   ],
   "metadata": {
    "collapsed": false,
    "pycharm": {
     "name": "#%%\n"
    }
   }
  },
  {
   "cell_type": "code",
   "execution_count": null,
   "outputs": [],
   "source": [
    "def add_item_to_diag_bib(item):\n",
    "    #Load diag.bib\n",
    "    cwd = os.getcwd()\n",
    "    parent_directory = os.path.abspath(os.path.join(cwd, \"..\"))\n",
    "    diag_bib_path = os.path.join(parent_directory, 'diag.bib')\n",
    "    with open(diag_bib_path, encoding=\"utf8\") as bibtex_file:\n",
    "        diag_bib = bibtex_file.read()\n",
    "\n",
    "    #Get DOI information\n",
    "    citations = 0\n",
    "    if isinstance(item['ss_id'], list):\n",
    "        for ss_id in item['ss_id']:\n",
    "            citations += get_citations(ss_id)\n",
    "    else:\n",
    "        citations = get_citations(item['ss_id'])\n",
    "    # Update Dre's code and add an extra argument for citations so that it uses the correct number when creating the bib item?\n",
    "    reader = GetBiblatex(doi=item['ss_doi'], diag_bib=diag_bib, num_citations=citations)\n",
    "    bibtext = reader.get_bib_text()\n",
    "    # Add information to diag.bib\n",
    "    if bibtext != 'empty':\n",
    "        diag_bib = diag_bib + bibtext\n",
    "    #Save diag.bib\n",
    "\n",
    "    return f\"{item} added to diag.bib\""
   ],
   "metadata": {
    "collapsed": false,
    "pycharm": {
     "name": "#%%\n"
    }
   }
  },
  {
   "cell_type": "code",
   "execution_count": null,
   "outputs": [],
   "source": [
    "def add_ss_id_to_existing_bibkey(item):\n",
    "    #Load diag.bib\n",
    "\n",
    "    #Update bibkey with ss_id\n",
    "\n",
    "    #Save diag.bib\n",
    "\n",
    "    return f\"{item} added to diag.bib\""
   ],
   "metadata": {
    "collapsed": false,
    "pycharm": {
     "name": "#%%\n"
    }
   }
  },
  {
   "cell_type": "code",
   "execution_count": null,
   "outputs": [],
   "source": [
    "def update_citation_count(item):\n",
    "\n",
    "    return f\"Citation count updated for {item}\""
   ],
   "metadata": {
    "collapsed": false,
    "pycharm": {
     "name": "#%%\n"
    }
   }
  },
  {
   "cell_type": "code",
   "execution_count": 3,
   "outputs": [
    {
     "data": {
      "text/plain": "      bibkey                                     ss_id       reason  \\\n0     Leeu22  00744ccc38761d1fec5542d0bc9bdf929fd855ca     new item   \n1    Litj14e  0075a6b4a31f64f027ee1d300803d00317547557     new item   \n2     Hadd20  00797964da6917e94ed3de51882fc7f6e297b747     new item   \n3     Venh17  01df4624e9578fd597b0f0ee6d81ac508363e1eb  title match   \n4     Hoss19  03ad8d7078805db6fbd4993b881045b462b4e028     new item   \n..       ...                                       ...          ...   \n275   Less19  fbdd91432a4cd3077d88a4ce20a1e7c1bdcbab05     new item   \n276   Vent20  fc12f80e0fe56243c26f628d311577507f34b39c  title match   \n277   Pinc22  fc34292163822dca66f4f284ceb0e5cb689727f5     new item   \n278  Scho14b  fdac595273fd6b71aa7ee5a231b26df69b41eac5     new item   \n279  Mord16b  fdd019b9b2e31f189f8977c79e742b3284692c9d     new item   \n\n                                                   url  match score  \\\n0    semantischolar.org/paper/00744ccc38761d1fec554...     0.530612   \n1    semantischolar.org/paper/0075a6b4a31f64f027ee1...     0.517073   \n2    semantischolar.org/paper/00797964da6917e94ed3d...     0.486486   \n3    semantischolar.org/paper/01df4624e9578fd597b0f...     1.000000   \n4    semantischolar.org/paper/03ad8d7078805db6fbd49...     0.508876   \n..                                                 ...          ...   \n275  semantischolar.org/paper/fbdd91432a4cd3077d88a...     0.389381   \n276  semantischolar.org/paper/fc12f80e0fe56243c26f6...     1.000000   \n277  semantischolar.org/paper/fc34292163822dca66f4f...     0.512821   \n278  semantischolar.org/paper/fdac595273fd6b71aa7ee...     0.681818   \n279  semantischolar.org/paper/fdd019b9b2e31f189f897...     0.567010   \n\n                         bib_doi                       ss_doi  \\\n0                            NaN  10.1016/j.media.2022.102605   \n1                            NaN     10.1177/0271678X18756218   \n2                            NaN   10.1016/j.ejso.2022.11.378   \n3                            NaN                          NaN   \n4                            NaN    10.1038/s41585-020-0324-x   \n..                           ...                          ...   \n275   10.1016/j.jcmg.2018.10.026         10.1093/cid/ciaa1855   \n276                          NaN                          NaN   \n277   10.1038/s43856-022-00126-3   10.1186/s13058-022-01541-z   \n278                          NaN         10.21037/TLCR-20-924   \n279  10.1007/978-3-319-41546-8_5           10.1117/12.2318069   \n\n                                             bib_title  \\\n0    The rise of artificial intelligence solutions ...   \n1    Computer-aided Detection of Prostate Cancer in...   \n2    Characterisation of the tumour-host interface ...   \n3    Fully automated detection of hyperreflective f...   \n4    Effect of Adding Probabilistic Zonal Prior in ...   \n..                                                 ...   \n275  Sex Differences in Coronary Artery and Thoraci...   \n276  Estimating Uncertainty of Deep Neural Networks...   \n277  Predicting biochemical recurrence of prostate ...   \n278          SubSolid Nodules in lung cancer screening   \n279  Automatic Microcalcification Detection in Mult...   \n\n                                              ss_title  \\\n0    Rapid artificial intelligence solutions in a p...   \n1    Quantitative blood flow measurement in rat bra...   \n2    Uniform Noting for International application o...   \n3    Fully automated detection of hyperreflective f...   \n4    Introducing PIONEER: a project to harness big ...   \n..                                                 ...   \n275  Guidance on Imaging for Invasive Pulmonary Asp...   \n276  Estimating Uncertainty of Deep Neural Networks...   \n277  Towards defining morphologic parameters of nor...   \n278    The radiologist’s role in lung cancer screening   \n279  Mammogram denoising to improve the calcificati...   \n\n                                           bib_authors  ... bib_journal  \\\n0    van Leeuwen, Kicky G. and de Rooij, Maarten an...  ...         NaN   \n1    G. Litjens and N. Karssemeijer and J. O. Baren...  ...         NaN   \n2    Tariq Haddad and John Melle Bokhorst and Luuk ...  ...         NaN   \n3    Freerk G. Venhuizen and Samuel Schaffhauser an...  ...         NaN   \n4    Matin Hosseinzadeh and Patrick Brand and Henkj...  ...         NaN   \n..                                                 ...  ...         ...   \n275  Lessmann, Nikolas and de Jong, Pim A and Celen...  ...      JACCCI   \n276  de Vente, Coen and van Grinsven, Mark and De Z...  ...         NaN   \n277  Pinckaers, Hans and van Ipenburg, Jolique and ...  ...     COMMMED   \n278                                 Ernst Th. Scholten  ...  PhD thesis   \n279  Mordang, J. J. and Janssen, T. and Bria, A. an...  ...         NaN   \n\n                                            ss_journal bib_year  ss_year  \\\n0                               Medical Image Analysis     2022     2022   \n1          Journal of Cerebral Blood Flow & Metabolism     2014     2018   \n2                European Journal of Surgical Oncology     2020     2023   \n3         Investigative Ophthalmology & Visual Science     2017     2017   \n4                               Nature Reviews Urology     2019     2020   \n..                                                 ...      ...      ...   \n275  Clinical infectious diseases : an official pub...     2019     2021   \n276       Investigative Ophthalmology & Visual Science     2020     2020   \n277                             Breast Cancer Research     2022     2022   \n278                 Translational Lung Cancer Research     2014     2020   \n279                                                NaN     2016     2018   \n\n          bib_type     ss_pmid  \\\n0       conference  36156419.0   \n1       conference  29498562.0   \n2       conference         NaN   \n3       conference         NaN   \n4    inproceedings  32461687.0   \n..             ...         ...   \n275        article  33709131.0   \n276     conference         NaN   \n277        article         NaN   \n278      phdthesis  34164283.0   \n279  inproceedings         NaN   \n\n                                               action assigned to  \\\n0                                      [add new item]         dre   \n1                                      [add new item]         dre   \n2                                      [add new item]         dre   \n3                                   [blacklist ss_id]         dre   \n4                                      [add new item]         dre   \n..                                                ...         ...   \n275  [add ss_id, blacklist ss_id, add new item, None]         NaN   \n276        [add ss_id, blacklist ss_id, add new item]         NaN   \n277  [add ss_id, blacklist ss_id, add new item, None]         NaN   \n278  [add ss_id, blacklist ss_id, add new item, None]         NaN   \n279  [add ss_id, blacklist ss_id, add new item, None]         NaN   \n\n                 Blacklist reason Unnamed: 20  \n0                             NaN         NaN  \n1                             NaN         NaN  \n2                             NaN         NaN  \n3    ARVO Annual Meeting Abstract         NaN  \n4                             NaN         NaN  \n..                            ...         ...  \n275                           NaN         NaN  \n276                           NaN         NaN  \n277                           NaN         NaN  \n278                           NaN         NaN  \n279                           NaN         NaN  \n\n[280 rows x 21 columns]",
      "text/html": "<div>\n<style scoped>\n    .dataframe tbody tr th:only-of-type {\n        vertical-align: middle;\n    }\n\n    .dataframe tbody tr th {\n        vertical-align: top;\n    }\n\n    .dataframe thead th {\n        text-align: right;\n    }\n</style>\n<table border=\"1\" class=\"dataframe\">\n  <thead>\n    <tr style=\"text-align: right;\">\n      <th></th>\n      <th>bibkey</th>\n      <th>ss_id</th>\n      <th>reason</th>\n      <th>url</th>\n      <th>match score</th>\n      <th>bib_doi</th>\n      <th>ss_doi</th>\n      <th>bib_title</th>\n      <th>ss_title</th>\n      <th>bib_authors</th>\n      <th>...</th>\n      <th>bib_journal</th>\n      <th>ss_journal</th>\n      <th>bib_year</th>\n      <th>ss_year</th>\n      <th>bib_type</th>\n      <th>ss_pmid</th>\n      <th>action</th>\n      <th>assigned to</th>\n      <th>Blacklist reason</th>\n      <th>Unnamed: 20</th>\n    </tr>\n  </thead>\n  <tbody>\n    <tr>\n      <th>0</th>\n      <td>Leeu22</td>\n      <td>00744ccc38761d1fec5542d0bc9bdf929fd855ca</td>\n      <td>new item</td>\n      <td>semantischolar.org/paper/00744ccc38761d1fec554...</td>\n      <td>0.530612</td>\n      <td>NaN</td>\n      <td>10.1016/j.media.2022.102605</td>\n      <td>The rise of artificial intelligence solutions ...</td>\n      <td>Rapid artificial intelligence solutions in a p...</td>\n      <td>van Leeuwen, Kicky G. and de Rooij, Maarten an...</td>\n      <td>...</td>\n      <td>NaN</td>\n      <td>Medical Image Analysis</td>\n      <td>2022</td>\n      <td>2022</td>\n      <td>conference</td>\n      <td>36156419.0</td>\n      <td>[add new item]</td>\n      <td>dre</td>\n      <td>NaN</td>\n      <td>NaN</td>\n    </tr>\n    <tr>\n      <th>1</th>\n      <td>Litj14e</td>\n      <td>0075a6b4a31f64f027ee1d300803d00317547557</td>\n      <td>new item</td>\n      <td>semantischolar.org/paper/0075a6b4a31f64f027ee1...</td>\n      <td>0.517073</td>\n      <td>NaN</td>\n      <td>10.1177/0271678X18756218</td>\n      <td>Computer-aided Detection of Prostate Cancer in...</td>\n      <td>Quantitative blood flow measurement in rat bra...</td>\n      <td>G. Litjens and N. Karssemeijer and J. O. Baren...</td>\n      <td>...</td>\n      <td>NaN</td>\n      <td>Journal of Cerebral Blood Flow &amp; Metabolism</td>\n      <td>2014</td>\n      <td>2018</td>\n      <td>conference</td>\n      <td>29498562.0</td>\n      <td>[add new item]</td>\n      <td>dre</td>\n      <td>NaN</td>\n      <td>NaN</td>\n    </tr>\n    <tr>\n      <th>2</th>\n      <td>Hadd20</td>\n      <td>00797964da6917e94ed3de51882fc7f6e297b747</td>\n      <td>new item</td>\n      <td>semantischolar.org/paper/00797964da6917e94ed3d...</td>\n      <td>0.486486</td>\n      <td>NaN</td>\n      <td>10.1016/j.ejso.2022.11.378</td>\n      <td>Characterisation of the tumour-host interface ...</td>\n      <td>Uniform Noting for International application o...</td>\n      <td>Tariq Haddad and John Melle Bokhorst and Luuk ...</td>\n      <td>...</td>\n      <td>NaN</td>\n      <td>European Journal of Surgical Oncology</td>\n      <td>2020</td>\n      <td>2023</td>\n      <td>conference</td>\n      <td>NaN</td>\n      <td>[add new item]</td>\n      <td>dre</td>\n      <td>NaN</td>\n      <td>NaN</td>\n    </tr>\n    <tr>\n      <th>3</th>\n      <td>Venh17</td>\n      <td>01df4624e9578fd597b0f0ee6d81ac508363e1eb</td>\n      <td>title match</td>\n      <td>semantischolar.org/paper/01df4624e9578fd597b0f...</td>\n      <td>1.000000</td>\n      <td>NaN</td>\n      <td>NaN</td>\n      <td>Fully automated detection of hyperreflective f...</td>\n      <td>Fully automated detection of hyperreflective f...</td>\n      <td>Freerk G. Venhuizen and Samuel Schaffhauser an...</td>\n      <td>...</td>\n      <td>NaN</td>\n      <td>Investigative Ophthalmology &amp; Visual Science</td>\n      <td>2017</td>\n      <td>2017</td>\n      <td>conference</td>\n      <td>NaN</td>\n      <td>[blacklist ss_id]</td>\n      <td>dre</td>\n      <td>ARVO Annual Meeting Abstract</td>\n      <td>NaN</td>\n    </tr>\n    <tr>\n      <th>4</th>\n      <td>Hoss19</td>\n      <td>03ad8d7078805db6fbd4993b881045b462b4e028</td>\n      <td>new item</td>\n      <td>semantischolar.org/paper/03ad8d7078805db6fbd49...</td>\n      <td>0.508876</td>\n      <td>NaN</td>\n      <td>10.1038/s41585-020-0324-x</td>\n      <td>Effect of Adding Probabilistic Zonal Prior in ...</td>\n      <td>Introducing PIONEER: a project to harness big ...</td>\n      <td>Matin Hosseinzadeh and Patrick Brand and Henkj...</td>\n      <td>...</td>\n      <td>NaN</td>\n      <td>Nature Reviews Urology</td>\n      <td>2019</td>\n      <td>2020</td>\n      <td>inproceedings</td>\n      <td>32461687.0</td>\n      <td>[add new item]</td>\n      <td>dre</td>\n      <td>NaN</td>\n      <td>NaN</td>\n    </tr>\n    <tr>\n      <th>...</th>\n      <td>...</td>\n      <td>...</td>\n      <td>...</td>\n      <td>...</td>\n      <td>...</td>\n      <td>...</td>\n      <td>...</td>\n      <td>...</td>\n      <td>...</td>\n      <td>...</td>\n      <td>...</td>\n      <td>...</td>\n      <td>...</td>\n      <td>...</td>\n      <td>...</td>\n      <td>...</td>\n      <td>...</td>\n      <td>...</td>\n      <td>...</td>\n      <td>...</td>\n      <td>...</td>\n    </tr>\n    <tr>\n      <th>275</th>\n      <td>Less19</td>\n      <td>fbdd91432a4cd3077d88a4ce20a1e7c1bdcbab05</td>\n      <td>new item</td>\n      <td>semantischolar.org/paper/fbdd91432a4cd3077d88a...</td>\n      <td>0.389381</td>\n      <td>10.1016/j.jcmg.2018.10.026</td>\n      <td>10.1093/cid/ciaa1855</td>\n      <td>Sex Differences in Coronary Artery and Thoraci...</td>\n      <td>Guidance on Imaging for Invasive Pulmonary Asp...</td>\n      <td>Lessmann, Nikolas and de Jong, Pim A and Celen...</td>\n      <td>...</td>\n      <td>JACCCI</td>\n      <td>Clinical infectious diseases : an official pub...</td>\n      <td>2019</td>\n      <td>2021</td>\n      <td>article</td>\n      <td>33709131.0</td>\n      <td>[add ss_id, blacklist ss_id, add new item, None]</td>\n      <td>NaN</td>\n      <td>NaN</td>\n      <td>NaN</td>\n    </tr>\n    <tr>\n      <th>276</th>\n      <td>Vent20</td>\n      <td>fc12f80e0fe56243c26f628d311577507f34b39c</td>\n      <td>title match</td>\n      <td>semantischolar.org/paper/fc12f80e0fe56243c26f6...</td>\n      <td>1.000000</td>\n      <td>NaN</td>\n      <td>NaN</td>\n      <td>Estimating Uncertainty of Deep Neural Networks...</td>\n      <td>Estimating Uncertainty of Deep Neural Networks...</td>\n      <td>de Vente, Coen and van Grinsven, Mark and De Z...</td>\n      <td>...</td>\n      <td>NaN</td>\n      <td>Investigative Ophthalmology &amp; Visual Science</td>\n      <td>2020</td>\n      <td>2020</td>\n      <td>conference</td>\n      <td>NaN</td>\n      <td>[add ss_id, blacklist ss_id, add new item]</td>\n      <td>NaN</td>\n      <td>NaN</td>\n      <td>NaN</td>\n    </tr>\n    <tr>\n      <th>277</th>\n      <td>Pinc22</td>\n      <td>fc34292163822dca66f4f284ceb0e5cb689727f5</td>\n      <td>new item</td>\n      <td>semantischolar.org/paper/fc34292163822dca66f4f...</td>\n      <td>0.512821</td>\n      <td>10.1038/s43856-022-00126-3</td>\n      <td>10.1186/s13058-022-01541-z</td>\n      <td>Predicting biochemical recurrence of prostate ...</td>\n      <td>Towards defining morphologic parameters of nor...</td>\n      <td>Pinckaers, Hans and van Ipenburg, Jolique and ...</td>\n      <td>...</td>\n      <td>COMMMED</td>\n      <td>Breast Cancer Research</td>\n      <td>2022</td>\n      <td>2022</td>\n      <td>article</td>\n      <td>NaN</td>\n      <td>[add ss_id, blacklist ss_id, add new item, None]</td>\n      <td>NaN</td>\n      <td>NaN</td>\n      <td>NaN</td>\n    </tr>\n    <tr>\n      <th>278</th>\n      <td>Scho14b</td>\n      <td>fdac595273fd6b71aa7ee5a231b26df69b41eac5</td>\n      <td>new item</td>\n      <td>semantischolar.org/paper/fdac595273fd6b71aa7ee...</td>\n      <td>0.681818</td>\n      <td>NaN</td>\n      <td>10.21037/TLCR-20-924</td>\n      <td>SubSolid Nodules in lung cancer screening</td>\n      <td>The radiologist’s role in lung cancer screening</td>\n      <td>Ernst Th. Scholten</td>\n      <td>...</td>\n      <td>PhD thesis</td>\n      <td>Translational Lung Cancer Research</td>\n      <td>2014</td>\n      <td>2020</td>\n      <td>phdthesis</td>\n      <td>34164283.0</td>\n      <td>[add ss_id, blacklist ss_id, add new item, None]</td>\n      <td>NaN</td>\n      <td>NaN</td>\n      <td>NaN</td>\n    </tr>\n    <tr>\n      <th>279</th>\n      <td>Mord16b</td>\n      <td>fdd019b9b2e31f189f8977c79e742b3284692c9d</td>\n      <td>new item</td>\n      <td>semantischolar.org/paper/fdd019b9b2e31f189f897...</td>\n      <td>0.567010</td>\n      <td>10.1007/978-3-319-41546-8_5</td>\n      <td>10.1117/12.2318069</td>\n      <td>Automatic Microcalcification Detection in Mult...</td>\n      <td>Mammogram denoising to improve the calcificati...</td>\n      <td>Mordang, J. J. and Janssen, T. and Bria, A. an...</td>\n      <td>...</td>\n      <td>NaN</td>\n      <td>NaN</td>\n      <td>2016</td>\n      <td>2018</td>\n      <td>inproceedings</td>\n      <td>NaN</td>\n      <td>[add ss_id, blacklist ss_id, add new item, None]</td>\n      <td>NaN</td>\n      <td>NaN</td>\n      <td>NaN</td>\n    </tr>\n  </tbody>\n</table>\n<p>280 rows × 21 columns</p>\n</div>"
     },
     "execution_count": 3,
     "metadata": {},
     "output_type": "execute_result"
    }
   ],
   "source": [
    "manually_checked = pd.read_csv(\"./script_data/manual_check.csv\")\n",
    "manually_checked = remove_blacklist_items(manually_checked)     # This should be done before actually manually checking\n",
    "\n",
    "for index, bib_item in manually_checked.iterrows():\n",
    "    # Make sure item is manually checked\n",
    "    if bib_item['action'].str.contains(\",\"):\n",
    "        print(f\"{bib_item['ss_id']} has not been checked yet, make sure only 1 action is mentioned\")\n",
    "\n",
    "    # Add new item to diag.bib\n",
    "    elif bib_item['action'].str.contains(\"add new item\"):\n",
    "        add_item_to_diag_bib(bib_item['ss_doi'])\n",
    "\n",
    "    # Add ss_id to already existing doi in diag.bib\n",
    "    elif bib_item['action'].str.contains(\"add ss_id\"):\n",
    "        assert bib_item['ss_doi'] == bib_item['bib_doi'], f\"ss_doi and bib_doi should be equal for {bib_item['ss_id']}\"\n",
    "        add_ss_id_to_existing_bibkey(bib_item[\"ss_id\"], bib_item['ss_doi'])\n",
    "\n",
    "    elif bib_item['action'].str.contains(\"blacklist\"):\n",
    "        add_item_to_blacklist(bib_item)\n",
    "\n",
    "print(\"DONE\")"
   ],
   "metadata": {
    "collapsed": false,
    "pycharm": {
     "name": "#%%\n"
    }
   }
  },
  {
   "cell_type": "code",
   "execution_count": null,
   "outputs": [],
   "source": [],
   "metadata": {
    "collapsed": false,
    "pycharm": {
     "name": "#%%\n"
    }
   }
  }
 ],
 "metadata": {
  "kernelspec": {
   "display_name": "Python 3",
   "language": "python",
   "name": "python3"
  },
  "language_info": {
   "codemirror_mode": {
    "name": "ipython",
    "version": 2
   },
   "file_extension": ".py",
   "mimetype": "text/x-python",
   "name": "python",
   "nbconvert_exporter": "python",
   "pygments_lexer": "ipython2",
   "version": "2.7.6"
  }
 },
 "nbformat": 4,
 "nbformat_minor": 0
}