{
 "cells": [
  {
   "cell_type": "code",
   "execution_count": 37,
   "metadata": {
    "pycharm": {
     "name": "#%%\n"
    }
   },
   "outputs": [],
   "source": [
    "import pandas as pd\n",
    "import os\n",
    "import string\n",
    "from semanticscholar import SemanticScholar\n",
    "from get_biblatex import GetBiblatex\n",
    "from bib_handling_code.processbib import read_bibfile\n",
    "from bib_handling_code.processbib import save_to_file\n",
    "from ast import literal_eval\n",
    "from collections import defaultdict"
   ]
  },
  {
   "cell_type": "code",
   "execution_count": 2,
   "metadata": {
    "pycharm": {
     "name": "#%%\n"
    }
   },
   "outputs": [],
   "source": [
    "def remove_blacklist_items(df_new_items):\n",
    "    blacklisted_items = pd.read_csv(\"./script_data/blacklist.csv\")\n",
    "    initial_length = len(df_new_items)\n",
    "    df_new_items = df_new_items[~df_new_items['ss_doi'].isin(blacklisted_items['doi'].unique().tolist())] # remove blacklisted dois\n",
    "    df_new_items = df_new_items[~df_new_items['ss_id'].isin(blacklisted_items['ss_id'].unique().tolist())] # remove blacklisted dois\n",
    "\n",
    "    print(f\"{initial_length-len(df_new_items)} items removed from newly found items.\")\n",
    "    return df_new_items"
   ]
  },
  {
   "cell_type": "code",
   "execution_count": 3,
   "metadata": {
    "pycharm": {
     "name": "#%%\n"
    }
   },
   "outputs": [],
   "source": [
    "def add_item_to_blacklist(item):\n",
    "    #Read blacklist.csv\n",
    "    blacklist_csv = pd.read_csv('./script_data/blacklist.csv')\n",
    "\n",
    "    #Add item to blacklist.csv\n",
    "    move_to_blacklist = {\n",
    "        'staff_id': item.get('staff_id', None),\n",
    "        'staff_name': item.get('staff_id', None),\n",
    "        'ss_year': item.get('ss_year', None),\n",
    "        'ss_id': item.get('ss_id', None),\n",
    "        'title': item.get('ss_title', None),\n",
    "        'doi': item.get('ss_doi', None),\n",
    "        'Should be in diag.bib': 'no',\n",
    "        'Reason': item.get('Blacklist reason', None)\n",
    "    }\n",
    "\n",
    "    blacklist_csv = pd.concat([blacklist_csv, pd.DataFrame([move_to_blacklist])], ignore_index=True)\n",
    "    #Save blacklist.csv\n",
    "    blacklist_csv.to_csv('./script_data/blacklist.csv', index=False)\n",
    "\n",
    "    return f\"{item['ss_id']}: added to blacklist.csv\""
   ]
  },
  {
   "cell_type": "code",
   "execution_count": 54,
   "metadata": {
    "pycharm": {
     "name": "#%%\n"
    }
   },
   "outputs": [],
   "source": [
    "# Code to get citations from semantic scholar. If there are multiple ss_ids, we should get the number of citations for each of them and sum the two (or more?) values.\n",
    "def get_citations(semantic_scholar_ids):\n",
    "    dict_cits = {}\n",
    "    for ss_id in semantic_scholar_ids:\n",
    "        sch = SemanticScholar()\n",
    "        paper = sch.get_paper(ss_id)\n",
    "        paper_id = paper['paperId']\n",
    "        dict_cits[paper_id] = len(paper['citations'])\n",
    "    return dict_cits"
   ]
  },
  {
   "cell_type": "code",
   "execution_count": 5,
   "metadata": {},
   "outputs": [],
   "source": [
    "cwd = os.getcwd()\n",
    "parent_directory = os.path.abspath(os.path.join(cwd, \"..\"))\n",
    "diag_bib_path = os.path.join(parent_directory, 'diag.bib')\n",
    "with open(diag_bib_path, encoding=\"utf8\") as bibtex_file:\n",
    "    diag_bib = bibtex_file.read()"
   ]
  },
  {
   "cell_type": "code",
   "execution_count": 6,
   "metadata": {
    "pycharm": {
     "name": "#%%\n"
    }
   },
   "outputs": [],
   "source": [
    "def add_item_to_diag_bib(item):\n",
    "    #Load diag.bib\n",
    "    cwd = os.getcwd()\n",
    "    parent_directory = os.path.abspath(os.path.join(cwd, \"..\"))\n",
    "    diag_bib_path = os.path.join(parent_directory, 'diag.bib')\n",
    "    with open(diag_bib_path, encoding=\"utf8\") as bibtex_file:\n",
    "        diag_bib = bibtex_file.read()\n",
    "    \n",
    "    #Get DOI information\n",
    "    citations = 0\n",
    "    if isinstance(item['ss_id'], list):\n",
    "        for ss_id in item['ss_id']:\n",
    "            citations += get_citations(ss_id)\n",
    "    else:\n",
    "        citations = get_citations(item['ss_id'])\n",
    "    # Update Dre's code and add an extra argument for citations so that it uses the correct number when creating the bib item?\n",
    "    reader = GetBiblatex(doi=item['ss_doi'], diag_bib=diag_bib, num_citations=citations)\n",
    "    bibtext = reader.get_bib_text()\n",
    "    # Add information to diag.bib\n",
    "    if bibtext != 'empty':\n",
    "        diag_bib = diag_bib + bibtext\n",
    "    #Save diag.bib\n",
    "\n",
    "    return f\"{item} added to diag.bib\""
   ]
  },
  {
   "cell_type": "code",
   "execution_count": 10,
   "metadata": {
    "pycharm": {
     "name": "#%%\n"
    }
   },
   "outputs": [],
   "source": [
    "def add_ss_id_to_existing_bibkey(diag_bib_raw, ss_id, bibkey):\n",
    "    \n",
    "    #Update bibkey with ss_id\n",
    "    for entry in diag_bib_raw:\n",
    "        if entry.type == 'string':\n",
    "            continue\n",
    "        \n",
    "        if bibkey == entry.key:\n",
    "            if 'all_ss_ids' in entry.fields:\n",
    "                if not entry.fields['all_ss_ids'] == '{' + str(ss_id) + '}':\n",
    "                    previous = literal_eval(entry.fields['all_ss_ids'].strip('{}'))\n",
    "                    new = ss_id\n",
    "                    combined = list(set(previous) | set([new]))\n",
    "                    entry.fields['all_ss_ids'] = '{' + str(combined) + '}'\n",
    "            return f\"{ss_id} added to diag.bib\"\n",
    "    return f\"{bibkey} not found\""
   ]
  },
  {
   "cell_type": "code",
   "execution_count": 81,
   "metadata": {
    "pycharm": {
     "name": "#%%\n"
    }
   },
   "outputs": [],
   "source": [
    "def update_citation_count(path_diag_bib):\n",
    "    \n",
    "    diag_bib_raw = read_bibfile(None, path_diag_bib)\n",
    "    for entry in diag_bib_raw:\n",
    "        flag=0\n",
    "        if entry.type == 'string':\n",
    "            continue\n",
    "        if 'all_ss_ids' in entry.fields:\n",
    "            all_ss_ids = []\n",
    "            ss_ids = entry.fields['all_ss_ids'].translate(str.maketrans('', '', string.punctuation)).split(' ')\n",
    "            if len(ss_ids) > 1:\n",
    "                all_ss_ids.extend(ss_ids)\n",
    "            else:\n",
    "                all_ss_ids.append(ss_ids[0])\n",
    "            dict_cits = get_citations(all_ss_ids)\n",
    "            n_cits = 0\n",
    "            for key in dict_cits.keys():\n",
    "                n_cits += dict_cits[key]\n",
    "            if 'gscites' in entry.fields:\n",
    "                if n_cits > int(entry.fields['gscites'].strip('{}')):\n",
    "                    entry.fields['gscites'] = '{' + str(n_cits) + '}'\n",
    "            else:\n",
    "                entry.fields['gscites'] = '{' + str(n_cits) + '}'\n",
    "    return diag_bib_raw"
   ]
  },
  {
   "cell_type": "code",
   "execution_count": null,
   "metadata": {
    "pycharm": {
     "name": "#%%\n"
    }
   },
   "outputs": [
    {
     "name": "stdout",
     "output_type": "stream",
     "text": [
      "70 items removed from newly found items.\n",
      "14198a817d2c0a800bfb0a0a36baf5097fe22054 added to diag.bib\n",
      "2125835bf1c4fd0646b5dd50855d647044c07658 added to diag.bib\n",
      "24b8cee45431f633d2fa6e3c05670f62b1e41e7e added to diag.bib\n",
      "2723ce1686eea776df179e362cd9a8b8e2bb7ff1 added to diag.bib\n",
      "2a7dafe1287670068300ff77401923f7e151b9f4 added to diag.bib\n",
      "2fe9af8a6b41fc9db41e76621f037aac453ab433 added to diag.bib\n",
      "349ca29f588b9c785085da7147a4b58df032a8bf added to diag.bib\n",
      "374f4a7676183c95f901e655f2caf170cdd9ec9d added to diag.bib\n",
      "37e383517c34818ad049af0aa763ad5906e9f51a added to diag.bib\n",
      "44454c9090606d0332272ff38df6c87eac15f5f7 added to diag.bib\n",
      "4f016eb85905d24ce82adeee28bdf66b46870c9e added to diag.bib\n",
      "740d5d34fcd714870ddf0073fd8956db023319f0 added to diag.bib\n",
      "81e0cd2d7df521651ce7a093409b02375ef05787 has not been checked yet, make sure only 1 action is mentioned\n",
      "82eb0252d2239563a34b29e32b75f55f4e35536f has not been checked yet, make sure only 1 action is mentioned\n",
      "83a8284194d62305f0dae376417dcaa540f4fd53 has not been checked yet, make sure only 1 action is mentioned\n",
      "862ef80662ea6cd8e646df642abc3fd343263191 added to diag.bib\n",
      "8678f63d7a648eb4d0f64e50c8ff5a1c53ac128b has not been checked yet, make sure only 1 action is mentioned\n",
      "8745d403022290a88a5ef47c47057e2c4e3a22e8 has not been checked yet, make sure only 1 action is mentioned\n",
      "877f00466bcfc8627a4a7af3d71cb40acbeb73eb has not been checked yet, make sure only 1 action is mentioned\n",
      "88c7677c9baa1d1a517381274f3e4b51d53c70ef has not been checked yet, make sure only 1 action is mentioned\n",
      "89007a5745f46d11c824d8c74b9f6492b6da492f has not been checked yet, make sure only 1 action is mentioned\n",
      "897436a0e923a2c584ff60e53e795645ed16cc57 has not been checked yet, make sure only 1 action is mentioned\n",
      "8975dec089b34a60e261de28bddb9ed70857a3ef has not been checked yet, make sure only 1 action is mentioned\n",
      "89af59fe91bde6b84ea2c7ff7a901108300a55dc has not been checked yet, make sure only 1 action is mentioned\n",
      "8a039fe22daf6f65a32ba02035f45a8c67b48339 added to diag.bib\n",
      "8b1d1960bb137aa6a7161d7f60d31527621665e8 has not been checked yet, make sure only 1 action is mentioned\n",
      "8baa4e68c61566c99ee2dfaea278a63ee48b6c77 has not been checked yet, make sure only 1 action is mentioned\n",
      "8c9301f67b46bbac884c588232ebca05dd3ba8ae added to diag.bib\n",
      "8df136d867add2ba102e03add4db6a4df89e3127 has not been checked yet, make sure only 1 action is mentioned\n",
      "8fed15d1ce9b4fd9943c46763a33a3cc8a4e712d has not been checked yet, make sure only 1 action is mentioned\n",
      "9040ec82cb377f0de95fc4ca69ddc788329511b9 has not been checked yet, make sure only 1 action is mentioned\n",
      "9040ec82cb377f0de95fc4ca69ddc788329511b9 has not been checked yet, make sure only 1 action is mentioned\n",
      "90831795b7e194977c84eac5bee782b88ec0f9df has not been checked yet, make sure only 1 action is mentioned\n",
      "92a2cb9804d3599cc1e8e81c512d0203c6d10da7 has not been checked yet, make sure only 1 action is mentioned\n",
      "9383b6c11d01db32d3cd3e53f04721d5c10a34f8 has not been checked yet, make sure only 1 action is mentioned\n",
      "96c231147b444cb802c4ebb4f1be11309040d1f9 has not been checked yet, make sure only 1 action is mentioned\n",
      "974e8ae2bfa594ba157da2794a3254d12eb7bf26 added to diag.bib\n",
      "98cec4020ccc1ef0399b4f866544a30fb550d34c has not been checked yet, make sure only 1 action is mentioned\n",
      "99cf88b6359e0a5354c809fdb992bf82fdffc929 has not been checked yet, make sure only 1 action is mentioned\n",
      "9a9a6deeae03580f3ff580572a8a8e8349e75ec9 has not been checked yet, make sure only 1 action is mentioned\n",
      "9ae18cd831281e60df040f0e0c0cca1dcfd3270c has not been checked yet, make sure only 1 action is mentioned\n",
      "9b078f8fcffb89199ad986707dd86c307e6a0d25 has not been checked yet, make sure only 1 action is mentioned\n",
      "9b24ef9a54a77629fcd8ad2dab9b668917cd96e4 has not been checked yet, make sure only 1 action is mentioned\n",
      "9ddb2f47695191553a3623ac33eddeb9c7e416cd has not been checked yet, make sure only 1 action is mentioned\n",
      "a0db2db383fe9a59378790bc7ecb6890604860ef has not been checked yet, make sure only 1 action is mentioned\n",
      "a0f7cee93c06634d1945b614463977548c2b94bd has not been checked yet, make sure only 1 action is mentioned\n",
      "a149f74c6466b2d632a6088bcc5d399e58799241 has not been checked yet, make sure only 1 action is mentioned\n",
      "a1d3a3d169d562fa54335a33b624efbebf8a4646 has not been checked yet, make sure only 1 action is mentioned\n",
      "a3d37300ad77de97f3e5db770ec12fcbe1f28882 has not been checked yet, make sure only 1 action is mentioned\n",
      "a46c8e13b227cfc9d208915fdc79a6aff9fc58ea added to diag.bib\n",
      "a4e7f8dd9e72529ea6f900a3ed4987606a0fb97e has not been checked yet, make sure only 1 action is mentioned\n",
      "a9d7609639015a49b03167508b66d055e30c51c9 has not been checked yet, make sure only 1 action is mentioned\n",
      "aae664d3a70b628bbed925185301c0309cdc0ba1 has not been checked yet, make sure only 1 action is mentioned\n",
      "ae1de37edf1f15979db3029e6ec9478b0e42e6a6 has not been checked yet, make sure only 1 action is mentioned\n",
      "af0490f8f0cf935673991b05c1ab1d80f5e2b92d has not been checked yet, make sure only 1 action is mentioned\n",
      "af346d53f267840fc87db7ff4f1ff1b97cfe713a has not been checked yet, make sure only 1 action is mentioned\n",
      "af7adca1e4521c9350c958a5b7f60da3594d116f has not been checked yet, make sure only 1 action is mentioned\n",
      "b03e1e450d04641eb219abf19f7a33f99834ce95 has not been checked yet, make sure only 1 action is mentioned\n",
      "b1fcc2df6c64c1e693cdfb8545a8377a2ad40e81 has not been checked yet, make sure only 1 action is mentioned\n",
      "b6ff60f4f876abae771bcf213f486d8d16871d75 has not been checked yet, make sure only 1 action is mentioned\n",
      "b94247577fd67ad218495f173203dc033683b7be has not been checked yet, make sure only 1 action is mentioned\n",
      "bdadaa3b69040f97adc83ad138e8db27c7f650cb has not been checked yet, make sure only 1 action is mentioned\n",
      "bdda7587a109daa00948967e028dfe138f815f83 has not been checked yet, make sure only 1 action is mentioned\n",
      "be95c8bbd8a4297d620b1c2644cf2a898603e355 has not been checked yet, make sure only 1 action is mentioned\n",
      "bf3a423f98751f4ed5fdd69e805151443b48a08f has not been checked yet, make sure only 1 action is mentioned\n",
      "c0f6940d1af8063139d99b12f7e451169278ec33 has not been checked yet, make sure only 1 action is mentioned\n",
      "c203476e359aed0370fbe4c398a17ed84c729063 has not been checked yet, make sure only 1 action is mentioned\n",
      "c37197020c3e86415f814d66e49de6f11d7cdbf1 has not been checked yet, make sure only 1 action is mentioned\n",
      "c4406a679ad6a88fcbf6291889110951931025ff has not been checked yet, make sure only 1 action is mentioned\n",
      "c4b7f1b2a407ed1d2a79a8893dd3a02607e3de3b has not been checked yet, make sure only 1 action is mentioned\n",
      "c705e376f3d2aaf91deb1ca806e838d94a38dda8 has not been checked yet, make sure only 1 action is mentioned\n",
      "c859bd469080b82dc14db62e78d65ef5b5ffa686 has not been checked yet, make sure only 1 action is mentioned\n",
      "cdbebba0eb12a73be035bac85ec75e20d83a9339 has not been checked yet, make sure only 1 action is mentioned\n",
      "ce40309e3a7d5319ea2337c2d44f75bca3761e78 added to diag.bib\n",
      "cf6abbcf18b5c4761b999f390e7a0eec7c0e66b9 has not been checked yet, make sure only 1 action is mentioned\n",
      "d0354b3db75f533225b8bc890ddbd9117ce04b95 has not been checked yet, make sure only 1 action is mentioned\n",
      "d1cfcef173466fe4b617426b1767e0d939ccb7a0 has not been checked yet, make sure only 1 action is mentioned\n",
      "d27d981de434c7b90d4230b271f8408e1ab73e87 has not been checked yet, make sure only 1 action is mentioned\n",
      "d3e88ba1ea3602417ea9982b81a2f99ea7fe383d has not been checked yet, make sure only 1 action is mentioned\n",
      "d4e53749f995a9f0c581c44710d5a9d1d065e538 has not been checked yet, make sure only 1 action is mentioned\n",
      "d66e688583b419e67afef2b14b82553c6d62174a has not been checked yet, make sure only 1 action is mentioned\n",
      "d6e975989345b69f539dbb8f22cb3437f5cc5039 has not been checked yet, make sure only 1 action is mentioned\n",
      "db0c5082ec2b61fdd538b57c9396bfe634397a87 has not been checked yet, make sure only 1 action is mentioned\n",
      "dc17a2f2fef8904b38921150dce466ac8f27b7b2 has not been checked yet, make sure only 1 action is mentioned\n",
      "dc5be2280720f3b89237532897dc3ab878477739 has not been checked yet, make sure only 1 action is mentioned\n",
      "e17c4f9051c355871de1f7ef682ab6b59ca55a80 has not been checked yet, make sure only 1 action is mentioned\n",
      "e1d86927b130950ef8c67caa76364bb336b083d7 has not been checked yet, make sure only 1 action is mentioned\n",
      "e22dc206d4794b7c25a4a7bdcc1fed4b7565bdf5 has not been checked yet, make sure only 1 action is mentioned\n",
      "e2b86971913281349b1162c93a735829a84356ae has not been checked yet, make sure only 1 action is mentioned\n",
      "e3b4c600258e54618755f356e50e9627cca183dc has not been checked yet, make sure only 1 action is mentioned\n",
      "e4dbe4f2c08eeae4cab346e24327eefa65e44191 has not been checked yet, make sure only 1 action is mentioned\n"
     ]
    },
    {
     "name": "stdout",
     "output_type": "stream",
     "text": [
      "e844b6b027c94468de8a607497f95a3771b7d48b added to diag.bib\n",
      "f131ef217543d179269018950bf3b6ba2b30f3b1 added to diag.bib\n",
      "f643f4a927cf65f1ec66231ae76d3bc1736a67d3 added to diag.bib\n"
     ]
    }
   ],
   "source": [
    "manually_checked = pd.read_excel(\"./script_data/manual_check_20231018 (1).xlsx\")\n",
    "manually_checked = remove_blacklist_items(manually_checked)     # This should be done before actually manually checking\n",
    "\n",
    "for index, bib_item in manually_checked.iterrows():\n",
    "    # Make sure item is manually checked\n",
    "    if \",\" in bib_item['action']:\n",
    "        print(f\"{bib_item['ss_id']} has not been checked yet, make sure only 1 action is mentioned\")\n",
    "\n",
    "    # Add new item to diag.bib\n",
    "    #elif \"add new item\" in bib_item['action']:\n",
    "    #    add_item_to_diag_bib(bib_item)\n",
    "\n",
    "    # Add ss_id to already existing doi in diag.bib\n",
    "    elif \"add ss_id\" in bib_item['action']:\n",
    "        path_diag_bib = os.path.join('script_data/', 'diag_ss.bib')\n",
    "        diag_bib_raw = read_bibfile(None, path_diag_bib)\n",
    "        #assert bib_item['ss_doi'] == bib_item['bib_doi'], f\"ss_doi and bib_doi should be equal for {bib_item['ss_id']}\"\n",
    "        result=add_ss_id_to_existing_bibkey(diag_bib_raw, bib_item[\"ss_id\"], bib_item[\"bibkey\"])\n",
    "        print(result) \n",
    "        path_output_diag_bib = os.path.join('script_data/', 'diag_ss_new.bib')\n",
    "        save_to_file(diag_bib_raw, None, path_output_diag_bib)\n",
    "    elif \"blacklist\" in bib_item['action']:\n",
    "        add_item_to_blacklist(bib_item)\n",
    "\n",
    "path_diag_bib = os.path.join('script_data/', 'diag_ss.bib')\n",
    "update_citation_count(path_diag_bib)\n",
    "path_output_diag_bib = os.path.join('script_data/', 'diag_ss_new.bib')\n",
    "save_to_file(diag_bib_raw, None, path_output_diag_bib)\n",
    "print(\"DONE\")"
   ]
  },
  {
   "cell_type": "code",
   "execution_count": null,
   "metadata": {
    "pycharm": {
     "name": "#%%\n"
    }
   },
   "outputs": [],
   "source": []
  }
 ],
 "metadata": {
  "kernelspec": {
   "display_name": "Python 3 (ipykernel)",
   "language": "python",
   "name": "python3"
  },
  "language_info": {
   "codemirror_mode": {
    "name": "ipython",
    "version": 3
   },
   "file_extension": ".py",
   "mimetype": "text/x-python",
   "name": "python",
   "nbconvert_exporter": "python",
   "pygments_lexer": "ipython3",
   "version": "3.10.9"
  }
 },
 "nbformat": 4,
 "nbformat_minor": 1
}
