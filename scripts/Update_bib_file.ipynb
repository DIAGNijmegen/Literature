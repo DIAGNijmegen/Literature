{
 "cells": [
  {
   "cell_type": "code",
   "execution_count": 2,
   "outputs": [],
   "source": [
    "import pandas as pd\n",
    "import os\n",
    "import string\n",
    "from semanticscholar import SemanticScholar\n",
    "from get_biblatex import GetBiblatex\n",
    "from bib_handling_code.processbib import read_bibfile\n",
    "from bib_handling_code.processbib import save_to_file\n",
    "from ast import literal_eval\n",
    "from collections import defaultdict"
   ],
   "metadata": {
    "collapsed": false,
    "pycharm": {
     "name": "#%%\n"
    }
   }
  },
  {
   "cell_type": "code",
   "execution_count": 3,
   "outputs": [],
   "source": [
    "def remove_blacklist_items(df_new_items):\n",
    "    blacklisted_items = pd.read_csv(\"./script_data/blacklist.csv\")\n",
    "    initial_length = len(df_new_items)\n",
    "    df_new_items = df_new_items[~df_new_items['ss_doi'].isin(blacklisted_items['doi'].unique().tolist())] # remove blacklisted dois\n",
    "    df_new_items = df_new_items[~df_new_items['ss_id'].isin(blacklisted_items['ss_id'].unique().tolist())] # remove blacklisted dois\n",
    "\n",
    "    print(f\"{initial_length-len(df_new_items)} items removed from newly found items.\")\n",
    "    return df_new_items"
   ],
   "metadata": {
    "collapsed": false,
    "pycharm": {
     "name": "#%%\n"
    }
   }
  },
  {
   "cell_type": "code",
   "execution_count": 4,
   "outputs": [],
   "source": [
    "def get_item_to_blacklist(item):\n",
    "    #Add item to blacklist.csv\n",
    "    move_to_blacklist = {\n",
    "        'staff_id': item.get('staff_id', None),\n",
    "        'staff_name': item.get('staff_id', None),\n",
    "        'ss_year': item.get('ss_year', None),\n",
    "        'ss_id': item.get('ss_id', None),\n",
    "        'title': item.get('ss_title', None),\n",
    "        'doi': item.get('ss_doi', None),\n",
    "        'Should be in diag.bib': 'no',\n",
    "        'Reason': item.get('Blacklist reason', None)\n",
    "    }\n",
    "\n",
    "    return move_to_blacklist"
   ],
   "metadata": {
    "collapsed": false,
    "pycharm": {
     "name": "#%%\n"
    }
   }
  },
  {
   "cell_type": "code",
   "execution_count": 5,
   "outputs": [],
   "source": [
    "def update_blacklist_csv(blacklist_csv, blacklist_entries):\n",
    "    # Add all items to blacklist.csv\n",
    "    blacklist_csv = pd.concat([blacklist_csv, pd.DataFrame(blacklist_entries)], ignore_index=True)\n",
    "\n",
    "    # Save blacklist.csv\n",
    "    blacklist_csv.to_csv('./script_data/blacklist.csv', index=False)\n",
    "    return f\"{len(blacklist_entries)} items added to blacklist\""
   ],
   "metadata": {
    "collapsed": false,
    "pycharm": {
     "name": "#%%\n"
    }
   }
  },
  {
   "cell_type": "code",
   "execution_count": 6,
   "outputs": [],
   "source": [
    "# Code to get citations from semantic scholar. If there are multiple ss_ids, we should get the number of citations for each of them and sum the two (or more?) values.\n",
    "def get_citations(semantic_scholar_ids):\n",
    "    dict_cits = {}\n",
    "    for ss_id in semantic_scholar_ids:\n",
    "        sch = SemanticScholar()\n",
    "        paper = sch.get_paper(ss_id)\n",
    "        paper_id = paper['paperId']\n",
    "        dict_cits[paper_id] = len(paper['citations'])\n",
    "    return dict_cits"
   ],
   "metadata": {
    "collapsed": false,
    "pycharm": {
     "name": "#%%\n"
    }
   }
  },
  {
   "cell_type": "code",
   "execution_count": 13,
   "outputs": [],
   "source": [
    "def get_bib_info(diag_bib_file, item):\n",
    "    #Get DOI information\n",
    "    citations = 0\n",
    "    # if isinstance(item['ss_id'], list):\n",
    "    #     for ss_id in item['ss_id']:\n",
    "    #         citations += get_citations(ss_id)\n",
    "    # else:\n",
    "    #     citations = get_citations(item['ss_id'])\n",
    "\n",
    "    # make sure doi is not already in diag.bib\n",
    "    if item['ss_doi'] in diag_bib_file:\n",
    "        return None\n",
    "\n",
    "    # Get BibLatex information based on DOI if not in the file\n",
    "    reader = GetBiblatex(doi=item['ss_doi'], diag_bib=diag_bib_file, num_citations=citations)\n",
    "    bibtext = reader.get_bib_text()\n",
    "\n",
    "    # Return the bibtext if it is not 'empty', otherwise return None\n",
    "    return bibtext if bibtext != 'empty' else None\n",
    "\n",
    "\n",
    "\n"
   ],
   "metadata": {
    "collapsed": false,
    "pycharm": {
     "name": "#%%\n"
    }
   }
  },
  {
   "cell_type": "code",
   "execution_count": 8,
   "outputs": [],
   "source": [
    "def add_ss_id_to_existing_bibkey(diag_bib_raw, ss_id, bibkey):\n",
    "    \n",
    "    #Update bibkey with ss_id\n",
    "    for entry in diag_bib_raw:\n",
    "        if entry.type == 'string':\n",
    "            continue\n",
    "        \n",
    "        if bibkey == entry.key:\n",
    "            if 'all_ss_ids' in entry.fields:\n",
    "                if not entry.fields['all_ss_ids'] == '{' + str(ss_id) + '}':\n",
    "                    previous = literal_eval(entry.fields['all_ss_ids'].strip('{}'))\n",
    "                    new = ss_id\n",
    "                    combined = list(set(previous) | set([new]))\n",
    "                    entry.fields['all_ss_ids'] = '{' + str(combined) + '}'\n",
    "            return f\"{ss_id} added to diag.bib\"\n",
    "    return f\"{bibkey} not found\""
   ],
   "metadata": {
    "collapsed": false,
    "pycharm": {
     "name": "#%%\n"
    }
   }
  },
  {
   "cell_type": "code",
   "execution_count": 9,
   "outputs": [],
   "source": [
    "def update_citation_count(path_diag_bib):\n",
    "    \n",
    "    diag_bib_raw = read_bibfile(None, path_diag_bib)\n",
    "    for entry in diag_bib_raw:\n",
    "        flag=0\n",
    "        if entry.type == 'string':\n",
    "            continue\n",
    "        if 'all_ss_ids' in entry.fields:\n",
    "            all_ss_ids = []\n",
    "            ss_ids = entry.fields['all_ss_ids'].translate(str.maketrans('', '', string.punctuation)).split(' ')\n",
    "            if len(ss_ids) > 1:\n",
    "                all_ss_ids.extend(ss_ids)\n",
    "            else:\n",
    "                all_ss_ids.append(ss_ids[0])\n",
    "            dict_cits = get_citations(all_ss_ids)\n",
    "            n_cits = 0\n",
    "            for key in dict_cits.keys():\n",
    "                n_cits += dict_cits[key]\n",
    "            if 'gscites' in entry.fields:\n",
    "                if n_cits > int(entry.fields['gscites'].strip('{}')):\n",
    "                    entry.fields['gscites'] = '{' + str(n_cits) + '}'\n",
    "            else:\n",
    "                entry.fields['gscites'] = '{' + str(n_cits) + '}'\n",
    "    return diag_bib_raw"
   ],
   "metadata": {
    "collapsed": false,
    "pycharm": {
     "name": "#%%\n"
    }
   }
  },
  {
   "cell_type": "markdown",
   "source": [
    "# Load csv files"
   ],
   "metadata": {
    "collapsed": false,
    "pycharm": {
     "name": "#%% md\n"
    }
   }
  },
  {
   "cell_type": "code",
   "execution_count": 10,
   "outputs": [
    {
     "name": "stdout",
     "output_type": "stream",
     "text": [
      "63 items removed from newly found items.\n"
     ]
    }
   ],
   "source": [
    "# load manually_checked\n",
    "manually_checked = pd.read_csv(\"./script_data/manual_check.csv\")\n",
    "# manually_checked = remove_blacklist_items(manually_checked)     # This should be done before actually manually checking\n",
    "# POTENTIAL TO-DO CREATE ACTION MAPPINGS\n",
    "\n",
    "#Load diag.bib\n",
    "cwd = os.getcwd()\n",
    "parent_directory = os.path.abspath(os.path.join(cwd, \"..\"))\n",
    "diag_bib_path = os.path.join(parent_directory, 'diag_ss.bib')\n",
    "with open(diag_bib_path, encoding=\"utf8\") as bibtex_file:\n",
    "    diag_bib = bibtex_file.read()\n",
    "\n",
    "# Load blacklist\n",
    "blacklist = pd.read_csv('./script_data/blacklist.csv')\n"
   ],
   "metadata": {
    "collapsed": false,
    "pycharm": {
     "name": "#%%\n"
    }
   }
  },
  {
   "cell_type": "code",
   "execution_count": 14,
   "outputs": [
    {
     "name": "stdout",
     "output_type": "stream",
     "text": [
      "Working on 0/217\n",
      "Working on 1/217\n",
      "Working on 2/217\n",
      "Working on 4/217\n",
      "Unable to generate bibtext for 10.1038/s41585-020-0324-x\n",
      "'family'\n",
      "Unable to gather information for 10.1038/s41585-020-0324-x\n",
      "Working on 6/217\n",
      "Working on 8/217\n",
      "Working on 9/217\n",
      "Unable to generate bibtext for 10.23698/AIDA/BRLN\n",
      "'published'\n",
      "Unable to gather information for 10.23698/AIDA/BRLN\n",
      "Working on 10/217\n",
      "Working on 11/217\n",
      "Unable to generate bibtext for 10.1093/cid/ciac623\n",
      "'family'\n",
      "Unable to gather information for 10.1093/cid/ciac623\n",
      "Working on 12/217\n",
      "20\n",
      "Working on 13/217\n",
      "Working on 14/217\n",
      "308\n",
      "Working on 15/217\n",
      "Unable to generate bibtext for 10.48550/arXiv.2112.05151\n",
      "'published'\n",
      "Unable to gather information for 10.48550/arXiv.2112.05151\n",
      "Working on 16/217\n",
      "Unable to generate bibtext for 10.1093/rheumatology/keab835\n",
      "'family'\n",
      "Unable to gather information for 10.1093/rheumatology/keab835\n",
      "Working on 17/217\n",
      "Unable to generate bibtext for 10.1001/jamaophthalmol.2021.1407\n",
      "'family'\n",
      "Unable to gather information for 10.1001/jamaophthalmol.2021.1407\n",
      "Working on 18/217\n",
      "Working on 19/217\n",
      "Working on 20/217\n",
      "Working on 21/217\n",
      "Working on 22/217\n",
      "Working on 23/217\n",
      "Working on 27/217\n",
      "Unable to generate bibtext for 10.48550/arXiv.2212.08568\n",
      "'published'\n",
      "Unable to gather information for 10.48550/arXiv.2212.08568\n",
      "Working on 29/217\n",
      "Working on 30/217\n",
      "Working on 31/217\n",
      "Unable to gather information for 10.1109/TMI.2016.2553401\n",
      "Working on 33/217\n",
      "Working on 36/217\n",
      "Working on 37/217\n",
      "Unable to generate bibtext for 10.48550/arXiv.1803.05471\n",
      "'published'\n",
      "Unable to gather information for 10.48550/arXiv.1803.05471\n",
      "Working on 38/217\n",
      "Working on 39/217\n",
      "Working on 40/217\n",
      "Unable to generate bibtext for 10.48550/arXiv.1908.06037\n",
      "'published'\n",
      "Unable to gather information for 10.48550/arXiv.1908.06037\n",
      "Working on 41/217\n",
      "Working on 42/217\n",
      "Working on 43/217\n",
      "Working on 44/217\n",
      "Working on 45/217\n",
      "Unable to generate bibtext for https://doi.org/10.48550/arXiv.2109.07892\n",
      "'published'\n",
      "Unable to gather information for https://doi.org/10.48550/arXiv.2109.07892\n",
      "Working on 46/217\n",
      "Working on 47/217\n",
      "Working on 48/217\n",
      "Working on 49/217\n",
      "Working on 50/217\n",
      "Working on 51/217\n",
      "Working on 52/217\n",
      "Working on 53/217\n",
      "Working on 54/217\n",
      "Working on 55/217\n",
      "Working on 56/217\n",
      "Working on 57/217\n",
      "Working on 60/217\n",
      "Working on 61/217\n",
      "16\n",
      "Working on 62/217\n",
      "Working on 64/217\n",
      "8\n",
      "Working on 66/217\n",
      "Working on 67/217\n",
      "Working on 68/217\n",
      "Working on 69/217\n",
      "15\n",
      "Working on 70/217\n",
      "Unable to generate bibtext for 10.1186/s12874-021-01243-8\n",
      "'family'\n",
      "Unable to gather information for 10.1186/s12874-021-01243-8\n",
      "Working on 71/217\n",
      "Working on 73/217\n",
      "Working on 74/217\n",
      "Working on 75/217\n",
      "Unable to generate bibtext for 10.48550/arXiv.2302.03116\n",
      "'published'\n",
      "Unable to gather information for 10.48550/arXiv.2302.03116\n",
      "Working on 76/217\n",
      "Unable to generate bibtext for 10.1201/B18191-7\n",
      "'author'\n",
      "Unable to gather information for 10.1201/B18191-7\n",
      "Working on 77/217\n",
      "Working on 78/217\n",
      "Working on 79/217\n",
      "Working on 80/217\n",
      "Working on 81/217\n",
      "Working on 82/217\n"
     ]
    },
    {
     "name": "stderr",
     "output_type": "stream",
     "text": [
      "Some characters could not be decoded, and were replaced with REPLACEMENT CHARACTER.\n"
     ]
    },
    {
     "name": "stdout",
     "output_type": "stream",
     "text": [
      "Working on 83/217\n",
      "8\n",
      "Working on 84/217\n",
      "Working on 85/217\n",
      "Working on 86/217\n",
      "Working on 87/217\n",
      "Working on 88/217\n",
      "Working on 90/217\n",
      "Working on 91/217\n",
      "Working on 92/217\n",
      "Working on 93/217\n",
      "Working on 95/217\n",
      "Working on 96/217\n",
      "Working on 97/217\n",
      "Working on 98/217\n",
      "Working on 99/217\n",
      "Working on 100/217\n",
      "Working on 101/217\n",
      "Working on 102/217\n",
      "Working on 103/217\n",
      "Working on 104/217\n",
      "Working on 105/217\n",
      "16\n",
      "Working on 107/217\n",
      "Working on 109/217\n",
      "Working on 111/217\n",
      "Working on 112/217\n",
      "Working on 114/217\n",
      "Working on 116/217\n",
      "17\n",
      "Working on 118/217\n",
      "Working on 119/217\n",
      "Unable to generate bibtext for 10.1002/mrm.29371\n",
      "'family'\n",
      "Unable to gather information for 10.1002/mrm.29371\n",
      "Working on 120/217\n",
      "Unable to generate bibtext for 10.3390/jpm11070663\n",
      "'family'\n",
      "Unable to gather information for 10.3390/jpm11070663\n",
      "Working on 121/217\n",
      "Unable to generate bibtext for 10.48550/arXiv.2305.05984\n",
      "'published'\n",
      "Unable to gather information for 10.48550/arXiv.2305.05984\n",
      "Working on 122/217\n",
      "Working on 125/217\n",
      "Working on 126/217\n",
      "Working on 127/217\n",
      "Working on 129/217\n",
      "Working on 130/217\n",
      "Working on 132/217\n",
      "Working on 133/217\n",
      "8\n",
      "Working on 135/217\n",
      "Working on 136/217\n",
      "Working on 137/217\n",
      "Working on 138/217\n",
      "Working on 139/217\n",
      "Working on 140/217\n",
      "Working on 141/217\n",
      "Working on 142/217\n",
      "Working on 143/217\n",
      "Working on 144/217\n",
      "Working on 146/217\n",
      "Working on 147/217\n",
      "Working on 148/217\n",
      "Working on 149/217\n",
      "Working on 150/217\n",
      "Working on 152/217\n",
      "Working on 154/217\n",
      "Working on 155/217\n",
      "Working on 156/217\n",
      "Working on 157/217\n",
      "Working on 158/217\n",
      "Working on 159/217\n",
      "Working on 160/217\n",
      "Working on 161/217\n",
      "Working on 163/217\n",
      "Working on 164/217\n",
      "Working on 166/217\n",
      "Working on 168/217\n",
      "Working on 169/217\n",
      "Working on 170/217\n",
      "Working on 171/217\n",
      "Working on 173/217\n",
      "Working on 174/217\n",
      "Working on 176/217\n",
      "Working on 177/217\n",
      "Working on 178/217\n",
      "Working on 180/217\n",
      "Working on 183/217\n",
      "Working on 184/217\n",
      "Working on 185/217\n",
      "Working on 186/217\n",
      "Working on 187/217\n",
      "Working on 188/217\n",
      "Working on 189/217\n",
      "Working on 191/217\n",
      "Working on 193/217\n",
      "Working on 194/217\n",
      "Working on 195/217\n",
      "Working on 196/217\n",
      "Working on 197/217\n",
      "Working on 198/217\n",
      "Working on 200/217\n",
      "Working on 201/217\n",
      "Working on 202/217\n",
      "Working on 203/217\n",
      "Working on 205/217\n",
      "Working on 206/217\n",
      "Working on 207/217\n",
      "Working on 209/217\n",
      "Working on 210/217\n",
      "Working on 211/217\n",
      "Working on 212/217\n",
      "Working on 213/217\n",
      "Working on 214/217\n",
      "Working on 215/217\n",
      "Working on 217/217\n",
      "Working on 218/217\n",
      "Working on 219/217\n",
      "Working on 220/217\n",
      "Working on 222/217\n",
      "Working on 226/217\n",
      "Working on 227/217\n",
      "Working on 230/217\n",
      "Working on 231/217\n",
      "Working on 232/217\n",
      "Working on 233/217\n",
      "Working on 234/217\n",
      "Working on 235/217\n",
      "Working on 237/217\n",
      "Working on 238/217\n",
      "Working on 239/217\n",
      "Working on 240/217\n",
      "Working on 241/217\n",
      "Working on 244/217\n",
      "Working on 245/217\n",
      "Working on 246/217\n",
      "Working on 247/217\n",
      "Working on 249/217\n",
      "Working on 252/217\n",
      "Working on 254/217\n",
      "Unable to gather information for 10.1007/978-3-030-00949-6\n",
      "Working on 255/217\n",
      "Working on 256/217\n",
      "Working on 257/217\n",
      "Unable to generate bibtext for 10.1101/2022.09.02.22279476\n",
      "local variable 'kind' referenced before assignment\n",
      "Unable to gather information for 10.1101/2022.09.02.22279476\n",
      "Working on 258/217\n",
      "Unable to generate bibtext for 10.1055/B000000232\n",
      "'author'\n",
      "Unable to gather information for 10.1055/B000000232\n",
      "Working on 259/217\n",
      "Working on 262/217\n",
      "Working on 263/217\n",
      "Unable to generate bibtext for 10.48550/arXiv.2012.04974\n",
      "'published'\n",
      "Unable to gather information for 10.48550/arXiv.2012.04974\n",
      "Working on 264/217\n",
      "3\n",
      "Working on 265/217\n",
      "Working on 267/217\n",
      "Working on 268/217\n",
      "Working on 269/217\n",
      "Working on 271/217\n",
      "Working on 272/217\n",
      "Unable to generate bibtext for 10.1101/158014\n",
      "local variable 'kind' referenced before assignment\n",
      "Unable to gather information for 10.1101/158014\n",
      "Working on 273/217\n",
      "Working on 274/217\n",
      "Working on 275/217\n",
      "Working on 277/217\n",
      "24\n",
      "Working on 278/217\n",
      "Working on 279/217\n",
      "DONE with processing manually checked items\n"
     ]
    }
   ],
   "source": [
    "# Iterate through all items in the manually checked csv\n",
    "blacklist_items = []\n",
    "items_to_add = ''\n",
    "for index, bib_item in manually_checked.iterrows():\n",
    "    print(f\"Working on {index}/{len(manually_checked)}\")\n",
    "    # Make sure item is manually checked\n",
    "    if \",\" in bib_item['action']:\n",
    "        print(f\"{bib_item['ss_id']} has not been checked yet, make sure only 1 action is mentioned\")\n",
    "        continue\n",
    "\n",
    "    # Add new item to diag.bib\n",
    "    elif \"add new item\" in bib_item['action']:\n",
    "       bib_item_text = get_bib_info(diag_bib, bib_item)\n",
    "\n",
    "       if bib_item_text is not None:\n",
    "           items_to_add += bib_item_text\n",
    "       else:\n",
    "           print(f\"Unable to gather information for {bib_item['ss_doi']}\")\n",
    "           # TO-DO APPEND items we were unable to add\n",
    "\n",
    "    # Add ss_id to already existing doi in diag.bib\n",
    "    elif \"add ss_id\" in bib_item['action']:\n",
    "        path_diag_bib = os.path.join('script_data/', 'diag_ss.bib')\n",
    "        diag_bib_raw = read_bibfile(None, path_diag_bib)\n",
    "        #assert bib_item['ss_doi'] == bib_item['bib_doi'], f\"ss_doi and bib_doi should be equal for {bib_item['ss_id']}\"\n",
    "        result=add_ss_id_to_existing_bibkey(diag_bib_raw, bib_item[\"ss_id\"], bib_item[\"bibkey\"])\n",
    "        print(result)\n",
    "        path_output_diag_bib = os.path.join('script_data/', 'diag_ss_new.bib') # TO-DO SAVE FILE ONLY AT THE END\n",
    "        save_to_file(diag_bib_raw, None, path_output_diag_bib)  # TO-DO APPEND ITEMS THAT REQUIRE SS_ID UPDATES\n",
    "\n",
    "    # Get items to blacklist\n",
    "    elif \"blacklist\" in bib_item['action']:\n",
    "        blacklist_item = get_item_to_blacklist(bib_item)\n",
    "        blacklist_items.append(blacklist_item)\n",
    "\n",
    "    # Get None items\n",
    "    elif 'None' in bib_item['action']:\n",
    "        continue\n",
    "\n",
    "    # NOTIFY IF NOTHING IS DONE WITH AN ITEM (NO-MATCH)\n",
    "\n",
    "# diag_bib += items_to_add              # TO-DO FILE STILL HAVE TO BE SAVED\n",
    "# TO-DO: RE-READ BIB FILE AND UPDATE SS_IDS LIST FROM CODE IN FOR LOOP\n",
    "\n",
    "\n",
    "# Update blacklist\n",
    "# update_blacklist_csv(blacklist, blacklist_items)\n",
    "print(\"DONE with processing manually checked items\")"
   ],
   "metadata": {
    "collapsed": false,
    "pycharm": {
     "name": "#%%\n"
    }
   }
  },
  {
   "cell_type": "code",
   "execution_count": 20,
   "outputs": [
    {
     "name": "stdout",
     "output_type": "stream",
     "text": [
      "Newly added items: 94\n"
     ]
    }
   ],
   "source": [
    "count = items_to_add.count('{yes}')\n",
    "print(f\"Newly added items: {count}\")"
   ],
   "metadata": {
    "collapsed": false,
    "pycharm": {
     "name": "#%%\n"
    }
   }
  },
  {
   "cell_type": "code",
   "execution_count": 25,
   "outputs": [
    {
     "name": "stdout",
     "output_type": "stream",
     "text": [
      "Blacklisted items: 16\n"
     ]
    }
   ],
   "source": [
    "print(f\"Blacklisted items: {len(blacklist_items)}\")"
   ],
   "metadata": {
    "collapsed": false,
    "pycharm": {
     "name": "#%%\n"
    }
   }
  },
  {
   "cell_type": "markdown",
   "source": [
    "# Update citation counts"
   ],
   "metadata": {
    "collapsed": false,
    "pycharm": {
     "name": "#%% md\n"
    }
   }
  },
  {
   "cell_type": "code",
   "execution_count": null,
   "metadata": {
    "pycharm": {
     "name": "#%%\n"
    }
   },
   "outputs": [
    {
     "name": "stdout",
     "output_type": "stream",
     "text": [
      "70 items removed from newly found items.\n",
      "14198a817d2c0a800bfb0a0a36baf5097fe22054 added to diag.bib\n",
      "2125835bf1c4fd0646b5dd50855d647044c07658 added to diag.bib\n",
      "24b8cee45431f633d2fa6e3c05670f62b1e41e7e added to diag.bib\n",
      "2723ce1686eea776df179e362cd9a8b8e2bb7ff1 added to diag.bib\n",
      "2a7dafe1287670068300ff77401923f7e151b9f4 added to diag.bib\n",
      "2fe9af8a6b41fc9db41e76621f037aac453ab433 added to diag.bib\n",
      "349ca29f588b9c785085da7147a4b58df032a8bf added to diag.bib\n",
      "374f4a7676183c95f901e655f2caf170cdd9ec9d added to diag.bib\n",
      "37e383517c34818ad049af0aa763ad5906e9f51a added to diag.bib\n",
      "44454c9090606d0332272ff38df6c87eac15f5f7 added to diag.bib\n",
      "4f016eb85905d24ce82adeee28bdf66b46870c9e added to diag.bib\n",
      "740d5d34fcd714870ddf0073fd8956db023319f0 added to diag.bib\n",
      "81e0cd2d7df521651ce7a093409b02375ef05787 has not been checked yet, make sure only 1 action is mentioned\n",
      "82eb0252d2239563a34b29e32b75f55f4e35536f has not been checked yet, make sure only 1 action is mentioned\n",
      "83a8284194d62305f0dae376417dcaa540f4fd53 has not been checked yet, make sure only 1 action is mentioned\n",
      "862ef80662ea6cd8e646df642abc3fd343263191 added to diag.bib\n",
      "8678f63d7a648eb4d0f64e50c8ff5a1c53ac128b has not been checked yet, make sure only 1 action is mentioned\n",
      "8745d403022290a88a5ef47c47057e2c4e3a22e8 has not been checked yet, make sure only 1 action is mentioned\n",
      "877f00466bcfc8627a4a7af3d71cb40acbeb73eb has not been checked yet, make sure only 1 action is mentioned\n",
      "88c7677c9baa1d1a517381274f3e4b51d53c70ef has not been checked yet, make sure only 1 action is mentioned\n",
      "89007a5745f46d11c824d8c74b9f6492b6da492f has not been checked yet, make sure only 1 action is mentioned\n",
      "897436a0e923a2c584ff60e53e795645ed16cc57 has not been checked yet, make sure only 1 action is mentioned\n",
      "8975dec089b34a60e261de28bddb9ed70857a3ef has not been checked yet, make sure only 1 action is mentioned\n",
      "89af59fe91bde6b84ea2c7ff7a901108300a55dc has not been checked yet, make sure only 1 action is mentioned\n",
      "8a039fe22daf6f65a32ba02035f45a8c67b48339 added to diag.bib\n",
      "8b1d1960bb137aa6a7161d7f60d31527621665e8 has not been checked yet, make sure only 1 action is mentioned\n",
      "8baa4e68c61566c99ee2dfaea278a63ee48b6c77 has not been checked yet, make sure only 1 action is mentioned\n",
      "8c9301f67b46bbac884c588232ebca05dd3ba8ae added to diag.bib\n",
      "8df136d867add2ba102e03add4db6a4df89e3127 has not been checked yet, make sure only 1 action is mentioned\n",
      "8fed15d1ce9b4fd9943c46763a33a3cc8a4e712d has not been checked yet, make sure only 1 action is mentioned\n",
      "9040ec82cb377f0de95fc4ca69ddc788329511b9 has not been checked yet, make sure only 1 action is mentioned\n",
      "9040ec82cb377f0de95fc4ca69ddc788329511b9 has not been checked yet, make sure only 1 action is mentioned\n",
      "90831795b7e194977c84eac5bee782b88ec0f9df has not been checked yet, make sure only 1 action is mentioned\n",
      "92a2cb9804d3599cc1e8e81c512d0203c6d10da7 has not been checked yet, make sure only 1 action is mentioned\n",
      "9383b6c11d01db32d3cd3e53f04721d5c10a34f8 has not been checked yet, make sure only 1 action is mentioned\n",
      "96c231147b444cb802c4ebb4f1be11309040d1f9 has not been checked yet, make sure only 1 action is mentioned\n",
      "974e8ae2bfa594ba157da2794a3254d12eb7bf26 added to diag.bib\n",
      "98cec4020ccc1ef0399b4f866544a30fb550d34c has not been checked yet, make sure only 1 action is mentioned\n",
      "99cf88b6359e0a5354c809fdb992bf82fdffc929 has not been checked yet, make sure only 1 action is mentioned\n",
      "9a9a6deeae03580f3ff580572a8a8e8349e75ec9 has not been checked yet, make sure only 1 action is mentioned\n",
      "9ae18cd831281e60df040f0e0c0cca1dcfd3270c has not been checked yet, make sure only 1 action is mentioned\n",
      "9b078f8fcffb89199ad986707dd86c307e6a0d25 has not been checked yet, make sure only 1 action is mentioned\n",
      "9b24ef9a54a77629fcd8ad2dab9b668917cd96e4 has not been checked yet, make sure only 1 action is mentioned\n",
      "9ddb2f47695191553a3623ac33eddeb9c7e416cd has not been checked yet, make sure only 1 action is mentioned\n",
      "a0db2db383fe9a59378790bc7ecb6890604860ef has not been checked yet, make sure only 1 action is mentioned\n",
      "a0f7cee93c06634d1945b614463977548c2b94bd has not been checked yet, make sure only 1 action is mentioned\n",
      "a149f74c6466b2d632a6088bcc5d399e58799241 has not been checked yet, make sure only 1 action is mentioned\n",
      "a1d3a3d169d562fa54335a33b624efbebf8a4646 has not been checked yet, make sure only 1 action is mentioned\n",
      "a3d37300ad77de97f3e5db770ec12fcbe1f28882 has not been checked yet, make sure only 1 action is mentioned\n",
      "a46c8e13b227cfc9d208915fdc79a6aff9fc58ea added to diag.bib\n",
      "a4e7f8dd9e72529ea6f900a3ed4987606a0fb97e has not been checked yet, make sure only 1 action is mentioned\n",
      "a9d7609639015a49b03167508b66d055e30c51c9 has not been checked yet, make sure only 1 action is mentioned\n",
      "aae664d3a70b628bbed925185301c0309cdc0ba1 has not been checked yet, make sure only 1 action is mentioned\n",
      "ae1de37edf1f15979db3029e6ec9478b0e42e6a6 has not been checked yet, make sure only 1 action is mentioned\n",
      "af0490f8f0cf935673991b05c1ab1d80f5e2b92d has not been checked yet, make sure only 1 action is mentioned\n",
      "af346d53f267840fc87db7ff4f1ff1b97cfe713a has not been checked yet, make sure only 1 action is mentioned\n",
      "af7adca1e4521c9350c958a5b7f60da3594d116f has not been checked yet, make sure only 1 action is mentioned\n",
      "b03e1e450d04641eb219abf19f7a33f99834ce95 has not been checked yet, make sure only 1 action is mentioned\n",
      "b1fcc2df6c64c1e693cdfb8545a8377a2ad40e81 has not been checked yet, make sure only 1 action is mentioned\n",
      "b6ff60f4f876abae771bcf213f486d8d16871d75 has not been checked yet, make sure only 1 action is mentioned\n",
      "b94247577fd67ad218495f173203dc033683b7be has not been checked yet, make sure only 1 action is mentioned\n",
      "bdadaa3b69040f97adc83ad138e8db27c7f650cb has not been checked yet, make sure only 1 action is mentioned\n",
      "bdda7587a109daa00948967e028dfe138f815f83 has not been checked yet, make sure only 1 action is mentioned\n",
      "be95c8bbd8a4297d620b1c2644cf2a898603e355 has not been checked yet, make sure only 1 action is mentioned\n",
      "bf3a423f98751f4ed5fdd69e805151443b48a08f has not been checked yet, make sure only 1 action is mentioned\n",
      "c0f6940d1af8063139d99b12f7e451169278ec33 has not been checked yet, make sure only 1 action is mentioned\n",
      "c203476e359aed0370fbe4c398a17ed84c729063 has not been checked yet, make sure only 1 action is mentioned\n",
      "c37197020c3e86415f814d66e49de6f11d7cdbf1 has not been checked yet, make sure only 1 action is mentioned\n",
      "c4406a679ad6a88fcbf6291889110951931025ff has not been checked yet, make sure only 1 action is mentioned\n",
      "c4b7f1b2a407ed1d2a79a8893dd3a02607e3de3b has not been checked yet, make sure only 1 action is mentioned\n",
      "c705e376f3d2aaf91deb1ca806e838d94a38dda8 has not been checked yet, make sure only 1 action is mentioned\n",
      "c859bd469080b82dc14db62e78d65ef5b5ffa686 has not been checked yet, make sure only 1 action is mentioned\n",
      "cdbebba0eb12a73be035bac85ec75e20d83a9339 has not been checked yet, make sure only 1 action is mentioned\n",
      "ce40309e3a7d5319ea2337c2d44f75bca3761e78 added to diag.bib\n",
      "cf6abbcf18b5c4761b999f390e7a0eec7c0e66b9 has not been checked yet, make sure only 1 action is mentioned\n",
      "d0354b3db75f533225b8bc890ddbd9117ce04b95 has not been checked yet, make sure only 1 action is mentioned\n",
      "d1cfcef173466fe4b617426b1767e0d939ccb7a0 has not been checked yet, make sure only 1 action is mentioned\n",
      "d27d981de434c7b90d4230b271f8408e1ab73e87 has not been checked yet, make sure only 1 action is mentioned\n",
      "d3e88ba1ea3602417ea9982b81a2f99ea7fe383d has not been checked yet, make sure only 1 action is mentioned\n",
      "d4e53749f995a9f0c581c44710d5a9d1d065e538 has not been checked yet, make sure only 1 action is mentioned\n",
      "d66e688583b419e67afef2b14b82553c6d62174a has not been checked yet, make sure only 1 action is mentioned\n",
      "d6e975989345b69f539dbb8f22cb3437f5cc5039 has not been checked yet, make sure only 1 action is mentioned\n",
      "db0c5082ec2b61fdd538b57c9396bfe634397a87 has not been checked yet, make sure only 1 action is mentioned\n",
      "dc17a2f2fef8904b38921150dce466ac8f27b7b2 has not been checked yet, make sure only 1 action is mentioned\n",
      "dc5be2280720f3b89237532897dc3ab878477739 has not been checked yet, make sure only 1 action is mentioned\n",
      "e17c4f9051c355871de1f7ef682ab6b59ca55a80 has not been checked yet, make sure only 1 action is mentioned\n",
      "e1d86927b130950ef8c67caa76364bb336b083d7 has not been checked yet, make sure only 1 action is mentioned\n",
      "e22dc206d4794b7c25a4a7bdcc1fed4b7565bdf5 has not been checked yet, make sure only 1 action is mentioned\n",
      "e2b86971913281349b1162c93a735829a84356ae has not been checked yet, make sure only 1 action is mentioned\n",
      "e3b4c600258e54618755f356e50e9627cca183dc has not been checked yet, make sure only 1 action is mentioned\n",
      "e4dbe4f2c08eeae4cab346e24327eefa65e44191 has not been checked yet, make sure only 1 action is mentioned\n"
     ]
    },
    {
     "name": "stdout",
     "output_type": "stream",
     "text": [
      "e844b6b027c94468de8a607497f95a3771b7d48b added to diag.bib\n",
      "f131ef217543d179269018950bf3b6ba2b30f3b1 added to diag.bib\n",
      "f643f4a927cf65f1ec66231ae76d3bc1736a67d3 added to diag.bib\n"
     ]
    }
   ],
   "source": [
    "path_diag_bib = os.path.join('script_data/', 'diag_ss.bib')\n",
    "update_citation_count(path_diag_bib)\n",
    "path_output_diag_bib = os.path.join('script_data/', 'diag_ss_new.bib')\n",
    "save_to_file(diag_bib_raw, None, path_output_diag_bib)"
   ]
  },
  {
   "cell_type": "code",
   "execution_count": 1,
   "outputs": [
    {
     "ename": "TypeError",
     "evalue": "can only concatenate str (not \"NoneType\") to str",
     "output_type": "error",
     "traceback": [
      "\u001B[1;31m---------------------------------------------------------------------------\u001B[0m",
      "\u001B[1;31mTypeError\u001B[0m                                 Traceback (most recent call last)",
      "Cell \u001B[1;32mIn [1], line 3\u001B[0m\n\u001B[0;32m      1\u001B[0m a \u001B[38;5;241m=\u001B[39m \u001B[38;5;124m\"\u001B[39m\u001B[38;5;124mstring\u001B[39m\u001B[38;5;124m\"\u001B[39m\n\u001B[0;32m      2\u001B[0m b \u001B[38;5;241m=\u001B[39m \u001B[38;5;28;01mNone\u001B[39;00m\n\u001B[1;32m----> 3\u001B[0m c \u001B[38;5;241m=\u001B[39m \u001B[43ma\u001B[49m\u001B[43m \u001B[49m\u001B[38;5;241;43m+\u001B[39;49m\u001B[43m \u001B[49m\u001B[43mb\u001B[49m\n\u001B[0;32m      4\u001B[0m \u001B[38;5;28mprint\u001B[39m(c)\n",
      "\u001B[1;31mTypeError\u001B[0m: can only concatenate str (not \"NoneType\") to str"
     ]
    }
   ],
   "source": [
    "a = \"string\"\n",
    "b = None\n",
    "if b is not None:\n",
    "    c = a + b\n",
    "    print(c)"
   ],
   "metadata": {
    "collapsed": false,
    "pycharm": {
     "name": "#%%\n"
    }
   }
  },
  {
   "cell_type": "code",
   "execution_count": null,
   "outputs": [],
   "source": [],
   "metadata": {
    "collapsed": false,
    "pycharm": {
     "name": "#%%\n"
    }
   }
  },
  {
   "cell_type": "code",
   "execution_count": null,
   "metadata": {
    "pycharm": {
     "name": "#%%\n"
    }
   },
   "outputs": [],
   "source": []
  }
 ],
 "metadata": {
  "kernelspec": {
   "display_name": "Python 3 (ipykernel)",
   "language": "python",
   "name": "python3"
  },
  "language_info": {
   "codemirror_mode": {
    "name": "ipython",
    "version": 3
   },
   "file_extension": ".py",
   "mimetype": "text/x-python",
   "name": "python",
   "nbconvert_exporter": "python",
   "pygments_lexer": "ipython3",
   "version": "3.10.9"
  }
 },
 "nbformat": 4,
 "nbformat_minor": 1
}