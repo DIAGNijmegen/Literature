{
 "cells": [
  {
   "cell_type": "code",
   "execution_count": 1,
   "id": "c5df60b9",
   "metadata": {},
   "outputs": [],
   "source": [
    "# !pip install pyarxiv\n",
    "# !pip install pybtex\n",
    "# !pip install dropbox\n",
    "# !pip install tqdm\n",
    "# !pip install pycolors2\n",
    "# !pip install pdf2image"
   ]
  },
  {
   "cell_type": "markdown",
   "id": "618d7d0e",
   "metadata": {},
   "source": [
    "# Libraries"
   ]
  },
  {
   "cell_type": "code",
   "execution_count": 2,
   "id": "c8fb2ae2",
   "metadata": {},
   "outputs": [],
   "source": [
    "from pathlib import Path\n",
    "from bib_handling_code.processbib import read_bibfile\n",
    "from bib_handling_code.processbib import save_to_file\n",
    "import pandas as pd\n",
    "import os\n",
    "import numpy as np\n",
    "from ast import literal_eval"
   ]
  },
  {
   "cell_type": "markdown",
   "id": "b4227f78",
   "metadata": {},
   "source": [
    "# Imports"
   ]
  },
  {
   "cell_type": "markdown",
   "id": "be436550",
   "metadata": {},
   "source": [
    "## DIAG bib"
   ]
  },
  {
   "cell_type": "code",
   "execution_count": 3,
   "id": "e8650e1d",
   "metadata": {},
   "outputs": [],
   "source": [
    "path_diag_bib = os.path.join('..', 'diag.bib')\n",
    "path_output_diag_bib = os.path.join('..', 'diag_taverne.bib')"
   ]
  },
  {
   "cell_type": "code",
   "execution_count": 4,
   "id": "ac38218a",
   "metadata": {},
   "outputs": [],
   "source": [
    "diag_bib_raw = read_bibfile(None, path_diag_bib) # I changed the code in such a way that IF I give a second argument, it uses the second argument as a full path"
   ]
  },
  {
   "cell_type": "markdown",
   "id": "2445bf06",
   "metadata": {},
   "source": [
    "## SS match data"
   ]
  },
  {
   "cell_type": "markdown",
   "id": "7c8a2ec6",
   "metadata": {},
   "source": [
    "### multiple_bibkeys_maybe_multiple_ss_ids\n",
    "- bibkey : many\n",
    "- ss_id: none, one, many "
   ]
  },
  {
   "cell_type": "code",
   "execution_count": 5,
   "id": "167eda9f",
   "metadata": {},
   "outputs": [],
   "source": [
    "df_matches_many = pd.read_csv('script_data/TEMP_LOOKUP_multiple_bibkeys_maybe_multiple_ss_ids.csv')\n",
    "# df_matches_multiple.head(3)"
   ]
  },
  {
   "cell_type": "code",
   "execution_count": 20,
   "id": "f5f851f4",
   "metadata": {},
   "outputs": [
    {
     "data": {
      "text/plain": [
       "227"
      ]
     },
     "execution_count": 20,
     "metadata": {},
     "output_type": "execute_result"
    }
   ],
   "source": [
    "bibkeys_many = []\n",
    "for str_list in list(df_matches_many['up80_bibkeys']):\n",
    "    bibkeys_many.extend(literal_eval(str_list))\n",
    "len(bibkeys_many)"
   ]
  },
  {
   "cell_type": "code",
   "execution_count": 22,
   "id": "3debc7d0-5fe7-40c7-8ad2-acec8aa5e996",
   "metadata": {},
   "outputs": [],
   "source": [
    "# df_matches_many.head()"
   ]
  },
  {
   "cell_type": "markdown",
   "id": "7dbdeca8",
   "metadata": {},
   "source": [
    "### matches_single_bibkey_with_none_or_many_ss_ids\n",
    "Filename is misleading right now, during further investigation we removed the 1-to-1 matches because these were fine\n",
    "- bibkey: one\n",
    "- ss_id: none, one, many"
   ]
  },
  {
   "cell_type": "code",
   "execution_count": 7,
   "id": "a0251466",
   "metadata": {},
   "outputs": [],
   "source": [
    "df_matches_one_to_none_or_many = pd.read_csv('script_data/TEMP_LOOKUP_matches_single_bibkey_with_none_one_or_many_ss_ids.csv')\n",
    "# df_matches_one = df_matches_one[~df_matches_one['bibkey'].isin(many_bibkeys)]\n",
    "# df_matches_one = df_matches_one[[col for col in df_matches_one.columns if col != \"Unnamed: 0\"]]"
   ]
  },
  {
   "cell_type": "code",
   "execution_count": 8,
   "id": "ac3dc427",
   "metadata": {},
   "outputs": [
    {
     "name": "stdout",
     "output_type": "stream",
     "text": [
      "121\n"
     ]
    },
    {
     "data": {
      "text/html": [
       "<div>\n",
       "<style scoped>\n",
       "    .dataframe tbody tr th:only-of-type {\n",
       "        vertical-align: middle;\n",
       "    }\n",
       "\n",
       "    .dataframe tbody tr th {\n",
       "        vertical-align: top;\n",
       "    }\n",
       "\n",
       "    .dataframe thead th {\n",
       "        text-align: right;\n",
       "    }\n",
       "</style>\n",
       "<table border=\"1\" class=\"dataframe\">\n",
       "  <thead>\n",
       "    <tr style=\"text-align: right;\">\n",
       "      <th></th>\n",
       "      <th>bibkey</th>\n",
       "      <th>type</th>\n",
       "      <th>title</th>\n",
       "      <th>authors</th>\n",
       "      <th>ss_id</th>\n",
       "      <th>all_ss_ids</th>\n",
       "      <th>comment</th>\n",
       "      <th>year</th>\n",
       "    </tr>\n",
       "  </thead>\n",
       "  <tbody>\n",
       "    <tr>\n",
       "      <th>0</th>\n",
       "      <td>Abel19</td>\n",
       "      <td>article</td>\n",
       "      <td>Computational pathology definitions, best prac...</td>\n",
       "      <td>Abels, Esther and Pantanowitz, Liron and Aeffn...</td>\n",
       "      <td>NaN</td>\n",
       "      <td>NaN</td>\n",
       "      <td>NaN</td>\n",
       "      <td>2019.0</td>\n",
       "    </tr>\n",
       "    <tr>\n",
       "      <th>1</th>\n",
       "      <td>Amga20</td>\n",
       "      <td>article</td>\n",
       "      <td>Report on computational assessment of Tumor In...</td>\n",
       "      <td>Mohamed Amgad and and Elisabeth Specht Stovgaa...</td>\n",
       "      <td>b4c4c3dc91d42114023b0575c3e2273b87446ff7</td>\n",
       "      <td>['69999230b02054b82254684a73bb8a4c83878d28', '...</td>\n",
       "      <td>[ss_ids: same DOI] title matching: single bibk...</td>\n",
       "      <td>2020.0</td>\n",
       "    </tr>\n",
       "    <tr>\n",
       "      <th>2</th>\n",
       "      <td>Anto21</td>\n",
       "      <td>article</td>\n",
       "      <td>The Medical Segmentation Decathlon</td>\n",
       "      <td>Michela Antonelli and Annika Reinke and Spyrid...</td>\n",
       "      <td>NaN</td>\n",
       "      <td>NaN</td>\n",
       "      <td>NaN</td>\n",
       "      <td>2021.0</td>\n",
       "    </tr>\n",
       "    <tr>\n",
       "      <th>3</th>\n",
       "      <td>Anto22</td>\n",
       "      <td>article</td>\n",
       "      <td>The {Medical} {Segmentation} {Decathlon</td>\n",
       "      <td>Antonelli, Michela and Reinke, Annika and Baka...</td>\n",
       "      <td>979a9f247700d00ff2c3f0612d5eb001379f93c8</td>\n",
       "      <td>['979a9f247700d00ff2c3f0612d5eb001379f93c8', '...</td>\n",
       "      <td>[ss_ids: same DOI] multiple doi matches ['979a...</td>\n",
       "      <td>2022.0</td>\n",
       "    </tr>\n",
       "    <tr>\n",
       "      <th>4</th>\n",
       "      <td>Ares18</td>\n",
       "      <td>article</td>\n",
       "      <td>iW-Net}: an automatic and minimalistic interac...</td>\n",
       "      <td>Guilherme Aresta and Colin Jacobs and Teresa A...</td>\n",
       "      <td>NaN</td>\n",
       "      <td>NaN</td>\n",
       "      <td>NaN</td>\n",
       "      <td>2018.0</td>\n",
       "    </tr>\n",
       "  </tbody>\n",
       "</table>\n",
       "</div>"
      ],
      "text/plain": [
       "   bibkey     type                                              title  \\\n",
       "0  Abel19  article  Computational pathology definitions, best prac...   \n",
       "1  Amga20  article  Report on computational assessment of Tumor In...   \n",
       "2  Anto21  article                 The Medical Segmentation Decathlon   \n",
       "3  Anto22  article            The {Medical} {Segmentation} {Decathlon   \n",
       "4  Ares18  article  iW-Net}: an automatic and minimalistic interac...   \n",
       "\n",
       "                                             authors  \\\n",
       "0  Abels, Esther and Pantanowitz, Liron and Aeffn...   \n",
       "1  Mohamed Amgad and and Elisabeth Specht Stovgaa...   \n",
       "2  Michela Antonelli and Annika Reinke and Spyrid...   \n",
       "3  Antonelli, Michela and Reinke, Annika and Baka...   \n",
       "4  Guilherme Aresta and Colin Jacobs and Teresa A...   \n",
       "\n",
       "                                      ss_id  \\\n",
       "0                                       NaN   \n",
       "1  b4c4c3dc91d42114023b0575c3e2273b87446ff7   \n",
       "2                                       NaN   \n",
       "3  979a9f247700d00ff2c3f0612d5eb001379f93c8   \n",
       "4                                       NaN   \n",
       "\n",
       "                                          all_ss_ids  \\\n",
       "0                                                NaN   \n",
       "1  ['69999230b02054b82254684a73bb8a4c83878d28', '...   \n",
       "2                                                NaN   \n",
       "3  ['979a9f247700d00ff2c3f0612d5eb001379f93c8', '...   \n",
       "4                                                NaN   \n",
       "\n",
       "                                             comment    year  \n",
       "0                                                NaN  2019.0  \n",
       "1  [ss_ids: same DOI] title matching: single bibk...  2020.0  \n",
       "2                                                NaN  2021.0  \n",
       "3  [ss_ids: same DOI] multiple doi matches ['979a...  2022.0  \n",
       "4                                                NaN  2018.0  "
      ]
     },
     "execution_count": 8,
     "metadata": {},
     "output_type": "execute_result"
    }
   ],
   "source": [
    "print(len(df_matches_one_to_none_or_many))\n",
    "df_matches_one_to_none_or_many.head()"
   ]
  },
  {
   "cell_type": "code",
   "execution_count": 9,
   "id": "1167eb6f-55eb-42ce-aa89-4554b65b2ffb",
   "metadata": {},
   "outputs": [],
   "source": [
    "bibkeys_one_to_none_or_many = df_matches_one_to_none_or_many['bibkey']"
   ]
  },
  {
   "cell_type": "code",
   "execution_count": 18,
   "id": "bfd7bcc7-4574-44a2-a617-579e8e2dc775",
   "metadata": {},
   "outputs": [
    {
     "data": {
      "text/plain": [
       "0        Abel19\n",
       "1        Amga20\n",
       "2        Anto21\n",
       "3        Anto22\n",
       "4        Ares18\n",
       "         ...   \n",
       "116      Graa23\n",
       "117    Alves22c\n",
       "118    Bosma23a\n",
       "119      Spro23\n",
       "120      Vend23\n",
       "Name: bibkey, Length: 121, dtype: object"
      ]
     },
     "execution_count": 18,
     "metadata": {},
     "output_type": "execute_result"
    }
   ],
   "source": [
    "bibkeys_one_to_none_or_many"
   ]
  },
  {
   "cell_type": "markdown",
   "id": "01e9e134-5e2c-45da-9c67-fafd99c26fef",
   "metadata": {},
   "source": [
    "### df one-to-one"
   ]
  },
  {
   "cell_type": "code",
   "execution_count": 10,
   "id": "1d2a9023-c81e-4372-9fc1-8bd33dfdf6c5",
   "metadata": {},
   "outputs": [],
   "source": [
    "df_one_to_one_matches = pd.read_csv('script_data/df_matches.csv')\n",
    "df_one_to_one_matches = df_one_to_one_matches[~df_one_to_one_matches['type'].isin(['conference', 'book', 'inbook', 'mastersthesis', 'phdthesis', 'patent', 'misc'])]\n",
    "df_one_to_one_matches = df_one_to_one_matches[df_one_to_one_matches['comment'].isin(['title matching: single bibkey, single ss_id', 'single doi match'])]\n",
    "df_one_to_one_matches['all_ss_ids'] = df_one_to_one_matches['ss_id'].apply(lambda x: [x])\n",
    "df_one_to_one_matches.to_csv('script_data/df_one_to_one_matches.csv', index=False)\n",
    "df_one_to_one_matches = pd.read_csv('script_data/df_one_to_one_matches.csv')"
   ]
  },
  {
   "cell_type": "code",
   "execution_count": 11,
   "id": "a51aa2c0-9ec3-4ab2-b7ba-d1155d484578",
   "metadata": {},
   "outputs": [
    {
     "data": {
      "text/html": [
       "<div>\n",
       "<style scoped>\n",
       "    .dataframe tbody tr th:only-of-type {\n",
       "        vertical-align: middle;\n",
       "    }\n",
       "\n",
       "    .dataframe tbody tr th {\n",
       "        vertical-align: top;\n",
       "    }\n",
       "\n",
       "    .dataframe thead th {\n",
       "        text-align: right;\n",
       "    }\n",
       "</style>\n",
       "<table border=\"1\" class=\"dataframe\">\n",
       "  <thead>\n",
       "    <tr style=\"text-align: right;\">\n",
       "      <th></th>\n",
       "      <th>bibkey</th>\n",
       "      <th>type</th>\n",
       "      <th>title</th>\n",
       "      <th>authors</th>\n",
       "      <th>ss_id</th>\n",
       "      <th>all_ss_ids</th>\n",
       "      <th>comment</th>\n",
       "    </tr>\n",
       "  </thead>\n",
       "  <tbody>\n",
       "    <tr>\n",
       "      <th>0</th>\n",
       "      <td>Abra08a</td>\n",
       "      <td>article</td>\n",
       "      <td>Evaluation of a system for automatic detection...</td>\n",
       "      <td>M. D. Abr\\`amoff and M. Niemeijer and M. S. A....</td>\n",
       "      <td>0445a1a0aa30c9ca41a8ab31463d617b849a0814</td>\n",
       "      <td>['0445a1a0aa30c9ca41a8ab31463d617b849a0814']</td>\n",
       "      <td>title matching: single bibkey, single ss_id</td>\n",
       "    </tr>\n",
       "    <tr>\n",
       "      <th>1</th>\n",
       "      <td>Adri10</td>\n",
       "      <td>article</td>\n",
       "      <td>Echocardiographic screening results in patient...</td>\n",
       "      <td>Miraude E A P M Adriaensen and Maarten J M Cra...</td>\n",
       "      <td>3da4ab4d50211eb7a0148c4ed74729b2d4e30ba9</td>\n",
       "      <td>['3da4ab4d50211eb7a0148c4ed74729b2d4e30ba9']</td>\n",
       "      <td>title matching: single bibkey, single ss_id</td>\n",
       "    </tr>\n",
       "    <tr>\n",
       "      <th>2</th>\n",
       "      <td>Adri11</td>\n",
       "      <td>article</td>\n",
       "      <td>Radiological evidence of lymphangioleiomyomato...</td>\n",
       "      <td>M. E A P M Adriaensen and C. M. Schaefer-Proko...</td>\n",
       "      <td>691c90e68eab1dcae5861fba0eab73ba626e6777</td>\n",
       "      <td>['691c90e68eab1dcae5861fba0eab73ba626e6777']</td>\n",
       "      <td>title matching: single bibkey, single ss_id</td>\n",
       "    </tr>\n",
       "    <tr>\n",
       "      <th>3</th>\n",
       "      <td>Adri11b</td>\n",
       "      <td>article</td>\n",
       "      <td>Mature fat cells in the myocardium of patients...</td>\n",
       "      <td>Miraude E A P M Adriaensen and Matthijs F M va...</td>\n",
       "      <td>c738da78dc1fb336a8dff5a8047059d52a6de939</td>\n",
       "      <td>['c738da78dc1fb336a8dff5a8047059d52a6de939']</td>\n",
       "      <td>title matching: single bibkey, single ss_id</td>\n",
       "    </tr>\n",
       "    <tr>\n",
       "      <th>4</th>\n",
       "      <td>Adri11c</td>\n",
       "      <td>article</td>\n",
       "      <td>Focal fatty areas in the myocardium of patient...</td>\n",
       "      <td>Miraude E A P M Adriaensen and Harm H H Fering...</td>\n",
       "      <td>9fabf1bc1c126702a051ec56474af2d1518ad0ba</td>\n",
       "      <td>['9fabf1bc1c126702a051ec56474af2d1518ad0ba']</td>\n",
       "      <td>single doi match</td>\n",
       "    </tr>\n",
       "  </tbody>\n",
       "</table>\n",
       "</div>"
      ],
      "text/plain": [
       "    bibkey     type                                              title  \\\n",
       "0  Abra08a  article  Evaluation of a system for automatic detection...   \n",
       "1   Adri10  article  Echocardiographic screening results in patient...   \n",
       "2   Adri11  article  Radiological evidence of lymphangioleiomyomato...   \n",
       "3  Adri11b  article  Mature fat cells in the myocardium of patients...   \n",
       "4  Adri11c  article  Focal fatty areas in the myocardium of patient...   \n",
       "\n",
       "                                             authors  \\\n",
       "0  M. D. Abr\\`amoff and M. Niemeijer and M. S. A....   \n",
       "1  Miraude E A P M Adriaensen and Maarten J M Cra...   \n",
       "2  M. E A P M Adriaensen and C. M. Schaefer-Proko...   \n",
       "3  Miraude E A P M Adriaensen and Matthijs F M va...   \n",
       "4  Miraude E A P M Adriaensen and Harm H H Fering...   \n",
       "\n",
       "                                      ss_id  \\\n",
       "0  0445a1a0aa30c9ca41a8ab31463d617b849a0814   \n",
       "1  3da4ab4d50211eb7a0148c4ed74729b2d4e30ba9   \n",
       "2  691c90e68eab1dcae5861fba0eab73ba626e6777   \n",
       "3  c738da78dc1fb336a8dff5a8047059d52a6de939   \n",
       "4  9fabf1bc1c126702a051ec56474af2d1518ad0ba   \n",
       "\n",
       "                                     all_ss_ids  \\\n",
       "0  ['0445a1a0aa30c9ca41a8ab31463d617b849a0814']   \n",
       "1  ['3da4ab4d50211eb7a0148c4ed74729b2d4e30ba9']   \n",
       "2  ['691c90e68eab1dcae5861fba0eab73ba626e6777']   \n",
       "3  ['c738da78dc1fb336a8dff5a8047059d52a6de939']   \n",
       "4  ['9fabf1bc1c126702a051ec56474af2d1518ad0ba']   \n",
       "\n",
       "                                       comment  \n",
       "0  title matching: single bibkey, single ss_id  \n",
       "1  title matching: single bibkey, single ss_id  \n",
       "2  title matching: single bibkey, single ss_id  \n",
       "3  title matching: single bibkey, single ss_id  \n",
       "4                             single doi match  "
      ]
     },
     "execution_count": 11,
     "metadata": {},
     "output_type": "execute_result"
    }
   ],
   "source": [
    "df_one_to_one_matches.head()"
   ]
  },
  {
   "cell_type": "markdown",
   "id": "fc710a92",
   "metadata": {},
   "source": [
    "# Add ss_ids to DAIG bib"
   ]
  },
  {
   "cell_type": "markdown",
   "id": "e26092b1",
   "metadata": {},
   "source": [
    "#### Logic:\n",
    "Loop over entries:\n",
    "- Skip Journal strings\n",
    "- Look up entry key (bibkey) in df_matches_one\n",
    "    - If bibkey not in df, skip\n",
    "- Check if there are SS matches for this bibkey\n",
    "    - If so, add this row's 'all_ss_ids' column to the entry"
   ]
  },
  {
   "cell_type": "code",
   "execution_count": 12,
   "id": "0065424e-1505-473b-b35c-c11b8fa0a543",
   "metadata": {},
   "outputs": [
    {
     "data": {
      "text/plain": [
       "'Mann12a'"
      ]
     },
     "execution_count": 12,
     "metadata": {},
     "output_type": "execute_result"
    }
   ],
   "source": [
    "diag_bib_raw[2000].key"
   ]
  },
  {
   "cell_type": "code",
   "execution_count": 13,
   "id": "5b9143cc-eba2-4a5c-a73d-9d61d6bf0e0f",
   "metadata": {},
   "outputs": [
    {
     "data": {
      "text/plain": [
       "{'author': '{R. Mann and R. Mus and C. Geppert and C. Frentz and N. Karssemeijer and HJ. Huisman and B. Platel}',\n",
       " 'title': '{Initial maximum slope of the contrast enhancement versus time curve for dynamic evaluation of breast lesions on ultrafast breast MRIs}',\n",
       " 'booktitle': 'ECR',\n",
       " 'year': '{2012}',\n",
       " 'url': '{http://ipp.myesr.org/esr/ecr2012/index.php?v=sessiond&seid=247&ippwwwsid=5jnho9nq3agreqirle8hkru2l2}',\n",
       " 'abstract': '{Purpose: Modern viewsharing sequences allow dynamic whole breast MRI at diagnostic spatial resolution within 5 seconds, showing the inflow of contrast in breast abnormalities. We evaluate the maximum slope of initial contrast enhancement as a heuristic parameter for differentiating benign from malignant disease and compare its value to classic 3 timepoint analysis. Methods and Materials: We employed a bi-temporal breast MRI protocol on a 3 T MRI using a 16 channel bilateral breast coil. High-resolution VIBE acquisitions (0.8*0.8*1.0 mm, temporal resolution 94s) were interleaved with a series of ultrafast TWIST acquisitions (1*1*2.5 mm, temporal resolution 4.2s) during the inflow of the contrast agent. Forty-two consecutive patients with 43 enhancing abnormalities (21 benign and 22 malignant) presenting between November 2010 and July 2011 were included. We measured the maximum slope of the relative enhancement versus time curve on the TWIST acquisitions and recorded curve type of the lesions on the VIBE acquisitions. ROC analysis was performed to compare diagnostic performance. Results: The maximum slope of the relative enhancement versus time curve was significantly better in discriminating between benign and malignant disease than the curve type (Az 0.865 vs. Az 0.723, p = 0.036). Cutoff values of 15%/sec and 3.15%/sec can be used to differentiate high-risk lesions (>85% malignancies) from intermediate and low-risk lesions (<10% malignancies). This simplification yields an Az of 0.808. Conclusion: The initial maximum slope provides more diagnostic information than the curve types and can therefore be used to assess lesion dynamics. This can substantially shorten current scan protocols.}',\n",
       " 'optnote': '{DIAG, RADIOLOGY}'}"
      ]
     },
     "execution_count": 13,
     "metadata": {},
     "output_type": "execute_result"
    }
   ],
   "source": [
    "diag_bib_raw[2000].fields"
   ]
  },
  {
   "cell_type": "code",
   "execution_count": 14,
   "id": "57a9adac",
   "metadata": {},
   "outputs": [],
   "source": [
    "for entry in diag_bib_raw:\n",
    "    ### skip Journal strings\n",
    "    if entry.type == 'string':\n",
    "        continue\n",
    "    \n",
    "    # Get data\n",
    "    bibkey = entry.key\n",
    "    match_row = df_one_to_one_matches[df_one_to_one_matches['bibkey'] == bibkey]\n",
    "    \n",
    "    # Double checks\n",
    "    if len(match_row) == 0:\n",
    "        continue\n",
    "    assert len(match_row) == 1, 'multiple rows should not be possible in this DF'\n",
    "    match_row = match_row.iloc[0]\n",
    "    \n",
    "    # If there is a match\n",
    "    if pd.notna(match_row['all_ss_ids']):\n",
    "        ## SS ID\n",
    "        # If the field is already filled, check if the same\n",
    "        if 'ss_id' in entry.fields:\n",
    "            if not entry.fields['ss_id'] == '{' + match_row['ss_id'] + '}':\n",
    "                print('ss_id data not the same\\n', bibkey, entry.fields['ss_id'], '{' + match_row['ss_id'] + '}')\n",
    "                break\n",
    "        # Else fill field\n",
    "        else: \n",
    "            entry.fields['ss_id'] = '{' + match_row['ss_id'] + '}'\n",
    "            \n",
    "        ## SS ID\n",
    "        # If the field is already filled, check if the same\n",
    "        if 'all_ss_ids' in entry.fields:\n",
    "            if not entry.fields['all_ss_ids'] == '{' + match_row['all_ss_ids'] + '}':\n",
    "                print('all_ss_ids data not the same\\n', bibkey, entry.fields['all_ss_ids'], '\\n', match_row)\n",
    "                break\n",
    "        # Else fill field\n",
    "        else: \n",
    "            entry.fields['all_ss_ids'] = '{' + match_row['all_ss_ids'] + '}'\n",
    "    \n",
    "    \n",
    "#     if entry.type == 'phdthesis':\n",
    "#         entry.fields['journal'] = '{PhD thesis}'\n",
    "#     if entry.type == 'mastersthesis':\n",
    "#         entry.fields['journal'] = '{Master thesis}'\n",
    "#     else:\n",
    "#         pass"
   ]
  },
  {
   "cell_type": "code",
   "execution_count": 15,
   "id": "75d4e207",
   "metadata": {},
   "outputs": [
    {
     "name": "stdout",
     "output_type": "stream",
     "text": [
      "917\n"
     ]
    }
   ],
   "source": [
    "count = 0\n",
    "for entry in diag_bib_raw:\n",
    "    if 'ss_id' in entry.fields:\n",
    "        count += 1\n",
    "print(count)"
   ]
  },
  {
   "cell_type": "markdown",
   "id": "0510aeb5",
   "metadata": {},
   "source": [
    "# Save new diag_taverne.bib"
   ]
  },
  {
   "cell_type": "markdown",
   "id": "de4fde51-e360-4beb-a96f-55dafd57008e",
   "metadata": {},
   "source": [
    "Here its important to be aware that withing the processbib.py file from the bib handling code, there is a hardcoded 'allowed_fields' variable on top of the file. Only fields with names with in this list can be saved to the diag.bib"
   ]
  },
  {
   "cell_type": "code",
   "execution_count": 16,
   "id": "3903bd07",
   "metadata": {},
   "outputs": [],
   "source": [
    "path_output_diag_bib = os.path.join('script_data', 'diag_ss.bib')"
   ]
  },
  {
   "cell_type": "code",
   "execution_count": 17,
   "id": "9f15d12e",
   "metadata": {},
   "outputs": [],
   "source": [
    "save_to_file(diag_bib_raw, None, path_output_diag_bib)"
   ]
  },
  {
   "cell_type": "code",
   "execution_count": null,
   "id": "27d3722f",
   "metadata": {},
   "outputs": [],
   "source": []
  },
  {
   "cell_type": "code",
   "execution_count": null,
   "id": "915a03c3-d025-4d62-9fed-39eb4cb45ac6",
   "metadata": {},
   "outputs": [],
   "source": []
  }
 ],
 "metadata": {
  "kernelspec": {
   "display_name": "Python 3 (ipykernel)",
   "language": "python",
   "name": "python3"
  },
  "language_info": {
   "codemirror_mode": {
    "name": "ipython",
    "version": 3
   },
   "file_extension": ".py",
   "mimetype": "text/x-python",
   "name": "python",
   "nbconvert_exporter": "python",
   "pygments_lexer": "ipython3",
   "version": "3.9.7"
  }
 },
 "nbformat": 4,
 "nbformat_minor": 5
}
