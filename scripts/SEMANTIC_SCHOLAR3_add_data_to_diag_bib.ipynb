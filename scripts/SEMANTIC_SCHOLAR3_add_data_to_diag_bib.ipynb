{
 "cells": [
  {
   "cell_type": "code",
   "execution_count": 1,
   "id": "c5df60b9",
   "metadata": {},
   "outputs": [],
   "source": [
    "# !pip install pyarxiv\n",
    "# !pip install pybtex\n",
    "# !pip install dropbox\n",
    "# !pip install tqdm\n",
    "# !pip install pycolors2\n",
    "# !pip install pdf2image"
   ]
  },
  {
   "cell_type": "markdown",
   "id": "618d7d0e",
   "metadata": {},
   "source": [
    "# Libraries"
   ]
  },
  {
   "cell_type": "code",
   "execution_count": 2,
   "id": "c8fb2ae2",
   "metadata": {},
   "outputs": [],
   "source": [
    "from pathlib import Path\n",
    "from bib_handling_code.processbib import read_bibfile\n",
    "from bib_handling_code.processbib import save_to_file\n",
    "import pandas as pd\n",
    "import os\n",
    "import numpy as np\n",
    "from ast import literal_eval"
   ]
  },
  {
   "cell_type": "markdown",
   "id": "b4227f78",
   "metadata": {},
   "source": [
    "# Imports"
   ]
  },
  {
   "cell_type": "markdown",
   "id": "be436550",
   "metadata": {},
   "source": [
    "## DIAG bib"
   ]
  },
  {
   "cell_type": "code",
   "execution_count": 43,
   "id": "e8650e1d",
   "metadata": {},
   "outputs": [],
   "source": [
    "path_diag_bib = os.path.join('..', 'diag.bib')\n",
    "path_output_diag_bib = os.path.join('..', 'diag_taverne.bib')"
   ]
  },
  {
   "cell_type": "code",
   "execution_count": 44,
   "id": "ac38218a",
   "metadata": {},
   "outputs": [],
   "source": [
    "diag_bib_raw = read_bibfile(None, path_diag_bib) # I changed the code in such a way that IF I give a second argument, it uses the second argument as a full path"
   ]
  },
  {
   "cell_type": "markdown",
   "id": "2445bf06",
   "metadata": {},
   "source": [
    "## SS match data"
   ]
  },
  {
   "cell_type": "markdown",
   "id": "7c8a2ec6",
   "metadata": {},
   "source": [
    "### multiple_bibkeys_maybe_multiple_ss_ids\n",
    "- bibkey : many\n",
    "- ss_id: none, one, many "
   ]
  },
  {
   "cell_type": "code",
   "execution_count": 45,
   "id": "167eda9f",
   "metadata": {},
   "outputs": [],
   "source": [
    "df_matches_many = pd.read_csv('script_data/TEMP_LOOKUP_multiple_bibkeys_maybe_multiple_ss_ids.csv')\n",
    "# df_matches_multiple.head(3)"
   ]
  },
  {
   "cell_type": "code",
   "execution_count": 46,
   "id": "f5f851f4",
   "metadata": {},
   "outputs": [
    {
     "data": {
      "text/plain": [
       "['Adri09', 'Adri11c', 'Anto21', 'Anto22', 'Anto21']"
      ]
     },
     "execution_count": 46,
     "metadata": {},
     "output_type": "execute_result"
    }
   ],
   "source": [
    "many_bibkeys = []\n",
    "for str_list in list(df_matches_many['up80_bibkeys']):\n",
    "    many_bibkeys.extend(literal_eval(str_list))\n",
    "many_bibkeys[:5]"
   ]
  },
  {
   "cell_type": "markdown",
   "id": "7dbdeca8",
   "metadata": {},
   "source": [
    "### matches_single_bibkey_with_none_one_or_many_ss_ids\n",
    "- bibkey: one\n",
    "- ss_id: none, one, many"
   ]
  },
  {
   "cell_type": "code",
   "execution_count": 53,
   "id": "a0251466",
   "metadata": {},
   "outputs": [],
   "source": [
    "df_matches_one = pd.read_csv('script_data/TEMP_LOOKUP_matches_single_bibkey_with_none_one_or_many_ss_ids.csv')\n",
    "# df_matches_one = df_matches_one[~df_matches_one['bibkey'].isin(many_bibkeys)]\n",
    "# df_matches_one = df_matches_one[[col for col in df_matches_one.columns if col != \"Unnamed: 0\"]]"
   ]
  },
  {
   "cell_type": "code",
   "execution_count": 56,
   "id": "c7834408",
   "metadata": {},
   "outputs": [
    {
     "data": {
      "text/plain": [
       "121"
      ]
     },
     "execution_count": 56,
     "metadata": {},
     "output_type": "execute_result"
    }
   ],
   "source": [
    "len(df_matches_one)"
   ]
  },
  {
   "cell_type": "code",
   "execution_count": 54,
   "id": "ac3dc427",
   "metadata": {},
   "outputs": [
    {
     "data": {
      "text/html": [
       "<div>\n",
       "<style scoped>\n",
       "    .dataframe tbody tr th:only-of-type {\n",
       "        vertical-align: middle;\n",
       "    }\n",
       "\n",
       "    .dataframe tbody tr th {\n",
       "        vertical-align: top;\n",
       "    }\n",
       "\n",
       "    .dataframe thead th {\n",
       "        text-align: right;\n",
       "    }\n",
       "</style>\n",
       "<table border=\"1\" class=\"dataframe\">\n",
       "  <thead>\n",
       "    <tr style=\"text-align: right;\">\n",
       "      <th></th>\n",
       "      <th>Unnamed: 0</th>\n",
       "      <th>bibkey</th>\n",
       "      <th>type</th>\n",
       "      <th>title</th>\n",
       "      <th>authors</th>\n",
       "      <th>ss_id</th>\n",
       "      <th>all_ss_ids</th>\n",
       "      <th>comment</th>\n",
       "      <th>year</th>\n",
       "    </tr>\n",
       "  </thead>\n",
       "  <tbody>\n",
       "    <tr>\n",
       "      <th>0</th>\n",
       "      <td>3</td>\n",
       "      <td>Abel19</td>\n",
       "      <td>article</td>\n",
       "      <td>Computational pathology definitions, best prac...</td>\n",
       "      <td>Abels, Esther and Pantanowitz, Liron and Aeffn...</td>\n",
       "      <td>NaN</td>\n",
       "      <td>NaN</td>\n",
       "      <td>NaN</td>\n",
       "      <td>2019.0</td>\n",
       "    </tr>\n",
       "    <tr>\n",
       "      <th>1</th>\n",
       "      <td>19</td>\n",
       "      <td>Amga20</td>\n",
       "      <td>article</td>\n",
       "      <td>Report on computational assessment of Tumor In...</td>\n",
       "      <td>Mohamed Amgad and and Elisabeth Specht Stovgaa...</td>\n",
       "      <td>b4c4c3dc91d42114023b0575c3e2273b87446ff7</td>\n",
       "      <td>['69999230b02054b82254684a73bb8a4c83878d28', '...</td>\n",
       "      <td>[ss_ids: same DOI] title matching: single bibk...</td>\n",
       "      <td>2020.0</td>\n",
       "    </tr>\n",
       "    <tr>\n",
       "      <th>2</th>\n",
       "      <td>21</td>\n",
       "      <td>Anto21</td>\n",
       "      <td>article</td>\n",
       "      <td>The Medical Segmentation Decathlon</td>\n",
       "      <td>Michela Antonelli and Annika Reinke and Spyrid...</td>\n",
       "      <td>NaN</td>\n",
       "      <td>NaN</td>\n",
       "      <td>NaN</td>\n",
       "      <td>2021.0</td>\n",
       "    </tr>\n",
       "    <tr>\n",
       "      <th>3</th>\n",
       "      <td>22</td>\n",
       "      <td>Anto22</td>\n",
       "      <td>article</td>\n",
       "      <td>The {Medical} {Segmentation} {Decathlon</td>\n",
       "      <td>Antonelli, Michela and Reinke, Annika and Baka...</td>\n",
       "      <td>979a9f247700d00ff2c3f0612d5eb001379f93c8</td>\n",
       "      <td>['979a9f247700d00ff2c3f0612d5eb001379f93c8', '...</td>\n",
       "      <td>[ss_ids: same DOI] multiple doi matches ['979a...</td>\n",
       "      <td>2022.0</td>\n",
       "    </tr>\n",
       "    <tr>\n",
       "      <th>4</th>\n",
       "      <td>26</td>\n",
       "      <td>Ares18</td>\n",
       "      <td>article</td>\n",
       "      <td>iW-Net}: an automatic and minimalistic interac...</td>\n",
       "      <td>Guilherme Aresta and Colin Jacobs and Teresa A...</td>\n",
       "      <td>NaN</td>\n",
       "      <td>NaN</td>\n",
       "      <td>NaN</td>\n",
       "      <td>2018.0</td>\n",
       "    </tr>\n",
       "  </tbody>\n",
       "</table>\n",
       "</div>"
      ],
      "text/plain": [
       "   Unnamed: 0  bibkey     type  \\\n",
       "0           3  Abel19  article   \n",
       "1          19  Amga20  article   \n",
       "2          21  Anto21  article   \n",
       "3          22  Anto22  article   \n",
       "4          26  Ares18  article   \n",
       "\n",
       "                                               title  \\\n",
       "0  Computational pathology definitions, best prac...   \n",
       "1  Report on computational assessment of Tumor In...   \n",
       "2                 The Medical Segmentation Decathlon   \n",
       "3            The {Medical} {Segmentation} {Decathlon   \n",
       "4  iW-Net}: an automatic and minimalistic interac...   \n",
       "\n",
       "                                             authors  \\\n",
       "0  Abels, Esther and Pantanowitz, Liron and Aeffn...   \n",
       "1  Mohamed Amgad and and Elisabeth Specht Stovgaa...   \n",
       "2  Michela Antonelli and Annika Reinke and Spyrid...   \n",
       "3  Antonelli, Michela and Reinke, Annika and Baka...   \n",
       "4  Guilherme Aresta and Colin Jacobs and Teresa A...   \n",
       "\n",
       "                                      ss_id  \\\n",
       "0                                       NaN   \n",
       "1  b4c4c3dc91d42114023b0575c3e2273b87446ff7   \n",
       "2                                       NaN   \n",
       "3  979a9f247700d00ff2c3f0612d5eb001379f93c8   \n",
       "4                                       NaN   \n",
       "\n",
       "                                          all_ss_ids  \\\n",
       "0                                                NaN   \n",
       "1  ['69999230b02054b82254684a73bb8a4c83878d28', '...   \n",
       "2                                                NaN   \n",
       "3  ['979a9f247700d00ff2c3f0612d5eb001379f93c8', '...   \n",
       "4                                                NaN   \n",
       "\n",
       "                                             comment    year  \n",
       "0                                                NaN  2019.0  \n",
       "1  [ss_ids: same DOI] title matching: single bibk...  2020.0  \n",
       "2                                                NaN  2021.0  \n",
       "3  [ss_ids: same DOI] multiple doi matches ['979a...  2022.0  \n",
       "4                                                NaN  2018.0  "
      ]
     },
     "execution_count": 54,
     "metadata": {},
     "output_type": "execute_result"
    }
   ],
   "source": [
    "df_matches_one.head()"
   ]
  },
  {
   "cell_type": "code",
   "execution_count": 55,
   "id": "3ba0f364",
   "metadata": {},
   "outputs": [
    {
     "data": {
      "text/plain": [
       "39"
      ]
     },
     "execution_count": 55,
     "metadata": {},
     "output_type": "execute_result"
    }
   ],
   "source": [
    "sum(df_matches_one['ss_id'].notna())"
   ]
  },
  {
   "cell_type": "markdown",
   "id": "fc710a92",
   "metadata": {},
   "source": [
    "# Add ss_ids to DAIG bib"
   ]
  },
  {
   "cell_type": "markdown",
   "id": "e26092b1",
   "metadata": {},
   "source": [
    "#### Logic:\n",
    "Loop over entries:\n",
    "- Skip Journal strings\n",
    "- Look up entry key (bibkey) in df_matches_one\n",
    "    - If bibkey not in df, skip\n",
    "- Check if there are SS matches for this bibkey\n",
    "    - If so, add this row's 'all_ss_ids' column to the entry"
   ]
  },
  {
   "cell_type": "code",
   "execution_count": 49,
   "id": "57a9adac",
   "metadata": {},
   "outputs": [],
   "source": [
    "for entry in diag_bib_raw:\n",
    "    ### skip Journal strings\n",
    "    if entry.type == 'string':\n",
    "        continue\n",
    "    \n",
    "    # Get data\n",
    "    bibkey = entry.key\n",
    "    match_row = df_matches_one[df_matches_one['bibkey'] == bibkey]\n",
    "    \n",
    "    # Double checks\n",
    "    if len(match_row) == 0:\n",
    "        continue\n",
    "    assert len(match_row) == 1, 'multiple rows should not be possible in this DF'\n",
    "    match_row = match_row.iloc[0]\n",
    "    \n",
    "    # If there is a match\n",
    "    if pd.notna(match_row['all_ss_ids']):\n",
    "        ## SS ID\n",
    "        # If the field is already filled, check if the same\n",
    "        if 'ss_id' in entry.fields:\n",
    "            if not entry.fields['ss_id'] == '{' + match_row['ss_id'] + '}':\n",
    "                print('ss_id data not the same\\n', bibkey, entry.fields['ss_id'], '{' + match_row['ss_id'] + '}')\n",
    "                break\n",
    "        # Else fill field\n",
    "        else: \n",
    "            entry.fields['ss_id'] = '{' + match_row['ss_id'] + '}'\n",
    "            \n",
    "        ## SS ID\n",
    "        # If the field is already filled, check if the same\n",
    "        if 'all_ss_ids' in entry.fields:\n",
    "            if not entry.fields['all_ss_ids'] == '{' + match_row['all_ss_ids'] + '}':\n",
    "                print('all_ss_ids data not the same\\n', bibkey, entry.fields['all_ss_ids'], '\\n', match_row)\n",
    "                break\n",
    "        # Else fill field\n",
    "        else: \n",
    "            entry.fields['all_ss_ids'] = '{' + match_row['all_ss_ids'] + '}'\n",
    "    \n",
    "    \n",
    "#     if entry.type == 'phdthesis':\n",
    "#         entry.fields['journal'] = '{PhD thesis}'\n",
    "#     if entry.type == 'mastersthesis':\n",
    "#         entry.fields['journal'] = '{Master thesis}'\n",
    "#     else:\n",
    "#         pass"
   ]
  },
  {
   "cell_type": "code",
   "execution_count": 51,
   "id": "75d4e207",
   "metadata": {},
   "outputs": [
    {
     "name": "stdout",
     "output_type": "stream",
     "text": [
      "36\n"
     ]
    }
   ],
   "source": [
    "count = 0\n",
    "for entry in diag_bib_raw:\n",
    "    if 'ss_id' in entry.fields:\n",
    "        count += 1\n",
    "print(count)"
   ]
  },
  {
   "cell_type": "markdown",
   "id": "0510aeb5",
   "metadata": {},
   "source": [
    "# Save new diag_taverne.bib"
   ]
  },
  {
   "cell_type": "code",
   "execution_count": 58,
   "id": "3903bd07",
   "metadata": {},
   "outputs": [],
   "source": [
    "path_output_diag_bib = os.path.join('script_data', 'diag_ss.bib')"
   ]
  },
  {
   "cell_type": "code",
   "execution_count": 59,
   "id": "9f15d12e",
   "metadata": {},
   "outputs": [],
   "source": [
    "save_to_file(diag_bib_raw, None, path_output_diag_bib)"
   ]
  },
  {
   "cell_type": "code",
   "execution_count": null,
   "id": "27d3722f",
   "metadata": {},
   "outputs": [],
   "source": []
  }
 ],
 "metadata": {
  "kernelspec": {
   "display_name": "Python 3 (ipykernel)",
   "language": "python",
   "name": "python3"
  },
  "language_info": {
   "codemirror_mode": {
    "name": "ipython",
    "version": 3
   },
   "file_extension": ".py",
   "mimetype": "text/x-python",
   "name": "python",
   "nbconvert_exporter": "python",
   "pygments_lexer": "ipython3",
   "version": "3.9.7"
  }
 },
 "nbformat": 4,
 "nbformat_minor": 5
}
