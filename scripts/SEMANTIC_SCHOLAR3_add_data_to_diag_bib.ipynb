{
 "cells": [
  {
   "cell_type": "code",
   "execution_count": 1,
   "id": "c5df60b9",
   "metadata": {},
   "outputs": [],
   "source": [
    "# !pip install pyarxiv\n",
    "# !pip install pybtex\n",
    "# !pip install dropbox\n",
    "# !pip install tqdm\n",
    "# !pip install pycolors2\n",
    "# !pip install pdf2image"
   ]
  },
  {
   "cell_type": "markdown",
   "id": "618d7d0e",
   "metadata": {},
   "source": [
    "# Libraries"
   ]
  },
  {
   "cell_type": "code",
   "execution_count": 2,
   "id": "c8fb2ae2",
   "metadata": {},
   "outputs": [],
   "source": [
    "from pathlib import Path\n",
    "from bib_handling_code.processbib import read_bibfile\n",
    "from bib_handling_code.processbib import save_to_file\n",
    "import pandas as pd\n",
    "import os\n",
    "import numpy as np\n",
    "from ast import literal_eval"
   ]
  },
  {
   "cell_type": "markdown",
   "id": "b4227f78",
   "metadata": {},
   "source": [
    "# Imports"
   ]
  },
  {
   "cell_type": "markdown",
   "id": "be436550",
   "metadata": {},
   "source": [
    "## DIAG bib"
   ]
  },
  {
   "cell_type": "code",
   "execution_count": 3,
   "id": "e8650e1d",
   "metadata": {},
   "outputs": [],
   "source": [
    "path_diag_bib = os.path.join('..', 'diag.bib')\n",
    "path_output_diag_bib = os.path.join('..', 'diag_taverne.bib')"
   ]
  },
  {
   "cell_type": "code",
   "execution_count": 4,
   "id": "ac38218a",
   "metadata": {},
   "outputs": [],
   "source": [
    "diag_bib_raw = read_bibfile(None, path_diag_bib) # I changed the code in such a way that IF I give a second argument, it uses the second argument as a full path"
   ]
  },
  {
   "cell_type": "code",
   "execution_count": 5,
   "id": "d0ffb28f-71e1-4b72-bbde-977a192e21e2",
   "metadata": {},
   "outputs": [],
   "source": [
    "bibkeys_all = []\n",
    "for entry in diag_bib_raw:\n",
    "    if entry.type == 'string':\n",
    "        continue\n",
    "    if 'year' in entry.fields:\n",
    "        if (int(entry.fields['year'].strip('{}')) < 2015):\n",
    "            continue\n",
    "    bibkeys_all.append(entry.key)"
   ]
  },
  {
   "cell_type": "code",
   "execution_count": 6,
   "id": "ac217dea-a906-478c-9e80-52dc0ebd9e2f",
   "metadata": {},
   "outputs": [
    {
     "name": "stdout",
     "output_type": "stream",
     "text": [
      "865\n"
     ]
    },
    {
     "data": {
      "text/plain": [
       "['Genu22', 'Abel19', 'Alee18', 'Altu20', 'Alves21a']"
      ]
     },
     "execution_count": 6,
     "metadata": {},
     "output_type": "execute_result"
    }
   ],
   "source": [
    "print(len(bibkeys_all))\n",
    "bibkeys_all[:5]"
   ]
  },
  {
   "cell_type": "markdown",
   "id": "2445bf06",
   "metadata": {},
   "source": [
    "## SS match data"
   ]
  },
  {
   "cell_type": "markdown",
   "id": "7c8a2ec6",
   "metadata": {},
   "source": [
    "### multiple_bibkeys_maybe_multiple_ss_ids\n",
    "- bibkey : many\n",
    "- ss_id: none, one, many "
   ]
  },
  {
   "cell_type": "code",
   "execution_count": 7,
   "id": "167eda9f",
   "metadata": {},
   "outputs": [],
   "source": [
    "df_matches_many = pd.read_csv('script_data/TEMP_LOOKUP_multiple_bibkeys_maybe_multiple_ss_ids.csv')\n",
    "# df_matches_multiple.head(3)"
   ]
  },
  {
   "cell_type": "code",
   "execution_count": 8,
   "id": "3debc7d0-5fe7-40c7-8ad2-acec8aa5e996",
   "metadata": {},
   "outputs": [
    {
     "data": {
      "text/html": [
       "<div>\n",
       "<style scoped>\n",
       "    .dataframe tbody tr th:only-of-type {\n",
       "        vertical-align: middle;\n",
       "    }\n",
       "\n",
       "    .dataframe tbody tr th {\n",
       "        vertical-align: top;\n",
       "    }\n",
       "\n",
       "    .dataframe thead th {\n",
       "        text-align: right;\n",
       "    }\n",
       "</style>\n",
       "<table border=\"1\" class=\"dataframe\">\n",
       "  <thead>\n",
       "    <tr style=\"text-align: right;\">\n",
       "      <th></th>\n",
       "      <th>ss_id</th>\n",
       "      <th>ss_title</th>\n",
       "      <th>max_bibkey</th>\n",
       "      <th>max_bib_title</th>\n",
       "      <th>max_ratio</th>\n",
       "      <th>up80_bibkeys</th>\n",
       "      <th>up80_bib_titles</th>\n",
       "      <th>up80_ratios</th>\n",
       "    </tr>\n",
       "  </thead>\n",
       "  <tbody>\n",
       "    <tr>\n",
       "      <th>0</th>\n",
       "      <td>9fabf1bc1c126702a051ec56474af2d1518ad0ba</td>\n",
       "      <td>Focal fatty areas in the myocardium of patient...</td>\n",
       "      <td>Adri11c</td>\n",
       "      <td>Focal fatty areas in the myocardium of patient...</td>\n",
       "      <td>0.994872</td>\n",
       "      <td>['Adri09', 'Adri11c']</td>\n",
       "      <td>['Fatty foci in the myocardium in patients wit...</td>\n",
       "      <td>[0.8020833333333334, 0.9948717948717949]</td>\n",
       "    </tr>\n",
       "    <tr>\n",
       "      <th>1</th>\n",
       "      <td>979a9f247700d00ff2c3f0612d5eb001379f93c8</td>\n",
       "      <td>The Medical Segmentation Decathlon</td>\n",
       "      <td>Anto21</td>\n",
       "      <td>The Medical Segmentation Decathlon</td>\n",
       "      <td>1.000000</td>\n",
       "      <td>['Anto21', 'Anto22']</td>\n",
       "      <td>['The Medical Segmentation Decathlon', 'The Me...</td>\n",
       "      <td>[1.0, 1.0]</td>\n",
       "    </tr>\n",
       "    <tr>\n",
       "      <th>2</th>\n",
       "      <td>c397c6f1480ac8e3ed875adad96e9b3e00c37f26</td>\n",
       "      <td>The Medical Segmentation Decathlon</td>\n",
       "      <td>Anto21</td>\n",
       "      <td>The Medical Segmentation Decathlon</td>\n",
       "      <td>1.000000</td>\n",
       "      <td>['Anto21', 'Anto22']</td>\n",
       "      <td>['The Medical Segmentation Decathlon', 'The Me...</td>\n",
       "      <td>[1.0, 1.0]</td>\n",
       "    </tr>\n",
       "    <tr>\n",
       "      <th>3</th>\n",
       "      <td>b3dc561dd990cebc626e10318b8582a198aa3571</td>\n",
       "      <td>iW-Net: an automatic and minimalistic interact...</td>\n",
       "      <td>Ares18</td>\n",
       "      <td>iW-Net: an automatic and minimalistic interact...</td>\n",
       "      <td>1.000000</td>\n",
       "      <td>['Ares18', 'Ares19']</td>\n",
       "      <td>['iW-Net: an automatic and minimalistic intera...</td>\n",
       "      <td>[1.0, 1.0]</td>\n",
       "    </tr>\n",
       "    <tr>\n",
       "      <th>4</th>\n",
       "      <td>0655dcaa39cf41a3609974840f91300d73b4aed1</td>\n",
       "      <td>The Liver Tumor Segmentation Benchmark (LiTS)</td>\n",
       "      <td>Bili19</td>\n",
       "      <td>The Liver Tumor Segmentation Benchmark (LiTS)</td>\n",
       "      <td>1.000000</td>\n",
       "      <td>['Bili19', 'Bili22']</td>\n",
       "      <td>['The Liver Tumor Segmentation Benchmark (LiTS...</td>\n",
       "      <td>[1.0, 1.0]</td>\n",
       "    </tr>\n",
       "  </tbody>\n",
       "</table>\n",
       "</div>"
      ],
      "text/plain": [
       "                                      ss_id  \\\n",
       "0  9fabf1bc1c126702a051ec56474af2d1518ad0ba   \n",
       "1  979a9f247700d00ff2c3f0612d5eb001379f93c8   \n",
       "2  c397c6f1480ac8e3ed875adad96e9b3e00c37f26   \n",
       "3  b3dc561dd990cebc626e10318b8582a198aa3571   \n",
       "4  0655dcaa39cf41a3609974840f91300d73b4aed1   \n",
       "\n",
       "                                            ss_title max_bibkey  \\\n",
       "0  Focal fatty areas in the myocardium of patient...    Adri11c   \n",
       "1                 The Medical Segmentation Decathlon     Anto21   \n",
       "2                 The Medical Segmentation Decathlon     Anto21   \n",
       "3  iW-Net: an automatic and minimalistic interact...     Ares18   \n",
       "4      The Liver Tumor Segmentation Benchmark (LiTS)     Bili19   \n",
       "\n",
       "                                       max_bib_title  max_ratio  \\\n",
       "0  Focal fatty areas in the myocardium of patient...   0.994872   \n",
       "1                 The Medical Segmentation Decathlon   1.000000   \n",
       "2                 The Medical Segmentation Decathlon   1.000000   \n",
       "3  iW-Net: an automatic and minimalistic interact...   1.000000   \n",
       "4      The Liver Tumor Segmentation Benchmark (LiTS)   1.000000   \n",
       "\n",
       "            up80_bibkeys                                    up80_bib_titles  \\\n",
       "0  ['Adri09', 'Adri11c']  ['Fatty foci in the myocardium in patients wit...   \n",
       "1   ['Anto21', 'Anto22']  ['The Medical Segmentation Decathlon', 'The Me...   \n",
       "2   ['Anto21', 'Anto22']  ['The Medical Segmentation Decathlon', 'The Me...   \n",
       "3   ['Ares18', 'Ares19']  ['iW-Net: an automatic and minimalistic intera...   \n",
       "4   ['Bili19', 'Bili22']  ['The Liver Tumor Segmentation Benchmark (LiTS...   \n",
       "\n",
       "                                up80_ratios  \n",
       "0  [0.8020833333333334, 0.9948717948717949]  \n",
       "1                                [1.0, 1.0]  \n",
       "2                                [1.0, 1.0]  \n",
       "3                                [1.0, 1.0]  \n",
       "4                                [1.0, 1.0]  "
      ]
     },
     "execution_count": 8,
     "metadata": {},
     "output_type": "execute_result"
    }
   ],
   "source": [
    "df_matches_many.head()"
   ]
  },
  {
   "cell_type": "code",
   "execution_count": 9,
   "id": "f5f851f4",
   "metadata": {},
   "outputs": [
    {
     "name": "stdout",
     "output_type": "stream",
     "text": [
      "228\n"
     ]
    },
    {
     "data": {
      "text/plain": [
       "['Adri09', 'Adri11c', 'Anto21', 'Anto22', 'Ares18']"
      ]
     },
     "execution_count": 9,
     "metadata": {},
     "output_type": "execute_result"
    }
   ],
   "source": [
    "bibkeys_many = []\n",
    "for str_list in list(df_matches_many['up80_bibkeys']):\n",
    "    bibkeys_many.extend(literal_eval(str_list))\n",
    "print(len(bibkeys_many))\n",
    "bibkeys_many = list(np.unique(bibkeys_many))\n",
    "bibkeys_many[:5]"
   ]
  },
  {
   "cell_type": "markdown",
   "id": "7dbdeca8",
   "metadata": {},
   "source": [
    "### matches_single_bibkey_with_none_or_many_ss_ids\n",
    "Filename is misleading right now, during further investigation we removed the 1-to-1 matches because these were fine\n",
    "- bibkey: one\n",
    "- ss_id: none, many"
   ]
  },
  {
   "cell_type": "code",
   "execution_count": 10,
   "id": "a0251466",
   "metadata": {},
   "outputs": [],
   "source": [
    "df_matches_one_to_none_or_many = pd.read_csv('script_data/TEMP_LOOKUP_matches_single_bibkey_with_none_one_or_many_ss_ids.csv')\n",
    "# df_matches_one = df_matches_one[~df_matches_one['bibkey'].isin(many_bibkeys)]\n",
    "# df_matches_one = df_matches_one[[col for col in df_matches_one.columns if col != \"Unnamed: 0\"]]"
   ]
  },
  {
   "cell_type": "code",
   "execution_count": 11,
   "id": "ac3dc427",
   "metadata": {},
   "outputs": [
    {
     "name": "stdout",
     "output_type": "stream",
     "text": [
      "112\n"
     ]
    },
    {
     "data": {
      "text/html": [
       "<div>\n",
       "<style scoped>\n",
       "    .dataframe tbody tr th:only-of-type {\n",
       "        vertical-align: middle;\n",
       "    }\n",
       "\n",
       "    .dataframe tbody tr th {\n",
       "        vertical-align: top;\n",
       "    }\n",
       "\n",
       "    .dataframe thead th {\n",
       "        text-align: right;\n",
       "    }\n",
       "</style>\n",
       "<table border=\"1\" class=\"dataframe\">\n",
       "  <thead>\n",
       "    <tr style=\"text-align: right;\">\n",
       "      <th></th>\n",
       "      <th>bibkey</th>\n",
       "      <th>type</th>\n",
       "      <th>title</th>\n",
       "      <th>authors</th>\n",
       "      <th>ss_id</th>\n",
       "      <th>all_ss_ids</th>\n",
       "      <th>comment</th>\n",
       "      <th>year</th>\n",
       "    </tr>\n",
       "  </thead>\n",
       "  <tbody>\n",
       "    <tr>\n",
       "      <th>0</th>\n",
       "      <td>Abel19</td>\n",
       "      <td>article</td>\n",
       "      <td>Computational pathology definitions, best prac...</td>\n",
       "      <td>Abels, Esther and Pantanowitz, Liron and Aeffn...</td>\n",
       "      <td>NaN</td>\n",
       "      <td>NaN</td>\n",
       "      <td>NaN</td>\n",
       "      <td>2019.0</td>\n",
       "    </tr>\n",
       "    <tr>\n",
       "      <th>1</th>\n",
       "      <td>Amga20</td>\n",
       "      <td>article</td>\n",
       "      <td>Report on computational assessment of Tumor In...</td>\n",
       "      <td>Mohamed Amgad and and Elisabeth Specht Stovgaa...</td>\n",
       "      <td>b4c4c3dc91d42114023b0575c3e2273b87446ff7</td>\n",
       "      <td>['69999230b02054b82254684a73bb8a4c83878d28', '...</td>\n",
       "      <td>[ss_ids: same DOI] title matching: single bibk...</td>\n",
       "      <td>2020.0</td>\n",
       "    </tr>\n",
       "    <tr>\n",
       "      <th>2</th>\n",
       "      <td>Anto21</td>\n",
       "      <td>article</td>\n",
       "      <td>The Medical Segmentation Decathlon</td>\n",
       "      <td>Michela Antonelli and Annika Reinke and Spyrid...</td>\n",
       "      <td>NaN</td>\n",
       "      <td>NaN</td>\n",
       "      <td>NaN</td>\n",
       "      <td>2021.0</td>\n",
       "    </tr>\n",
       "    <tr>\n",
       "      <th>3</th>\n",
       "      <td>Anto22</td>\n",
       "      <td>article</td>\n",
       "      <td>The {Medical} {Segmentation} {Decathlon</td>\n",
       "      <td>Antonelli, Michela and Reinke, Annika and Baka...</td>\n",
       "      <td>979a9f247700d00ff2c3f0612d5eb001379f93c8</td>\n",
       "      <td>['979a9f247700d00ff2c3f0612d5eb001379f93c8', '...</td>\n",
       "      <td>[ss_ids: same DOI] multiple doi matches ['979a...</td>\n",
       "      <td>2022.0</td>\n",
       "    </tr>\n",
       "    <tr>\n",
       "      <th>4</th>\n",
       "      <td>Ares18</td>\n",
       "      <td>article</td>\n",
       "      <td>iW-Net}: an automatic and minimalistic interac...</td>\n",
       "      <td>Guilherme Aresta and Colin Jacobs and Teresa A...</td>\n",
       "      <td>NaN</td>\n",
       "      <td>NaN</td>\n",
       "      <td>NaN</td>\n",
       "      <td>2018.0</td>\n",
       "    </tr>\n",
       "  </tbody>\n",
       "</table>\n",
       "</div>"
      ],
      "text/plain": [
       "   bibkey     type                                              title  \\\n",
       "0  Abel19  article  Computational pathology definitions, best prac...   \n",
       "1  Amga20  article  Report on computational assessment of Tumor In...   \n",
       "2  Anto21  article                 The Medical Segmentation Decathlon   \n",
       "3  Anto22  article            The {Medical} {Segmentation} {Decathlon   \n",
       "4  Ares18  article  iW-Net}: an automatic and minimalistic interac...   \n",
       "\n",
       "                                             authors  \\\n",
       "0  Abels, Esther and Pantanowitz, Liron and Aeffn...   \n",
       "1  Mohamed Amgad and and Elisabeth Specht Stovgaa...   \n",
       "2  Michela Antonelli and Annika Reinke and Spyrid...   \n",
       "3  Antonelli, Michela and Reinke, Annika and Baka...   \n",
       "4  Guilherme Aresta and Colin Jacobs and Teresa A...   \n",
       "\n",
       "                                      ss_id  \\\n",
       "0                                       NaN   \n",
       "1  b4c4c3dc91d42114023b0575c3e2273b87446ff7   \n",
       "2                                       NaN   \n",
       "3  979a9f247700d00ff2c3f0612d5eb001379f93c8   \n",
       "4                                       NaN   \n",
       "\n",
       "                                          all_ss_ids  \\\n",
       "0                                                NaN   \n",
       "1  ['69999230b02054b82254684a73bb8a4c83878d28', '...   \n",
       "2                                                NaN   \n",
       "3  ['979a9f247700d00ff2c3f0612d5eb001379f93c8', '...   \n",
       "4                                                NaN   \n",
       "\n",
       "                                             comment    year  \n",
       "0                                                NaN  2019.0  \n",
       "1  [ss_ids: same DOI] title matching: single bibk...  2020.0  \n",
       "2                                                NaN  2021.0  \n",
       "3  [ss_ids: same DOI] multiple doi matches ['979a...  2022.0  \n",
       "4                                                NaN  2018.0  "
      ]
     },
     "execution_count": 11,
     "metadata": {},
     "output_type": "execute_result"
    }
   ],
   "source": [
    "print(len(df_matches_one_to_none_or_many))\n",
    "df_matches_one_to_none_or_many.head()"
   ]
  },
  {
   "cell_type": "code",
   "execution_count": 12,
   "id": "1167eb6f-55eb-42ce-aa89-4554b65b2ffb",
   "metadata": {},
   "outputs": [
    {
     "data": {
      "text/plain": [
       "0    Abel19\n",
       "1    Amga20\n",
       "2    Anto21\n",
       "3    Anto22\n",
       "4    Ares18\n",
       "Name: bibkey, dtype: object"
      ]
     },
     "execution_count": 12,
     "metadata": {},
     "output_type": "execute_result"
    }
   ],
   "source": [
    "bibkeys_one_to_none_or_many = df_matches_one_to_none_or_many['bibkey']\n",
    "bibkeys_one_to_none_or_many[:5]"
   ]
  },
  {
   "cell_type": "markdown",
   "id": "b12c15d9-e44d-4cd4-bb44-917a5e7ffc94",
   "metadata": {},
   "source": [
    "### df one-to-none"
   ]
  },
  {
   "cell_type": "code",
   "execution_count": 13,
   "id": "54cff060-35e9-48e3-abc9-57dcb96c14af",
   "metadata": {},
   "outputs": [],
   "source": [
    "df_matches_one_to_none = df_matches_one_to_none_or_many[pd.isna(df_matches_one_to_none_or_many['ss_id'])]"
   ]
  },
  {
   "cell_type": "code",
   "execution_count": 14,
   "id": "5675a93d-0860-4756-aefd-39efee4aa7d8",
   "metadata": {},
   "outputs": [
    {
     "name": "stdout",
     "output_type": "stream",
     "text": [
      "80\n"
     ]
    },
    {
     "data": {
      "text/html": [
       "<div>\n",
       "<style scoped>\n",
       "    .dataframe tbody tr th:only-of-type {\n",
       "        vertical-align: middle;\n",
       "    }\n",
       "\n",
       "    .dataframe tbody tr th {\n",
       "        vertical-align: top;\n",
       "    }\n",
       "\n",
       "    .dataframe thead th {\n",
       "        text-align: right;\n",
       "    }\n",
       "</style>\n",
       "<table border=\"1\" class=\"dataframe\">\n",
       "  <thead>\n",
       "    <tr style=\"text-align: right;\">\n",
       "      <th></th>\n",
       "      <th>bibkey</th>\n",
       "      <th>type</th>\n",
       "      <th>title</th>\n",
       "      <th>authors</th>\n",
       "      <th>ss_id</th>\n",
       "      <th>all_ss_ids</th>\n",
       "      <th>comment</th>\n",
       "      <th>year</th>\n",
       "    </tr>\n",
       "  </thead>\n",
       "  <tbody>\n",
       "    <tr>\n",
       "      <th>0</th>\n",
       "      <td>Abel19</td>\n",
       "      <td>article</td>\n",
       "      <td>Computational pathology definitions, best prac...</td>\n",
       "      <td>Abels, Esther and Pantanowitz, Liron and Aeffn...</td>\n",
       "      <td>NaN</td>\n",
       "      <td>NaN</td>\n",
       "      <td>NaN</td>\n",
       "      <td>2019.0</td>\n",
       "    </tr>\n",
       "    <tr>\n",
       "      <th>2</th>\n",
       "      <td>Anto21</td>\n",
       "      <td>article</td>\n",
       "      <td>The Medical Segmentation Decathlon</td>\n",
       "      <td>Michela Antonelli and Annika Reinke and Spyrid...</td>\n",
       "      <td>NaN</td>\n",
       "      <td>NaN</td>\n",
       "      <td>NaN</td>\n",
       "      <td>2021.0</td>\n",
       "    </tr>\n",
       "    <tr>\n",
       "      <th>4</th>\n",
       "      <td>Ares18</td>\n",
       "      <td>article</td>\n",
       "      <td>iW-Net}: an automatic and minimalistic interac...</td>\n",
       "      <td>Guilherme Aresta and Colin Jacobs and Teresa A...</td>\n",
       "      <td>NaN</td>\n",
       "      <td>NaN</td>\n",
       "      <td>NaN</td>\n",
       "      <td>2018.0</td>\n",
       "    </tr>\n",
       "    <tr>\n",
       "      <th>9</th>\n",
       "      <td>Bili19</td>\n",
       "      <td>article</td>\n",
       "      <td>The {L}iver {T}umor {S}egmentation {B}enchmark...</td>\n",
       "      <td>Patrick Bilic and Patrick Ferdinand Christ and...</td>\n",
       "      <td>NaN</td>\n",
       "      <td>NaN</td>\n",
       "      <td>NaN</td>\n",
       "      <td>2019.0</td>\n",
       "    </tr>\n",
       "    <tr>\n",
       "      <th>12</th>\n",
       "      <td>Busc16</td>\n",
       "      <td>article</td>\n",
       "      <td>Risk factors for COPD exacerbations in inhaled...</td>\n",
       "      <td>Busch, Robert and Han, MeiLan K and Bowler, Ru...</td>\n",
       "      <td>NaN</td>\n",
       "      <td>NaN</td>\n",
       "      <td>NaN</td>\n",
       "      <td>2016.0</td>\n",
       "    </tr>\n",
       "  </tbody>\n",
       "</table>\n",
       "</div>"
      ],
      "text/plain": [
       "    bibkey     type                                              title  \\\n",
       "0   Abel19  article  Computational pathology definitions, best prac...   \n",
       "2   Anto21  article                 The Medical Segmentation Decathlon   \n",
       "4   Ares18  article  iW-Net}: an automatic and minimalistic interac...   \n",
       "9   Bili19  article  The {L}iver {T}umor {S}egmentation {B}enchmark...   \n",
       "12  Busc16  article  Risk factors for COPD exacerbations in inhaled...   \n",
       "\n",
       "                                              authors ss_id all_ss_ids  \\\n",
       "0   Abels, Esther and Pantanowitz, Liron and Aeffn...   NaN        NaN   \n",
       "2   Michela Antonelli and Annika Reinke and Spyrid...   NaN        NaN   \n",
       "4   Guilherme Aresta and Colin Jacobs and Teresa A...   NaN        NaN   \n",
       "9   Patrick Bilic and Patrick Ferdinand Christ and...   NaN        NaN   \n",
       "12  Busch, Robert and Han, MeiLan K and Bowler, Ru...   NaN        NaN   \n",
       "\n",
       "   comment    year  \n",
       "0      NaN  2019.0  \n",
       "2      NaN  2021.0  \n",
       "4      NaN  2018.0  \n",
       "9      NaN  2019.0  \n",
       "12     NaN  2016.0  "
      ]
     },
     "execution_count": 14,
     "metadata": {},
     "output_type": "execute_result"
    }
   ],
   "source": [
    "print(len(df_matches_one_to_none))\n",
    "df_matches_one_to_none.head()"
   ]
  },
  {
   "cell_type": "code",
   "execution_count": 15,
   "id": "3eb6b9fe-e06f-490b-ad4d-4e5563fdbfa3",
   "metadata": {},
   "outputs": [
    {
     "data": {
      "text/plain": [
       "['Abel19', 'Anto21', 'Ares18', 'Bili19', 'Busc16']"
      ]
     },
     "execution_count": 15,
     "metadata": {},
     "output_type": "execute_result"
    }
   ],
   "source": [
    "bibkeys_one_to_none = list(df_matches_one_to_none['bibkey'])\n",
    "bibkeys_one_to_none[:5]"
   ]
  },
  {
   "cell_type": "markdown",
   "id": "0387156d-b90c-4266-8e60-ade0796e0c55",
   "metadata": {
    "tags": []
   },
   "source": [
    "### df one-to-many"
   ]
  },
  {
   "cell_type": "code",
   "execution_count": 16,
   "id": "e99ce19c-e0a7-4bd9-9385-4966b580274e",
   "metadata": {},
   "outputs": [],
   "source": [
    "df_matches_one_to_many = df_matches_one_to_none_or_many[~pd.isna(df_matches_one_to_none_or_many['ss_id'])]"
   ]
  },
  {
   "cell_type": "code",
   "execution_count": 17,
   "id": "2c14048d-9875-472b-a6a8-4055c5271e8a",
   "metadata": {},
   "outputs": [
    {
     "name": "stdout",
     "output_type": "stream",
     "text": [
      "32\n"
     ]
    },
    {
     "data": {
      "text/html": [
       "<div>\n",
       "<style scoped>\n",
       "    .dataframe tbody tr th:only-of-type {\n",
       "        vertical-align: middle;\n",
       "    }\n",
       "\n",
       "    .dataframe tbody tr th {\n",
       "        vertical-align: top;\n",
       "    }\n",
       "\n",
       "    .dataframe thead th {\n",
       "        text-align: right;\n",
       "    }\n",
       "</style>\n",
       "<table border=\"1\" class=\"dataframe\">\n",
       "  <thead>\n",
       "    <tr style=\"text-align: right;\">\n",
       "      <th></th>\n",
       "      <th>bibkey</th>\n",
       "      <th>type</th>\n",
       "      <th>title</th>\n",
       "      <th>authors</th>\n",
       "      <th>ss_id</th>\n",
       "      <th>all_ss_ids</th>\n",
       "      <th>comment</th>\n",
       "      <th>year</th>\n",
       "    </tr>\n",
       "  </thead>\n",
       "  <tbody>\n",
       "    <tr>\n",
       "      <th>1</th>\n",
       "      <td>Amga20</td>\n",
       "      <td>article</td>\n",
       "      <td>Report on computational assessment of Tumor In...</td>\n",
       "      <td>Mohamed Amgad and and Elisabeth Specht Stovgaa...</td>\n",
       "      <td>b4c4c3dc91d42114023b0575c3e2273b87446ff7</td>\n",
       "      <td>['69999230b02054b82254684a73bb8a4c83878d28', '...</td>\n",
       "      <td>[ss_ids: same DOI] title matching: single bibk...</td>\n",
       "      <td>2020.0</td>\n",
       "    </tr>\n",
       "    <tr>\n",
       "      <th>3</th>\n",
       "      <td>Anto22</td>\n",
       "      <td>article</td>\n",
       "      <td>The {Medical} {Segmentation} {Decathlon</td>\n",
       "      <td>Antonelli, Michela and Reinke, Annika and Baka...</td>\n",
       "      <td>979a9f247700d00ff2c3f0612d5eb001379f93c8</td>\n",
       "      <td>['979a9f247700d00ff2c3f0612d5eb001379f93c8', '...</td>\n",
       "      <td>[ss_ids: same DOI] multiple doi matches ['979a...</td>\n",
       "      <td>2022.0</td>\n",
       "    </tr>\n",
       "    <tr>\n",
       "      <th>5</th>\n",
       "      <td>Argu19</td>\n",
       "      <td>article</td>\n",
       "      <td>Function Follows Form: Regression from Complet...</td>\n",
       "      <td>Argus, Max and Schaefer-Prokop, Cornelia and L...</td>\n",
       "      <td>6425e3f4c37f8deb9e8dc933e34d49aa843635b9</td>\n",
       "      <td>['6425e3f4c37f8deb9e8dc933e34d49aa843635b9', '...</td>\n",
       "      <td>[ss_ids: no DOIs!] title matching: single bibk...</td>\n",
       "      <td>2019.0</td>\n",
       "    </tr>\n",
       "    <tr>\n",
       "      <th>6</th>\n",
       "      <td>Balk19</td>\n",
       "      <td>article</td>\n",
       "      <td>Deep learning and manual assessment show that ...</td>\n",
       "      <td>Balkenhol, Maschenka C A and Bult, Peter and T...</td>\n",
       "      <td>94962ef85aca6df5c8289874b56bcaa8722dc596</td>\n",
       "      <td>['91bcebba717670d740ef76097a0885a0bd3c9dde', '...</td>\n",
       "      <td>[ss_ids: same DOI] title matching: single bibk...</td>\n",
       "      <td>2019.0</td>\n",
       "    </tr>\n",
       "    <tr>\n",
       "      <th>7</th>\n",
       "      <td>Balt19b</td>\n",
       "      <td>article</td>\n",
       "      <td>Optimization of the difference-of-Gaussian cha...</td>\n",
       "      <td>Balta, Christiana and Bouwman, Ramona W and Br...</td>\n",
       "      <td>f131ef217543d179269018950bf3b6ba2b30f3b1</td>\n",
       "      <td>['20fe29e553477d9bd330f052e4d01c0c1c616b22', '...</td>\n",
       "      <td>[ss_ids: multiple DOIs!] title matching: singl...</td>\n",
       "      <td>2019.0</td>\n",
       "    </tr>\n",
       "  </tbody>\n",
       "</table>\n",
       "</div>"
      ],
      "text/plain": [
       "    bibkey     type                                              title  \\\n",
       "1   Amga20  article  Report on computational assessment of Tumor In...   \n",
       "3   Anto22  article            The {Medical} {Segmentation} {Decathlon   \n",
       "5   Argu19  article  Function Follows Form: Regression from Complet...   \n",
       "6   Balk19  article  Deep learning and manual assessment show that ...   \n",
       "7  Balt19b  article  Optimization of the difference-of-Gaussian cha...   \n",
       "\n",
       "                                             authors  \\\n",
       "1  Mohamed Amgad and and Elisabeth Specht Stovgaa...   \n",
       "3  Antonelli, Michela and Reinke, Annika and Baka...   \n",
       "5  Argus, Max and Schaefer-Prokop, Cornelia and L...   \n",
       "6  Balkenhol, Maschenka C A and Bult, Peter and T...   \n",
       "7  Balta, Christiana and Bouwman, Ramona W and Br...   \n",
       "\n",
       "                                      ss_id  \\\n",
       "1  b4c4c3dc91d42114023b0575c3e2273b87446ff7   \n",
       "3  979a9f247700d00ff2c3f0612d5eb001379f93c8   \n",
       "5  6425e3f4c37f8deb9e8dc933e34d49aa843635b9   \n",
       "6  94962ef85aca6df5c8289874b56bcaa8722dc596   \n",
       "7  f131ef217543d179269018950bf3b6ba2b30f3b1   \n",
       "\n",
       "                                          all_ss_ids  \\\n",
       "1  ['69999230b02054b82254684a73bb8a4c83878d28', '...   \n",
       "3  ['979a9f247700d00ff2c3f0612d5eb001379f93c8', '...   \n",
       "5  ['6425e3f4c37f8deb9e8dc933e34d49aa843635b9', '...   \n",
       "6  ['91bcebba717670d740ef76097a0885a0bd3c9dde', '...   \n",
       "7  ['20fe29e553477d9bd330f052e4d01c0c1c616b22', '...   \n",
       "\n",
       "                                             comment    year  \n",
       "1  [ss_ids: same DOI] title matching: single bibk...  2020.0  \n",
       "3  [ss_ids: same DOI] multiple doi matches ['979a...  2022.0  \n",
       "5  [ss_ids: no DOIs!] title matching: single bibk...  2019.0  \n",
       "6  [ss_ids: same DOI] title matching: single bibk...  2019.0  \n",
       "7  [ss_ids: multiple DOIs!] title matching: singl...  2019.0  "
      ]
     },
     "execution_count": 17,
     "metadata": {},
     "output_type": "execute_result"
    }
   ],
   "source": [
    "print(len(df_matches_one_to_many))\n",
    "df_matches_one_to_many.head()"
   ]
  },
  {
   "cell_type": "code",
   "execution_count": 18,
   "id": "c8be0753-feda-4570-867c-2f5f8f35ea7b",
   "metadata": {},
   "outputs": [
    {
     "data": {
      "text/plain": [
       "['Amga20', 'Anto22', 'Argu19', 'Balk19', 'Balt19b']"
      ]
     },
     "execution_count": 18,
     "metadata": {},
     "output_type": "execute_result"
    }
   ],
   "source": [
    "bibkeys_one_to_many = list(df_matches_one_to_many['bibkey'])\n",
    "bibkeys_one_to_many[:5]"
   ]
  },
  {
   "cell_type": "markdown",
   "id": "01e9e134-5e2c-45da-9c67-fafd99c26fef",
   "metadata": {},
   "source": [
    "### df one-to-one"
   ]
  },
  {
   "cell_type": "code",
   "execution_count": 19,
   "id": "1d2a9023-c81e-4372-9fc1-8bd33dfdf6c5",
   "metadata": {},
   "outputs": [],
   "source": [
    "df_matches_one_to_one = pd.read_csv('script_data/df_matches.csv')\n",
    "df_matches_one_to_one = df_matches_one_to_one[~df_matches_one_to_one['type'].isin(['conference', 'book', 'inbook', 'mastersthesis', 'phdthesis', 'patent', 'misc'])]\n",
    "df_matches_one_to_one = df_matches_one_to_one[df_matches_one_to_one['comment'].isin(['title matching: single bibkey, single ss_id', 'single doi match'])]\n",
    "df_matches_one_to_one['all_ss_ids'] = df_matches_one_to_one['ss_id'].apply(lambda x: [x])\n",
    "df_matches_one_to_one.to_csv('script_data/df_matches_one_to_one.csv', index=False)\n",
    "df_matches_one_to_one = pd.read_csv('script_data/df_matches_one_to_one.csv')"
   ]
  },
  {
   "cell_type": "code",
   "execution_count": 20,
   "id": "a51aa2c0-9ec3-4ab2-b7ba-d1155d484578",
   "metadata": {},
   "outputs": [
    {
     "data": {
      "text/html": [
       "<div>\n",
       "<style scoped>\n",
       "    .dataframe tbody tr th:only-of-type {\n",
       "        vertical-align: middle;\n",
       "    }\n",
       "\n",
       "    .dataframe tbody tr th {\n",
       "        vertical-align: top;\n",
       "    }\n",
       "\n",
       "    .dataframe thead th {\n",
       "        text-align: right;\n",
       "    }\n",
       "</style>\n",
       "<table border=\"1\" class=\"dataframe\">\n",
       "  <thead>\n",
       "    <tr style=\"text-align: right;\">\n",
       "      <th></th>\n",
       "      <th>bibkey</th>\n",
       "      <th>type</th>\n",
       "      <th>title</th>\n",
       "      <th>authors</th>\n",
       "      <th>ss_id</th>\n",
       "      <th>all_ss_ids</th>\n",
       "      <th>comment</th>\n",
       "    </tr>\n",
       "  </thead>\n",
       "  <tbody>\n",
       "    <tr>\n",
       "      <th>0</th>\n",
       "      <td>Abra08a</td>\n",
       "      <td>article</td>\n",
       "      <td>Evaluation of a system for automatic detection...</td>\n",
       "      <td>M. D. Abr\\`amoff and M. Niemeijer and M. S. A....</td>\n",
       "      <td>0445a1a0aa30c9ca41a8ab31463d617b849a0814</td>\n",
       "      <td>['0445a1a0aa30c9ca41a8ab31463d617b849a0814']</td>\n",
       "      <td>title matching: single bibkey, single ss_id</td>\n",
       "    </tr>\n",
       "    <tr>\n",
       "      <th>1</th>\n",
       "      <td>Adri10</td>\n",
       "      <td>article</td>\n",
       "      <td>Echocardiographic screening results in patient...</td>\n",
       "      <td>Miraude E A P M Adriaensen and Maarten J M Cra...</td>\n",
       "      <td>3da4ab4d50211eb7a0148c4ed74729b2d4e30ba9</td>\n",
       "      <td>['3da4ab4d50211eb7a0148c4ed74729b2d4e30ba9']</td>\n",
       "      <td>title matching: single bibkey, single ss_id</td>\n",
       "    </tr>\n",
       "    <tr>\n",
       "      <th>2</th>\n",
       "      <td>Adri11</td>\n",
       "      <td>article</td>\n",
       "      <td>Radiological evidence of lymphangioleiomyomato...</td>\n",
       "      <td>M. E A P M Adriaensen and C. M. Schaefer-Proko...</td>\n",
       "      <td>691c90e68eab1dcae5861fba0eab73ba626e6777</td>\n",
       "      <td>['691c90e68eab1dcae5861fba0eab73ba626e6777']</td>\n",
       "      <td>title matching: single bibkey, single ss_id</td>\n",
       "    </tr>\n",
       "    <tr>\n",
       "      <th>3</th>\n",
       "      <td>Adri11b</td>\n",
       "      <td>article</td>\n",
       "      <td>Mature fat cells in the myocardium of patients...</td>\n",
       "      <td>Miraude E A P M Adriaensen and Matthijs F M va...</td>\n",
       "      <td>c738da78dc1fb336a8dff5a8047059d52a6de939</td>\n",
       "      <td>['c738da78dc1fb336a8dff5a8047059d52a6de939']</td>\n",
       "      <td>title matching: single bibkey, single ss_id</td>\n",
       "    </tr>\n",
       "    <tr>\n",
       "      <th>4</th>\n",
       "      <td>Adri11c</td>\n",
       "      <td>article</td>\n",
       "      <td>Focal fatty areas in the myocardium of patient...</td>\n",
       "      <td>Miraude E A P M Adriaensen and Harm H H Fering...</td>\n",
       "      <td>9fabf1bc1c126702a051ec56474af2d1518ad0ba</td>\n",
       "      <td>['9fabf1bc1c126702a051ec56474af2d1518ad0ba']</td>\n",
       "      <td>single doi match</td>\n",
       "    </tr>\n",
       "  </tbody>\n",
       "</table>\n",
       "</div>"
      ],
      "text/plain": [
       "    bibkey     type                                              title  \\\n",
       "0  Abra08a  article  Evaluation of a system for automatic detection...   \n",
       "1   Adri10  article  Echocardiographic screening results in patient...   \n",
       "2   Adri11  article  Radiological evidence of lymphangioleiomyomato...   \n",
       "3  Adri11b  article  Mature fat cells in the myocardium of patients...   \n",
       "4  Adri11c  article  Focal fatty areas in the myocardium of patient...   \n",
       "\n",
       "                                             authors  \\\n",
       "0  M. D. Abr\\`amoff and M. Niemeijer and M. S. A....   \n",
       "1  Miraude E A P M Adriaensen and Maarten J M Cra...   \n",
       "2  M. E A P M Adriaensen and C. M. Schaefer-Proko...   \n",
       "3  Miraude E A P M Adriaensen and Matthijs F M va...   \n",
       "4  Miraude E A P M Adriaensen and Harm H H Fering...   \n",
       "\n",
       "                                      ss_id  \\\n",
       "0  0445a1a0aa30c9ca41a8ab31463d617b849a0814   \n",
       "1  3da4ab4d50211eb7a0148c4ed74729b2d4e30ba9   \n",
       "2  691c90e68eab1dcae5861fba0eab73ba626e6777   \n",
       "3  c738da78dc1fb336a8dff5a8047059d52a6de939   \n",
       "4  9fabf1bc1c126702a051ec56474af2d1518ad0ba   \n",
       "\n",
       "                                     all_ss_ids  \\\n",
       "0  ['0445a1a0aa30c9ca41a8ab31463d617b849a0814']   \n",
       "1  ['3da4ab4d50211eb7a0148c4ed74729b2d4e30ba9']   \n",
       "2  ['691c90e68eab1dcae5861fba0eab73ba626e6777']   \n",
       "3  ['c738da78dc1fb336a8dff5a8047059d52a6de939']   \n",
       "4  ['9fabf1bc1c126702a051ec56474af2d1518ad0ba']   \n",
       "\n",
       "                                       comment  \n",
       "0  title matching: single bibkey, single ss_id  \n",
       "1  title matching: single bibkey, single ss_id  \n",
       "2  title matching: single bibkey, single ss_id  \n",
       "3  title matching: single bibkey, single ss_id  \n",
       "4                             single doi match  "
      ]
     },
     "execution_count": 20,
     "metadata": {},
     "output_type": "execute_result"
    }
   ],
   "source": [
    "df_matches_one_to_one.head()"
   ]
  },
  {
   "cell_type": "code",
   "execution_count": 21,
   "id": "3625347f-41ca-4177-991e-db9048e9d023",
   "metadata": {},
   "outputs": [
    {
     "data": {
      "text/plain": [
       "['Abra08a', 'Adri10', 'Adri11', 'Adri11b', 'Adri11c']"
      ]
     },
     "execution_count": 21,
     "metadata": {},
     "output_type": "execute_result"
    }
   ],
   "source": [
    "bibkeys_one_to_one = list(df_matches_one_to_one['bibkey'])\n",
    "bibkeys_one_to_one[:5]"
   ]
  },
  {
   "cell_type": "markdown",
   "id": "778aa690-339a-446c-a38f-0c2744ae328e",
   "metadata": {},
   "source": [
    "# MANUAL_LOOKUP files"
   ]
  },
  {
   "cell_type": "code",
   "execution_count": 22,
   "id": "17fd2d3c-98d7-4fbc-9935-952ae11df033",
   "metadata": {},
   "outputs": [
    {
     "data": {
      "text/html": [
       "<div>\n",
       "<style scoped>\n",
       "    .dataframe tbody tr th:only-of-type {\n",
       "        vertical-align: middle;\n",
       "    }\n",
       "\n",
       "    .dataframe tbody tr th {\n",
       "        vertical-align: top;\n",
       "    }\n",
       "\n",
       "    .dataframe thead th {\n",
       "        text-align: right;\n",
       "    }\n",
       "</style>\n",
       "<table border=\"1\" class=\"dataframe\">\n",
       "  <thead>\n",
       "    <tr style=\"text-align: right;\">\n",
       "      <th></th>\n",
       "      <th>bibkey</th>\n",
       "      <th>type</th>\n",
       "      <th>title</th>\n",
       "      <th>authors</th>\n",
       "      <th>ss_id</th>\n",
       "      <th>all_ss_ids</th>\n",
       "      <th>comment</th>\n",
       "      <th>year</th>\n",
       "      <th>doi_comment</th>\n",
       "      <th>ADD_SS_TO_THIS_BIB?</th>\n",
       "      <th>ADD_SS_TO_BLACKLIST?</th>\n",
       "      <th>COMMENT</th>\n",
       "    </tr>\n",
       "  </thead>\n",
       "  <tbody>\n",
       "    <tr>\n",
       "      <th>0</th>\n",
       "      <td>Kooi17d</td>\n",
       "      <td>article</td>\n",
       "      <td>Classifying Symmetrical Differences and Tempor...</td>\n",
       "      <td>Thijs Kooi and Nico Karssemeijer</td>\n",
       "      <td>a908e3775fd064b0d249728a7261cfb1efa13b87</td>\n",
       "      <td>['a908e3775fd064b0d249728a7261cfb1efa13b87', '...</td>\n",
       "      <td>title matching: single bibkey with multiple_ss...</td>\n",
       "      <td>2017</td>\n",
       "      <td>[ss_ids: 1 no DOI, 1 have same DOI]</td>\n",
       "      <td>['True', 'False']</td>\n",
       "      <td>['False', 'False']</td>\n",
       "      <td>The first one is SPIE, the second one is arxiv...</td>\n",
       "    </tr>\n",
       "    <tr>\n",
       "      <th>1</th>\n",
       "      <td>Band23</td>\n",
       "      <td>article</td>\n",
       "      <td>Continual learning strategies for cancer-indep...</td>\n",
       "      <td>B\\'{a}ndi, P. and Balkenhol, Maschenka and van...</td>\n",
       "      <td>4bcd672218ecec70473c84f6f1cc52c64031f3e5</td>\n",
       "      <td>['4bcd672218ecec70473c84f6f1cc52c64031f3e5', '...</td>\n",
       "      <td>title matching: single bibkey with multiple_ss...</td>\n",
       "      <td>2023</td>\n",
       "      <td>[ss_ids: contain multiple DOIs!]</td>\n",
       "      <td>['True', 'False']</td>\n",
       "      <td>['False', 'False']</td>\n",
       "      <td>The second one is a different publication (arx...</td>\n",
       "    </tr>\n",
       "  </tbody>\n",
       "</table>\n",
       "</div>"
      ],
      "text/plain": [
       "    bibkey     type                                              title  \\\n",
       "0  Kooi17d  article  Classifying Symmetrical Differences and Tempor...   \n",
       "1   Band23  article  Continual learning strategies for cancer-indep...   \n",
       "\n",
       "                                             authors  \\\n",
       "0                   Thijs Kooi and Nico Karssemeijer   \n",
       "1  B\\'{a}ndi, P. and Balkenhol, Maschenka and van...   \n",
       "\n",
       "                                      ss_id  \\\n",
       "0  a908e3775fd064b0d249728a7261cfb1efa13b87   \n",
       "1  4bcd672218ecec70473c84f6f1cc52c64031f3e5   \n",
       "\n",
       "                                          all_ss_ids  \\\n",
       "0  ['a908e3775fd064b0d249728a7261cfb1efa13b87', '...   \n",
       "1  ['4bcd672218ecec70473c84f6f1cc52c64031f3e5', '...   \n",
       "\n",
       "                                             comment  year  \\\n",
       "0  title matching: single bibkey with multiple_ss...  2017   \n",
       "1  title matching: single bibkey with multiple_ss...  2023   \n",
       "\n",
       "                           doi_comment ADD_SS_TO_THIS_BIB?  \\\n",
       "0  [ss_ids: 1 no DOI, 1 have same DOI]   ['True', 'False']   \n",
       "1     [ss_ids: contain multiple DOIs!]   ['True', 'False']   \n",
       "\n",
       "  ADD_SS_TO_BLACKLIST?                                            COMMENT  \n",
       "0   ['False', 'False']  The first one is SPIE, the second one is arxiv...  \n",
       "1   ['False', 'False']  The second one is a different publication (arx...  "
      ]
     },
     "metadata": {},
     "output_type": "display_data"
    },
    {
     "data": {
      "text/html": [
       "<div>\n",
       "<style scoped>\n",
       "    .dataframe tbody tr th:only-of-type {\n",
       "        vertical-align: middle;\n",
       "    }\n",
       "\n",
       "    .dataframe tbody tr th {\n",
       "        vertical-align: top;\n",
       "    }\n",
       "\n",
       "    .dataframe thead th {\n",
       "        text-align: right;\n",
       "    }\n",
       "</style>\n",
       "<table border=\"1\" class=\"dataframe\">\n",
       "  <thead>\n",
       "    <tr style=\"text-align: right;\">\n",
       "      <th></th>\n",
       "      <th>ss_id</th>\n",
       "      <th>ss_title</th>\n",
       "      <th>max_bibkey</th>\n",
       "      <th>max_bib_title</th>\n",
       "      <th>max_ratio</th>\n",
       "      <th>up80_bibkeys</th>\n",
       "      <th>up80_bib_titles</th>\n",
       "      <th>up80_ratios</th>\n",
       "      <th>ADD_SS_TO_BIB?</th>\n",
       "      <th>BLACKLIST_SS?</th>\n",
       "      <th>COMMENT</th>\n",
       "      <th>ASSIGNED</th>\n",
       "    </tr>\n",
       "  </thead>\n",
       "  <tbody>\n",
       "    <tr>\n",
       "      <th>0</th>\n",
       "      <td>9fabf1bc1c126702a051ec56474af2d1518ad0ba</td>\n",
       "      <td>Focal fatty areas in the myocardium of patient...</td>\n",
       "      <td>Adri11c</td>\n",
       "      <td>Focal fatty areas in the myocardium of patient...</td>\n",
       "      <td>0.994872</td>\n",
       "      <td>['Adri09', 'Adri11c']</td>\n",
       "      <td>['Fatty foci in the myocardium in patients wit...</td>\n",
       "      <td>[0.8020833333333334, 0.9948717948717949]</td>\n",
       "      <td>['False', 'True']</td>\n",
       "      <td>False</td>\n",
       "      <td>2fddc4cdc2422aa7c74a013bb8b41e976772f9bc' is t...</td>\n",
       "      <td>Marina</td>\n",
       "    </tr>\n",
       "    <tr>\n",
       "      <th>1</th>\n",
       "      <td>979a9f247700d00ff2c3f0612d5eb001379f93c8</td>\n",
       "      <td>The Medical Segmentation Decathlon</td>\n",
       "      <td>Anto21</td>\n",
       "      <td>The Medical Segmentation Decathlon</td>\n",
       "      <td>1.000000</td>\n",
       "      <td>['Anto21', 'Anto22']</td>\n",
       "      <td>['The Medical Segmentation Decathlon', 'The Me...</td>\n",
       "      <td>[1.0, 1.0]</td>\n",
       "      <td>['True', 'True']</td>\n",
       "      <td>False</td>\n",
       "      <td>Anto21 is arxiv, Anto22 is journal</td>\n",
       "      <td>Marina</td>\n",
       "    </tr>\n",
       "  </tbody>\n",
       "</table>\n",
       "</div>"
      ],
      "text/plain": [
       "                                      ss_id  \\\n",
       "0  9fabf1bc1c126702a051ec56474af2d1518ad0ba   \n",
       "1  979a9f247700d00ff2c3f0612d5eb001379f93c8   \n",
       "\n",
       "                                            ss_title max_bibkey  \\\n",
       "0  Focal fatty areas in the myocardium of patient...    Adri11c   \n",
       "1                 The Medical Segmentation Decathlon     Anto21   \n",
       "\n",
       "                                       max_bib_title  max_ratio  \\\n",
       "0  Focal fatty areas in the myocardium of patient...   0.994872   \n",
       "1                 The Medical Segmentation Decathlon   1.000000   \n",
       "\n",
       "            up80_bibkeys                                    up80_bib_titles  \\\n",
       "0  ['Adri09', 'Adri11c']  ['Fatty foci in the myocardium in patients wit...   \n",
       "1   ['Anto21', 'Anto22']  ['The Medical Segmentation Decathlon', 'The Me...   \n",
       "\n",
       "                                up80_ratios     ADD_SS_TO_BIB? BLACKLIST_SS?  \\\n",
       "0  [0.8020833333333334, 0.9948717948717949]  ['False', 'True']         False   \n",
       "1                                [1.0, 1.0]   ['True', 'True']         False   \n",
       "\n",
       "                                             COMMENT ASSIGNED  \n",
       "0  2fddc4cdc2422aa7c74a013bb8b41e976772f9bc' is t...   Marina  \n",
       "1                 Anto21 is arxiv, Anto22 is journal   Marina  "
      ]
     },
     "metadata": {},
     "output_type": "display_data"
    }
   ],
   "source": [
    "df_ML_one_to_many = pd.read_excel(r'script_data/complete_MANUAL_LOOKUP_matches_single_bibkey_with_many_ss_ids_KM.xlsx')\n",
    "df_ML_many = pd.read_excel(r'script_data/complete_MANUAL_LOOKUP_multiple_bibkeys_maybe_multiple_ss_ids.xlsx')\n",
    "display(df_ML_one_to_many.head(2))\n",
    "display(df_ML_many.head(2))"
   ]
  },
  {
   "cell_type": "code",
   "execution_count": 23,
   "id": "a4fb0fcd-00b7-45c7-bfe3-dcb22f9fe272",
   "metadata": {},
   "outputs": [
    {
     "data": {
      "text/plain": [
       "33"
      ]
     },
     "execution_count": 23,
     "metadata": {},
     "output_type": "execute_result"
    }
   ],
   "source": [
    "len(df_ML_one_to_many)"
   ]
  },
  {
   "cell_type": "code",
   "execution_count": 24,
   "id": "fb3bfa6e-b6b4-4662-bf3e-3f2c657fa34a",
   "metadata": {},
   "outputs": [
    {
     "data": {
      "text/plain": [
       "32"
      ]
     },
     "execution_count": 24,
     "metadata": {},
     "output_type": "execute_result"
    }
   ],
   "source": [
    "len(df_matches_one_to_many)"
   ]
  },
  {
   "cell_type": "code",
   "execution_count": 25,
   "id": "8b60eea1-cf54-4908-9855-25ce51335c1f",
   "metadata": {},
   "outputs": [
    {
     "data": {
      "text/plain": [
       "102"
      ]
     },
     "execution_count": 25,
     "metadata": {},
     "output_type": "execute_result"
    }
   ],
   "source": [
    "len(df_ML_many)"
   ]
  },
  {
   "cell_type": "code",
   "execution_count": 26,
   "id": "10cea361-6bd5-45de-b9b6-e82bd0c29eb3",
   "metadata": {},
   "outputs": [
    {
     "data": {
      "text/plain": [
       "102"
      ]
     },
     "execution_count": 26,
     "metadata": {},
     "output_type": "execute_result"
    }
   ],
   "source": [
    "len(df_matches_many)"
   ]
  },
  {
   "cell_type": "markdown",
   "id": "cea4233d-a98f-4e87-a19f-aa376c272dee",
   "metadata": {
    "jp-MarkdownHeadingCollapsed": true,
    "tags": []
   },
   "source": [
    "# BIBKEYS CHECK \n",
    "### Feel free to minimize this and continue from \"Add ss_ids to DAIG bib\"\n",
    "#### Summary of what we checked here:\n",
    "Checked overlap of the subsets. The confusion was that there can be multiple bibkeys that match with a single or more SS_ids. These we saved in a separate csv.\n",
    "\n",
    "The bibkeys from this csv WERE NOT matched specifically becasue matching (on title) could be ambiguous and should be done manually, however, it could be that some bibkeys WERE matched on DOI. Therefore there is overlap of bibkeys in all subsets"
   ]
  },
  {
   "cell_type": "code",
   "execution_count": 27,
   "id": "1cd5e6f6-6861-4512-a3a4-aca3c69d66ee",
   "metadata": {},
   "outputs": [
    {
     "name": "stdout",
     "output_type": "stream",
     "text": [
      "80\n"
     ]
    },
    {
     "data": {
      "text/plain": [
       "80"
      ]
     },
     "execution_count": 27,
     "metadata": {},
     "output_type": "execute_result"
    }
   ],
   "source": [
    "print(len(bibkeys_one_to_none))\n",
    "len(set(bibkeys_one_to_none))"
   ]
  },
  {
   "cell_type": "code",
   "execution_count": 28,
   "id": "340c2f5b-d922-4309-a243-ad2bc1b8dcf9",
   "metadata": {},
   "outputs": [
    {
     "name": "stdout",
     "output_type": "stream",
     "text": [
      "32\n"
     ]
    },
    {
     "data": {
      "text/plain": [
       "32"
      ]
     },
     "execution_count": 28,
     "metadata": {},
     "output_type": "execute_result"
    }
   ],
   "source": [
    "print(len(bibkeys_one_to_many))\n",
    "len(set(bibkeys_one_to_many))"
   ]
  },
  {
   "cell_type": "code",
   "execution_count": 29,
   "id": "e011b1e3-a395-41f8-9fae-1653fbb4cdc4",
   "metadata": {},
   "outputs": [
    {
     "name": "stdout",
     "output_type": "stream",
     "text": [
      "940\n"
     ]
    },
    {
     "data": {
      "text/plain": [
       "940"
      ]
     },
     "execution_count": 29,
     "metadata": {},
     "output_type": "execute_result"
    }
   ],
   "source": [
    "print(len(bibkeys_one_to_one))\n",
    "len(set(bibkeys_one_to_one))"
   ]
  },
  {
   "cell_type": "code",
   "execution_count": 30,
   "id": "fc66f651-8c79-482a-8f0d-f01d2c4ed0b2",
   "metadata": {},
   "outputs": [
    {
     "name": "stdout",
     "output_type": "stream",
     "text": [
      "151\n"
     ]
    },
    {
     "data": {
      "text/plain": [
       "151"
      ]
     },
     "execution_count": 30,
     "metadata": {},
     "output_type": "execute_result"
    }
   ],
   "source": [
    "print(len(bibkeys_many))\n",
    "len(set(bibkeys_many))"
   ]
  },
  {
   "cell_type": "code",
   "execution_count": 31,
   "id": "ebf9223a-c557-4a9a-a3c5-091009e36c9a",
   "metadata": {},
   "outputs": [
    {
     "name": "stdout",
     "output_type": "stream",
     "text": [
      "1203\n"
     ]
    },
    {
     "data": {
      "text/plain": [
       "1102"
      ]
     },
     "execution_count": 31,
     "metadata": {},
     "output_type": "execute_result"
    }
   ],
   "source": [
    "print(len(bibkeys_one_to_none + bibkeys_one_to_many + bibkeys_one_to_one + bibkeys_many))\n",
    "len(set(bibkeys_one_to_none + bibkeys_one_to_many + bibkeys_one_to_one + bibkeys_many))"
   ]
  },
  {
   "cell_type": "code",
   "execution_count": 32,
   "id": "2b758933-c76c-41cf-91e4-02ff4f2ae035",
   "metadata": {},
   "outputs": [
    {
     "name": "stdout",
     "output_type": "stream",
     "text": [
      "['4bcd672218ecec70473c84f6f1cc52c64031f3e5', 'bc6b483f9b1fa630fa4b43158b13716f1ca7497b']\n"
     ]
    }
   ],
   "source": [
    "print(df_matches_one_to_many[df_matches_one_to_many['bibkey']=='Band23']['all_ss_ids'].item())"
   ]
  },
  {
   "cell_type": "code",
   "execution_count": 33,
   "id": "95fd403c-6d77-4fe7-ad90-9c804c8897f8",
   "metadata": {},
   "outputs": [],
   "source": [
    "bibkeys_marina = ['Balo13']"
   ]
  },
  {
   "cell_type": "code",
   "execution_count": 34,
   "id": "5bc8f47c-5465-4e5b-b285-7cdca8c3136f",
   "metadata": {},
   "outputs": [],
   "source": [
    "bibkey_lists = [bibkeys_one_to_none, bibkeys_one_to_many, bibkeys_one_to_one, bibkeys_many, bibkeys_marina]\n",
    "bibkey_lists_names = ['bibkeys_one_to_none', 'bibkeys_one_to_many', 'bibkeys_one_to_one', 'bibkeys_many', 'bibkeys_marina']"
   ]
  },
  {
   "cell_type": "code",
   "execution_count": 35,
   "id": "057ab339-7f53-4879-b21d-9be0fb35d213",
   "metadata": {},
   "outputs": [
    {
     "name": "stdout",
     "output_type": "stream",
     "text": [
      "List bibkeys_one_to_none contains:\n",
      "- 0 items from List bibkeys_one_to_many\n",
      "- 0 items from List bibkeys_one_to_one\n",
      "- 14 items from List bibkeys_many\n",
      "- 0 items from List bibkeys_marina\n",
      "\n",
      "\n",
      "List bibkeys_one_to_many contains:\n",
      "- 0 items from List bibkeys_one_to_none\n",
      "- 0 items from List bibkeys_one_to_one\n",
      "- 2 items from List bibkeys_many\n",
      "- 0 items from List bibkeys_marina\n",
      "\n",
      "\n",
      "List bibkeys_one_to_one contains:\n",
      "- 0 items from List bibkeys_one_to_none\n",
      "- 0 items from List bibkeys_one_to_many\n",
      "- 85 items from List bibkeys_many\n",
      "- 0 items from List bibkeys_marina\n",
      "\n",
      "\n",
      "List bibkeys_many contains:\n",
      "- 14 items from List bibkeys_one_to_none\n",
      "- 2 items from List bibkeys_one_to_many\n",
      "- 85 items from List bibkeys_one_to_one\n",
      "- 0 items from List bibkeys_marina\n",
      "\n",
      "\n",
      "List bibkeys_marina contains:\n",
      "- 0 items from List bibkeys_one_to_none\n",
      "- 0 items from List bibkeys_one_to_many\n",
      "- 0 items from List bibkeys_one_to_one\n",
      "- 0 items from List bibkeys_many\n",
      "\n",
      "\n"
     ]
    }
   ],
   "source": [
    "for i, lst in enumerate(bibkey_lists):\n",
    "    print(f\"List {bibkey_lists_names[i]} contains:\")\n",
    "    for j, other_lst in enumerate(bibkey_lists):\n",
    "        if i != j:\n",
    "            common_items = len(set(lst) & set(other_lst))\n",
    "            print(f\"- {common_items} items from List {bibkey_lists_names[j]}\")\n",
    "    print('\\n')"
   ]
  },
  {
   "cell_type": "markdown",
   "id": "b986e2c9-47c1-4a16-b8ab-e9ba667b56a8",
   "metadata": {},
   "source": [
    "### bibkeys_many_in_one_to_one"
   ]
  },
  {
   "cell_type": "markdown",
   "id": "f90b5f8f-2ac7-4974-9782-53212e6d5a82",
   "metadata": {},
   "source": [
    "These are cases where only 1 bibkey was an article"
   ]
  },
  {
   "cell_type": "code",
   "execution_count": 36,
   "id": "03780d08-43c8-48a7-8939-472e659bd838",
   "metadata": {},
   "outputs": [
    {
     "name": "stdout",
     "output_type": "stream",
     "text": [
      "85\n"
     ]
    },
    {
     "data": {
      "text/plain": [
       "['Heuv18a', 'Ginn09a', 'Brui04', 'Tan12', 'Kall10']"
      ]
     },
     "execution_count": 36,
     "metadata": {},
     "output_type": "execute_result"
    }
   ],
   "source": [
    "bibkeys_many_in_one_to_one = list(set(bibkeys_many) & set(bibkeys_one_to_one))\n",
    "print(len(bibkeys_many_in_one_to_one))\n",
    "bibkeys_many_in_one_to_one[:5]"
   ]
  },
  {
   "cell_type": "code",
   "execution_count": 37,
   "id": "97dfed3e-b043-4ea9-bbfb-640ba506639c",
   "metadata": {},
   "outputs": [],
   "source": [
    "double_idx=3"
   ]
  },
  {
   "cell_type": "code",
   "execution_count": 38,
   "id": "e8792207-6e93-42ff-9908-408c49a0fdb8",
   "metadata": {},
   "outputs": [
    {
     "name": "stdout",
     "output_type": "stream",
     "text": [
      "df_matches_one_to_one\n"
     ]
    },
    {
     "data": {
      "text/html": [
       "<div>\n",
       "<style scoped>\n",
       "    .dataframe tbody tr th:only-of-type {\n",
       "        vertical-align: middle;\n",
       "    }\n",
       "\n",
       "    .dataframe tbody tr th {\n",
       "        vertical-align: top;\n",
       "    }\n",
       "\n",
       "    .dataframe thead th {\n",
       "        text-align: right;\n",
       "    }\n",
       "</style>\n",
       "<table border=\"1\" class=\"dataframe\">\n",
       "  <thead>\n",
       "    <tr style=\"text-align: right;\">\n",
       "      <th></th>\n",
       "      <th>bibkey</th>\n",
       "      <th>type</th>\n",
       "      <th>title</th>\n",
       "      <th>authors</th>\n",
       "      <th>ss_id</th>\n",
       "      <th>all_ss_ids</th>\n",
       "      <th>comment</th>\n",
       "    </tr>\n",
       "  </thead>\n",
       "  <tbody>\n",
       "    <tr>\n",
       "      <th>802</th>\n",
       "      <td>Tan12</td>\n",
       "      <td>inproceedings</td>\n",
       "      <td>Detection of Breast Cancer in Automated {3D} B...</td>\n",
       "      <td>Tao Tan and Bram Platel and Roel Mus and Nico ...</td>\n",
       "      <td>443e44a373875423637e9b519b451031635f2d35</td>\n",
       "      <td>['443e44a373875423637e9b519b451031635f2d35']</td>\n",
       "      <td>single doi match</td>\n",
       "    </tr>\n",
       "  </tbody>\n",
       "</table>\n",
       "</div>"
      ],
      "text/plain": [
       "    bibkey           type                                              title  \\\n",
       "802  Tan12  inproceedings  Detection of Breast Cancer in Automated {3D} B...   \n",
       "\n",
       "                                               authors  \\\n",
       "802  Tao Tan and Bram Platel and Roel Mus and Nico ...   \n",
       "\n",
       "                                        ss_id  \\\n",
       "802  443e44a373875423637e9b519b451031635f2d35   \n",
       "\n",
       "                                       all_ss_ids           comment  \n",
       "802  ['443e44a373875423637e9b519b451031635f2d35']  single doi match  "
      ]
     },
     "metadata": {},
     "output_type": "display_data"
    },
    {
     "name": "stdout",
     "output_type": "stream",
     "text": [
      "df_matches_many\n"
     ]
    },
    {
     "data": {
      "text/html": [
       "<div>\n",
       "<style scoped>\n",
       "    .dataframe tbody tr th:only-of-type {\n",
       "        vertical-align: middle;\n",
       "    }\n",
       "\n",
       "    .dataframe tbody tr th {\n",
       "        vertical-align: top;\n",
       "    }\n",
       "\n",
       "    .dataframe thead th {\n",
       "        text-align: right;\n",
       "    }\n",
       "</style>\n",
       "<table border=\"1\" class=\"dataframe\">\n",
       "  <thead>\n",
       "    <tr style=\"text-align: right;\">\n",
       "      <th></th>\n",
       "      <th>ss_id</th>\n",
       "      <th>ss_title</th>\n",
       "      <th>max_bibkey</th>\n",
       "      <th>max_bib_title</th>\n",
       "      <th>max_ratio</th>\n",
       "      <th>up80_bibkeys</th>\n",
       "      <th>up80_bib_titles</th>\n",
       "      <th>up80_ratios</th>\n",
       "    </tr>\n",
       "  </thead>\n",
       "  <tbody>\n",
       "    <tr>\n",
       "      <th>92</th>\n",
       "      <td>2704781e2ff16f7f31bd97e4d393e685b9ab0875</td>\n",
       "      <td>Classification of breast lesions in automated ...</td>\n",
       "      <td>Tan11</td>\n",
       "      <td>Classification of Breast Lesions in Automated ...</td>\n",
       "      <td>1.000000</td>\n",
       "      <td>['Tan11', 'Tan12']</td>\n",
       "      <td>['Classification of Breast Lesions in Automate...</td>\n",
       "      <td>[1.0, 0.8095238095238095]</td>\n",
       "    </tr>\n",
       "    <tr>\n",
       "      <th>93</th>\n",
       "      <td>443e44a373875423637e9b519b451031635f2d35</td>\n",
       "      <td>Detection of breast cancer in automated 3D bre...</td>\n",
       "      <td>Tan12</td>\n",
       "      <td>Detection of Breast Cancer in Automated 3D Bre...</td>\n",
       "      <td>1.000000</td>\n",
       "      <td>['Tan11', 'Tan12', 'Tan13a']</td>\n",
       "      <td>['Classification of Breast Lesions in Automate...</td>\n",
       "      <td>[0.8095238095238095, 1.0, 0.828125]</td>\n",
       "    </tr>\n",
       "    <tr>\n",
       "      <th>94</th>\n",
       "      <td>8e7a787fc98d409a3f6c63826e53c60210894c19</td>\n",
       "      <td>Computer-Aided Detection of Cancer in Automate...</td>\n",
       "      <td>Tan13a</td>\n",
       "      <td>Computer-aided Detection of Cancer in Automate...</td>\n",
       "      <td>0.992701</td>\n",
       "      <td>['Kars11b', 'Tan11d', 'Tan12', 'Tan13a']</td>\n",
       "      <td>['Computer Aided Interpretation of Lesions in ...</td>\n",
       "      <td>[0.8251748251748252, 0.8251748251748252, 0.821...</td>\n",
       "    </tr>\n",
       "  </tbody>\n",
       "</table>\n",
       "</div>"
      ],
      "text/plain": [
       "                                       ss_id  \\\n",
       "92  2704781e2ff16f7f31bd97e4d393e685b9ab0875   \n",
       "93  443e44a373875423637e9b519b451031635f2d35   \n",
       "94  8e7a787fc98d409a3f6c63826e53c60210894c19   \n",
       "\n",
       "                                             ss_title max_bibkey  \\\n",
       "92  Classification of breast lesions in automated ...      Tan11   \n",
       "93  Detection of breast cancer in automated 3D bre...      Tan12   \n",
       "94  Computer-Aided Detection of Cancer in Automate...     Tan13a   \n",
       "\n",
       "                                        max_bib_title  max_ratio  \\\n",
       "92  Classification of Breast Lesions in Automated ...   1.000000   \n",
       "93  Detection of Breast Cancer in Automated 3D Bre...   1.000000   \n",
       "94  Computer-aided Detection of Cancer in Automate...   0.992701   \n",
       "\n",
       "                                up80_bibkeys  \\\n",
       "92                        ['Tan11', 'Tan12']   \n",
       "93              ['Tan11', 'Tan12', 'Tan13a']   \n",
       "94  ['Kars11b', 'Tan11d', 'Tan12', 'Tan13a']   \n",
       "\n",
       "                                      up80_bib_titles  \\\n",
       "92  ['Classification of Breast Lesions in Automate...   \n",
       "93  ['Classification of Breast Lesions in Automate...   \n",
       "94  ['Computer Aided Interpretation of Lesions in ...   \n",
       "\n",
       "                                          up80_ratios  \n",
       "92                          [1.0, 0.8095238095238095]  \n",
       "93                [0.8095238095238095, 1.0, 0.828125]  \n",
       "94  [0.8251748251748252, 0.8251748251748252, 0.821...  "
      ]
     },
     "execution_count": 38,
     "metadata": {},
     "output_type": "execute_result"
    }
   ],
   "source": [
    "double = bibkeys_many_in_one_to_one[double_idx]\n",
    "\n",
    "print('df_matches_one_to_one')\n",
    "display(df_matches_one_to_one[df_matches_one_to_one['bibkey']==double])\n",
    "\n",
    "print('df_matches_many')\n",
    "df_matches_many[df_matches_many['up80_bibkeys'].apply(lambda lst: double in lst)]"
   ]
  },
  {
   "cell_type": "markdown",
   "id": "977464b4-18e2-4930-b2f0-d1c1e9e1d09a",
   "metadata": {},
   "source": [
    "### bibkeys_many_in_one_to_none"
   ]
  },
  {
   "cell_type": "markdown",
   "id": "926bc077-1e01-4935-98f7-df506c54ca4e",
   "metadata": {},
   "source": [
    " these are cases that are in many, but they are not one-to-one or one-to-many, so they were not matched"
   ]
  },
  {
   "cell_type": "code",
   "execution_count": 39,
   "id": "5e9db650-2eaa-4964-894b-56aa5a335ffd",
   "metadata": {},
   "outputs": [
    {
     "name": "stdout",
     "output_type": "stream",
     "text": [
      "14\n"
     ]
    },
    {
     "data": {
      "text/plain": [
       "['Ares18', 'Leem18b', 'Moor2018', 'Xie21a', 'Anto21']"
      ]
     },
     "execution_count": 39,
     "metadata": {},
     "output_type": "execute_result"
    }
   ],
   "source": [
    "bibkeys_many_in_one_to_none = list(set(bibkeys_many) & set(bibkeys_one_to_none))\n",
    "print(len(bibkeys_many_in_one_to_none))\n",
    "bibkeys_many_in_one_to_none[:5]"
   ]
  },
  {
   "cell_type": "code",
   "execution_count": 40,
   "id": "f9ad4ee7-d42b-4cea-9d1a-8e874062dadd",
   "metadata": {},
   "outputs": [],
   "source": [
    "double_idx = 0"
   ]
  },
  {
   "cell_type": "code",
   "execution_count": 41,
   "id": "a6079983-ebd3-41a4-919b-91379789431e",
   "metadata": {},
   "outputs": [
    {
     "name": "stdout",
     "output_type": "stream",
     "text": [
      "df_matches_one_to_one\n"
     ]
    },
    {
     "data": {
      "text/html": [
       "<div>\n",
       "<style scoped>\n",
       "    .dataframe tbody tr th:only-of-type {\n",
       "        vertical-align: middle;\n",
       "    }\n",
       "\n",
       "    .dataframe tbody tr th {\n",
       "        vertical-align: top;\n",
       "    }\n",
       "\n",
       "    .dataframe thead th {\n",
       "        text-align: right;\n",
       "    }\n",
       "</style>\n",
       "<table border=\"1\" class=\"dataframe\">\n",
       "  <thead>\n",
       "    <tr style=\"text-align: right;\">\n",
       "      <th></th>\n",
       "      <th>bibkey</th>\n",
       "      <th>type</th>\n",
       "      <th>title</th>\n",
       "      <th>authors</th>\n",
       "      <th>ss_id</th>\n",
       "      <th>all_ss_ids</th>\n",
       "      <th>comment</th>\n",
       "      <th>year</th>\n",
       "    </tr>\n",
       "  </thead>\n",
       "  <tbody>\n",
       "    <tr>\n",
       "      <th>4</th>\n",
       "      <td>Ares18</td>\n",
       "      <td>article</td>\n",
       "      <td>iW-Net}: an automatic and minimalistic interac...</td>\n",
       "      <td>Guilherme Aresta and Colin Jacobs and Teresa A...</td>\n",
       "      <td>NaN</td>\n",
       "      <td>NaN</td>\n",
       "      <td>NaN</td>\n",
       "      <td>2018.0</td>\n",
       "    </tr>\n",
       "  </tbody>\n",
       "</table>\n",
       "</div>"
      ],
      "text/plain": [
       "   bibkey     type                                              title  \\\n",
       "4  Ares18  article  iW-Net}: an automatic and minimalistic interac...   \n",
       "\n",
       "                                             authors ss_id all_ss_ids comment  \\\n",
       "4  Guilherme Aresta and Colin Jacobs and Teresa A...   NaN        NaN     NaN   \n",
       "\n",
       "     year  \n",
       "4  2018.0  "
      ]
     },
     "metadata": {},
     "output_type": "display_data"
    },
    {
     "name": "stdout",
     "output_type": "stream",
     "text": [
      "df_matches_many\n"
     ]
    },
    {
     "data": {
      "text/html": [
       "<div>\n",
       "<style scoped>\n",
       "    .dataframe tbody tr th:only-of-type {\n",
       "        vertical-align: middle;\n",
       "    }\n",
       "\n",
       "    .dataframe tbody tr th {\n",
       "        vertical-align: top;\n",
       "    }\n",
       "\n",
       "    .dataframe thead th {\n",
       "        text-align: right;\n",
       "    }\n",
       "</style>\n",
       "<table border=\"1\" class=\"dataframe\">\n",
       "  <thead>\n",
       "    <tr style=\"text-align: right;\">\n",
       "      <th></th>\n",
       "      <th>ss_id</th>\n",
       "      <th>ss_title</th>\n",
       "      <th>max_bibkey</th>\n",
       "      <th>max_bib_title</th>\n",
       "      <th>max_ratio</th>\n",
       "      <th>up80_bibkeys</th>\n",
       "      <th>up80_bib_titles</th>\n",
       "      <th>up80_ratios</th>\n",
       "    </tr>\n",
       "  </thead>\n",
       "  <tbody>\n",
       "    <tr>\n",
       "      <th>3</th>\n",
       "      <td>b3dc561dd990cebc626e10318b8582a198aa3571</td>\n",
       "      <td>iW-Net: an automatic and minimalistic interact...</td>\n",
       "      <td>Ares18</td>\n",
       "      <td>iW-Net: an automatic and minimalistic interact...</td>\n",
       "      <td>1.0</td>\n",
       "      <td>['Ares18', 'Ares19']</td>\n",
       "      <td>['iW-Net: an automatic and minimalistic intera...</td>\n",
       "      <td>[1.0, 1.0]</td>\n",
       "    </tr>\n",
       "  </tbody>\n",
       "</table>\n",
       "</div>"
      ],
      "text/plain": [
       "                                      ss_id  \\\n",
       "3  b3dc561dd990cebc626e10318b8582a198aa3571   \n",
       "\n",
       "                                            ss_title max_bibkey  \\\n",
       "3  iW-Net: an automatic and minimalistic interact...     Ares18   \n",
       "\n",
       "                                       max_bib_title  max_ratio  \\\n",
       "3  iW-Net: an automatic and minimalistic interact...        1.0   \n",
       "\n",
       "           up80_bibkeys                                    up80_bib_titles  \\\n",
       "3  ['Ares18', 'Ares19']  ['iW-Net: an automatic and minimalistic intera...   \n",
       "\n",
       "  up80_ratios  \n",
       "3  [1.0, 1.0]  "
      ]
     },
     "execution_count": 41,
     "metadata": {},
     "output_type": "execute_result"
    }
   ],
   "source": [
    "double = bibkeys_many_in_one_to_none[double_idx]\n",
    "\n",
    "print('df_matches_one_to_one')\n",
    "display(df_matches_one_to_none[df_matches_one_to_none['bibkey']==double])\n",
    "\n",
    "print('df_matches_many')\n",
    "df_matches_many[df_matches_many['up80_bibkeys'].apply(lambda lst: double in lst)]"
   ]
  },
  {
   "cell_type": "markdown",
   "id": "449149fd-4024-4dbc-a24e-d0f618344553",
   "metadata": {},
   "source": [
    "### bibkeys_many_in_one_to_many"
   ]
  },
  {
   "cell_type": "code",
   "execution_count": 42,
   "id": "8cf5d59e-4685-449e-bd08-efdd57bd2989",
   "metadata": {},
   "outputs": [
    {
     "name": "stdout",
     "output_type": "stream",
     "text": [
      "2\n"
     ]
    },
    {
     "data": {
      "text/plain": [
       "['Anto22', 'Wand17a']"
      ]
     },
     "execution_count": 42,
     "metadata": {},
     "output_type": "execute_result"
    }
   ],
   "source": [
    "bibkeys_many_in_one_to_many = list(set(bibkeys_many) & set(bibkeys_one_to_many))\n",
    "print(len(bibkeys_many_in_one_to_many))\n",
    "bibkeys_many_in_one_to_many[:5]"
   ]
  },
  {
   "cell_type": "code",
   "execution_count": 43,
   "id": "6fc210fc-6614-47dc-b2c4-954fe352ba33",
   "metadata": {},
   "outputs": [],
   "source": [
    "double_idx = 1"
   ]
  },
  {
   "cell_type": "code",
   "execution_count": 44,
   "id": "4919ae62-d56d-4c14-b4fa-ccb82b1969ec",
   "metadata": {},
   "outputs": [
    {
     "name": "stdout",
     "output_type": "stream",
     "text": [
      "df_matches_one_to_one\n"
     ]
    },
    {
     "data": {
      "text/html": [
       "<div>\n",
       "<style scoped>\n",
       "    .dataframe tbody tr th:only-of-type {\n",
       "        vertical-align: middle;\n",
       "    }\n",
       "\n",
       "    .dataframe tbody tr th {\n",
       "        vertical-align: top;\n",
       "    }\n",
       "\n",
       "    .dataframe thead th {\n",
       "        text-align: right;\n",
       "    }\n",
       "</style>\n",
       "<table border=\"1\" class=\"dataframe\">\n",
       "  <thead>\n",
       "    <tr style=\"text-align: right;\">\n",
       "      <th></th>\n",
       "      <th>bibkey</th>\n",
       "      <th>type</th>\n",
       "      <th>title</th>\n",
       "      <th>authors</th>\n",
       "      <th>ss_id</th>\n",
       "      <th>all_ss_ids</th>\n",
       "      <th>comment</th>\n",
       "      <th>year</th>\n",
       "    </tr>\n",
       "  </thead>\n",
       "  <tbody>\n",
       "    <tr>\n",
       "      <th>89</th>\n",
       "      <td>Wand17a</td>\n",
       "      <td>article</td>\n",
       "      <td>The effect of volumetric breast density on the...</td>\n",
       "      <td>Wanders, Johanna O.P. and Holland, Katharina a...</td>\n",
       "      <td>d677e08922a1c646ef739f06bae679cc795ba362</td>\n",
       "      <td>['10123038b80006871abc7396810bed15bfa29387', '...</td>\n",
       "      <td>[ss_ids: same DOI] multiple doi matches ['1012...</td>\n",
       "      <td>2017.0</td>\n",
       "    </tr>\n",
       "  </tbody>\n",
       "</table>\n",
       "</div>"
      ],
      "text/plain": [
       "     bibkey     type                                              title  \\\n",
       "89  Wand17a  article  The effect of volumetric breast density on the...   \n",
       "\n",
       "                                              authors  \\\n",
       "89  Wanders, Johanna O.P. and Holland, Katharina a...   \n",
       "\n",
       "                                       ss_id  \\\n",
       "89  d677e08922a1c646ef739f06bae679cc795ba362   \n",
       "\n",
       "                                           all_ss_ids  \\\n",
       "89  ['10123038b80006871abc7396810bed15bfa29387', '...   \n",
       "\n",
       "                                              comment    year  \n",
       "89  [ss_ids: same DOI] multiple doi matches ['1012...  2017.0  "
      ]
     },
     "metadata": {},
     "output_type": "display_data"
    },
    {
     "name": "stdout",
     "output_type": "stream",
     "text": [
      "df_matches_many\n"
     ]
    },
    {
     "data": {
      "text/html": [
       "<div>\n",
       "<style scoped>\n",
       "    .dataframe tbody tr th:only-of-type {\n",
       "        vertical-align: middle;\n",
       "    }\n",
       "\n",
       "    .dataframe tbody tr th {\n",
       "        vertical-align: top;\n",
       "    }\n",
       "\n",
       "    .dataframe thead th {\n",
       "        text-align: right;\n",
       "    }\n",
       "</style>\n",
       "<table border=\"1\" class=\"dataframe\">\n",
       "  <thead>\n",
       "    <tr style=\"text-align: right;\">\n",
       "      <th></th>\n",
       "      <th>ss_id</th>\n",
       "      <th>ss_title</th>\n",
       "      <th>max_bibkey</th>\n",
       "      <th>max_bib_title</th>\n",
       "      <th>max_ratio</th>\n",
       "      <th>up80_bibkeys</th>\n",
       "      <th>up80_bib_titles</th>\n",
       "      <th>up80_ratios</th>\n",
       "    </tr>\n",
       "  </thead>\n",
       "  <tbody>\n",
       "    <tr>\n",
       "      <th>98</th>\n",
       "      <td>d677e08922a1c646ef739f06bae679cc795ba362</td>\n",
       "      <td>The effect of volumetric breast density on the...</td>\n",
       "      <td>Wand17a</td>\n",
       "      <td>The effect of volumetric breast density on the...</td>\n",
       "      <td>1.0</td>\n",
       "      <td>['Wand15b', 'Wand16', 'Wand17a']</td>\n",
       "      <td>['Volumetric breast density and the risk of sc...</td>\n",
       "      <td>[0.8181818181818182, 0.8282828282828283, 1.0]</td>\n",
       "    </tr>\n",
       "    <tr>\n",
       "      <th>99</th>\n",
       "      <td>10123038b80006871abc7396810bed15bfa29387</td>\n",
       "      <td>The effect of volumetric breast density on the...</td>\n",
       "      <td>Wand17a</td>\n",
       "      <td>The effect of volumetric breast density on the...</td>\n",
       "      <td>1.0</td>\n",
       "      <td>['Wand15b', 'Wand16', 'Wand17a']</td>\n",
       "      <td>['Volumetric breast density and the risk of sc...</td>\n",
       "      <td>[0.8181818181818182, 0.8282828282828283, 1.0]</td>\n",
       "    </tr>\n",
       "  </tbody>\n",
       "</table>\n",
       "</div>"
      ],
      "text/plain": [
       "                                       ss_id  \\\n",
       "98  d677e08922a1c646ef739f06bae679cc795ba362   \n",
       "99  10123038b80006871abc7396810bed15bfa29387   \n",
       "\n",
       "                                             ss_title max_bibkey  \\\n",
       "98  The effect of volumetric breast density on the...    Wand17a   \n",
       "99  The effect of volumetric breast density on the...    Wand17a   \n",
       "\n",
       "                                        max_bib_title  max_ratio  \\\n",
       "98  The effect of volumetric breast density on the...        1.0   \n",
       "99  The effect of volumetric breast density on the...        1.0   \n",
       "\n",
       "                        up80_bibkeys  \\\n",
       "98  ['Wand15b', 'Wand16', 'Wand17a']   \n",
       "99  ['Wand15b', 'Wand16', 'Wand17a']   \n",
       "\n",
       "                                      up80_bib_titles  \\\n",
       "98  ['Volumetric breast density and the risk of sc...   \n",
       "99  ['Volumetric breast density and the risk of sc...   \n",
       "\n",
       "                                      up80_ratios  \n",
       "98  [0.8181818181818182, 0.8282828282828283, 1.0]  \n",
       "99  [0.8181818181818182, 0.8282828282828283, 1.0]  "
      ]
     },
     "execution_count": 44,
     "metadata": {},
     "output_type": "execute_result"
    }
   ],
   "source": [
    "double = bibkeys_many_in_one_to_many[double_idx]\n",
    "\n",
    "print('df_matches_one_to_one')\n",
    "display(df_matches_one_to_many[df_matches_one_to_many['bibkey']==double])\n",
    "\n",
    "print('df_matches_many')\n",
    "df_matches_many[df_matches_many['up80_bibkeys'].apply(lambda lst: double in lst)]"
   ]
  },
  {
   "cell_type": "code",
   "execution_count": null,
   "id": "c55d96b6-ef6a-4ba5-8ad2-a1bd353eb4a2",
   "metadata": {},
   "outputs": [],
   "source": []
  },
  {
   "cell_type": "markdown",
   "id": "fc710a92",
   "metadata": {},
   "source": [
    "# Add ss_ids to DAIG bib"
   ]
  },
  {
   "cell_type": "markdown",
   "id": "e26092b1",
   "metadata": {},
   "source": [
    "#### Logic:\n",
    "Loop over entries:\n",
    "- Skip Journal strings\n",
    "- Look up entry key (bibkey) in df_matches_one\n",
    "    - If bibkey not in df, skip\n",
    "- Check if there are SS matches for this bibkey\n",
    "    - If so, add this row's 'all_ss_ids' column to the entry"
   ]
  },
  {
   "cell_type": "markdown",
   "id": "47c060ad-76d3-442f-9c03-01dd768097ed",
   "metadata": {},
   "source": [
    "# One-to-one"
   ]
  },
  {
   "cell_type": "code",
   "execution_count": 45,
   "id": "6ee6a121-04ed-48b6-bed6-9c0c107ab315",
   "metadata": {},
   "outputs": [
    {
     "data": {
      "text/html": [
       "<div>\n",
       "<style scoped>\n",
       "    .dataframe tbody tr th:only-of-type {\n",
       "        vertical-align: middle;\n",
       "    }\n",
       "\n",
       "    .dataframe tbody tr th {\n",
       "        vertical-align: top;\n",
       "    }\n",
       "\n",
       "    .dataframe thead th {\n",
       "        text-align: right;\n",
       "    }\n",
       "</style>\n",
       "<table border=\"1\" class=\"dataframe\">\n",
       "  <thead>\n",
       "    <tr style=\"text-align: right;\">\n",
       "      <th></th>\n",
       "      <th>bibkey</th>\n",
       "      <th>type</th>\n",
       "      <th>title</th>\n",
       "      <th>authors</th>\n",
       "      <th>ss_id</th>\n",
       "      <th>all_ss_ids</th>\n",
       "      <th>comment</th>\n",
       "    </tr>\n",
       "  </thead>\n",
       "  <tbody>\n",
       "    <tr>\n",
       "      <th>120</th>\n",
       "      <td>Ciom16a</td>\n",
       "      <td>article</td>\n",
       "      <td>Computer-aided detection of intracoronary sten...</td>\n",
       "      <td>Ciompi, Francesco and Balocco, Simone and Rigl...</td>\n",
       "      <td>271e85d19b4cd1997a110525ffb66df7a8fa7fe6</td>\n",
       "      <td>['271e85d19b4cd1997a110525ffb66df7a8fa7fe6']</td>\n",
       "      <td>title matching: single bibkey, single ss_id</td>\n",
       "    </tr>\n",
       "  </tbody>\n",
       "</table>\n",
       "</div>"
      ],
      "text/plain": [
       "      bibkey     type                                              title  \\\n",
       "120  Ciom16a  article  Computer-aided detection of intracoronary sten...   \n",
       "\n",
       "                                               authors  \\\n",
       "120  Ciompi, Francesco and Balocco, Simone and Rigl...   \n",
       "\n",
       "                                        ss_id  \\\n",
       "120  271e85d19b4cd1997a110525ffb66df7a8fa7fe6   \n",
       "\n",
       "                                       all_ss_ids  \\\n",
       "120  ['271e85d19b4cd1997a110525ffb66df7a8fa7fe6']   \n",
       "\n",
       "                                         comment  \n",
       "120  title matching: single bibkey, single ss_id  "
      ]
     },
     "execution_count": 45,
     "metadata": {},
     "output_type": "execute_result"
    }
   ],
   "source": [
    "df_matches_one_to_one[df_matches_one_to_one['ss_id']=='271e85d19b4cd1997a110525ffb66df7a8fa7fe6']"
   ]
  },
  {
   "cell_type": "code",
   "execution_count": 46,
   "id": "1ea4ce22-d86d-4532-91c3-6ed80f1706ff",
   "metadata": {},
   "outputs": [
    {
     "data": {
      "text/html": [
       "<div>\n",
       "<style scoped>\n",
       "    .dataframe tbody tr th:only-of-type {\n",
       "        vertical-align: middle;\n",
       "    }\n",
       "\n",
       "    .dataframe tbody tr th {\n",
       "        vertical-align: top;\n",
       "    }\n",
       "\n",
       "    .dataframe thead th {\n",
       "        text-align: right;\n",
       "    }\n",
       "</style>\n",
       "<table border=\"1\" class=\"dataframe\">\n",
       "  <thead>\n",
       "    <tr style=\"text-align: right;\">\n",
       "      <th></th>\n",
       "      <th>bibkey</th>\n",
       "      <th>type</th>\n",
       "      <th>title</th>\n",
       "      <th>authors</th>\n",
       "      <th>ss_id</th>\n",
       "      <th>all_ss_ids</th>\n",
       "      <th>comment</th>\n",
       "    </tr>\n",
       "  </thead>\n",
       "  <tbody>\n",
       "  </tbody>\n",
       "</table>\n",
       "</div>"
      ],
      "text/plain": [
       "Empty DataFrame\n",
       "Columns: [bibkey, type, title, authors, ss_id, all_ss_ids, comment]\n",
       "Index: []"
      ]
     },
     "execution_count": 46,
     "metadata": {},
     "output_type": "execute_result"
    }
   ],
   "source": [
    "df_matches_one_to_one[df_matches_one_to_one['ss_id']=='de1fc90d61276094416b430605d47ee5f8cc7b4d']"
   ]
  },
  {
   "cell_type": "code",
   "execution_count": 47,
   "id": "57a9adac",
   "metadata": {},
   "outputs": [],
   "source": [
    "for entry in diag_bib_raw:\n",
    "    ### skip Journal strings\n",
    "    if entry.type == 'string':\n",
    "        continue\n",
    "    \n",
    "    # Get data\n",
    "    bibkey = entry.key\n",
    "    match_row = df_matches_one_to_one[df_matches_one_to_one['bibkey'] == bibkey]\n",
    "    \n",
    "    # Double checks\n",
    "    if len(match_row) == 0:\n",
    "        continue\n",
    "    assert len(match_row) == 1, 'multiple rows should not be possible in this DF'\n",
    "    match_row = match_row.iloc[0]\n",
    "    \n",
    "    # If there is a match\n",
    "    if pd.notna(match_row['all_ss_ids']):\n",
    "        ## SS ID\n",
    "        # If the field is already filled, check if the same\n",
    "        if 'ss_id' in entry.fields:\n",
    "            if not entry.fields['ss_id'] == '{' + match_row['ss_id'] + '}':\n",
    "                print('ss_id data not the same\\n', bibkey, entry.fields['ss_id'], '{' + match_row['ss_id'] + '}')\n",
    "                break\n",
    "        # Else fill field\n",
    "        else: \n",
    "            entry.fields['ss_id'] = '{' + match_row['ss_id'] + '}'\n",
    "            \n",
    "        ## SS ID\n",
    "        # If the field is already filled, check if the same\n",
    "        if 'all_ss_ids' in entry.fields:\n",
    "            if not entry.fields['all_ss_ids'] == '{' + match_row['all_ss_ids'] + '}':\n",
    "                print('all_ss_ids data not the same\\n', bibkey, entry.fields['all_ss_ids'], '\\n', match_row)\n",
    "                break\n",
    "        # Else fill field\n",
    "        else: \n",
    "            entry.fields['all_ss_ids'] = '{' + match_row['all_ss_ids'] + '}'\n",
    "    \n",
    "    \n",
    "#     if entry.type == 'phdthesis':\n",
    "#         entry.fields['journal'] = '{PhD thesis}'\n",
    "#     if entry.type == 'mastersthesis':\n",
    "#         entry.fields['journal'] = '{Master thesis}'\n",
    "#     else:\n",
    "#         pass"
   ]
  },
  {
   "cell_type": "code",
   "execution_count": 48,
   "id": "75d4e207",
   "metadata": {},
   "outputs": [
    {
     "name": "stdout",
     "output_type": "stream",
     "text": [
      "940\n"
     ]
    }
   ],
   "source": [
    "count = 0\n",
    "for entry in diag_bib_raw:\n",
    "    if 'ss_id' in entry.fields:\n",
    "        count += 1\n",
    "print(count)"
   ]
  },
  {
   "cell_type": "markdown",
   "id": "8f87aeff-df0b-4a4d-a77e-d7ef78fe293e",
   "metadata": {},
   "source": [
    "### One-to-many"
   ]
  },
  {
   "cell_type": "code",
   "execution_count": 49,
   "id": "b314c435-d848-4d17-87fc-5687af70efb3",
   "metadata": {},
   "outputs": [],
   "source": [
    "def bibkey_to_one_to_many_add_ss_ids_list(bibkey):\n",
    "    assert len(df_ML_one_to_many[df_ML_one_to_many['bibkey']==bibkey]) == 1, display(df_ML_one_to_many[df_ML_one_to_many['bibkey']==bibkey])\n",
    "    row = df_ML_one_to_many[df_ML_one_to_many['bibkey']==bibkey]\n",
    "    all_ss_ids = literal_eval(row['all_ss_ids'].item())\n",
    "    add = literal_eval(row['ADD_SS_TO_THIS_BIB?'].item())\n",
    "    add = [literal_eval(tf) for tf in add]\n",
    "    assert len(all_ss_ids) == len(add), 'all_ss_ids and add should have same len'\n",
    "    add_ss_ids = [ss_id for ss_id, tf in zip(all_ss_ids, add) if tf==True]\n",
    "    return add_ss_ids"
   ]
  },
  {
   "cell_type": "code",
   "execution_count": 50,
   "id": "31d2f698-58f3-4237-a5c7-ffd79c58662c",
   "metadata": {},
   "outputs": [
    {
     "data": {
      "text/plain": [
       "['69999230b02054b82254684a73bb8a4c83878d28',\n",
       " 'b4c4c3dc91d42114023b0575c3e2273b87446ff7']"
      ]
     },
     "execution_count": 50,
     "metadata": {},
     "output_type": "execute_result"
    }
   ],
   "source": [
    "bibkey_to_one_to_many_add_ss_ids_list('Amga20')"
   ]
  },
  {
   "cell_type": "markdown",
   "id": "8c969707-75df-4674-9790-5a092f7e76f4",
   "metadata": {},
   "source": [
    "#### LOOP"
   ]
  },
  {
   "cell_type": "code",
   "execution_count": null,
   "id": "8241cbd7-8360-4491-941c-6f054c3d32fc",
   "metadata": {},
   "outputs": [],
   "source": [
    "for entry in diag_bib_raw:\n",
    "    ### skip Journal strings\n",
    "    if entry.type == 'string':\n",
    "        continue\n",
    "    \n",
    "    # Get data\n",
    "    bibkey = entry.key\n",
    "    match_row = df_ML_one_to_many[df_ML_one_to_many['bibkey'] == bibkey]\n",
    "    # Double checks\n",
    "    if len(match_row) == 0:\n",
    "        continue\n",
    "    elif len(match_row)>1:\n",
    "        print(match_row)\n",
    "        print('len>1')\n",
    "        break\n",
    "    else:\n",
    "        pass\n",
    "        # display(match_row)\n",
    "        # print(len(match_row))\n",
    "    assert len(match_row) == 1, 'multiple rows should not be possible in this DF'\n",
    "    match_row = match_row.iloc[0]\n",
    "    \n",
    "    # If there is a match\n",
    "    if pd.notna(match_row['all_ss_ids']):\n",
    "        # get add_ss_ids based on manual matching\n",
    "        # print(bibkey)\n",
    "        add_ss_ids = bibkey_to_one_to_many_add_ss_ids_list(bibkey)\n",
    "        # print(add_ss_ids)\n",
    "        ## SS ID\n",
    "        # If the field is already filled, check if the same\n",
    "        # if 'ss_id' in entry.fields:\n",
    "        #     if not entry.fields['ss_id'] == '{' + match_row['ss_id'] + '}':\n",
    "        #         print('ss_id data not the same\\n', bibkey, entry.fields['ss_id'], '{' + match_row['ss_id'] + '}')\n",
    "        #         break\n",
    "        # # Else fill field\n",
    "        # else: \n",
    "        #     entry.fields['ss_id'] = '{' + str(add_ss_ids) + '}'\n",
    "            \n",
    "        ## ALL SS IDS\n",
    "        # If the field is already filled, check if the same\n",
    "        if 'all_ss_ids' in entry.fields:\n",
    "            if not entry.fields['all_ss_ids'] == '{' + str(add_ss_ids) + '}':\n",
    "                print('all_ss_ids data not the same\\n', bibkey, entry.fields['all_ss_ids'], '\\n', str(add_ss_ids))\n",
    "                previous = literal_eval(entry.fields['all_ss_ids'].strip('{}'))\n",
    "                new = add_ss_ids\n",
    "                combined = list(set(previous) | set(new))\n",
    "                print(f'replacing with combined: {combined}')\n",
    "                entry.fields['all_ss_ids'] = '{' + str(combined) + '}'\n",
    "                # break\n",
    "        # Else fill field\n",
    "        else: \n",
    "            entry.fields['all_ss_ids'] = '{' + str(add_ss_ids) + '}'\n",
    "    \n"
   ]
  },
  {
   "cell_type": "code",
   "execution_count": null,
   "id": "5c61c5c5-7f54-43b0-b47c-fd79141beb05",
   "metadata": {},
   "outputs": [],
   "source": [
    "count = 0\n",
    "for entry in diag_bib_raw:\n",
    "    if 'all_ss_ids' in entry.fields:\n",
    "        count += 1\n",
    "print(count)"
   ]
  },
  {
   "cell_type": "markdown",
   "id": "37cbf958-aa14-4027-b597-42c59b7c951a",
   "metadata": {},
   "source": [
    "## Many to many"
   ]
  },
  {
   "cell_type": "code",
   "execution_count": null,
   "id": "51051992-7a1d-4da0-a01d-c71cdd568bcc",
   "metadata": {},
   "outputs": [],
   "source": [
    "display(df_ML_many.head(2))"
   ]
  },
  {
   "cell_type": "code",
   "execution_count": null,
   "id": "0bca954d-bf19-4a51-8435-10a561953096",
   "metadata": {},
   "outputs": [],
   "source": [
    "bibkey = 'Anto21'"
   ]
  },
  {
   "cell_type": "code",
   "execution_count": null,
   "id": "fabf6be1-625d-436b-a24b-0573cbf75bfc",
   "metadata": {},
   "outputs": [],
   "source": [
    "df_temp_bibkey_match = df_ML_many.copy()[df_ML_many['up80_bibkeys'].apply(lambda x: bibkey in x)]\n",
    "df_temp_bibkey_match['bibkey_idx'] = df_temp_bibkey_match['up80_bibkeys'].apply(lambda x: literal_eval(x).index(bibkey))\n",
    "df_temp_bibkey_match['add_ss_id'] = df_temp_bibkey_match.apply(lambda row: literal_eval(literal_eval(row['ADD_SS_TO_BIB?'])[row['bibkey_idx']]), axis=1)\n",
    "add_ss_ids = list(df_temp_bibkey_match[df_temp_bibkey_match['add_ss_id']]['ss_id'])"
   ]
  },
  {
   "cell_type": "code",
   "execution_count": null,
   "id": "463fa239-cc22-4ac1-9bff-3675665873ab",
   "metadata": {},
   "outputs": [],
   "source": [
    "bibkey = 'Adri11c'"
   ]
  },
  {
   "cell_type": "code",
   "execution_count": null,
   "id": "6cb962d9-5167-45bb-8668-fab8e52af159",
   "metadata": {},
   "outputs": [],
   "source": [
    "df_temp_bibkey_match = df_ML_many.copy()[df_ML_many['up80_bibkeys'].apply(lambda x: bibkey in x)]\n",
    "df_temp_bibkey_match['bibkey_idx'] = df_temp_bibkey_match['up80_bibkeys'].apply(lambda x: literal_eval(x).index(bibkey))\n",
    "df_temp_bibkey_match['add_ss_id'] = df_temp_bibkey_match.apply(lambda row: literal_eval(literal_eval(row['ADD_SS_TO_BIB?'])[row['bibkey_idx']]), axis=1)\n",
    "add_ss_ids = list(df_temp_bibkey_match[df_temp_bibkey_match['add_ss_id']]['ss_id'])\n",
    "add_ss_ids"
   ]
  },
  {
   "cell_type": "code",
   "execution_count": null,
   "id": "e7c22018-3bb1-48a5-9e5a-ce3a68929217",
   "metadata": {},
   "outputs": [],
   "source": [
    "def bibkey_to_many_add_ss_ids_list(bibkey, df_temp):\n",
    "    # print(bibkey)\n",
    "    df_temp['bibkey_idx'] = df_temp['up80_bibkeys'].apply(lambda x: literal_eval(x).index(bibkey))\n",
    "    # try:\n",
    "    df_temp['add_ss_id'] = df_temp.apply(lambda row: literal_eval(literal_eval(row['ADD_SS_TO_BIB?'])[row['bibkey_idx']]), axis=1)\n",
    "    # except:\n",
    "    #     df_temp.apply(lambda row: print(row['ADD_SS_TO_BIB?'], '\\n\\n'), axis=1)\n",
    "    #     df_temp.apply(lambda row: print(literal_eval(row['ADD_SS_TO_BIB?']),'\\n\\n'), axis=1)\n",
    "    #     df_temp.apply(lambda row: print(literal_eval(row['ADD_SS_TO_BIB?'])[row['bibkey_idx']],'\\n\\n'), axis=1)\n",
    "    #     df_temp.apply(lambda row: print(literal_eval(literal_eval(row['ADD_SS_TO_BIB?'])[row['bibkey_idx']])), axis=1)\n",
    "    add_ss_ids = list(df_temp[df_temp['add_ss_id']]['ss_id'])\n",
    "    return add_ss_ids if add_ss_ids!=[] else None"
   ]
  },
  {
   "cell_type": "code",
   "execution_count": null,
   "id": "71d4d19c-dfbe-4538-b62c-6aeafbfb30c8",
   "metadata": {},
   "outputs": [],
   "source": [
    "for entry in diag_bib_raw:\n",
    "    ### skip Journal strings\n",
    "    if entry.type == 'string':\n",
    "        continue\n",
    "    \n",
    "    # Get data\n",
    "    bibkey = entry.key\n",
    "    df_temp_bibkey_match = df_ML_many.copy()[df_ML_many['up80_bibkeys'].apply(lambda x: bibkey in literal_eval(x))]\n",
    "    # Double checks\n",
    "    if len(df_temp_bibkey_match) == 0:\n",
    "        continue\n",
    "    \n",
    "    \n",
    "    # If there is a match\n",
    "    # get add_ss_ids based on manual matching\n",
    "    # print(bibkey)\n",
    "    add_ss_ids = bibkey_to_many_add_ss_ids_list(bibkey, df_temp_bibkey_match)\n",
    "    \n",
    "    if add_ss_ids == None:\n",
    "        continue\n",
    "    # print(add_ss_ids)\n",
    "    ## SS ID\n",
    "    # If the field is already filled, check if the same\n",
    "    # if 'ss_id' in entry.fields:\n",
    "    #     if not entry.fields['ss_id'] == '{' + match_row['ss_id'] + '}':\n",
    "    #         print('ss_id data not the same\\n', bibkey, entry.fields['ss_id'], '{' + match_row['ss_id'] + '}')\n",
    "    #         break\n",
    "    # # Else fill field\n",
    "    # else: \n",
    "    #     entry.fields['ss_id'] = '{' + str(add_ss_ids) + '}'\n",
    "\n",
    "    ## ALL SS IDS\n",
    "    # If the field is already filled, check if the same\n",
    "    if 'all_ss_ids' in entry.fields:\n",
    "        if not set(literal_eval(entry.fields['all_ss_ids'].strip('{}'))) == set(add_ss_ids):\n",
    "            print('all_ss_ids data not the same\\n', bibkey, '\\n--- bib:', \n",
    "                  set(literal_eval(entry.fields['all_ss_ids'].strip('{}'))), \n",
    "                  '\\n--- trying_to_add:', set(add_ss_ids))\n",
    "            previous = literal_eval(entry.fields['all_ss_ids'].strip('{}'))\n",
    "            new = add_ss_ids\n",
    "            combined = list(set(previous) | set(new))\n",
    "            print(f'replacing with combined: {combined}')\n",
    "            entry.fields['all_ss_ids'] = '{' + str(combined) + '}'\n",
    "            # break\n",
    "    # Else fill field\n",
    "    else: \n",
    "        entry.fields['all_ss_ids'] = '{' + str(add_ss_ids) + '}'\n",
    "    "
   ]
  },
  {
   "cell_type": "code",
   "execution_count": null,
   "id": "9db6d2c1-8941-4e92-a957-61c81e661ff4",
   "metadata": {},
   "outputs": [],
   "source": [
    "count = 0\n",
    "for entry in diag_bib_raw:\n",
    "    if 'all_ss_ids' in entry.fields:\n",
    "        count += 1\n",
    "print(count)"
   ]
  },
  {
   "cell_type": "markdown",
   "id": "9c80c23b-a427-4c2e-8763-e2141fee2dde",
   "metadata": {
    "jp-MarkdownHeadingCollapsed": true,
    "tags": []
   },
   "source": [
    "# Next steps:\n",
    "- Flag many to none-one-many bibkeys\n",
    "    - these need to be done manually\n",
    "    - check one-to-many cases and decide what to do with these matches"
   ]
  },
  {
   "cell_type": "markdown",
   "id": "0510aeb5",
   "metadata": {
    "tags": []
   },
   "source": [
    "# Save new diag_taverne.bib"
   ]
  },
  {
   "cell_type": "markdown",
   "id": "de4fde51-e360-4beb-a96f-55dafd57008e",
   "metadata": {},
   "source": [
    "Here its important to be aware that withing the processbib.py file from the bib handling code, there is a hardcoded 'allowed_fields' variable on top of the file. Only fields with names with in this list can be saved to the diag.bib"
   ]
  },
  {
   "cell_type": "code",
   "execution_count": null,
   "id": "3903bd07",
   "metadata": {},
   "outputs": [],
   "source": [
    "path_output_diag_bib = os.path.join('script_data', 'diag_ss.bib')"
   ]
  },
  {
   "cell_type": "code",
   "execution_count": null,
   "id": "9f15d12e",
   "metadata": {},
   "outputs": [],
   "source": [
    "# save_to_file(diag_bib_raw, None, path_output_diag_bib)"
   ]
  }
 ],
 "metadata": {
  "kernelspec": {
   "display_name": "Python 3 (ipykernel)",
   "language": "python",
   "name": "python3"
  },
  "language_info": {
   "codemirror_mode": {
    "name": "ipython",
    "version": 3
   },
   "file_extension": ".py",
   "mimetype": "text/x-python",
   "name": "python",
   "nbconvert_exporter": "python",
   "pygments_lexer": "ipython3",
   "version": "3.9.7"
  }
 },
 "nbformat": 4,
 "nbformat_minor": 5
}
