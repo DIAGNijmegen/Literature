{
 "cells": [
  {
   "cell_type": "markdown",
   "id": "d665ab78",
   "metadata": {},
   "source": [
    "Meeting notes:\n",
    "\n",
    "##### Make diag.bib update code (notebook)\n",
    "- Compare titles of bib and semantic scholar\n",
    "- Match\n",
    "- If match:\n",
    "    - Add semantic scholar ID to diag bib\n",
    "    - Update gscites field from bib entry\n",
    "- If no match:\n",
    "    - Check best matches, if DOI and Arxiv --> chose DOI \n",
    "    - Define right fields (look at code James) + citations + semantic scolar ID \n",
    "    - Add 'automatically added' field so we can trace back automation errors more easilty\n",
    "    - Add to bib   \n",
    "    \n",
    "##### Make sript that checks ss ids and adds new ones to diag bib\n",
    "    \n",
    "    \n",
    "##### Make script that can be used by DIAG members\n",
    "- Add doi/arxiv\n",
    "- if DOI check if Arxiv exists, if so --> remove Arxiv\n",
    "- Sort right fields from DOI --> add fields\n",
    "- Search for semantic scholar ID\n",
    "- Print fields so user can check it\n",
    "- Add to bib\n",
    "- Manual commit push\n",
    "\n",
    "##### Make script that checks all semantic scholar IDs and updates gscites\n",
    "- github action overnight?\n",
    "\n",
    "##### Note: \n",
    "- requests limit, 100 requests per 5 mins for ss \n",
    "    - 100 papers at once = 1 request\n",
    "- google doc: \n",
    "    - https://docs.google.com/document/d/1uFyh5Z-wieksq_4Bf8Br7wHpN-buHECunS0VurYnlvg/edit\n"
   ]
  },
  {
   "cell_type": "markdown",
   "id": "004a794c",
   "metadata": {},
   "source": [
    "# Libraries"
   ]
  },
  {
   "cell_type": "code",
   "execution_count": 1,
   "id": "a7cba022",
   "metadata": {},
   "outputs": [],
   "source": [
    "import os\n",
    "import numpy as np\n",
    "import pandas as pd\n",
    "\n",
    "import requests\n",
    "# from bibreader import parse_bibtex_file, get_bib_blocks\n",
    "from bib_handling_code.processbib import read_bibfile\n",
    "from bib_handling_code.processbib import save_to_file\n",
    "from difflib import SequenceMatcher"
   ]
  },
  {
   "cell_type": "markdown",
   "id": "018c028b",
   "metadata": {
    "tags": []
   },
   "source": [
    "# Example from url giving 100 papers from one of Bram's semantic scolar IDs"
   ]
  },
  {
   "cell_type": "code",
   "execution_count": 2,
   "id": "acf0c756",
   "metadata": {},
   "outputs": [],
   "source": [
    "staff_id = 123637526 #8038506\n",
    "staff_ids = [123637526]"
   ]
  },
  {
   "cell_type": "code",
   "execution_count": 3,
   "id": "d020fd77",
   "metadata": {},
   "outputs": [],
   "source": [
    "url=f'https://api.semanticscholar.org/graph/v1/author/{staff_id}/papers?fields=year,title,authors,externalIds,citationCount&limit=100'\n",
    "\n",
    "r = requests.get(url)\n",
    "ss_staff_data = r.json()['data']"
   ]
  },
  {
   "cell_type": "code",
   "execution_count": 4,
   "id": "37b0c858",
   "metadata": {},
   "outputs": [],
   "source": [
    "for i in ss_staff_data:\n",
    "    if i['paperId'] == 'c70d5169b5c69171cc2ed3ec40eebda0630988d9':\n",
    "        display(i)"
   ]
  },
  {
   "cell_type": "markdown",
   "id": "a1923b6c",
   "metadata": {
    "tags": []
   },
   "source": [
    "# Function to get data from DOI/ArXiv"
   ]
  },
  {
   "cell_type": "code",
   "execution_count": 5,
   "id": "47df078a",
   "metadata": {},
   "outputs": [],
   "source": [
    "def get_doi_csl(doi):\n",
    "    response = requests.get(\n",
    "        f\"https://doi.org/{doi}\",\n",
    "        headers={\"Accept\": \"application/vnd.citationstyles.csl+json\"},\n",
    "        timeout=5,\n",
    "    )\n",
    "    response.raise_for_status()\n",
    "    return response.json()"
   ]
  },
  {
   "cell_type": "markdown",
   "id": "e7a40e68",
   "metadata": {
    "tags": []
   },
   "source": [
    "## Example"
   ]
  },
  {
   "cell_type": "code",
   "execution_count": 6,
   "id": "f953e5bd",
   "metadata": {},
   "outputs": [
    {
     "data": {
      "text/plain": [
       "dict_keys(['type', 'id', 'categories', 'author', 'issued', 'abstract', 'DOI', 'publisher', 'title', 'URL', 'copyright', 'version'])"
      ]
     },
     "execution_count": 6,
     "metadata": {},
     "output_type": "execute_result"
    }
   ],
   "source": [
    "get_doi_csl('10.48550/arXiv.2302.01738').keys()"
   ]
  },
  {
   "cell_type": "code",
   "execution_count": 7,
   "id": "9dfb1116",
   "metadata": {},
   "outputs": [
    {
     "data": {
      "text/plain": [
       "{'DOI': '10.1007/s00330-023-09826-3',\n",
       " 'CorpusId': 259200504,\n",
       " 'PubMed': '37338552'}"
      ]
     },
     "execution_count": 7,
     "metadata": {},
     "output_type": "execute_result"
    }
   ],
   "source": [
    "ss_staff_data[2]['externalIds']"
   ]
  },
  {
   "cell_type": "code",
   "execution_count": 8,
   "id": "66e86184-76a0-4502-b7cc-653e7f79a6d0",
   "metadata": {},
   "outputs": [],
   "source": [
    "staff_id = 8038506\n",
    "url=f'https://api.semanticscholar.org/graph/v1/author/{staff_id}/papers?fields=year,title,authors,externalIds,citationCount&limit=100'\n",
    "\n",
    "r = requests.get(url)\n",
    "ss_staff_data = r.json()['data']"
   ]
  },
  {
   "cell_type": "code",
   "execution_count": 9,
   "id": "acd555d4",
   "metadata": {},
   "outputs": [],
   "source": [
    "found_dois = []"
   ]
  },
  {
   "cell_type": "code",
   "execution_count": 10,
   "id": "2ab65b19",
   "metadata": {},
   "outputs": [],
   "source": [
    "found_arxiv_doi = False\n",
    "found_regular_doi = False"
   ]
  },
  {
   "cell_type": "code",
   "execution_count": 11,
   "id": "48474f2b",
   "metadata": {},
   "outputs": [
    {
     "name": "stdout",
     "output_type": "stream",
     "text": [
      "10.48550/arXiv.2302.01790\n",
      "10.1038/s41598-023-40116-6\n"
     ]
    }
   ],
   "source": [
    "#ArXiv\n",
    "for ss_staff_entry in ss_staff_data:\n",
    "    if 'DOI' in ss_staff_entry['externalIds']:\n",
    "        if 'arXiv' in ss_staff_entry['externalIds']['DOI']:\n",
    "            arxiv_doi = ss_staff_entry['externalIds']['DOI']\n",
    "            found_arxiv_doi = True\n",
    "    if found_arxiv_doi:\n",
    "        break\n",
    "#DOI\n",
    "for ss_staff_entry in ss_staff_data:\n",
    "    if 'DOI' in ss_staff_entry['externalIds']:\n",
    "        if 'arXiv' not in ss_staff_entry['externalIds']['DOI']:\n",
    "            regular_doi = ss_staff_entry['externalIds']['DOI']\n",
    "            \n",
    "            found_regular_doi = True\n",
    "    if found_regular_doi:\n",
    "        break\n",
    "\n",
    "print(arxiv_doi)\n",
    "print(regular_doi)"
   ]
  },
  {
   "cell_type": "code",
   "execution_count": 12,
   "id": "d826ea97",
   "metadata": {},
   "outputs": [],
   "source": [
    "arxiv_doi_data = get_doi_csl(arxiv_doi)\n",
    "regular_doi_data = get_doi_csl(regular_doi)"
   ]
  },
  {
   "cell_type": "code",
   "execution_count": null,
   "id": "2a798b82-3c2b-4243-9b47-dfa49542713e",
   "metadata": {},
   "outputs": [],
   "source": [
    "for ss in ss_staff_data:\n",
    "    if 'type' in ss:\n",
    "        print(ss['type'])"
   ]
  },
  {
   "cell_type": "code",
   "execution_count": 17,
   "id": "c53645b3",
   "metadata": {},
   "outputs": [
    {
     "name": "stdout",
     "output_type": "stream",
     "text": [
      "type\n",
      "id\n",
      "categories\n",
      "author\n",
      "issued\n",
      "abstract\n",
      "DOI\n",
      "publisher\n",
      "title\n",
      "URL\n",
      "copyright\n",
      "version\n"
     ]
    }
   ],
   "source": [
    "[print(key) for key in arxiv_doi_data.keys()];"
   ]
  },
  {
   "cell_type": "code",
   "execution_count": 18,
   "id": "c9edab70-db1b-47cf-b14e-b3f76e430715",
   "metadata": {},
   "outputs": [
    {
     "data": {
      "text/plain": [
       "{'type': 'article',\n",
       " 'id': 'https://doi.org/10.48550/arxiv.2302.01790',\n",
       " 'categories': ['Computer Vision and Pattern Recognition (cs.CV)',\n",
       "  'FOS: Computer and information sciences',\n",
       "  'FOS: Computer and information sciences'],\n",
       " 'author': [{'family': 'Reinke', 'given': 'Annika'},\n",
       "  {'family': 'Tizabi', 'given': 'Minu D.'},\n",
       "  {'family': 'Baumgartner', 'given': 'Michael'},\n",
       "  {'family': 'Eisenmann', 'given': 'Matthias'},\n",
       "  {'family': 'Heckmann-Nötzel', 'given': 'Doreen'},\n",
       "  {'family': 'Kavur', 'given': 'A. Emre'},\n",
       "  {'family': 'Rädsch', 'given': 'Tim'},\n",
       "  {'family': 'Sudre', 'given': 'Carole H.'},\n",
       "  {'family': 'Acion', 'given': 'Laura'},\n",
       "  {'family': 'Antonelli', 'given': 'Michela'},\n",
       "  {'family': 'Arbel', 'given': 'Tal'},\n",
       "  {'family': 'Bakas', 'given': 'Spyridon'},\n",
       "  {'family': 'Benis', 'given': 'Arriel'},\n",
       "  {'family': 'Blaschko', 'given': 'Matthew'},\n",
       "  {'family': 'Büttner', 'given': 'Florian'},\n",
       "  {'family': 'Cardoso', 'given': 'M. Jorge'},\n",
       "  {'family': 'Cheplygina', 'given': 'Veronika'},\n",
       "  {'family': 'Chen', 'given': 'Jianxu'},\n",
       "  {'family': 'Christodoulou', 'given': 'Evangelia'},\n",
       "  {'family': 'Cimini', 'given': 'Beth A.'},\n",
       "  {'family': 'Collins', 'given': 'Gary S.'},\n",
       "  {'family': 'Farahani', 'given': 'Keyvan'},\n",
       "  {'family': 'Ferrer', 'given': 'Luciana'},\n",
       "  {'family': 'Galdran', 'given': 'Adrian'},\n",
       "  {'family': 'van Ginneken', 'given': 'Bram'},\n",
       "  {'family': 'Glocker', 'given': 'Ben'},\n",
       "  {'family': 'Godau', 'given': 'Patrick'},\n",
       "  {'family': 'Haase', 'given': 'Robert'},\n",
       "  {'family': 'Hashimoto', 'given': 'Daniel A.'},\n",
       "  {'family': 'Hoffman', 'given': 'Michael M.'},\n",
       "  {'family': 'Huisman', 'given': 'Merel'},\n",
       "  {'family': 'Isensee', 'given': 'Fabian'},\n",
       "  {'family': 'Jannin', 'given': 'Pierre'},\n",
       "  {'family': 'Kahn', 'given': 'Charles E.'},\n",
       "  {'family': 'Kainmueller', 'given': 'Dagmar'},\n",
       "  {'family': 'Kainz', 'given': 'Bernhard'},\n",
       "  {'family': 'Karargyris', 'given': 'Alexandros'},\n",
       "  {'family': 'Karthikesalingam', 'given': 'Alan'},\n",
       "  {'family': 'Kenngott', 'given': 'Hannes'},\n",
       "  {'family': 'Kleesiek', 'given': 'Jens'},\n",
       "  {'family': 'Kofler', 'given': 'Florian'},\n",
       "  {'family': 'Kooi', 'given': 'Thijs'},\n",
       "  {'family': 'Kopp-Schneider', 'given': 'Annette'},\n",
       "  {'family': 'Kozubek', 'given': 'Michal'},\n",
       "  {'family': 'Kreshuk', 'given': 'Anna'},\n",
       "  {'family': 'Kurc', 'given': 'Tahsin'},\n",
       "  {'family': 'Landman', 'given': 'Bennett A.'},\n",
       "  {'family': 'Litjens', 'given': 'Geert'},\n",
       "  {'family': 'Madani', 'given': 'Amin'},\n",
       "  {'family': 'Maier-Hein', 'given': 'Klaus'},\n",
       "  {'family': 'Martel', 'given': 'Anne L.'},\n",
       "  {'family': 'Mattson', 'given': 'Peter'},\n",
       "  {'family': 'Meijering', 'given': 'Erik'},\n",
       "  {'family': 'Menze', 'given': 'Bjoern'},\n",
       "  {'family': 'Moons', 'given': 'Karel G. M.'},\n",
       "  {'family': 'Müller', 'given': 'Henning'},\n",
       "  {'family': 'Nichyporuk', 'given': 'Brennan'},\n",
       "  {'family': 'Nickel', 'given': 'Felix'},\n",
       "  {'family': 'Petersen', 'given': 'Jens'},\n",
       "  {'family': 'Rafelski', 'given': 'Susanne M.'},\n",
       "  {'family': 'Rajpoot', 'given': 'Nasir'},\n",
       "  {'family': 'Reyes', 'given': 'Mauricio'},\n",
       "  {'family': 'Riegler', 'given': 'Michael A.'},\n",
       "  {'family': 'Rieke', 'given': 'Nicola'},\n",
       "  {'family': 'Saez-Rodriguez', 'given': 'Julio'},\n",
       "  {'family': 'Sánchez', 'given': 'Clara I.'},\n",
       "  {'family': 'Shetty', 'given': 'Shravya'},\n",
       "  {'family': 'van Smeden', 'given': 'Maarten'},\n",
       "  {'family': 'Summers', 'given': 'Ronald M.'},\n",
       "  {'family': 'Taha', 'given': 'Abdel A.'},\n",
       "  {'family': 'Tiulpin', 'given': 'Aleksei'},\n",
       "  {'family': 'Tsaftaris', 'given': 'Sotirios A.'},\n",
       "  {'family': 'Van Calster', 'given': 'Ben'},\n",
       "  {'family': 'Varoquaux', 'given': 'Gaël'},\n",
       "  {'family': 'Wiesenfarth', 'given': 'Manuel'},\n",
       "  {'family': 'Yaniv', 'given': 'Ziv R.'},\n",
       "  {'family': 'Jäger', 'given': 'Paul F.'},\n",
       "  {'family': 'Maier-Hein', 'given': 'Lena'}],\n",
       " 'issued': {'date-parts': [[2023]]},\n",
       " 'abstract': 'Validation metrics are key for the reliable tracking of scientific progress and for bridging the current chasm between artificial intelligence (AI) research and its translation into practice. However, increasing evidence shows that particularly in image analysis, metrics are often chosen inadequately in relation to the underlying research problem. This could be attributed to a lack of accessibility of metric-related knowledge: While taking into account the individual strengths, weaknesses, and limitations of validation metrics is a critical prerequisite to making educated choices, the relevant knowledge is currently scattered and poorly accessible to individual researchers. Based on a multi-stage Delphi process conducted by a multidisciplinary expert consortium as well as extensive community feedback, the present work provides the first reliable and comprehensive common point of access to information on pitfalls related to validation metrics in image analysis. Focusing on biomedical image analysis but with the potential of transfer to other fields, the addressed pitfalls generalize across application domains and are categorized according to a newly created, domain-agnostic taxonomy. To facilitate comprehension, illustrations and specific examples accompany each pitfall. As a structured body of information accessible to researchers of all levels of expertise, this work enhances global comprehension of a key topic in image analysis validation.',\n",
       " 'DOI': '10.48550/ARXIV.2302.01790',\n",
       " 'publisher': 'arXiv',\n",
       " 'title': 'Understanding metric-related pitfalls in image analysis validation',\n",
       " 'URL': 'https://arxiv.org/abs/2302.01790',\n",
       " 'copyright': 'Creative Commons Attribution Non Commercial No Derivatives 4.0 International',\n",
       " 'version': '2'}"
      ]
     },
     "execution_count": 18,
     "metadata": {},
     "output_type": "execute_result"
    }
   ],
   "source": [
    "arxiv_doi_data"
   ]
  },
  {
   "cell_type": "code",
   "execution_count": 19,
   "id": "4f331e05",
   "metadata": {},
   "outputs": [
    {
     "name": "stdout",
     "output_type": "stream",
     "text": [
      "indexed\n",
      "reference-count\n",
      "publisher\n",
      "issue\n",
      "license\n",
      "funder\n",
      "content-domain\n",
      "abstract\n",
      "DOI\n",
      "type\n",
      "created\n",
      "update-policy\n",
      "source\n",
      "is-referenced-by-count\n",
      "title\n",
      "prefix\n",
      "volume\n",
      "author\n",
      "member\n",
      "published-online\n",
      "reference\n",
      "container-title\n",
      "original-title\n",
      "language\n",
      "link\n",
      "deposited\n",
      "score\n",
      "resource\n",
      "subtitle\n",
      "short-title\n",
      "issued\n",
      "references-count\n",
      "journal-issue\n",
      "alternative-id\n",
      "URL\n",
      "relation\n",
      "ISSN\n",
      "subject\n",
      "container-title-short\n",
      "published\n",
      "assertion\n",
      "article-number\n"
     ]
    }
   ],
   "source": [
    "[print(key) for key in regular_doi_data.keys()];"
   ]
  },
  {
   "cell_type": "code",
   "execution_count": 20,
   "id": "c97f3272-ef74-4ae0-a4a8-9c16eedd47eb",
   "metadata": {},
   "outputs": [
    {
     "data": {
      "text/plain": [
       "{'indexed': {'date-parts': [[2023, 8, 30]],\n",
       "  'date-time': '2023-08-30T09:41:19Z',\n",
       "  'timestamp': 1693388479090},\n",
       " 'reference-count': 19,\n",
       " 'publisher': 'Springer Science and Business Media LLC',\n",
       " 'issue': '1',\n",
       " 'license': [{'start': {'date-parts': [[2023, 8, 29]],\n",
       "    'date-time': '2023-08-29T00:00:00Z',\n",
       "    'timestamp': 1693267200000},\n",
       "   'content-version': 'tdm',\n",
       "   'delay-in-days': 0,\n",
       "   'URL': 'https://creativecommons.org/licenses/by/4.0'},\n",
       "  {'start': {'date-parts': [[2023, 8, 29]],\n",
       "    'date-time': '2023-08-29T00:00:00Z',\n",
       "    'timestamp': 1693267200000},\n",
       "   'content-version': 'vor',\n",
       "   'delay-in-days': 0,\n",
       "   'URL': 'https://creativecommons.org/licenses/by/4.0'}],\n",
       " 'funder': [{'name': 'The Dutch Lung Foundation', 'award': ['5.1.17.171']}],\n",
       " 'content-domain': {'domain': ['link.springer.com'],\n",
       "  'crossmark-restriction': False},\n",
       " 'abstract': '<jats:title>Abstract</jats:title><jats:p>Accurate identification of emphysema subtypes and severity is crucial for effective management of COPD and the study of disease heterogeneity. Manual analysis of emphysema subtypes and severity is laborious and subjective. To address this challenge, we present a deep learning-based approach for automating the Fleischner Society’s visual score system for emphysema subtyping and severity analysis. We trained and evaluated our algorithm using 9650 subjects from the COPDGene study. Our algorithm achieved the predictive accuracy at 52%, outperforming a previously published method’s accuracy of 45%. In addition, the agreement between the predicted scores of our method and the visual scores was good, where the previous method obtained only moderate agreement. Our approach employs a regression training strategy to generate categorical labels while simultaneously producing high-resolution localized activation maps for visualizing the network predictions. By leveraging these dense activation maps, our method possesses the capability to compute the percentage of emphysema involvement per lung in addition to categorical severity scores. Furthermore, the proposed method extends its predictive capabilities beyond centrilobular emphysema to include paraseptal emphysema subtypes.</jats:p>',\n",
       " 'DOI': '10.1038/s41598-023-40116-6',\n",
       " 'type': 'journal-article',\n",
       " 'created': {'date-parts': [[2023, 8, 29]],\n",
       "  'date-time': '2023-08-29T14:03:28Z',\n",
       "  'timestamp': 1693317808000},\n",
       " 'update-policy': 'http://dx.doi.org/10.1007/springer_crossmark_policy',\n",
       " 'source': 'Crossref',\n",
       " 'is-referenced-by-count': 0,\n",
       " 'title': 'Emphysema subtyping on thoracic computed tomography scans using deep neural networks',\n",
       " 'prefix': '10.1038',\n",
       " 'volume': '13',\n",
       " 'author': [{'given': 'Weiyi',\n",
       "   'family': 'Xie',\n",
       "   'sequence': 'first',\n",
       "   'affiliation': []},\n",
       "  {'given': 'Colin',\n",
       "   'family': 'Jacobs',\n",
       "   'sequence': 'additional',\n",
       "   'affiliation': []},\n",
       "  {'given': 'Jean-Paul',\n",
       "   'family': 'Charbonnier',\n",
       "   'sequence': 'additional',\n",
       "   'affiliation': []},\n",
       "  {'given': 'Dirk Jan',\n",
       "   'family': 'Slebos',\n",
       "   'sequence': 'additional',\n",
       "   'affiliation': []},\n",
       "  {'given': 'Bram',\n",
       "   'family': 'van Ginneken',\n",
       "   'sequence': 'additional',\n",
       "   'affiliation': []}],\n",
       " 'member': '297',\n",
       " 'published-online': {'date-parts': [[2023, 8, 29]]},\n",
       " 'reference': [{'key': '40116_CR1',\n",
       "   'unstructured': 'World Health Organization. WHO methods and data sources for country-level causes of death 2000–2019 (2020).'},\n",
       "  {'key': '40116_CR2',\n",
       "   'doi-asserted-by': 'publisher',\n",
       "   'first-page': '598',\n",
       "   'DOI': '10.1164/rccm.200912-1843CC',\n",
       "   'volume': '182',\n",
       "   'author': 'MK Han',\n",
       "   'year': '2010',\n",
       "   'unstructured': 'Han, M. K. et al. Chronic obstructive pulmonary disease phenotypes: The future of COPD. Am. J. Respir. Crit. Care Med. 182, 598–604. https://doi.org/10.1164/rccm.200912-1843CC (2010).',\n",
       "   'journal-title': 'Am. J. Respir. Crit. Care Med.'},\n",
       "  {'key': '40116_CR3',\n",
       "   'doi-asserted-by': 'publisher',\n",
       "   'first-page': '851',\n",
       "   'DOI': '10.1164/ajrccm.159.3.9805067',\n",
       "   'volume': '159',\n",
       "   'author': 'HO Coxson',\n",
       "   'year': '1999',\n",
       "   'unstructured': 'Coxson, H. O. et al. A quantification of the lung surface area in emphysema using computed tomography. Am. J. Respir. Crit. Care Med. 159, 851–1073. https://doi.org/10.1164/ajrccm.159.3.9805067 (1999).',\n",
       "   'journal-title': 'Am. J. Respir. Crit. Care Med.'},\n",
       "  {'key': '40116_CR4',\n",
       "   'doi-asserted-by': 'publisher',\n",
       "   'first-page': '1036',\n",
       "   'DOI': '10.1148/radiol.2382042196',\n",
       "   'volume': '238',\n",
       "   'author': 'A Madani',\n",
       "   'year': '2006',\n",
       "   'unstructured': 'Madani, A., Zanen, J., De Maertelaer, V. & Gevenois, P. A. Pulmonary emphysema: Objective quantification at multi-detector row CT-comparison with macroscopic and microscopic morphometry. Radiology 238, 1036–1043. https://doi.org/10.1148/radiol.2382042196 (2006).',\n",
       "   'journal-title': 'Radiology'},\n",
       "  {'key': '40116_CR5',\n",
       "   'doi-asserted-by': 'publisher',\n",
       "   'first-page': '94',\n",
       "   'DOI': '10.1016/j.amjmed.2013.09.020',\n",
       "   'volume': '127',\n",
       "   'author': 'BM Smith',\n",
       "   'year': '2014',\n",
       "   'unstructured': 'Smith, B. M. et al. Pulmonary emphysema subtypes on computed tomography: The MESA COPD study. Am. J. Med. 127, 94-e7. https://doi.org/10.1016/j.amjmed.2013.09.020 (2014).',\n",
       "   'journal-title': 'Am. J. Med.'},\n",
       "  {'key': '40116_CR6',\n",
       "   'doi-asserted-by': 'publisher',\n",
       "   'first-page': '1147',\n",
       "   'DOI': '10.1016/j.chest.2019.11.039',\n",
       "   'volume': '157',\n",
       "   'author': 'PJ Castaldi',\n",
       "   'year': '2020',\n",
       "   'unstructured': 'Castaldi, P. J. et al. Machine learning characterization of COPD subtypes: Insights from the COPDGene study. Chest 157, 1147–1157. https://doi.org/10.1016/j.chest.2019.11.039 (2020).',\n",
       "   'journal-title': 'Chest'},\n",
       "  {'key': '40116_CR7',\n",
       "   'doi-asserted-by': 'publisher',\n",
       "   'first-page': '181',\n",
       "   'DOI': '10.1016/j.acra.2012.09.013',\n",
       "   'volume': '20',\n",
       "   'author': 'C Yilmaz',\n",
       "   'year': '2013',\n",
       "   'unstructured': 'Yilmaz, C., Dane, D. M., Patel, N. C. & Hsia, C. C. Quantifying heterogeneity in emphysema from high-resolution computed tomography: A lung tissue research consortium study. Acad. Radiol. 20, 181–193. https://doi.org/10.1016/j.acra.2012.09.013 (2013).',\n",
       "   'journal-title': 'Acad. Radiol.'},\n",
       "  {'key': '40116_CR8',\n",
       "   'doi-asserted-by': 'publisher',\n",
       "   'first-page': '192',\n",
       "   'DOI': '10.1148/radiol.2015141579',\n",
       "   'volume': '277',\n",
       "   'author': 'DA Lynch',\n",
       "   'year': '2015',\n",
       "   'unstructured': 'Lynch, D. A. et al. CT-definable subtypes of chronic obstructive pulmonary disease: A statement of the Fleischner Society. Radiology 277, 192–205. https://doi.org/10.1148/radiol.2015141579 (2015).',\n",
       "   'journal-title': 'Radiology'},\n",
       "  {'key': '40116_CR9',\n",
       "   'doi-asserted-by': 'publisher',\n",
       "   'first-page': '859',\n",
       "   'DOI': '10.1148/radiol.2018172294',\n",
       "   'volume': '288',\n",
       "   'author': 'DA Lynch',\n",
       "   'year': '2018',\n",
       "   'unstructured': 'Lynch, D. A. et al. CT-based visual classification of emphysema: Association with mortality in the COPDGene study. Radiology 288, 859–866. https://doi.org/10.1148/radiol.2018172294 (2018).',\n",
       "   'journal-title': 'Radiology'},\n",
       "  {'key': '40116_CR10',\n",
       "   'doi-asserted-by': 'publisher',\n",
       "   'first-page': '434',\n",
       "   'DOI': '10.1148/radiol.2019191022',\n",
       "   'volume': '294',\n",
       "   'author': 'SM Humphries',\n",
       "   'year': '2020',\n",
       "   'unstructured': 'Humphries, S. M. et al. Deep learning enables automatic classification of emphysema pattern at CT. Radiology 294, 434–444. https://doi.org/10.1148/radiol.2019191022 (2020).',\n",
       "   'journal-title': 'Radiology'},\n",
       "  {'key': '40116_CR11',\n",
       "   'doi-asserted-by': 'publisher',\n",
       "   'first-page': '32',\n",
       "   'DOI': '10.3109/15412550903499522',\n",
       "   'volume': '7',\n",
       "   'author': 'EA Regan',\n",
       "   'year': '2010',\n",
       "   'unstructured': 'Regan, E. A. et al. Genetic epidemiology of COPD (COPDGene) study design. COPD 7, 32–43. https://doi.org/10.3109/15412550903499522 (2010).',\n",
       "   'journal-title': 'COPD'},\n",
       "  {'key': '40116_CR12',\n",
       "   'doi-asserted-by': 'publisher',\n",
       "   'first-page': '89',\n",
       "   'DOI': '10.1186/s12931-014-0089-y',\n",
       "   'volume': '15',\n",
       "   'author': 'ES Wan',\n",
       "   'year': '2014',\n",
       "   'unstructured': 'Wan, E. S. et al. Epidemiology, genetics, and subtyping of preserved ratio impaired spirometry (PRISm) in COPDGene. Respir. Res. 15, 89. https://doi.org/10.1186/s12931-014-0089-y (2014).',\n",
       "   'journal-title': 'Respir. Res.'},\n",
       "  {'key': '40116_CR13',\n",
       "   'doi-asserted-by': 'publisher',\n",
       "   'unstructured': 'He, K., Zhang, X., Ren, S. & Sun, J. Deep residual learning for image recognition, in Proceedings of the IEEE Conference on Computer Vision and Pattern Recognition, 770–778. https://doi.org/10.1109/cvpr.2016.90 (IEEE, 2016).',\n",
       "   'DOI': '10.1109/cvpr.2016.90'},\n",
       "  {'key': '40116_CR14',\n",
       "   'doi-asserted-by': 'publisher',\n",
       "   'unstructured': 'Çiçek, Ö., Abdulkadir, A., Lienkamp, S.\\xa0S., Brox, T. & Ronneberger, O. 3D U-Net: Learning dense volumetric segmentation from sparse annotation, in Medical Image Computing and Computer-Assisted Intervention, Lect Notes Comput Sci, 424–432, https://doi.org/10.1007/978-3-319-46723-8_49 (2016).',\n",
       "   'DOI': '10.1007/978-3-319-46723-8_49'},\n",
       "  {'key': '40116_CR15',\n",
       "   'doi-asserted-by': 'publisher',\n",
       "   'author': 'W Xie',\n",
       "   'year': '2023',\n",
       "   'unstructured': 'Xie, W., Jacobs, C., Charbonnier, J.-P. & van Ginneken, B. Dense regression activation maps for lesion segmentation in CT scans of COVID-19 patients. Med Image Anal.https://doi.org/10.1016/j.media.2023.102771 (2023).',\n",
       "   'journal-title': 'Med Image Anal.',\n",
       "   'DOI': '10.1016/j.media.2023.102771'},\n",
       "  {'key': '40116_CR16',\n",
       "   'doi-asserted-by': 'publisher',\n",
       "   'unstructured': 'Szegedy, C., Vanhoucke, V., Ioffe, S., Shlens, J. & Wojna, Z. Rethinking the inception architecture for computer vision, in Proceedings of the IEEE Conference on Computer Vision and Pattern Recognition, 2818–2826, https://doi.org/10.1109/CVPR.2016.308 (2016).',\n",
       "   'DOI': '10.1109/CVPR.2016.308'},\n",
       "  {'key': '40116_CR17',\n",
       "   'doi-asserted-by': 'publisher',\n",
       "   'first-page': '2825',\n",
       "   'DOI': '10.5555/1953048.2078195',\n",
       "   'volume': '12',\n",
       "   'author': 'F Pedregosa',\n",
       "   'year': '2011',\n",
       "   'unstructured': 'Pedregosa, F. et al. Scikit-learn: Machine learning in python. J. Mach. Learn. Res. 12, 2825–2830. https://doi.org/10.5555/1953048.2078195 (2011).',\n",
       "   'journal-title': 'J. Mach. Learn. Res.'},\n",
       "  {'key': '40116_CR18',\n",
       "   'doi-asserted-by': 'publisher',\n",
       "   'first-page': '303',\n",
       "   'DOI': '10.1148/radiol.2282011860',\n",
       "   'volume': '228',\n",
       "   'author': 'HL Kundel',\n",
       "   'year': '2003',\n",
       "   'unstructured': 'Kundel, H. L. & Polansky, M. Measurement of observer agreement. Radiology 228, 303–308. https://doi.org/10.1148/radiol.2282011860 (2003).',\n",
       "   'journal-title': 'Radiology'},\n",
       "  {'key': '40116_CR19',\n",
       "   'doi-asserted-by': 'publisher',\n",
       "   'first-page': '1',\n",
       "   'DOI': '10.1186/s41747-020-00173-2',\n",
       "   'volume': '4',\n",
       "   'author': 'J Hofmanninger',\n",
       "   'year': '2020',\n",
       "   'unstructured': 'Hofmanninger, J. et al. Automatic lung segmentation in routine imaging is primarily a data diversity problem, not a methodology problem. Eur. Radiol. Exp. 4, 1–13. https://doi.org/10.1186/s41747-020-00173-2 (2020).',\n",
       "   'journal-title': 'Eur. Radiol. Exp.'}],\n",
       " 'container-title': 'Scientific Reports',\n",
       " 'original-title': [],\n",
       " 'language': 'en',\n",
       " 'link': [{'URL': 'https://www.nature.com/articles/s41598-023-40116-6.pdf',\n",
       "   'content-type': 'application/pdf',\n",
       "   'content-version': 'vor',\n",
       "   'intended-application': 'text-mining'},\n",
       "  {'URL': 'https://www.nature.com/articles/s41598-023-40116-6',\n",
       "   'content-type': 'text/html',\n",
       "   'content-version': 'vor',\n",
       "   'intended-application': 'text-mining'},\n",
       "  {'URL': 'https://www.nature.com/articles/s41598-023-40116-6.pdf',\n",
       "   'content-type': 'application/pdf',\n",
       "   'content-version': 'vor',\n",
       "   'intended-application': 'similarity-checking'}],\n",
       " 'deposited': {'date-parts': [[2023, 8, 29]],\n",
       "  'date-time': '2023-08-29T14:05:31Z',\n",
       "  'timestamp': 1693317931000},\n",
       " 'score': 1,\n",
       " 'resource': {'primary': {'URL': 'https://www.nature.com/articles/s41598-023-40116-6'}},\n",
       " 'subtitle': [],\n",
       " 'short-title': [],\n",
       " 'issued': {'date-parts': [[2023, 8, 29]]},\n",
       " 'references-count': 19,\n",
       " 'journal-issue': {'issue': '1',\n",
       "  'published-online': {'date-parts': [[2023, 12]]}},\n",
       " 'alternative-id': ['40116'],\n",
       " 'URL': 'http://dx.doi.org/10.1038/s41598-023-40116-6',\n",
       " 'relation': {},\n",
       " 'ISSN': ['2045-2322'],\n",
       " 'subject': ['Multidisciplinary'],\n",
       " 'container-title-short': 'Sci Rep',\n",
       " 'published': {'date-parts': [[2023, 8, 29]]},\n",
       " 'assertion': [{'value': '21 February 2023',\n",
       "   'order': 1,\n",
       "   'name': 'received',\n",
       "   'label': 'Received',\n",
       "   'group': {'name': 'ArticleHistory', 'label': 'Article History'}},\n",
       "  {'value': '4 August 2023',\n",
       "   'order': 2,\n",
       "   'name': 'accepted',\n",
       "   'label': 'Accepted',\n",
       "   'group': {'name': 'ArticleHistory', 'label': 'Article History'}},\n",
       "  {'value': '29 August 2023',\n",
       "   'order': 3,\n",
       "   'name': 'first_online',\n",
       "   'label': 'First Online',\n",
       "   'group': {'name': 'ArticleHistory', 'label': 'Article History'}},\n",
       "  {'value': 'B.v.G. is founder and shareholder of Thirona. The other authors declare no competing interests.',\n",
       "   'order': 1,\n",
       "   'name': 'Ethics',\n",
       "   'group': {'name': 'EthicsHeading', 'label': 'Competing interests'}}],\n",
       " 'article-number': '14147'}"
      ]
     },
     "execution_count": 20,
     "metadata": {},
     "output_type": "execute_result"
    }
   ],
   "source": [
    "regular_doi_data"
   ]
  },
  {
   "cell_type": "markdown",
   "id": "7f5fb859",
   "metadata": {},
   "source": [
    "---\n",
    "---\n",
    "---\n",
    "\n",
    "#####################################\n",
    "#  FINAL\n",
    "#####################################\n",
    "\n",
    "---\n",
    "---\n",
    "---\n"
   ]
  },
  {
   "cell_type": "markdown",
   "id": "03c2a616",
   "metadata": {},
   "source": [
    "# Import diag.bib"
   ]
  },
  {
   "cell_type": "code",
   "execution_count": 21,
   "id": "d5ad8c95",
   "metadata": {},
   "outputs": [],
   "source": [
    "path_diag_bib = os.path.join('..', 'diag.bib')\n",
    "diag_bib_raw = read_bibfile(None, path_diag_bib) # I changed the code in such a way that IF I give a second argument, it uses the second argument as a full path"
   ]
  },
  {
   "cell_type": "code",
   "execution_count": 22,
   "id": "60b9b13c",
   "metadata": {
    "scrolled": true
   },
   "outputs": [
    {
     "data": {
      "text/plain": [
       "2833"
      ]
     },
     "execution_count": 22,
     "metadata": {},
     "output_type": "execute_result"
    }
   ],
   "source": [
    "len(diag_bib_raw)"
   ]
  },
  {
   "cell_type": "code",
   "execution_count": 23,
   "id": "264bf0e5",
   "metadata": {},
   "outputs": [
    {
     "data": {
      "text/plain": [
       "{'author': '{Leon-Ferre, Roberto A. and Carter, Jodi M. and Zahrieh, David and Sinnwell, Jason P. and Salgado, Roberto and Suman, Vera and Hillman, David and Boughey, Judy C. and Kalari, Krishna R. and Couch, Fergus J. and Ingle, James N. and Balkenkohl, Maschenka and Ciompi, Francesco and van der Laak, Jeroen and Goetz, Matthew P.}',\n",
       " 'title': '{Abstract P2-11-34: Mitotic spindle hotspot counting using deep learning networks is highly associated with clinical outcomes in patients with early-stage triple-negative breast cancer who did not receive systemic therapy}',\n",
       " 'doi': '{10.1158/1538-7445.sabcs22-p2-11-34}',\n",
       " 'year': '{2023}',\n",
       " 'abstract': '{Abstract\\n                Background: Triple-negative breast cancers (TNBC) exhibit high rates of recurrence and mortality. However, recent studies suggest that a subset of patients (pts) with early-stage TNBC enriched in tumor-infiltrating lymphocytes (TILs) have excellent clinical outcomes even in the absence of systemic therapy. Additional histological biomarkers that could identify pts for future systemic therapy escalation/de-escalation strategies are of great interest. TNBC are frequently highly proliferative with abundant mitoses. However, classic markers of proliferation (manual mitosis counting and Ki-67) appear to offer no prognostic value. Here, we evaluated the prognostic effects of automated mitotic spindle hotspot (AMSH) counting on RFS in independent cohorts of systemically untreated early-stage TNBC.\\n                Methods: AMSH counting was conducted with a state-of-the-art deep learning algorithm trained on the detection of mitoses within 2 mm2 areas with the highest mitotic density (i.e. hotspots) in digital H&amp;E images. Details of the development, training and validation of the algorithm were published previously [1] in a cohort of unselected TNBC. We obtained AMSH counts in a centrally confirmed TNBC cohort from Mayo Clinic [2] and focused our analysis on pts who received locoregional therapy but no systemic therapy. Using a fractional polynomial analysis with a multivariable proportional hazards regression model, we confirmed the assumption of linearity in the log hazard for the continuous variable AMSH and evaluated whether AMSH counts were prognostic of RFS. We corroborated our findings in an independent cohort of systemically untreated TNBC pts from the Radboud University Medical Center in the Netherlands (Radboud Cohort). Results are reported at a median follow-up of 8.1 and 6.7 years for the Mayo and Netherlands cohorts, respectively.\\n                Results: Among 182 pts with who did not receive systemic therapy in the Mayo Cohort, 140 (77\\\\%) with available AMSH counts were included. The mean age was 61 (range: 31-94), 71\\\\% were postmenopausal, 67\\\\% had tumors ≤ 2cm, and 83\\\\% were node-negative. As expected, most tumors were Nottingham grade 3 (84\\\\%) and had a high Ki-67 proliferation index (54\\\\% with Ki-67 &amp;gt;30\\\\%). Most tumors (73\\\\%) had stromal TILs ≤ 30\\\\%. The median AMSH count was 18 (IQR: 8, 42). AMSH counts were linearly associated with grade and tumor size, with the proportion of pts with grade 3 tumors and size &amp;gt; 2 cm increasing as the AMSH counts increased (p=0.007 and p=0.059, respectively). In a multivariate model controlling for nodal status, tumor size, and stromal TILs, AMSH counts were independently associated with RFS (p&amp;lt; 0.0001). For every 10-point increase in the AMSH count, we observed a 17\\\\% increase in the risk of experiencing an RFS event (HR 1.17, 95\\\\% CI 1.08-1.26). We corroborated our findings in the Radboud Cohort (n=126). The mean age was 68 (range: 40-96), and 81\\\\% were node-negative. While the median AMSH count was 36 (IQR: 16-63), higher than in the Mayo Cohort (p=0.004), the prognostic impact was similar, with a significant association between AMSH count and RFS (p=0.028) in a multivariate model corrected for nodal status, tumor size, and stromal TILs. For every 10-point increase in the AMSH count in the Netherlands cohort, we observed a 9\\\\% increase in the risk of experiencing an RFS event (HR 1.09, 95\\\\% CI 1.01-1.17). RFS rates according to AMSH counts for both cohorts are shown in the Table.\\n                Conclusions: AMSH counting is a new proliferation biomarker that provides prognostic value independent of nodal status, tumor size, and stromal TILs in systemically untreated early-stage TNBC. Plans are underway to evaluate AMSH counts in additional cohorts of systemically untreated TNBC, and in other disease settings such as prior to neoadjuvant systemic therapy. If validated, this biomarker should be prospectively evaluated as a potential selection biomarker in clinical trials of systemic therapy de-escalation.\\n                References:\\n                1. PMID: 29994086\\n                2. PMID: 28913760\\n                Table RFS according to AMSH counts in the Mayo and Radboud Cohorts\\n                Citation Format: Roberto A. Leon-Ferre, Jodi M. Carter, David Zahrieh, Jason P. Sinnwell, Roberto Salgado, Vera Suman, David Hillman, Judy C. Boughey, Krishna R. Kalari, Fergus J. Couch, James N. Ingle, Maschenka Balkenkohl, Francesco Ciompi, Jeroen van der Laak, Matthew P. Goetz. Mitotic spindle hotspot counting using deep learning networks is highly associated with clinical outcomes in patients with early-stage triple-negative breast cancer who did not receive systemic therapy [abstract]. In: Proceedings of the 2022 San Antonio Breast Cancer Symposium; 2022 Dec 6-10; San Antonio, TX. Philadelphia (PA): AACR; Cancer Res 2023;83(5 Suppl):Abstract nr P2-11-34.}',\n",
       " 'url': '{http://dx.doi.org/10.1158/1538-7445.SABCS22-P2-11-34}',\n",
       " 'file': '{Leon23.pdf:pdf\\\\Leon23.pdf:PDF}',\n",
       " 'optnote': '{DIAG, RADIOLOGY}',\n",
       " 'journal': '{Cancer Research}',\n",
       " 'citation-count': '{0}',\n",
       " 'automatic': '{yes}',\n",
       " 'pages': '{P2-11-34-P2-11-34}',\n",
       " 'volume': '{83}'}"
      ]
     },
     "execution_count": 23,
     "metadata": {},
     "output_type": "execute_result"
    }
   ],
   "source": [
    "diag_bib_raw[-1].fields"
   ]
  },
  {
   "cell_type": "code",
   "execution_count": 24,
   "id": "56c71b88",
   "metadata": {},
   "outputs": [],
   "source": [
    "bib_data = []\n",
    "for bib_entry in diag_bib_raw:\n",
    "    bibkey = bib_entry.key\n",
    "    bib_type = bib_entry.type\n",
    "    \n",
    "    bib_authors = None\n",
    "    bib_title = None\n",
    "    bib_doi = None\n",
    "    bib_gscites = None\n",
    "    bib_journal = None\n",
    "    bib_year = None\n",
    "    \n",
    "    if 'author' in bib_entry.fields:\n",
    "        bib_authors = bib_entry.fields['author'].strip('{ }')\n",
    "    if 'title' in bib_entry.fields:\n",
    "        bib_title = bib_entry.fields['title'].strip('{ }')\n",
    "    if 'doi' in bib_entry.fields:\n",
    "        bib_doi = bib_entry.fields['doi'].strip('{ }')\n",
    "    if 'gscites' in bib_entry.fields:\n",
    "        bib_gscites = bib_entry.fields['gscites'].strip('{ }')\n",
    "    if 'journal' in bib_entry.fields:\n",
    "        bib_journal = bib_entry.fields['journal'].strip('{ }')\n",
    "    if 'year' in bib_entry.fields:\n",
    "        bib_year = bib_entry.fields['year'].strip('{ }')\n",
    "    \n",
    "    bib_data.append([bibkey, bib_type, bib_title, bib_authors, bib_doi, bib_gscites, bib_journal, bib_year])\n",
    "bib_columns = ['bibkey', 'type', 'title', 'authors', 'doi', 'gs_citations', 'journal', 'year']\n",
    "df_bib_data = pd.DataFrame(bib_data, columns=bib_columns)"
   ]
  },
  {
   "cell_type": "code",
   "execution_count": 25,
   "id": "f58abbcf",
   "metadata": {},
   "outputs": [],
   "source": [
    "df_bib_data.to_csv('script_data/temp_diag_bib_summary.csv', index=False)"
   ]
  },
  {
   "cell_type": "code",
   "execution_count": 26,
   "id": "a8bf21a6",
   "metadata": {},
   "outputs": [
    {
     "data": {
      "text/html": [
       "<div>\n",
       "<style scoped>\n",
       "    .dataframe tbody tr th:only-of-type {\n",
       "        vertical-align: middle;\n",
       "    }\n",
       "\n",
       "    .dataframe tbody tr th {\n",
       "        vertical-align: top;\n",
       "    }\n",
       "\n",
       "    .dataframe thead th {\n",
       "        text-align: right;\n",
       "    }\n",
       "</style>\n",
       "<table border=\"1\" class=\"dataframe\">\n",
       "  <thead>\n",
       "    <tr style=\"text-align: right;\">\n",
       "      <th></th>\n",
       "      <th>bibkey</th>\n",
       "      <th>type</th>\n",
       "      <th>title</th>\n",
       "      <th>authors</th>\n",
       "      <th>doi</th>\n",
       "      <th>gs_citations</th>\n",
       "      <th>journal</th>\n",
       "      <th>year</th>\n",
       "    </tr>\n",
       "  </thead>\n",
       "  <tbody>\n",
       "    <tr>\n",
       "      <th>2828</th>\n",
       "      <td>Meno23</td>\n",
       "      <td>article</td>\n",
       "      <td>Modelling digital health data: The ExaMode ont...</td>\n",
       "      <td>Menotti, Laura and Silvello, Gianmaria and Atz...</td>\n",
       "      <td>10.1016/j.jpi.2023.100332</td>\n",
       "      <td>None</td>\n",
       "      <td>Journal of Pathology Informatics</td>\n",
       "      <td>2023</td>\n",
       "    </tr>\n",
       "    <tr>\n",
       "      <th>2829</th>\n",
       "      <td>Page23</td>\n",
       "      <td>article</td>\n",
       "      <td>Spatial analyses of immune cell infiltration i...</td>\n",
       "      <td>Page, David B and Broeckx, Glenn and Jahangir,...</td>\n",
       "      <td>10.1002/path.6165</td>\n",
       "      <td>None</td>\n",
       "      <td>The Journal of Pathology</td>\n",
       "      <td>2023</td>\n",
       "    </tr>\n",
       "    <tr>\n",
       "      <th>2830</th>\n",
       "      <td>Aubr23</td>\n",
       "      <td>book</td>\n",
       "      <td>Abstract: the MIDOG Challenge 2021</td>\n",
       "      <td>Aubreville, Marc and Stathonikos, Nikolas and ...</td>\n",
       "      <td>10.1007/978-3-658-41657-7_26</td>\n",
       "      <td>None</td>\n",
       "      <td>Bildverarbeitung fur die Medizin, Workshop</td>\n",
       "      <td>2023</td>\n",
       "    </tr>\n",
       "    <tr>\n",
       "      <th>2831</th>\n",
       "      <td>Bokh23b</td>\n",
       "      <td>article</td>\n",
       "      <td>Fully Automated Tumor Bud Assessment in Hemato...</td>\n",
       "      <td>Bokhorst, John-Melle and Ciompi, Francesco and...</td>\n",
       "      <td>10.1016/j.modpat.2023.100233</td>\n",
       "      <td>None</td>\n",
       "      <td>Modern Pathology</td>\n",
       "      <td>2023</td>\n",
       "    </tr>\n",
       "    <tr>\n",
       "      <th>2832</th>\n",
       "      <td>Leon23</td>\n",
       "      <td>conference</td>\n",
       "      <td>Abstract P2-11-34: Mitotic spindle hotspot cou...</td>\n",
       "      <td>Leon-Ferre, Roberto A. and Carter, Jodi M. and...</td>\n",
       "      <td>10.1158/1538-7445.sabcs22-p2-11-34</td>\n",
       "      <td>None</td>\n",
       "      <td>Cancer Research</td>\n",
       "      <td>2023</td>\n",
       "    </tr>\n",
       "  </tbody>\n",
       "</table>\n",
       "</div>"
      ],
      "text/plain": [
       "       bibkey        type                                              title  \\\n",
       "2828   Meno23     article  Modelling digital health data: The ExaMode ont...   \n",
       "2829   Page23     article  Spatial analyses of immune cell infiltration i...   \n",
       "2830   Aubr23        book                 Abstract: the MIDOG Challenge 2021   \n",
       "2831  Bokh23b     article  Fully Automated Tumor Bud Assessment in Hemato...   \n",
       "2832   Leon23  conference  Abstract P2-11-34: Mitotic spindle hotspot cou...   \n",
       "\n",
       "                                                authors  \\\n",
       "2828  Menotti, Laura and Silvello, Gianmaria and Atz...   \n",
       "2829  Page, David B and Broeckx, Glenn and Jahangir,...   \n",
       "2830  Aubreville, Marc and Stathonikos, Nikolas and ...   \n",
       "2831  Bokhorst, John-Melle and Ciompi, Francesco and...   \n",
       "2832  Leon-Ferre, Roberto A. and Carter, Jodi M. and...   \n",
       "\n",
       "                                     doi gs_citations  \\\n",
       "2828           10.1016/j.jpi.2023.100332         None   \n",
       "2829                   10.1002/path.6165         None   \n",
       "2830        10.1007/978-3-658-41657-7_26         None   \n",
       "2831        10.1016/j.modpat.2023.100233         None   \n",
       "2832  10.1158/1538-7445.sabcs22-p2-11-34         None   \n",
       "\n",
       "                                         journal  year  \n",
       "2828            Journal of Pathology Informatics  2023  \n",
       "2829                    The Journal of Pathology  2023  \n",
       "2830  Bildverarbeitung fur die Medizin, Workshop  2023  \n",
       "2831                            Modern Pathology  2023  \n",
       "2832                             Cancer Research  2023  "
      ]
     },
     "execution_count": 26,
     "metadata": {},
     "output_type": "execute_result"
    }
   ],
   "source": [
    "df_bib_data.tail()"
   ]
  },
  {
   "cell_type": "markdown",
   "id": "f0ceb322",
   "metadata": {},
   "source": [
    "Used for title matching"
   ]
  },
  {
   "cell_type": "code",
   "execution_count": 27,
   "id": "98d19bec",
   "metadata": {},
   "outputs": [
    {
     "data": {
      "text/html": [
       "<div>\n",
       "<style scoped>\n",
       "    .dataframe tbody tr th:only-of-type {\n",
       "        vertical-align: middle;\n",
       "    }\n",
       "\n",
       "    .dataframe tbody tr th {\n",
       "        vertical-align: top;\n",
       "    }\n",
       "\n",
       "    .dataframe thead th {\n",
       "        text-align: right;\n",
       "    }\n",
       "</style>\n",
       "<table border=\"1\" class=\"dataframe\">\n",
       "  <thead>\n",
       "    <tr style=\"text-align: right;\">\n",
       "      <th></th>\n",
       "      <th>bibkey</th>\n",
       "      <th>type</th>\n",
       "      <th>title</th>\n",
       "      <th>authors</th>\n",
       "      <th>doi</th>\n",
       "      <th>gs_citations</th>\n",
       "      <th>journal</th>\n",
       "      <th>year</th>\n",
       "    </tr>\n",
       "  </thead>\n",
       "  <tbody>\n",
       "    <tr>\n",
       "      <th>1069</th>\n",
       "      <td>Abas05</td>\n",
       "      <td>article</td>\n",
       "      <td>Analysis of regularity in the {EEG} background...</td>\n",
       "      <td>D. Ab\\'{a}solo and R. Hornero and P. Espino an...</td>\n",
       "      <td>10.1016/j.clinph.2005.04.001</td>\n",
       "      <td>233</td>\n",
       "      <td>CLINNP</td>\n",
       "      <td>2005</td>\n",
       "    </tr>\n",
       "    <tr>\n",
       "      <th>1070</th>\n",
       "      <td>Genu22</td>\n",
       "      <td>conference</td>\n",
       "      <td>Imaging tumor-infiltrating CD8 (+) T-cells in ...</td>\n",
       "      <td>E. A. J. van Genugten and B. Piet and G. Schre...</td>\n",
       "      <td>None</td>\n",
       "      <td>None</td>\n",
       "      <td>None</td>\n",
       "      <td>2022</td>\n",
       "    </tr>\n",
       "    <tr>\n",
       "      <th>1071</th>\n",
       "      <td>Abas05a</td>\n",
       "      <td>inproceedings</td>\n",
       "      <td>EEG} background activity analysis in {A}lzheim...</td>\n",
       "      <td>D. Ab\\'{a}solo and C. G\\'{o}mez and J. Poza an...</td>\n",
       "      <td>None</td>\n",
       "      <td>3</td>\n",
       "      <td>None</td>\n",
       "      <td>2005</td>\n",
       "    </tr>\n",
       "    <tr>\n",
       "      <th>1072</th>\n",
       "      <td>Abel19</td>\n",
       "      <td>article</td>\n",
       "      <td>Computational pathology definitions, best prac...</td>\n",
       "      <td>Abels, Esther and Pantanowitz, Liron and Aeffn...</td>\n",
       "      <td>10.1002/path.5331</td>\n",
       "      <td>24</td>\n",
       "      <td>JPAT</td>\n",
       "      <td>2019</td>\n",
       "    </tr>\n",
       "    <tr>\n",
       "      <th>1073</th>\n",
       "      <td>Abra08a</td>\n",
       "      <td>article</td>\n",
       "      <td>Evaluation of a system for automatic detection...</td>\n",
       "      <td>M. D. Abr\\`amoff and M. Niemeijer and M. S. A....</td>\n",
       "      <td>10.2337/dc07-1312</td>\n",
       "      <td>287</td>\n",
       "      <td>DC</td>\n",
       "      <td>2008</td>\n",
       "    </tr>\n",
       "  </tbody>\n",
       "</table>\n",
       "</div>"
      ],
      "text/plain": [
       "       bibkey           type  \\\n",
       "1069   Abas05        article   \n",
       "1070   Genu22     conference   \n",
       "1071  Abas05a  inproceedings   \n",
       "1072   Abel19        article   \n",
       "1073  Abra08a        article   \n",
       "\n",
       "                                                  title  \\\n",
       "1069  Analysis of regularity in the {EEG} background...   \n",
       "1070  Imaging tumor-infiltrating CD8 (+) T-cells in ...   \n",
       "1071  EEG} background activity analysis in {A}lzheim...   \n",
       "1072  Computational pathology definitions, best prac...   \n",
       "1073  Evaluation of a system for automatic detection...   \n",
       "\n",
       "                                                authors  \\\n",
       "1069  D. Ab\\'{a}solo and R. Hornero and P. Espino an...   \n",
       "1070  E. A. J. van Genugten and B. Piet and G. Schre...   \n",
       "1071  D. Ab\\'{a}solo and C. G\\'{o}mez and J. Poza an...   \n",
       "1072  Abels, Esther and Pantanowitz, Liron and Aeffn...   \n",
       "1073  M. D. Abr\\`amoff and M. Niemeijer and M. S. A....   \n",
       "\n",
       "                               doi gs_citations journal  year  \n",
       "1069  10.1016/j.clinph.2005.04.001          233  CLINNP  2005  \n",
       "1070                          None         None    None  2022  \n",
       "1071                          None            3    None  2005  \n",
       "1072             10.1002/path.5331           24    JPAT  2019  \n",
       "1073             10.2337/dc07-1312          287      DC  2008  "
      ]
     },
     "execution_count": 27,
     "metadata": {},
     "output_type": "execute_result"
    }
   ],
   "source": [
    "df_bib_data_with_titles = df_bib_data[df_bib_data['title'].notna()]\n",
    "df_bib_data_with_titles.head()"
   ]
  },
  {
   "cell_type": "markdown",
   "id": "31cc6693",
   "metadata": {},
   "source": [
    "# Gather ss and bib data for all staff member IDs"
   ]
  },
  {
   "cell_type": "code",
   "execution_count": 28,
   "id": "be3cb395",
   "metadata": {},
   "outputs": [],
   "source": [
    "staff_id_dict = {'Bram van Ginneken': [8038506, 123637526],\n",
    "'Francesco Ciompi': [143613202],\n",
    "'Alessa Hering': [153744566],\n",
    "'Henjan Huisman': [34754023],\n",
    "'Colin Jacobs': [2895994],\n",
    "'Peter Koopmans': [34726383],\n",
    "'Jeroen van der Laak': [145441238, 145388932],\n",
    "'Geert Litjens': [145959882],\n",
    "'James Meakin': [4960344],\n",
    "'Keelin Murphy': [35730362],\n",
    "'Ajay Patel': [2109170880, 2116215861],\n",
    "'Cornelia Schaefer-Prokop': [1419819133, 1445069528, 1400632685],\n",
    "'Matthieu Rutten': [2074975080, 2156546],\n",
    "'Jos Thannhauser': [5752941],\n",
    "\"Bram Platel\" : [1798137], \n",
    "\"Nico Karssemeijer\" : [1745574], \n",
    "\"Clarisa Sanchez\" : [144085811, 32187701], \n",
    "\"Nikolas Lessman\" : [2913408], \n",
    "\"Jonas Teuwen\" : [32649341, 119024451], \n",
    "\"Rashindra Manniesing\" : [2657081]}"
   ]
  },
  {
   "cell_type": "code",
   "execution_count": 29,
   "id": "aaef659b-c6ed-48bd-84d1-d58eb5caa429",
   "metadata": {},
   "outputs": [],
   "source": [
    "staff_year_dict = {\n",
    "'Bram van Ginneken':  {'start' : 1996, 'end': 9999},\n",
    "'Francesco Ciompi':  {'start' : 2013, 'end': 9999},\n",
    "'Alessa Hering':  {'start' : 2018, 'end': 9999},\n",
    "'Henjan Huisman':  {'start' : 1992, 'end': 9999},\n",
    "'Colin Jacobs':  {'start' : 2010, 'end': 9999},\n",
    "'Peter Koopmans':  {'start' : 2022, 'end': 9999},\n",
    "'Jeroen van der Laak':  {'start' : 1991, 'end': 9999},\n",
    "'Geert Litjens':  {'start' : 2016, 'end': 9999},\n",
    "'James Meakin':  {'start' : 2017, 'end': 9999},\n",
    "'Keelin Murphy':  {'start' : 2018, 'end': 9999},\n",
    "'Ajay Patel':  {'start' : 2015, 'end': 9999},\n",
    "'Cornelia Schaefer-Prokop':  {'start' : 2010, 'end': 9999},\n",
    "'Matthieu Rutten':  {'start' : 2019, 'end': 9999},\n",
    "'Jos Thannhauser': {'start' : 2022, 'end': 9999},\n",
    "\"Bram Platel\" : {'start' : 2010,  'end' : 2019},\n",
    "\"Nico Karssemeijer\" : {'start' : 1989, 'end' : 2022}, \n",
    "\"Clarisa Sanchez\" : {'start' : 2008, 'end' : 2021}, \n",
    "\"Nikolas Lessman\" : {'start' : 2019, 'end' : 2022}, \n",
    "\"Jonas Teuwen\" : {'start' : 2017, 'end' : 2020}, \n",
    "\"Rashindra Manniesing\" : {'start' : 2010, 'end' : 2021}\n",
    "}"
   ]
  },
  {
   "cell_type": "code",
   "execution_count": 30,
   "id": "994131dd-d8ca-4e15-8cb1-a829afd3e6b9",
   "metadata": {},
   "outputs": [
    {
     "data": {
      "text/plain": [
       "{'Bram van Ginneken': {'ids': [8038506, 123637526],\n",
       "  'years': {'start': 1996, 'end': 9999}},\n",
       " 'Francesco Ciompi': {'ids': [143613202],\n",
       "  'years': {'start': 2013, 'end': 9999}},\n",
       " 'Alessa Hering': {'ids': [153744566], 'years': {'start': 2018, 'end': 9999}},\n",
       " 'Henjan Huisman': {'ids': [34754023], 'years': {'start': 1992, 'end': 9999}},\n",
       " 'Colin Jacobs': {'ids': [2895994], 'years': {'start': 2010, 'end': 9999}},\n",
       " 'Peter Koopmans': {'ids': [34726383], 'years': {'start': 2022, 'end': 9999}},\n",
       " 'Jeroen van der Laak': {'ids': [145441238, 145388932],\n",
       "  'years': {'start': 1991, 'end': 9999}},\n",
       " 'Geert Litjens': {'ids': [145959882], 'years': {'start': 2016, 'end': 9999}},\n",
       " 'James Meakin': {'ids': [4960344], 'years': {'start': 2017, 'end': 9999}},\n",
       " 'Keelin Murphy': {'ids': [35730362], 'years': {'start': 2018, 'end': 9999}},\n",
       " 'Ajay Patel': {'ids': [2109170880, 2116215861],\n",
       "  'years': {'start': 2015, 'end': 9999}},\n",
       " 'Cornelia Schaefer-Prokop': {'ids': [1419819133, 1445069528, 1400632685],\n",
       "  'years': {'start': 2010, 'end': 9999}},\n",
       " 'Matthieu Rutten': {'ids': [2074975080, 2156546],\n",
       "  'years': {'start': 2019, 'end': 9999}},\n",
       " 'Jos Thannhauser': {'ids': [5752941], 'years': {'start': 2022, 'end': 9999}},\n",
       " 'Bram Platel': {'ids': [1798137], 'years': {'start': 2010, 'end': 2019}},\n",
       " 'Nico Karssemeijer': {'ids': [1745574],\n",
       "  'years': {'start': 1989, 'end': 2022}},\n",
       " 'Clarisa Sanchez': {'ids': [144085811, 32187701],\n",
       "  'years': {'start': 2008, 'end': 2021}},\n",
       " 'Nikolas Lessman': {'ids': [2913408], 'years': {'start': 2019, 'end': 2022}},\n",
       " 'Jonas Teuwen': {'ids': [32649341, 119024451],\n",
       "  'years': {'start': 2017, 'end': 2020}},\n",
       " 'Rashindra Manniesing': {'ids': [2657081],\n",
       "  'years': {'start': 2010, 'end': 2021}}}"
      ]
     },
     "execution_count": 30,
     "metadata": {},
     "output_type": "execute_result"
    }
   ],
   "source": [
    "staff_dict = {key: {'ids': staff_id_dict[key], 'years': staff_year_dict[key]} for key in staff_id_dict}\n",
    "staff_dict"
   ]
  },
  {
   "cell_type": "code",
   "execution_count": 31,
   "id": "0952f129",
   "metadata": {},
   "outputs": [],
   "source": [
    "# staff_ids = []\n",
    "# [staff_ids.extend(values) for values in staff_dict.values()];\n",
    "# staff_ids"
   ]
  },
  {
   "cell_type": "markdown",
   "id": "84cfaf34",
   "metadata": {},
   "source": [
    "## Semantic scolar"
   ]
  },
  {
   "cell_type": "code",
   "execution_count": 32,
   "id": "3cd27297",
   "metadata": {},
   "outputs": [
    {
     "name": "stdout",
     "output_type": "stream",
     "text": [
      "[1/20]: Bram van Ginneken\n",
      "\t\t 8038506\n",
      "\t\t 123637526\n",
      "[2/20]: Francesco Ciompi\n",
      "\t\t 143613202\n",
      "[3/20]: Alessa Hering\n",
      "\t\t 153744566\n",
      "[4/20]: Henjan Huisman\n",
      "\t\t 34754023\n",
      "[5/20]: Colin Jacobs\n",
      "\t\t 2895994\n",
      "[6/20]: Peter Koopmans\n",
      "\t\t 34726383\n",
      "[7/20]: Jeroen van der Laak\n",
      "\t\t 145441238\n",
      "\t\t 145388932\n",
      "[8/20]: Geert Litjens\n",
      "\t\t 145959882\n",
      "[9/20]: James Meakin\n",
      "\t\t 4960344\n",
      "[10/20]: Keelin Murphy\n",
      "\t\t 35730362\n",
      "[11/20]: Ajay Patel\n",
      "\t\t 2109170880\n",
      "\t\t 2116215861\n",
      "[12/20]: Cornelia Schaefer-Prokop\n",
      "\t\t 1419819133\n",
      "\t\t 1445069528\n",
      "\t\t 1400632685\n",
      "[13/20]: Matthieu Rutten\n",
      "\t\t 2074975080\n",
      "\t\t 2156546\n",
      "[14/20]: Jos Thannhauser\n",
      "\t\t 5752941\n",
      "[15/20]: Bram Platel\n",
      "\t\t 1798137\n",
      "[16/20]: Nico Karssemeijer\n",
      "\t\t 1745574\n",
      "[17/20]: Clarisa Sanchez\n",
      "\t\t 144085811\n",
      "\t\t 32187701\n",
      "[18/20]: Nikolas Lessman\n",
      "\t\t 2913408\n",
      "[19/20]: Jonas Teuwen\n",
      "\t\t 32649341\n",
      "\t\t 119024451\n",
      "[20/20]: Rashindra Manniesing\n",
      "\t\t 2657081\n",
      "DONE\n"
     ]
    }
   ],
   "source": [
    "all_staff_id_ss_data = []\n",
    "\n",
    "# get data for staff memb|er\n",
    "for idx, (staff_name, values) in enumerate(staff_dict.items()):\n",
    "    staff_ids = values['ids']\n",
    "    staff_start = values['years']['start']\n",
    "    staff_end = values['years']['end']\n",
    "    print(f'[{idx+1}/{len(staff_dict.items())}]: {staff_name}')\n",
    "    for staff_id in staff_ids:\n",
    "        print('\\t\\t', staff_id)\n",
    "        staff_id_ss_data = []\n",
    "        # get semantic scolar data\n",
    "        url=f'https://api.semanticscholar.org/graph/v1/author/{staff_id}/papers?fields=year,title,authors,externalIds,citationCount&limit=500'\n",
    "        r = requests.get(url)\n",
    "        ss_staff_data = r.json()['data']\n",
    "\n",
    "        # loop over semantic scolar data entries\n",
    "        for ss_staff_entry in ss_staff_data:\n",
    "            ss_id = None\n",
    "            ss_title = None\n",
    "            ss_doi = None\n",
    "            ss_citations = None\n",
    "            ss_year = None\n",
    "\n",
    "            if 'paperId' in ss_staff_entry:\n",
    "                ss_id = ss_staff_entry['paperId']\n",
    "            if 'title' in ss_staff_entry:\n",
    "                ss_title = ss_staff_entry['title']\n",
    "            if 'DOI' in ss_staff_entry['externalIds']:\n",
    "                ss_doi = ss_staff_entry['externalIds']['DOI']\n",
    "            if 'citationCount' in ss_staff_entry:\n",
    "                ss_citations = ss_staff_entry['citationCount']\n",
    "            if 'year' in ss_staff_entry:\n",
    "                ss_year = ss_staff_entry['year']\n",
    "\n",
    "            if ss_year != None:\n",
    "                if not staff_start <= ss_year <= staff_end:\n",
    "                # probably doesnt belong to DIAG, still captured via another staff member if also in the same paper\n",
    "                    continue\n",
    "                \n",
    "            staff_id_ss_data.append([staff_id, staff_name, staff_start, staff_end, ss_year, ss_id, ss_title, ss_doi, ss_citations])\n",
    "        all_staff_id_ss_data.extend(staff_id_ss_data)    \n",
    "ss_columns = ['staff_id', 'staff_name', 'staff_from', 'staff_till', 'ss_year', 'ss_id', 'title', 'doi', 'ss_citations']\n",
    "df_all_staff_id_ss_data = pd.DataFrame(all_staff_id_ss_data, columns=ss_columns)\n",
    "print('DONE')"
   ]
  },
  {
   "cell_type": "code",
   "execution_count": 33,
   "id": "70965b9f-26a9-4941-b891-6944ddbed33c",
   "metadata": {},
   "outputs": [],
   "source": [
    "df_all_staff_id_ss_data = df_all_staff_id_ss_data.sort_values('ss_id').reset_index(drop=True)"
   ]
  },
  {
   "cell_type": "code",
   "execution_count": 34,
   "id": "4729da6a",
   "metadata": {},
   "outputs": [],
   "source": [
    "df_all_staff_id_ss_data.to_csv('script_data/temp_semantic_scholar_all_staff_id_last_500_summary.csv', index=False)"
   ]
  },
  {
   "cell_type": "markdown",
   "id": "8d1fa513",
   "metadata": {},
   "source": [
    "# Loop for matching DOIs and titles"
   ]
  },
  {
   "cell_type": "code",
   "execution_count": 35,
   "id": "496813da-2278-46a1-90f8-61dad01304e9",
   "metadata": {},
   "outputs": [],
   "source": [
    "from collections import Counter"
   ]
  },
  {
   "cell_type": "code",
   "execution_count": 43,
   "id": "57054c47",
   "metadata": {},
   "outputs": [
    {
     "name": "stdout",
     "output_type": "stream",
     "text": [
      "[MATCHING ON DOIS]\n",
      "DONE\n",
      "898\n",
      "898\n"
     ]
    }
   ],
   "source": [
    "doi_match_data = []\n",
    "match_keys_columns = ['bibkey', 'ss_id', 'all_ss_ids', 'comment']\n",
    "print('[MATCHING ON DOIS]')\n",
    "# LOOP OVER BIB\n",
    "for idx_bib, row_bib in df_bib_data.iterrows():\n",
    "    bibkey = row_bib['bibkey']\n",
    "    comment = None\n",
    "    all_ss_ids = None\n",
    "    \n",
    "    bib_doi = row_bib['doi'].lower() if isinstance(row_bib['doi'], str) else row_bib['doi']\n",
    "    if bib_doi == None:\n",
    "        continue\n",
    "    index = bib_doi.find('10.')\n",
    "    bib_doi = bib_doi[index:] # remove url leading to doi identifier \n",
    "    doi_matching = df_all_staff_id_ss_data['doi'].str.lower().isin([bib_doi])\n",
    "    \n",
    "    if doi_matching.any():\n",
    "        matches = df_all_staff_id_ss_data[doi_matching] # could be multiple in SS, search for \"Epithelium segmentation using deep learning\" paper from Wouter Bulten... \n",
    "        if len(Counter(matches['ss_id'])) == 1:\n",
    "            comment = 'single doi match'\n",
    "            match = matches.iloc[0]\n",
    "        if len(Counter(matches['ss_id'])) > 1:\n",
    "            all_ss_ids = list(Counter(matches[\"ss_id\"]).keys())\n",
    "            comment = f'multiple doi matches {all_ss_ids}, took the first one with most citations'\n",
    "            match = matches[matches['ss_citations'] == matches['ss_citations'].max()].iloc[0]\n",
    "        ss_id = match['ss_id']\n",
    "        doi_match_data.append([bibkey, ss_id, all_ss_ids, comment])\n",
    "\n",
    "df_doi_match_data = pd.DataFrame(doi_match_data, columns = match_keys_columns)\n",
    "df_doi_match_data.to_csv('script_data/temp_doi_match_data.csv', index=False)\n",
    "print('DONE')\n",
    "print(len(df_doi_match_data['comment'].notna()))\n",
    "print(len(df_doi_match_data))"
   ]
  },
  {
   "cell_type": "code",
   "execution_count": 44,
   "id": "16fd8225",
   "metadata": {},
   "outputs": [],
   "source": [
    "import time"
   ]
  },
  {
   "cell_type": "code",
   "execution_count": 45,
   "id": "e417d6d0",
   "metadata": {},
   "outputs": [
    {
     "name": "stdout",
     "output_type": "stream",
     "text": [
      "[MATCHING ON TITLES]\n",
      "[0/2202]\n",
      "[50/2202]\n",
      "[100/2202]\n",
      "[150/2202]\n",
      "[200/2202]\n",
      "[250/2202]\n",
      "[300/2202]\n",
      "[350/2202]\n",
      "[400/2202]\n",
      "[450/2202]\n",
      "[500/2202]\n",
      "[550/2202]\n",
      "[600/2202]\n",
      "[650/2202]\n",
      "[700/2202]\n",
      "[750/2202]\n",
      "[800/2202]\n",
      "[850/2202]\n",
      "[900/2202]\n",
      "[950/2202]\n",
      "[1000/2202]\n",
      "[1050/2202]\n",
      "[1100/2202]\n",
      "[1150/2202]\n",
      "[1200/2202]\n",
      "[1250/2202]\n",
      "[1300/2202]\n",
      "[1350/2202]\n",
      "[1400/2202]\n",
      "[1450/2202]\n",
      "[1500/2202]\n",
      "[1550/2202]\n",
      "[1600/2202]\n",
      "[1650/2202]\n",
      "[1700/2202]\n",
      "[1750/2202]\n",
      "[1800/2202]\n",
      "[1850/2202]\n",
      "[1900/2202]\n",
      "[1950/2202]\n",
      "[2000/2202]\n",
      "[2050/2202]\n",
      "[2100/2202]\n",
      "[2150/2202]\n",
      "[2200/2202]\n",
      "DONE\n",
      "1531.444974899292 sec\n",
      "25.5240829149882 min\n"
     ]
    }
   ],
   "source": [
    "start = time.time()\n",
    "print('[MATCHING ON TITLES]')\n",
    "title_match_data = []\n",
    "for idx_ss, row_ss in df_all_staff_id_ss_data.iterrows():\n",
    "    if idx_ss % 50 == 0:\n",
    "        print(f'[{idx_ss}/{len(df_all_staff_id_ss_data)}]')\n",
    "    \n",
    "    ss_id = row_ss['ss_id']\n",
    "    # if ss_id in df_doi_match_data['ss_id']:\n",
    "    #     continue\n",
    " \n",
    "    ss_title = row_ss['title']\n",
    "    if pd.isna(ss_title):\n",
    "        continue\n",
    "    \n",
    "    title_match_ratios = df_bib_data_with_titles['title'].apply(lambda x: SequenceMatcher(\n",
    "        a=ss_title.lower(), \n",
    "        b=x.lower().replace('{', '').replace('}', '')).ratio())\n",
    "\n",
    "    max_ratio = title_match_ratios.max()\n",
    "    max_bibkey = df_bib_data_with_titles[title_match_ratios==max_ratio]['bibkey'].iloc[0]\n",
    "    max_bib_title = df_bib_data_with_titles[title_match_ratios==max_ratio]['title'].iloc[0]\n",
    "    max_bib_title = max_bib_title.replace('{', '').replace('}', '')\n",
    "    \n",
    "    up80_bibkeys = None\n",
    "    up80_bib_titles = None\n",
    "    up80_ratios = None\n",
    "    if sum(title_match_ratios>0.8) > 1:\n",
    "        \n",
    "        up80_bibkeys = list(df_bib_data_with_titles[title_match_ratios>0.8]['bibkey'])\n",
    "        up80_bib_titles = list(df_bib_data_with_titles[title_match_ratios>0.8]['title'])\n",
    "        up80_bib_titles = [up80_bib_title.replace('{', '').replace('}', '') for up80_bib_title in up80_bib_titles]\n",
    "        up80_ratios = list(title_match_ratios[title_match_ratios>0.8])\n",
    "    \n",
    "    title_match_data.append([ss_id, ss_title, \n",
    "                             max_bibkey, max_bib_title, max_ratio, \n",
    "                             up80_bibkeys, up80_bib_titles, up80_ratios])\n",
    "\n",
    "title_matches_columns = ['ss_id', 'ss_title', \n",
    "                         'max_bibkey' , 'max_bib_title', 'max_ratio',\n",
    "                         'up80_bibkeys' , 'up80_bib_titles', 'up80_ratios',\n",
    "                        ]\n",
    "df_title_match_data = pd.DataFrame(title_match_data, columns=title_matches_columns)\n",
    "df_title_match_data.to_csv('script_data/temp_title_match_data.csv', index=False)\n",
    "print('DONE')\n",
    "end = time.time()\n",
    "sec = end-start\n",
    "print(sec, 'sec')\n",
    "print(sec/60, 'min')"
   ]
  },
  {
   "cell_type": "code",
   "execution_count": null,
   "id": "469bac52-65d2-43ee-86ed-58ebf18cd9f2",
   "metadata": {},
   "outputs": [],
   "source": [
    "print('DONE WITH THIS NOTEBOOK')\n",
    "1/0"
   ]
  },
  {
   "cell_type": "code",
   "execution_count": 49,
   "id": "d547610c-3ab2-4556-abed-9e142bf45a55",
   "metadata": {},
   "outputs": [
    {
     "name": "stdout",
     "output_type": "stream",
     "text": [
      "article\n"
     ]
    }
   ],
   "source": [
    "for entry in diag_bib_raw:\n",
    "    if entry.key == 'Loog06a':\n",
    "        print(entry.type)"
   ]
  },
  {
   "cell_type": "code",
   "execution_count": 50,
   "id": "33c68c73-6556-4259-8dac-a04eb3b4a216",
   "metadata": {},
   "outputs": [
    {
     "name": "stdout",
     "output_type": "stream",
     "text": [
      "inproceedings\n"
     ]
    }
   ],
   "source": [
    "for entry in diag_bib_raw:\n",
    "    if entry.key == 'Loog03':\n",
    "        print(entry.type)"
   ]
  },
  {
   "cell_type": "code",
   "execution_count": 52,
   "id": "c56bdce4-3ce2-4f67-95eb-aa771c65de4c",
   "metadata": {},
   "outputs": [
    {
     "name": "stdout",
     "output_type": "stream",
     "text": [
      "inproceedings\n"
     ]
    }
   ],
   "source": [
    "for entry in diag_bib_raw:\n",
    "    if entry.key == 'Moor18a':\n",
    "        print(entry.type)"
   ]
  },
  {
   "cell_type": "code",
   "execution_count": 51,
   "id": "713402bc-730c-4b07-b61a-6de09c019c98",
   "metadata": {},
   "outputs": [
    {
     "name": "stdout",
     "output_type": "stream",
     "text": [
      "article\n"
     ]
    }
   ],
   "source": [
    "for entry in diag_bib_raw:\n",
    "    if entry.key == 'Moor2018':\n",
    "        print(entry.type)"
   ]
  },
  {
   "cell_type": "code",
   "execution_count": 53,
   "id": "a4e0fe8b-3189-4df7-bacc-01220dd36e2a",
   "metadata": {},
   "outputs": [
    {
     "name": "stdout",
     "output_type": "stream",
     "text": [
      "article\n"
     ]
    }
   ],
   "source": [
    "for entry in diag_bib_raw:\n",
    "    if entry.key == 'Anto21':\n",
    "        print(entry.type)"
   ]
  },
  {
   "cell_type": "code",
   "execution_count": 55,
   "id": "2d559444-cd13-44d1-b3d4-4221ece15be9",
   "metadata": {},
   "outputs": [
    {
     "name": "stdout",
     "output_type": "stream",
     "text": [
      "article\n"
     ]
    }
   ],
   "source": [
    "for entry in diag_bib_raw:\n",
    "    if entry.key == 'Anto22':\n",
    "        print(entry.type)"
   ]
  },
  {
   "cell_type": "code",
   "execution_count": 57,
   "id": "b90eacd7-b850-4777-8da3-1e5344b41a4f",
   "metadata": {},
   "outputs": [
    {
     "name": "stdout",
     "output_type": "stream",
     "text": [
      "conference\n"
     ]
    }
   ],
   "source": [
    "for entry in diag_bib_raw:\n",
    "    if entry.key == 'Wand16':\n",
    "        print(entry.type)"
   ]
  },
  {
   "cell_type": "code",
   "execution_count": 58,
   "id": "230e1bde-ed22-4150-b53a-6de751fcb99d",
   "metadata": {},
   "outputs": [
    {
     "name": "stdout",
     "output_type": "stream",
     "text": [
      "conference\n"
     ]
    }
   ],
   "source": [
    "for entry in diag_bib_raw:\n",
    "    if entry.key == 'Wand15b':\n",
    "        print(entry.type)"
   ]
  },
  {
   "cell_type": "code",
   "execution_count": 56,
   "id": "ae8387cd-5620-44a4-b0af-28f549110940",
   "metadata": {},
   "outputs": [
    {
     "name": "stdout",
     "output_type": "stream",
     "text": [
      "article\n"
     ]
    }
   ],
   "source": [
    "for entry in diag_bib_raw:\n",
    "    if entry.key == 'Wand17a':\n",
    "        print(entry.type)"
   ]
  },
  {
   "cell_type": "markdown",
   "id": "ed4f30e2-7f41-4ec4-86ea-1ce087ba1535",
   "metadata": {},
   "source": [
    "# DONE"
   ]
  }
 ],
 "metadata": {
  "kernelspec": {
   "display_name": "Python 3 (ipykernel)",
   "language": "python",
   "name": "python3"
  },
  "language_info": {
   "codemirror_mode": {
    "name": "ipython",
    "version": 3
   },
   "file_extension": ".py",
   "mimetype": "text/x-python",
   "name": "python",
   "nbconvert_exporter": "python",
   "pygments_lexer": "ipython3",
   "version": "3.9.7"
  }
 },
 "nbformat": 4,
 "nbformat_minor": 5
}
