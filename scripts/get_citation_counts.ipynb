{
 "cells": [
  {
   "cell_type": "markdown",
   "id": "d665ab78",
   "metadata": {},
   "source": [
    "Meeting notes:\n",
    "\n",
    "##### Make diag.bib update code (notebook)\n",
    "- Compare titles of bib and semantic scholar\n",
    "- Match\n",
    "- If match:\n",
    "    - Add semantic scholar ID to diag bib\n",
    "    - Update gscites field from bib entry\n",
    "- If no match:\n",
    "    - Check best matches, if DOI and Arxiv --> chose DOI \n",
    "    - Define right fields (look at code James) + citations + semantic scolar ID \n",
    "    - Add 'automatically added' field so we can trace back automation errors more easilty\n",
    "    - Add to bib   \n",
    "    \n",
    "    \n",
    "##### Make script that can be used by DIAG members\n",
    "- Add doi/arxiv\n",
    "- if DOI check if Arxiv exists, if so --> remove Arxiv\n",
    "- Sort right fields from DOI --> add fields\n",
    "- Search for semantic scholar ID\n",
    "- Print fields so user can check it\n",
    "- Add to bib\n",
    "- Manual commit push\n",
    "\n",
    "##### Make script that checks all semantic scholar IDs and updates gscites\n",
    "- github action overnight?"
   ]
  },
  {
   "cell_type": "markdown",
   "id": "004a794c",
   "metadata": {},
   "source": [
    "# Libraries"
   ]
  },
  {
   "cell_type": "code",
   "execution_count": 23,
   "id": "a7cba022",
   "metadata": {},
   "outputs": [],
   "source": [
    "import os\n",
    "import numpy as np\n",
    "import pandas as pd\n",
    "\n",
    "import requests\n",
    "# from bibreader import parse_bibtex_file, get_bib_blocks\n",
    "from bib_handling_code.processbib import read_bibfile\n",
    "from bib_handling_code.processbib import save_to_file\n",
    "from difflib import SequenceMatcher\n"
   ]
  },
  {
   "cell_type": "markdown",
   "id": "018c028b",
   "metadata": {},
   "source": [
    "# Example from url giving 100 papers from one of Bram's semantic scolar IDs"
   ]
  },
  {
   "cell_type": "code",
   "execution_count": 22,
   "id": "96541fe9",
   "metadata": {},
   "outputs": [],
   "source": [
    "staff_id = 8038506\n",
    "staff_ids = [8038506]"
   ]
  },
  {
   "cell_type": "code",
   "execution_count": 21,
   "id": "d020fd77",
   "metadata": {},
   "outputs": [],
   "source": [
    "url=f'https://api.semanticscholar.org/graph/v1/author/{staff_id}/papers?fields=year,title,authors,externalIds,citationCount&limit=100'\n",
    "\n",
    "r = requests.get(url)\n",
    "ss_staff_data = r.json()['data']"
   ]
  },
  {
   "cell_type": "code",
   "execution_count": 58,
   "id": "16bd86cb",
   "metadata": {},
   "outputs": [],
   "source": [
    "# ss_staff_data[0]"
   ]
  },
  {
   "cell_type": "markdown",
   "id": "a1923b6c",
   "metadata": {},
   "source": [
    "# Function to get data from DOI/ArXiv"
   ]
  },
  {
   "cell_type": "code",
   "execution_count": 5,
   "id": "47df078a",
   "metadata": {},
   "outputs": [],
   "source": [
    "def get_doi_csl(doi):\n",
    "    response = requests.get(\n",
    "        f\"https://doi.org/{doi}\",\n",
    "        headers={\"Accept\": \"application/vnd.citationstyles.csl+json\"},\n",
    "        timeout=5,\n",
    "    )\n",
    "    response.raise_for_status()\n",
    "    return response.json()"
   ]
  },
  {
   "cell_type": "markdown",
   "id": "e7a40e68",
   "metadata": {},
   "source": [
    "# Example"
   ]
  },
  {
   "cell_type": "code",
   "execution_count": 6,
   "id": "8e9c2fa5",
   "metadata": {},
   "outputs": [
    {
     "data": {
      "text/plain": [
       "True"
      ]
     },
     "execution_count": 6,
     "metadata": {},
     "output_type": "execute_result"
    }
   ],
   "source": [
    "'arXiv' in '10.48550/arXiv.2302.01738' "
   ]
  },
  {
   "cell_type": "code",
   "execution_count": 7,
   "id": "19b15f0c",
   "metadata": {},
   "outputs": [
    {
     "data": {
      "text/plain": [
       "{'ArXiv': '2302.01738',\n",
       " 'DBLP': 'journals/corr/abs-2302-01738',\n",
       " 'DOI': '10.48550/arXiv.2302.01738',\n",
       " 'CorpusId': 256598301}"
      ]
     },
     "execution_count": 7,
     "metadata": {},
     "output_type": "execute_result"
    }
   ],
   "source": [
    "ss_staff_data[2]['externalIds']"
   ]
  },
  {
   "cell_type": "code",
   "execution_count": 8,
   "id": "9da567cf",
   "metadata": {},
   "outputs": [],
   "source": [
    "found_arxiv_doi = False\n",
    "found_regular_doi = False"
   ]
  },
  {
   "cell_type": "code",
   "execution_count": 9,
   "id": "48474f2b",
   "metadata": {},
   "outputs": [
    {
     "name": "stdout",
     "output_type": "stream",
     "text": [
      "10.48550/arXiv.2302.01790\n",
      "10.1007/978-3-031-28241-6_18\n"
     ]
    }
   ],
   "source": [
    "#ArXiv\n",
    "for ss_staff_entry in ss_staff_data:\n",
    "    if 'DOI' in ss_staff_entry['externalIds']:\n",
    "        if 'arXiv' in ss_staff_entry['externalIds']['DOI']:\n",
    "            arxiv_doi = ss_staff_entry['externalIds']['DOI']\n",
    "            found_arxiv_doi = True\n",
    "    if found_arxiv_doi:\n",
    "        break\n",
    "#DOI\n",
    "for ss_staff_entry in ss_staff_data:\n",
    "    if 'DOI' in ss_staff_entry['externalIds']:\n",
    "        if 'arXiv' not in ss_staff_entry['externalIds']['DOI']:\n",
    "            regular_doi = ss_staff_entry['externalIds']['DOI']\n",
    "            found_regular_doi = True\n",
    "    if found_regular_doi:\n",
    "        break\n",
    "\n",
    "print(arxiv_doi)\n",
    "print(regular_doi)"
   ]
  },
  {
   "cell_type": "code",
   "execution_count": 10,
   "id": "f1c56577",
   "metadata": {},
   "outputs": [],
   "source": [
    "doi = regular_doi"
   ]
  },
  {
   "cell_type": "code",
   "execution_count": 11,
   "id": "d826ea97",
   "metadata": {},
   "outputs": [
    {
     "data": {
      "text/plain": [
       "{'indexed': {'date-parts': [[2023, 3, 16]],\n",
       "  'date-time': '2023-03-16T04:50:23Z',\n",
       "  'timestamp': 1678942223397},\n",
       " 'publisher-location': 'Cham',\n",
       " 'reference-count': 10,\n",
       " 'publisher': 'Springer Nature Switzerland',\n",
       " 'isbn-type': [{'value': '9783031282409', 'type': 'print'},\n",
       "  {'value': '9783031282416', 'type': 'electronic'}],\n",
       " 'license': [{'start': {'date-parts': [[2023, 1, 1]],\n",
       "    'date-time': '2023-01-01T00:00:00Z',\n",
       "    'timestamp': 1672531200000},\n",
       "   'content-version': 'tdm',\n",
       "   'delay-in-days': 0,\n",
       "   'URL': 'https://www.springernature.com/gp/researchers/text-and-data-mining'},\n",
       "  {'start': {'date-parts': [[2023, 1, 1]],\n",
       "    'date-time': '2023-01-01T00:00:00Z',\n",
       "    'timestamp': 1672531200000},\n",
       "   'content-version': 'vor',\n",
       "   'delay-in-days': 0,\n",
       "   'URL': 'https://www.springernature.com/gp/researchers/text-and-data-mining'}],\n",
       " 'content-domain': {'domain': ['link.springer.com'],\n",
       "  'crossmark-restriction': False},\n",
       " 'published-print': {'date-parts': [[2023]]},\n",
       " 'DOI': '10.1007/978-3-031-28241-6_18',\n",
       " 'type': 'book-chapter',\n",
       " 'created': {'date-parts': [[2023, 3, 16]],\n",
       "  'date-time': '2023-03-16T01:02:20Z',\n",
       "  'timestamp': 1678928540000},\n",
       " 'page': '224-229',\n",
       " 'update-policy': 'http://dx.doi.org/10.1007/springer_crossmark_policy',\n",
       " 'source': 'Crossref',\n",
       " 'is-referenced-by-count': 0,\n",
       " 'title': 'SimpleRad: Patient-Friendly Dutch Radiology Reports',\n",
       " 'prefix': '10.1007',\n",
       " 'author': [{'ORCID': 'http://orcid.org/0000-0003-2571-9102',\n",
       "   'authenticated-orcid': False,\n",
       "   'given': 'Koen',\n",
       "   'family': 'Dercksen',\n",
       "   'sequence': 'first',\n",
       "   'affiliation': []},\n",
       "  {'ORCID': 'http://orcid.org/0000-0002-2888-4202',\n",
       "   'authenticated-orcid': False,\n",
       "   'given': 'Arjen P.',\n",
       "   'family': 'de Vries',\n",
       "   'sequence': 'additional',\n",
       "   'affiliation': []},\n",
       "  {'ORCID': 'http://orcid.org/0000-0003-2028-8972',\n",
       "   'authenticated-orcid': False,\n",
       "   'given': 'Bram',\n",
       "   'family': 'van Ginneken',\n",
       "   'sequence': 'additional',\n",
       "   'affiliation': []}],\n",
       " 'member': '297',\n",
       " 'published-online': {'date-parts': [[2023, 3, 16]]},\n",
       " 'reference': [{'key': '18_CR1',\n",
       "   'unstructured': 'Akbik, A., Bergmann, T., Blythe, D., Rasul, K., Schweter, S., Vollgraf, R.: FLAIR: an easy-to-use framework for state-of-the-art NLP. In: Proceedings of the 2019 conference of the North American chapter of the Association for Computational Linguistics (demonstrations), pp. 54–59 (2019)'},\n",
       "  {'key': '18_CR2',\n",
       "   'doi-asserted-by': 'crossref',\n",
       "   'unstructured': 'Van den Bercken, L., Sips, R.J., Lofi, C.: Evaluating neural text simplification in the medical domain. In: The World Wide Web Conference, pp. 3286–3292 (2019)',\n",
       "   'DOI': '10.1145/3308558.3313630'},\n",
       "  {'key': '18_CR3',\n",
       "   'doi-asserted-by': 'crossref',\n",
       "   'unstructured': 'Bodenreider, O.: The unified medical language system (UMLS): integrating biomedical terminology. Nucleic Acids Res. 32(suppl_1), D267–D270 (2004)',\n",
       "   'DOI': '10.1093/nar/gkh061'},\n",
       "  {'key': '18_CR4',\n",
       "   'doi-asserted-by': 'crossref',\n",
       "   'unstructured': 'Devaraj, A., Marshall, I.J., Wallace, B.C., Li, J.J.: Paragraph-level simplification of medical texts. arXiv preprint arXiv:2104.05767 (2021)',\n",
       "   'DOI': '10.18653/v1/2021.naacl-main.395'},\n",
       "  {'key': '18_CR5',\n",
       "   'unstructured': 'Kraljevic, Z., et al.: MedCAT-medical concept annotation tool. arXiv preprint arXiv:1912.10166 (2019)'},\n",
       "  {'key': '18_CR6',\n",
       "   'unstructured': 'Okazaki, N., Tsujii, J.: Simple and efficient algorithm for approximate dictionary matching. In: Proceedings of the 23rd International Conference on Computational Linguistics (Coling 2010), pp. 851–859 (2010)'},\n",
       "  {'issue': '11',\n",
       "   'key': '18_CR7',\n",
       "   'doi-asserted-by': 'publisher',\n",
       "   'first-page': '1976',\n",
       "   'DOI': '10.1093/jamia/ocac149',\n",
       "   'volume': '29',\n",
       "   'author': 'B Ondov',\n",
       "   'year': '2022',\n",
       "   'unstructured': 'Ondov, B., Attal, K., Demner-Fushman, D.: A survey of automated methods for biomedical text simplification. J. Am. Med. Inf. Assoc. 29(11), 1976–1988 (2022)',\n",
       "   'journal-title': 'J. Am. Med. Inf. Assoc.'},\n",
       "  {'issue': '12',\n",
       "   'key': '18_CR8',\n",
       "   'doi-asserted-by': 'publisher',\n",
       "   'DOI': '10.2196/jmir.8536',\n",
       "   'volume': '19',\n",
       "   'author': 'B Qenam',\n",
       "   'year': '2017',\n",
       "   'unstructured': 'Qenam, B., Kim, T.Y., Carroll, M.J., Hogarth, M., et al.: Text simplification using consumer health vocabulary to generate patient-centered radiology reporting: translation and evaluation. J. Med. Internet Res. 19(12), e8536 (2017)',\n",
       "   'journal-title': 'J. Med. Internet Res.'},\n",
       "  {'key': '18_CR9',\n",
       "   'unstructured': 'Soldaini, L., Goharian, N.: QuickUMLS: a fast, unsupervised approach for medical concept extraction. In: MedIR Workshop, SIGIR, pp. 1–4 (2016)'},\n",
       "  {'key': '18_CR10',\n",
       "   'unstructured': 'Trienes, J., Schlötterer, J., Schildhaus, H.-U., Seifert, C.: Patient-friendly clinical notes: towards a new text simplification dataset. In: TSAR workshop, EMNLP (2022)'}],\n",
       " 'container-title': 'Lecture Notes in Computer Science',\n",
       " 'original-title': [],\n",
       " 'link': [{'URL': 'https://link.springer.com/content/pdf/10.1007/978-3-031-28241-6_18',\n",
       "   'content-type': 'unspecified',\n",
       "   'content-version': 'vor',\n",
       "   'intended-application': 'similarity-checking'}],\n",
       " 'deposited': {'date-parts': [[2023, 3, 16]],\n",
       "  'date-time': '2023-03-16T01:08:06Z',\n",
       "  'timestamp': 1678928886000},\n",
       " 'score': 1,\n",
       " 'resource': {'primary': {'URL': 'https://link.springer.com/10.1007/978-3-031-28241-6_18'}},\n",
       " 'subtitle': [],\n",
       " 'short-title': [],\n",
       " 'issued': {'date-parts': [[2023]]},\n",
       " 'ISBN': ['9783031282409', '9783031282416'],\n",
       " 'references-count': 10,\n",
       " 'URL': 'http://dx.doi.org/10.1007/978-3-031-28241-6_18',\n",
       " 'relation': {},\n",
       " 'ISSN': ['0302-9743', '1611-3349'],\n",
       " 'published': {'date-parts': [[2023]]},\n",
       " 'assertion': [{'value': '16 March 2023',\n",
       "   'order': 1,\n",
       "   'name': 'first_online',\n",
       "   'label': 'First Online',\n",
       "   'group': {'name': 'ChapterHistory', 'label': 'Chapter History'}},\n",
       "  {'value': 'ECIR',\n",
       "   'order': 1,\n",
       "   'name': 'conference_acronym',\n",
       "   'label': 'Conference Acronym',\n",
       "   'group': {'name': 'ConferenceInfo', 'label': 'Conference Information'}},\n",
       "  {'value': 'European Conference on Information Retrieval',\n",
       "   'order': 2,\n",
       "   'name': 'conference_name',\n",
       "   'label': 'Conference Name',\n",
       "   'group': {'name': 'ConferenceInfo', 'label': 'Conference Information'}},\n",
       "  {'value': 'Dublin',\n",
       "   'order': 3,\n",
       "   'name': 'conference_city',\n",
       "   'label': 'Conference City',\n",
       "   'group': {'name': 'ConferenceInfo', 'label': 'Conference Information'}},\n",
       "  {'value': 'Ireland',\n",
       "   'order': 4,\n",
       "   'name': 'conference_country',\n",
       "   'label': 'Conference Country',\n",
       "   'group': {'name': 'ConferenceInfo', 'label': 'Conference Information'}},\n",
       "  {'value': '2023',\n",
       "   'order': 5,\n",
       "   'name': 'conference_year',\n",
       "   'label': 'Conference Year',\n",
       "   'group': {'name': 'ConferenceInfo', 'label': 'Conference Information'}},\n",
       "  {'value': '2 April 2023',\n",
       "   'order': 7,\n",
       "   'name': 'conference_start_date',\n",
       "   'label': 'Conference Start Date',\n",
       "   'group': {'name': 'ConferenceInfo', 'label': 'Conference Information'}},\n",
       "  {'value': '6 April 2023',\n",
       "   'order': 8,\n",
       "   'name': 'conference_end_date',\n",
       "   'label': 'Conference End Date',\n",
       "   'group': {'name': 'ConferenceInfo', 'label': 'Conference Information'}},\n",
       "  {'value': '45',\n",
       "   'order': 9,\n",
       "   'name': 'conference_number',\n",
       "   'label': 'Conference Number',\n",
       "   'group': {'name': 'ConferenceInfo', 'label': 'Conference Information'}},\n",
       "  {'value': 'ecir2023',\n",
       "   'order': 10,\n",
       "   'name': 'conference_id',\n",
       "   'label': 'Conference ID',\n",
       "   'group': {'name': 'ConferenceInfo', 'label': 'Conference Information'}},\n",
       "  {'value': 'https://ecir2023.org/index.html?v=1.0',\n",
       "   'order': 11,\n",
       "   'name': 'conference_url',\n",
       "   'label': 'Conference URL',\n",
       "   'group': {'name': 'ConferenceInfo', 'label': 'Conference Information'}},\n",
       "  {'value': 'Double-blind',\n",
       "   'order': 1,\n",
       "   'name': 'type',\n",
       "   'label': 'Type',\n",
       "   'group': {'name': 'ConfEventPeerReviewInformation',\n",
       "    'label': 'Peer Review Information (provided by the conference organizers)'}},\n",
       "  {'value': 'EasyChair',\n",
       "   'order': 2,\n",
       "   'name': 'conference_management_system',\n",
       "   'label': 'Conference Management System',\n",
       "   'group': {'name': 'ConfEventPeerReviewInformation',\n",
       "    'label': 'Peer Review Information (provided by the conference organizers)'}},\n",
       "  {'value': '489',\n",
       "   'order': 3,\n",
       "   'name': 'number_of_submissions_sent_for_review',\n",
       "   'label': 'Number of Submissions Sent for Review',\n",
       "   'group': {'name': 'ConfEventPeerReviewInformation',\n",
       "    'label': 'Peer Review Information (provided by the conference organizers)'}},\n",
       "  {'value': '77',\n",
       "   'order': 4,\n",
       "   'name': 'number_of_full_papers_accepted',\n",
       "   'label': 'Number of Full Papers Accepted',\n",
       "   'group': {'name': 'ConfEventPeerReviewInformation',\n",
       "    'label': 'Peer Review Information (provided by the conference organizers)'}},\n",
       "  {'value': '83',\n",
       "   'order': 5,\n",
       "   'name': 'number_of_short_papers_accepted',\n",
       "   'label': 'Number of Short Papers Accepted',\n",
       "   'group': {'name': 'ConfEventPeerReviewInformation',\n",
       "    'label': 'Peer Review Information (provided by the conference organizers)'}},\n",
       "  {'value': '16% - The value is computed by the equation \"Number of Full Papers Accepted / Number of Submissions Sent for Review * 100\" and then rounded to a whole number.',\n",
       "   'order': 6,\n",
       "   'name': 'acceptance_rate_of_full_papers',\n",
       "   'label': 'Acceptance Rate of Full Papers',\n",
       "   'group': {'name': 'ConfEventPeerReviewInformation',\n",
       "    'label': 'Peer Review Information (provided by the conference organizers)'}},\n",
       "  {'value': '3',\n",
       "   'order': 7,\n",
       "   'name': 'average_number_of_reviews_per_paper',\n",
       "   'label': 'Average Number of Reviews per Paper',\n",
       "   'group': {'name': 'ConfEventPeerReviewInformation',\n",
       "    'label': 'Peer Review Information (provided by the conference organizers)'}},\n",
       "  {'value': '3',\n",
       "   'order': 8,\n",
       "   'name': 'average_number_of_papers_per_reviewer',\n",
       "   'label': 'Average Number of Papers per Reviewer',\n",
       "   'group': {'name': 'ConfEventPeerReviewInformation',\n",
       "    'label': 'Peer Review Information (provided by the conference organizers)'}},\n",
       "  {'value': 'No',\n",
       "   'order': 9,\n",
       "   'name': 'external_reviewers_involved',\n",
       "   'label': 'External Reviewers Involved',\n",
       "   'group': {'name': 'ConfEventPeerReviewInformation',\n",
       "    'label': 'Peer Review Information (provided by the conference organizers)'}}]}"
      ]
     },
     "execution_count": 11,
     "metadata": {},
     "output_type": "execute_result"
    }
   ],
   "source": [
    "doi_data = get_doi_csl(doi)\n",
    "doi_data"
   ]
  },
  {
   "cell_type": "code",
   "execution_count": 12,
   "id": "c53645b3",
   "metadata": {
    "scrolled": false
   },
   "outputs": [
    {
     "name": "stdout",
     "output_type": "stream",
     "text": [
      "indexed\n",
      "publisher-location\n",
      "reference-count\n",
      "publisher\n",
      "isbn-type\n",
      "license\n",
      "content-domain\n",
      "published-print\n",
      "DOI\n",
      "type\n",
      "created\n",
      "page\n",
      "update-policy\n",
      "source\n",
      "is-referenced-by-count\n",
      "title\n",
      "prefix\n",
      "author\n",
      "member\n",
      "published-online\n",
      "reference\n",
      "container-title\n",
      "original-title\n",
      "link\n",
      "deposited\n",
      "score\n",
      "resource\n",
      "subtitle\n",
      "short-title\n",
      "issued\n",
      "ISBN\n",
      "references-count\n",
      "URL\n",
      "relation\n",
      "ISSN\n",
      "published\n",
      "assertion\n"
     ]
    }
   ],
   "source": [
    "[print(key) for key in doi_data.keys()];"
   ]
  },
  {
   "cell_type": "markdown",
   "id": "03c2a616",
   "metadata": {},
   "source": [
    "# Import diag.bib"
   ]
  },
  {
   "cell_type": "code",
   "execution_count": 13,
   "id": "d5ad8c95",
   "metadata": {},
   "outputs": [],
   "source": [
    "path_diag_bib = os.path.join('..', 'diag.bib')\n",
    "diag_bib_raw = read_bibfile(None, path_diag_bib) # I changed the code in such a way that IF I give a second argument, it uses the second argument as a full path"
   ]
  },
  {
   "cell_type": "code",
   "execution_count": 14,
   "id": "60b9b13c",
   "metadata": {},
   "outputs": [
    {
     "data": {
      "text/plain": [
       "2783"
      ]
     },
     "execution_count": 14,
     "metadata": {},
     "output_type": "execute_result"
    }
   ],
   "source": [
    "len(diag_bib_raw)"
   ]
  },
  {
   "cell_type": "markdown",
   "id": "76446558",
   "metadata": {},
   "source": [
    "# Gather ss and bib data"
   ]
  },
  {
   "cell_type": "markdown",
   "id": "c4a00464",
   "metadata": {},
   "source": [
    "## Semantic scolar"
   ]
  },
  {
   "cell_type": "code",
   "execution_count": 48,
   "id": "cd0dcd8d",
   "metadata": {},
   "outputs": [],
   "source": [
    "ss_data = []\n",
    "# get data for staff member\n",
    "for staff_id in staff_ids:\n",
    "    # get semantic scolar data\n",
    "    url=f'https://api.semanticscholar.org/graph/v1/author/{staff_member_id}/papers?fields=year,title,authors,externalIds,citationCount&limit=100'\n",
    "    r = requests.get(url)\n",
    "    ss_staff_data = r.json()['data']\n",
    "    \n",
    "    # loop over semantic scolar data entries\n",
    "    for ss_staff_entry in ss_staff_data:\n",
    "        ss_id = None\n",
    "        ss_title = None\n",
    "        ss_doi = None\n",
    "        ss_citations = None\n",
    "\n",
    "        if 'paperId' in ss_staff_entry:\n",
    "            ss_id = ss_staff_entry['paperId']\n",
    "        if 'title' in ss_staff_entry:\n",
    "            ss_title = ss_staff_entry['title']\n",
    "        if 'DOI' in ss_staff_entry['externalIds']:\n",
    "            ss_doi = ss_staff_entry['externalIds']['DOI']\n",
    "        if 'citationCount' in ss_staff_entry:\n",
    "            ss_citations = ss_staff_entry['citationCount']\n",
    "\n",
    "        ss_data.append([ss_id, ss_title, ss_doi, staff_id, ss_citations])\n",
    "ss_columns = ['ss_id', 'title', 'doi', 'staff_id', 'ss_citations']\n",
    "df_ss_data = pd.DataFrame(ss_data, columns=ss_columns)"
   ]
  },
  {
   "cell_type": "code",
   "execution_count": 49,
   "id": "0bfbd673",
   "metadata": {},
   "outputs": [
    {
     "data": {
      "text/html": [
       "<div>\n",
       "<style scoped>\n",
       "    .dataframe tbody tr th:only-of-type {\n",
       "        vertical-align: middle;\n",
       "    }\n",
       "\n",
       "    .dataframe tbody tr th {\n",
       "        vertical-align: top;\n",
       "    }\n",
       "\n",
       "    .dataframe thead th {\n",
       "        text-align: right;\n",
       "    }\n",
       "</style>\n",
       "<table border=\"1\" class=\"dataframe\">\n",
       "  <thead>\n",
       "    <tr style=\"text-align: right;\">\n",
       "      <th></th>\n",
       "      <th>ss_id</th>\n",
       "      <th>title</th>\n",
       "      <th>doi</th>\n",
       "      <th>staff_id</th>\n",
       "      <th>ss_citations</th>\n",
       "    </tr>\n",
       "  </thead>\n",
       "  <tbody>\n",
       "    <tr>\n",
       "      <th>0</th>\n",
       "      <td>1898998f27ce0750a42f8f3ca2ed7e292f05aee2</td>\n",
       "      <td>Understanding metric-related pitfalls in image...</td>\n",
       "      <td>10.48550/arXiv.2302.01790</td>\n",
       "      <td>8038506</td>\n",
       "      <td>3</td>\n",
       "    </tr>\n",
       "    <tr>\n",
       "      <th>1</th>\n",
       "      <td>362c510dec0d566d22d5be3af0519fc7eec8bb86</td>\n",
       "      <td>Uncertainty-Aware Multiple-Instance Learning f...</td>\n",
       "      <td>None</td>\n",
       "      <td>8038506</td>\n",
       "      <td>0</td>\n",
       "    </tr>\n",
       "    <tr>\n",
       "      <th>2</th>\n",
       "      <td>7981606bf8110ec6cc64baa22d694096f7862939</td>\n",
       "      <td>AIROGS: Artificial Intelligence for RObust Gla...</td>\n",
       "      <td>10.48550/arXiv.2302.01738</td>\n",
       "      <td>8038506</td>\n",
       "      <td>2</td>\n",
       "    </tr>\n",
       "    <tr>\n",
       "      <th>3</th>\n",
       "      <td>e738d94746b0f33b1c48737022ab186618d4d4cd</td>\n",
       "      <td>SimpleRad: Patient-Friendly Dutch Radiology Re...</td>\n",
       "      <td>10.1007/978-3-031-28241-6_18</td>\n",
       "      <td>8038506</td>\n",
       "      <td>0</td>\n",
       "    </tr>\n",
       "    <tr>\n",
       "      <th>4</th>\n",
       "      <td>2d49fb82fd715a213e2149f9f08dd2fb4749b235</td>\n",
       "      <td>Challenges in digital medicine applications in...</td>\n",
       "      <td>10.1038/s41467-022-30728-3</td>\n",
       "      <td>8038506</td>\n",
       "      <td>3</td>\n",
       "    </tr>\n",
       "  </tbody>\n",
       "</table>\n",
       "</div>"
      ],
      "text/plain": [
       "                                      ss_id  \\\n",
       "0  1898998f27ce0750a42f8f3ca2ed7e292f05aee2   \n",
       "1  362c510dec0d566d22d5be3af0519fc7eec8bb86   \n",
       "2  7981606bf8110ec6cc64baa22d694096f7862939   \n",
       "3  e738d94746b0f33b1c48737022ab186618d4d4cd   \n",
       "4  2d49fb82fd715a213e2149f9f08dd2fb4749b235   \n",
       "\n",
       "                                               title  \\\n",
       "0  Understanding metric-related pitfalls in image...   \n",
       "1  Uncertainty-Aware Multiple-Instance Learning f...   \n",
       "2  AIROGS: Artificial Intelligence for RObust Gla...   \n",
       "3  SimpleRad: Patient-Friendly Dutch Radiology Re...   \n",
       "4  Challenges in digital medicine applications in...   \n",
       "\n",
       "                            doi  staff_id  ss_citations  \n",
       "0     10.48550/arXiv.2302.01790   8038506             3  \n",
       "1                          None   8038506             0  \n",
       "2     10.48550/arXiv.2302.01738   8038506             2  \n",
       "3  10.1007/978-3-031-28241-6_18   8038506             0  \n",
       "4    10.1038/s41467-022-30728-3   8038506             3  "
      ]
     },
     "execution_count": 49,
     "metadata": {},
     "output_type": "execute_result"
    }
   ],
   "source": [
    "df_ss_data.head()"
   ]
  },
  {
   "cell_type": "markdown",
   "id": "7a6fd508",
   "metadata": {},
   "source": [
    "## DIAG bib"
   ]
  },
  {
   "cell_type": "code",
   "execution_count": 56,
   "id": "cd932c88",
   "metadata": {},
   "outputs": [],
   "source": [
    "bib_data = []\n",
    "for bib_entry in diag_bib_raw:\n",
    "    bibkey = bib_entry.key\n",
    "    \n",
    "    bib_title = None\n",
    "    bib_doi = None\n",
    "    bib_gscites = None\n",
    "    \n",
    "    if 'title' in bib_entry.fields:\n",
    "        bib_title = bib_entry.fields['title'].strip('{ }')\n",
    "    if 'doi' in bib_entry.fields:\n",
    "        bib_doi = bib_entry.fields['doi'].strip('{ }')\n",
    "    if 'gscites' in bib_entry.fields:\n",
    "        bib_gscites = bib_entry.fields['gscites'].strip('{ }')\n",
    "    \n",
    "    bib_data.append([bibkey, bib_title, bib_doi, bib_gscites])\n",
    "bib_columns = ['bibkey', 'title', 'doi', 'gs_citations']\n",
    "df_bib_data = pd.DataFrame(bib_data, columns=bib_columns)"
   ]
  },
  {
   "cell_type": "code",
   "execution_count": 59,
   "id": "c234b4a3",
   "metadata": {},
   "outputs": [],
   "source": [
    "df_bib_data.to_csv('script_data/temp_diag_bib_summary.csv', index=False)"
   ]
  },
  {
   "cell_type": "code",
   "execution_count": 57,
   "id": "a1235fa3",
   "metadata": {},
   "outputs": [
    {
     "data": {
      "text/html": [
       "<div>\n",
       "<style scoped>\n",
       "    .dataframe tbody tr th:only-of-type {\n",
       "        vertical-align: middle;\n",
       "    }\n",
       "\n",
       "    .dataframe tbody tr th {\n",
       "        vertical-align: top;\n",
       "    }\n",
       "\n",
       "    .dataframe thead th {\n",
       "        text-align: right;\n",
       "    }\n",
       "</style>\n",
       "<table border=\"1\" class=\"dataframe\">\n",
       "  <thead>\n",
       "    <tr style=\"text-align: right;\">\n",
       "      <th></th>\n",
       "      <th>bibkey</th>\n",
       "      <th>title</th>\n",
       "      <th>doi</th>\n",
       "      <th>gs_citations</th>\n",
       "    </tr>\n",
       "  </thead>\n",
       "  <tbody>\n",
       "    <tr>\n",
       "      <th>2778</th>\n",
       "      <td>Sadr23</td>\n",
       "      <td>Deep Learning for Detection of Periapical Radi...</td>\n",
       "      <td>10.1016/j.joen.2022.12.007</td>\n",
       "      <td>None</td>\n",
       "    </tr>\n",
       "    <tr>\n",
       "      <th>2779</th>\n",
       "      <td>Anto23</td>\n",
       "      <td>Retrospective validation of nodule management ...</td>\n",
       "      <td>None</td>\n",
       "      <td>None</td>\n",
       "    </tr>\n",
       "    <tr>\n",
       "      <th>2780</th>\n",
       "      <td>Sido23</td>\n",
       "      <td>Multi-source data approach for personalized ou...</td>\n",
       "      <td>10.1007/s10654-023-00975-9</td>\n",
       "      <td>None</td>\n",
       "    </tr>\n",
       "    <tr>\n",
       "      <th>2781</th>\n",
       "      <td>Graa23</td>\n",
       "      <td>MRI image features with an evident relation to...</td>\n",
       "      <td>10.1007/s00586-023-07602-x</td>\n",
       "      <td>None</td>\n",
       "    </tr>\n",
       "    <tr>\n",
       "      <th>2782</th>\n",
       "      <td>Graa22</td>\n",
       "      <td>Segmentation of vertebrae and intervertebral d...</td>\n",
       "      <td>10.1117/12.2611423</td>\n",
       "      <td>None</td>\n",
       "    </tr>\n",
       "  </tbody>\n",
       "</table>\n",
       "</div>"
      ],
      "text/plain": [
       "      bibkey                                              title  \\\n",
       "2778  Sadr23  Deep Learning for Detection of Periapical Radi...   \n",
       "2779  Anto23  Retrospective validation of nodule management ...   \n",
       "2780  Sido23  Multi-source data approach for personalized ou...   \n",
       "2781  Graa23  MRI image features with an evident relation to...   \n",
       "2782  Graa22  Segmentation of vertebrae and intervertebral d...   \n",
       "\n",
       "                             doi gs_citations  \n",
       "2778  10.1016/j.joen.2022.12.007         None  \n",
       "2779                        None         None  \n",
       "2780  10.1007/s10654-023-00975-9         None  \n",
       "2781  10.1007/s00586-023-07602-x         None  \n",
       "2782          10.1117/12.2611423         None  "
      ]
     },
     "execution_count": 57,
     "metadata": {},
     "output_type": "execute_result"
    }
   ],
   "source": [
    "df_bib_data.tail()"
   ]
  },
  {
   "cell_type": "markdown",
   "id": "c026dfc7",
   "metadata": {},
   "source": [
    "# Loop for matching titles"
   ]
  },
  {
   "cell_type": "code",
   "execution_count": null,
   "id": "e4b5265e",
   "metadata": {},
   "outputs": [],
   "source": [
    "for title in df_ss_data['']"
   ]
  },
  {
   "cell_type": "code",
   "execution_count": null,
   "id": "09d2f462",
   "metadata": {},
   "outputs": [],
   "source": []
  },
  {
   "cell_type": "code",
   "execution_count": null,
   "id": "11e83de8",
   "metadata": {},
   "outputs": [],
   "source": []
  },
  {
   "cell_type": "code",
   "execution_count": null,
   "id": "7ae7d375",
   "metadata": {},
   "outputs": [],
   "source": []
  },
  {
   "cell_type": "code",
   "execution_count": null,
   "id": "1b727c8a",
   "metadata": {},
   "outputs": [],
   "source": []
  },
  {
   "cell_type": "code",
   "execution_count": null,
   "id": "99889c8b",
   "metadata": {},
   "outputs": [],
   "source": []
  },
  {
   "cell_type": "code",
   "execution_count": null,
   "id": "cf285ad8",
   "metadata": {},
   "outputs": [],
   "source": []
  },
  {
   "cell_type": "code",
   "execution_count": null,
   "id": "5fa8c9da",
   "metadata": {},
   "outputs": [],
   "source": [
    "bib_title = bib_entry.fields['title'].strip('{ }')\n",
    "ss_title = ss_entry"
   ]
  },
  {
   "cell_type": "code",
   "execution_count": null,
   "id": "35639483",
   "metadata": {},
   "outputs": [],
   "source": [
    "all_types = []\n",
    "for entry in diag_bib_raw:\n",
    "    all_types.append(entry.type)\n",
    "np.unique(all_types, return_counts=True)"
   ]
  },
  {
   "cell_type": "code",
   "execution_count": null,
   "id": "ee0aee0c",
   "metadata": {},
   "outputs": [],
   "source": [
    "selected_entries = []\n",
    "for entry in diag_bib_raw:\n",
    "    if entry.type in ['article']: #['article', 'book', 'conference', 'inbook', 'inproceedings']\n",
    "        selected_entries.append(entry)\n",
    "        print(entry.fields)"
   ]
  },
  {
   "cell_type": "code",
   "execution_count": null,
   "id": "7451bb6c",
   "metadata": {},
   "outputs": [],
   "source": [
    "[print(key) for key in selected_entries[0].fields.keys()];"
   ]
  },
  {
   "cell_type": "code",
   "execution_count": null,
   "id": "f133eae8",
   "metadata": {},
   "outputs": [],
   "source": []
  }
 ],
 "metadata": {
  "kernelspec": {
   "display_name": "Python 3 (ipykernel)",
   "language": "python",
   "name": "python3"
  },
  "language_info": {
   "codemirror_mode": {
    "name": "ipython",
    "version": 3
   },
   "file_extension": ".py",
   "mimetype": "text/x-python",
   "name": "python",
   "nbconvert_exporter": "python",
   "pygments_lexer": "ipython3",
   "version": "3.9.7"
  }
 },
 "nbformat": 4,
 "nbformat_minor": 5
}
