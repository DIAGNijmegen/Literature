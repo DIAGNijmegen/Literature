{
 "cells": [
  {
   "cell_type": "code",
   "execution_count": 1,
   "id": "c5df60b9",
   "metadata": {},
   "outputs": [],
   "source": [
    "# !pip install pyarxiv\n",
    "# !pip install pybtex\n",
    "# !pip install dropbox\n",
    "# !pip install tqdm\n",
    "# !pip install pycolors2\n",
    "# !pip install pdf2image"
   ]
  },
  {
   "cell_type": "markdown",
   "id": "618d7d0e",
   "metadata": {},
   "source": [
    "# Libraries"
   ]
  },
  {
   "cell_type": "code",
   "execution_count": 1,
   "id": "c8fb2ae2",
   "metadata": {},
   "outputs": [],
   "source": [
    "from pathlib import Path\n",
    "from processbib import read_bibfile\n",
    "from processbib import save_to_file\n",
    "import pandas as pd\n",
    "import os"
   ]
  },
  {
   "cell_type": "markdown",
   "id": "b4227f78",
   "metadata": {},
   "source": [
    "# Imports"
   ]
  },
  {
   "cell_type": "markdown",
   "id": "be436550",
   "metadata": {},
   "source": [
    "### diag bib"
   ]
  },
  {
   "cell_type": "code",
   "execution_count": 21,
   "id": "e8650e1d",
   "metadata": {},
   "outputs": [],
   "source": [
    "path_diag_bib = os.path.join('..', 'diag.bib')\n",
    "path_output_diag_bib = os.path.join('..', 'diag_taverne.bib')"
   ]
  },
  {
   "cell_type": "code",
   "execution_count": 22,
   "id": "ac38218a",
   "metadata": {},
   "outputs": [],
   "source": [
    "diag_bib_raw = read_bibfile(None, path_diag_bib) # I changed the code in such a way that IF I give a second argument, it uses the second argument as a full path"
   ]
  },
  {
   "cell_type": "markdown",
   "id": "1516affc",
   "metadata": {},
   "source": [
    "# CSV with taverne links"
   ]
  },
  {
   "cell_type": "markdown",
   "id": "cf0e97ad",
   "metadata": {},
   "source": [
    "## Previous"
   ]
  },
  {
   "cell_type": "code",
   "execution_count": 23,
   "id": "acd93f59",
   "metadata": {},
   "outputs": [],
   "source": [
    "path_df_links = os.path.join('script_data', 'taverne_links.csv')\n",
    "df_links = pd.read_csv(path_df_links)"
   ]
  },
  {
   "cell_type": "code",
   "execution_count": 24,
   "id": "275c55a4",
   "metadata": {},
   "outputs": [],
   "source": [
    "# df_links.head()"
   ]
  },
  {
   "cell_type": "code",
   "execution_count": 25,
   "id": "89ad565c",
   "metadata": {},
   "outputs": [],
   "source": [
    "df_links_match = df_links[(df_links['same_doi'] | (~df_links['same_doi']) & (df_links['title_match_ratio']>0.9))]\n",
    "df_links_match = df_links_match[~df_links_match['url'].isna()]"
   ]
  },
  {
   "cell_type": "code",
   "execution_count": 26,
   "id": "bff75493",
   "metadata": {},
   "outputs": [
    {
     "name": "stdout",
     "output_type": "stream",
     "text": [
      "228\n"
     ]
    },
    {
     "data": {
      "text/plain": [
       "199"
      ]
     },
     "execution_count": 26,
     "metadata": {},
     "output_type": "execute_result"
    }
   ],
   "source": [
    "print(len(df_links))\n",
    "len(df_links_match)"
   ]
  },
  {
   "cell_type": "code",
   "execution_count": 27,
   "id": "caa7b479",
   "metadata": {},
   "outputs": [],
   "source": [
    "# df_links_match.head()"
   ]
  },
  {
   "cell_type": "markdown",
   "id": "ed5bb65e",
   "metadata": {},
   "source": [
    "## New \n",
    "#### test for journals from 2021 onward"
   ]
  },
  {
   "cell_type": "code",
   "execution_count": 28,
   "id": "55d6d670",
   "metadata": {},
   "outputs": [],
   "source": [
    "path_df_links_new = os.path.join('script_data', 'taverne_links_journals_2021_onwards.csv')\n",
    "df_links_new = pd.read_csv(path_df_links_new)"
   ]
  },
  {
   "cell_type": "code",
   "execution_count": 29,
   "id": "1d44cbef",
   "metadata": {},
   "outputs": [],
   "source": [
    "# df_links_new.head()"
   ]
  },
  {
   "cell_type": "code",
   "execution_count": 30,
   "id": "d7bf702d",
   "metadata": {},
   "outputs": [],
   "source": [
    "df_links_match_new = df_links_new[(df_links_new['same_doi'] | (~df_links_new['same_doi']) & (df_links_new['title_match_ratio']>0.9))]\n",
    "df_links_match_new = df_links_match_new[~df_links_match_new['url'].isna()]"
   ]
  },
  {
   "cell_type": "code",
   "execution_count": 31,
   "id": "f7255e47",
   "metadata": {},
   "outputs": [
    {
     "name": "stdout",
     "output_type": "stream",
     "text": [
      "75\n"
     ]
    },
    {
     "data": {
      "text/plain": [
       "41"
      ]
     },
     "execution_count": 31,
     "metadata": {},
     "output_type": "execute_result"
    }
   ],
   "source": [
    "print(len(df_links_new))\n",
    "len(df_links_match_new)"
   ]
  },
  {
   "cell_type": "code",
   "execution_count": 32,
   "id": "a0ba24e0",
   "metadata": {
    "scrolled": false
   },
   "outputs": [],
   "source": [
    "# df_links_match_new.head()"
   ]
  },
  {
   "cell_type": "markdown",
   "id": "aa473db6",
   "metadata": {},
   "source": [
    "### None of these new ones were in the previous ones"
   ]
  },
  {
   "cell_type": "code",
   "execution_count": 33,
   "id": "6624efa8",
   "metadata": {},
   "outputs": [
    {
     "data": {
      "text/plain": [
       "0"
      ]
     },
     "execution_count": 33,
     "metadata": {},
     "output_type": "execute_result"
    }
   ],
   "source": [
    "len([key for key in df_links_match['bibkey'] if key in df_links_match_new['bibkey']])"
   ]
  },
  {
   "cell_type": "markdown",
   "id": "fc710a92",
   "metadata": {},
   "source": [
    "# Loop \n",
    "- loop over df bibkeys and urls\n",
    "    - loop over diag bib entries\n",
    "        - match bibkeys\n",
    "        - add url to entry"
   ]
  },
  {
   "cell_type": "code",
   "execution_count": 14,
   "id": "02ea5e0f",
   "metadata": {},
   "outputs": [
    {
     "name": "stdout",
     "output_type": "stream",
     "text": [
      "added: 41\n"
     ]
    }
   ],
   "source": [
    "match_df = df_links_match_new\n",
    "\n",
    "added_count = 0\n",
    "for bibkey, url in zip(match_df['bibkey'], match_df['url']):\n",
    "    for entry in diag_bib_raw:\n",
    "        if (entry.key).lower() == bibkey:\n",
    "            entry.fields['taverne_url'] = \"{\" + url + \"}\"\n",
    "            added_count += 1\n",
    "print('added:', added_count)"
   ]
  },
  {
   "cell_type": "markdown",
   "id": "0510aeb5",
   "metadata": {},
   "source": [
    "# Save new diag_taverne.bib"
   ]
  },
  {
   "cell_type": "code",
   "execution_count": 15,
   "id": "3903bd07",
   "metadata": {},
   "outputs": [],
   "source": [
    "path_output_diag_bib = os.path.join('..', 'diag_taverne.bib')"
   ]
  },
  {
   "cell_type": "code",
   "execution_count": 16,
   "id": "9f15d12e",
   "metadata": {},
   "outputs": [],
   "source": [
    "save_to_file(diag_bib_raw, None, path_output_diag_bib)"
   ]
  },
  {
   "cell_type": "markdown",
   "id": "a97338c3",
   "metadata": {},
   "source": [
    "Note for if we want to add other fields later, we need to adjust the \"entry.to_lines()\" function as well, because it only allows a specified list of fields to be written. I now added the \"taverne_url\" field to this list. "
   ]
  }
 ],
 "metadata": {
  "kernelspec": {
   "display_name": "Python 3 (ipykernel)",
   "language": "python",
   "name": "python3"
  },
  "language_info": {
   "codemirror_mode": {
    "name": "ipython",
    "version": 3
   },
   "file_extension": ".py",
   "mimetype": "text/x-python",
   "name": "python",
   "nbconvert_exporter": "python",
   "pygments_lexer": "ipython3",
   "version": "3.9.7"
  }
 },
 "nbformat": 4,
 "nbformat_minor": 5
}
