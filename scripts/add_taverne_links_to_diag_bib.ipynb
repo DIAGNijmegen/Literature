{
 "cells": [
  {
   "cell_type": "code",
   "execution_count": 1,
   "id": "c5df60b9",
   "metadata": {},
   "outputs": [],
   "source": [
    "# !pip install pyarxiv\n",
    "# !pip install pybtex\n",
    "# !pip install dropbox\n",
    "# !pip install tqdm\n",
    "# !pip install pycolors2\n",
    "# !pip install pdf2image"
   ]
  },
  {
   "cell_type": "markdown",
   "id": "618d7d0e",
   "metadata": {},
   "source": [
    "# Libraries"
   ]
  },
  {
   "cell_type": "code",
   "execution_count": 1,
   "id": "c8fb2ae2",
   "metadata": {},
   "outputs": [],
   "source": [
    "from pathlib import Path\n",
    "from processbib import read_bibfile\n",
    "from processbib import save_to_file\n",
    "import pandas as pd\n",
    "import os"
   ]
  },
  {
   "cell_type": "markdown",
   "id": "b4227f78",
   "metadata": {},
   "source": [
    "# Imports"
   ]
  },
  {
   "cell_type": "markdown",
   "id": "be436550",
   "metadata": {},
   "source": [
    "### diag bib"
   ]
  },
  {
   "cell_type": "code",
   "execution_count": 2,
   "id": "e8650e1d",
   "metadata": {},
   "outputs": [],
   "source": [
    "path_diag_bib = os.path.join('..', 'diag.bib')\n",
    "path_output_diag_bib = os.path.join('..', 'diag_taverne.bib')"
   ]
  },
  {
   "cell_type": "code",
   "execution_count": 3,
   "id": "ac38218a",
   "metadata": {},
   "outputs": [],
   "source": [
    "diag_bib_raw = read_bibfile(None, path_diag_bib) # I changed the code in such a way that IF I give a second argument, it uses the second argument as a full path"
   ]
  },
  {
   "cell_type": "markdown",
   "id": "1516affc",
   "metadata": {},
   "source": [
    "# CSV with taverne links"
   ]
  },
  {
   "cell_type": "markdown",
   "id": "5749a3bd",
   "metadata": {},
   "source": [
    "## Previous"
   ]
  },
  {
   "cell_type": "code",
   "execution_count": 4,
   "id": "acd93f59",
   "metadata": {},
   "outputs": [],
   "source": [
    "path_df_links = os.path.join('script_data', 'taverne_links.csv')\n",
    "df_links = pd.read_csv(path_df_links)"
   ]
  },
  {
   "cell_type": "code",
   "execution_count": 5,
   "id": "b44361ff",
   "metadata": {},
   "outputs": [],
   "source": [
    "# df_links.head()"
   ]
  },
  {
   "cell_type": "code",
   "execution_count": 6,
   "id": "89ad565c",
   "metadata": {},
   "outputs": [],
   "source": [
    "df_links_match = df_links[(df_links['same_doi'] | (~df_links['same_doi']) & (df_links['title_match_ratio']>0.9))]\n",
    "df_links_match = df_links_match[~df_links_match['url'].isna()]"
   ]
  },
  {
   "cell_type": "code",
   "execution_count": 7,
   "id": "bff75493",
   "metadata": {},
   "outputs": [
    {
     "name": "stdout",
     "output_type": "stream",
     "text": [
      "228\n"
     ]
    },
    {
     "data": {
      "text/plain": [
       "199"
      ]
     },
     "execution_count": 7,
     "metadata": {},
     "output_type": "execute_result"
    }
   ],
   "source": [
    "print(len(df_links))\n",
    "len(df_links_match)"
   ]
  },
  {
   "cell_type": "code",
   "execution_count": 8,
   "id": "caa7b479",
   "metadata": {},
   "outputs": [],
   "source": [
    "# df_links_match.head()"
   ]
  },
  {
   "cell_type": "markdown",
   "id": "c9cf8968",
   "metadata": {},
   "source": [
    "## New \n",
    "#### test for journals from 2021 onward"
   ]
  },
  {
   "cell_type": "code",
   "execution_count": 9,
   "id": "08e0063a",
   "metadata": {},
   "outputs": [],
   "source": [
    "path_df_links_new = os.path.join('script_data', 'taverne_links_journals_2021_onwards.csv')\n",
    "df_links_new = pd.read_csv(path_df_links_new)"
   ]
  },
  {
   "cell_type": "code",
   "execution_count": 10,
   "id": "cabcd9da",
   "metadata": {},
   "outputs": [],
   "source": [
    "# df_links_new.head()"
   ]
  },
  {
   "cell_type": "code",
   "execution_count": 11,
   "id": "5906fb13",
   "metadata": {},
   "outputs": [],
   "source": [
    "df_links_match_new = df_links_new[(df_links_new['same_doi'] | (~df_links_new['same_doi']) & (df_links_new['title_match_ratio']>0.9))]\n",
    "df_links_match_new = df_links_match_new[~df_links_match_new['url'].isna()]"
   ]
  },
  {
   "cell_type": "code",
   "execution_count": 12,
   "id": "8ac9da7f",
   "metadata": {},
   "outputs": [
    {
     "name": "stdout",
     "output_type": "stream",
     "text": [
      "75\n"
     ]
    },
    {
     "data": {
      "text/plain": [
       "41"
      ]
     },
     "execution_count": 12,
     "metadata": {},
     "output_type": "execute_result"
    }
   ],
   "source": [
    "print(len(df_links_new))\n",
    "len(df_links_match_new)"
   ]
  },
  {
   "cell_type": "code",
   "execution_count": 13,
   "id": "625646bb",
   "metadata": {
    "scrolled": false
   },
   "outputs": [],
   "source": [
    "# df_links_match_new.head()"
   ]
  },
  {
   "cell_type": "markdown",
   "id": "f6a06592",
   "metadata": {},
   "source": [
    "### None of these new ones were in the previous ones"
   ]
  },
  {
   "cell_type": "code",
   "execution_count": 14,
   "id": "bc0801ac",
   "metadata": {},
   "outputs": [
    {
     "data": {
      "text/plain": [
       "0"
      ]
     },
     "execution_count": 14,
     "metadata": {},
     "output_type": "execute_result"
    }
   ],
   "source": [
    "len([key for key in df_links_match['bibkey'] if key in df_links_match_new['bibkey']])"
   ]
  },
  {
   "cell_type": "markdown",
   "id": "fc710a92",
   "metadata": {},
   "source": [
    "# Loop \n",
    "- loop over df bibkeys and urls\n",
    "    - loop over diag bib entries\n",
    "        - match bibkeys\n",
    "        - add url to entry"
   ]
  },
  {
   "cell_type": "code",
   "execution_count": 17,
   "id": "2134fc2f",
   "metadata": {},
   "outputs": [
    {
     "data": {
      "text/plain": [
       "199"
      ]
     },
     "execution_count": 17,
     "metadata": {},
     "output_type": "execute_result"
    }
   ],
   "source": [
    "len(df_links_match)"
   ]
  },
  {
   "cell_type": "code",
   "execution_count": 18,
   "id": "3b25aa7d",
   "metadata": {},
   "outputs": [
    {
     "data": {
      "text/html": [
       "<div>\n",
       "<style scoped>\n",
       "    .dataframe tbody tr th:only-of-type {\n",
       "        vertical-align: middle;\n",
       "    }\n",
       "\n",
       "    .dataframe tbody tr th {\n",
       "        vertical-align: top;\n",
       "    }\n",
       "\n",
       "    .dataframe thead th {\n",
       "        text-align: right;\n",
       "    }\n",
       "</style>\n",
       "<table border=\"1\" class=\"dataframe\">\n",
       "  <thead>\n",
       "    <tr style=\"text-align: right;\">\n",
       "      <th></th>\n",
       "      <th>bibkey</th>\n",
       "      <th>url</th>\n",
       "      <th>bib_title</th>\n",
       "      <th>bib_doi</th>\n",
       "      <th>match_title</th>\n",
       "      <th>match_doi</th>\n",
       "      <th>title_match_ratio</th>\n",
       "      <th>same_doi</th>\n",
       "      <th>search_string</th>\n",
       "    </tr>\n",
       "  </thead>\n",
       "  <tbody>\n",
       "    <tr>\n",
       "      <th>0</th>\n",
       "      <td>abel19</td>\n",
       "      <td>https://repository.ubn.ru.nl/handle/2066/215198</td>\n",
       "      <td>Computational pathology definitions, best prac...</td>\n",
       "      <td>https://doi.org/10.1002/path.5331</td>\n",
       "      <td>Computational pathology definitions, best prac...</td>\n",
       "      <td>https://doi.org/10.1002/path.5331</td>\n",
       "      <td>0.996678</td>\n",
       "      <td>True</td>\n",
       "      <td>Computational pathology definitions, best prac...</td>\n",
       "    </tr>\n",
       "    <tr>\n",
       "      <th>1</th>\n",
       "      <td>amga20</td>\n",
       "      <td>https://repository.ubn.ru.nl/handle/2066/220833</td>\n",
       "      <td>Report on computational assessment of Tumor In...</td>\n",
       "      <td>https://doi.org/10.1038/s41523-020-0154-2</td>\n",
       "      <td>Report on computational assessment of Tumor In...</td>\n",
       "      <td>https://doi.org/10.1038/s41523-020-0154-2</td>\n",
       "      <td>1.000000</td>\n",
       "      <td>True</td>\n",
       "      <td>Report on computational assessment of Tumor In...</td>\n",
       "    </tr>\n",
       "    <tr>\n",
       "      <th>2</th>\n",
       "      <td>apru19</td>\n",
       "      <td>https://repository.ubn.ru.nl/handle/2066/202849</td>\n",
       "      <td>Robust and accurate quantification of biomarke...</td>\n",
       "      <td>https://doi.org/10.7717/peerj.6335</td>\n",
       "      <td>Robust and accurate quantification of biomarke...</td>\n",
       "      <td>https://doi.org/10.7717/peerj.6335</td>\n",
       "      <td>1.000000</td>\n",
       "      <td>True</td>\n",
       "      <td>Robust and accurate quantification of biomarke...</td>\n",
       "    </tr>\n",
       "    <tr>\n",
       "      <th>3</th>\n",
       "      <td>ares19</td>\n",
       "      <td>https://repository.ubn.ru.nl/handle/2066/207075</td>\n",
       "      <td>iW-Net: an automatic and minimalistic interact...</td>\n",
       "      <td>https://doi.org/10.1038/s41598-019-48004-8</td>\n",
       "      <td>iW-Net: an automatic and minimalistic interact...</td>\n",
       "      <td>https://doi.org/10.1038/s41598-019-48004-8</td>\n",
       "      <td>1.000000</td>\n",
       "      <td>True</td>\n",
       "      <td>iW-Net an automatic and minimalistic interacti...</td>\n",
       "    </tr>\n",
       "    <tr>\n",
       "      <th>5</th>\n",
       "      <td>arta09</td>\n",
       "      <td>https://repository.ubn.ru.nl/handle/2066/79921</td>\n",
       "      <td>Airway segmentation and analysis for the study...</td>\n",
       "      <td>https://doi.org/10.1088/0031-9155/54/22/017</td>\n",
       "      <td>Airway segmentation and analysis for the study...</td>\n",
       "      <td>https://doi.org/10.1088/0031-9155/54/22/017</td>\n",
       "      <td>0.994652</td>\n",
       "      <td>True</td>\n",
       "      <td>Airway segmentation and analysis for the study...</td>\n",
       "    </tr>\n",
       "    <tr>\n",
       "      <th>...</th>\n",
       "      <td>...</td>\n",
       "      <td>...</td>\n",
       "      <td>...</td>\n",
       "      <td>...</td>\n",
       "      <td>...</td>\n",
       "      <td>...</td>\n",
       "      <td>...</td>\n",
       "      <td>...</td>\n",
       "      <td>...</td>\n",
       "    </tr>\n",
       "    <tr>\n",
       "      <th>54</th>\n",
       "      <td>alves22a</td>\n",
       "      <td>https://repository.ubn.ru.nl/handle/2066/247178</td>\n",
       "      <td>Fully Automatic Deep Learning Framework for Pa...</td>\n",
       "      <td>https://doi.org/https://doi.org/10.3390/cancer...</td>\n",
       "      <td>Fully Automatic Deep Learning Framework for Pa...</td>\n",
       "      <td>https://doi.org/10.3390/cancers14020376</td>\n",
       "      <td>1.000000</td>\n",
       "      <td>False</td>\n",
       "      <td>Fully Automatic Deep Learning Framework for Pa...</td>\n",
       "    </tr>\n",
       "    <tr>\n",
       "      <th>57</th>\n",
       "      <td>noot22</td>\n",
       "      <td>https://repository.ubn.ru.nl/handle/2066/252007</td>\n",
       "      <td>Knowledge distillation with ensembles of convo...</td>\n",
       "      <td>https://doi.org/10.1117/1.JMI.9.5.052407</td>\n",
       "      <td>Knowledge distillation with ensembles of convo...</td>\n",
       "      <td>https://doi.org/10.1117/1.JMI.9.5.052407</td>\n",
       "      <td>1.000000</td>\n",
       "      <td>True</td>\n",
       "      <td>Knowledge distillation with ensembles of convo...</td>\n",
       "    </tr>\n",
       "    <tr>\n",
       "      <th>59</th>\n",
       "      <td>boga22</td>\n",
       "      <td>https://repository.ubn.ru.nl/handle/2066/251830</td>\n",
       "      <td>Recommendations for diagnosing STIC: a systema...</td>\n",
       "      <td>https://doi.org/10.1007/s00428-021-03244-w</td>\n",
       "      <td>Recommendations for diagnosing STIC: a systema...</td>\n",
       "      <td>https://doi.org/10.1007/s00428-021-03244-w</td>\n",
       "      <td>1.000000</td>\n",
       "      <td>True</td>\n",
       "      <td>Recommendations for diagnosing STIC a systemat...</td>\n",
       "    </tr>\n",
       "    <tr>\n",
       "      <th>61</th>\n",
       "      <td>litj22</td>\n",
       "      <td>https://repository.ubn.ru.nl/handle/2066/252047</td>\n",
       "      <td>A Decade of GigaScience: The Challenges of Gig...</td>\n",
       "      <td>https://doi.org/10.1093/gigascience/giac056</td>\n",
       "      <td>A Decade of GigaScience: The Challenges of Gig...</td>\n",
       "      <td>https://doi.org/10.1093/gigascience/giac056</td>\n",
       "      <td>0.992806</td>\n",
       "      <td>True</td>\n",
       "      <td>A Decade of GigaScience The Challenges of Giga...</td>\n",
       "    </tr>\n",
       "    <tr>\n",
       "      <th>64</th>\n",
       "      <td>muna21</td>\n",
       "      <td>https://repository.ubn.ru.nl/handle/2066/234187</td>\n",
       "      <td>Impact of PD-L1 and PD-1 Expression on the Pro...</td>\n",
       "      <td>https://doi.org/10.3389/fimmu.2021.680973</td>\n",
       "      <td>Impact of PD-L1 and PD-1 Expression on the Pro...</td>\n",
       "      <td>https://doi.org/10.3389/fimmu.2021.680973</td>\n",
       "      <td>0.985401</td>\n",
       "      <td>True</td>\n",
       "      <td>Impact of PD-L1 and PD-1 Expression on the Pro...</td>\n",
       "    </tr>\n",
       "  </tbody>\n",
       "</table>\n",
       "<p>240 rows × 9 columns</p>\n",
       "</div>"
      ],
      "text/plain": [
       "      bibkey                                              url  \\\n",
       "0     abel19  https://repository.ubn.ru.nl/handle/2066/215198   \n",
       "1     amga20  https://repository.ubn.ru.nl/handle/2066/220833   \n",
       "2     apru19  https://repository.ubn.ru.nl/handle/2066/202849   \n",
       "3     ares19  https://repository.ubn.ru.nl/handle/2066/207075   \n",
       "5     arta09   https://repository.ubn.ru.nl/handle/2066/79921   \n",
       "..       ...                                              ...   \n",
       "54  alves22a  https://repository.ubn.ru.nl/handle/2066/247178   \n",
       "57    noot22  https://repository.ubn.ru.nl/handle/2066/252007   \n",
       "59    boga22  https://repository.ubn.ru.nl/handle/2066/251830   \n",
       "61    litj22  https://repository.ubn.ru.nl/handle/2066/252047   \n",
       "64    muna21  https://repository.ubn.ru.nl/handle/2066/234187   \n",
       "\n",
       "                                            bib_title  \\\n",
       "0   Computational pathology definitions, best prac...   \n",
       "1   Report on computational assessment of Tumor In...   \n",
       "2   Robust and accurate quantification of biomarke...   \n",
       "3   iW-Net: an automatic and minimalistic interact...   \n",
       "5   Airway segmentation and analysis for the study...   \n",
       "..                                                ...   \n",
       "54  Fully Automatic Deep Learning Framework for Pa...   \n",
       "57  Knowledge distillation with ensembles of convo...   \n",
       "59  Recommendations for diagnosing STIC: a systema...   \n",
       "61  A Decade of GigaScience: The Challenges of Gig...   \n",
       "64  Impact of PD-L1 and PD-1 Expression on the Pro...   \n",
       "\n",
       "                                              bib_doi  \\\n",
       "0                   https://doi.org/10.1002/path.5331   \n",
       "1           https://doi.org/10.1038/s41523-020-0154-2   \n",
       "2                  https://doi.org/10.7717/peerj.6335   \n",
       "3          https://doi.org/10.1038/s41598-019-48004-8   \n",
       "5         https://doi.org/10.1088/0031-9155/54/22/017   \n",
       "..                                                ...   \n",
       "54  https://doi.org/https://doi.org/10.3390/cancer...   \n",
       "57           https://doi.org/10.1117/1.JMI.9.5.052407   \n",
       "59         https://doi.org/10.1007/s00428-021-03244-w   \n",
       "61        https://doi.org/10.1093/gigascience/giac056   \n",
       "64          https://doi.org/10.3389/fimmu.2021.680973   \n",
       "\n",
       "                                          match_title  \\\n",
       "0   Computational pathology definitions, best prac...   \n",
       "1   Report on computational assessment of Tumor In...   \n",
       "2   Robust and accurate quantification of biomarke...   \n",
       "3   iW-Net: an automatic and minimalistic interact...   \n",
       "5   Airway segmentation and analysis for the study...   \n",
       "..                                                ...   \n",
       "54  Fully Automatic Deep Learning Framework for Pa...   \n",
       "57  Knowledge distillation with ensembles of convo...   \n",
       "59  Recommendations for diagnosing STIC: a systema...   \n",
       "61  A Decade of GigaScience: The Challenges of Gig...   \n",
       "64  Impact of PD-L1 and PD-1 Expression on the Pro...   \n",
       "\n",
       "                                      match_doi  title_match_ratio  same_doi  \\\n",
       "0             https://doi.org/10.1002/path.5331           0.996678      True   \n",
       "1     https://doi.org/10.1038/s41523-020-0154-2           1.000000      True   \n",
       "2            https://doi.org/10.7717/peerj.6335           1.000000      True   \n",
       "3    https://doi.org/10.1038/s41598-019-48004-8           1.000000      True   \n",
       "5   https://doi.org/10.1088/0031-9155/54/22/017           0.994652      True   \n",
       "..                                          ...                ...       ...   \n",
       "54      https://doi.org/10.3390/cancers14020376           1.000000     False   \n",
       "57     https://doi.org/10.1117/1.JMI.9.5.052407           1.000000      True   \n",
       "59   https://doi.org/10.1007/s00428-021-03244-w           1.000000      True   \n",
       "61  https://doi.org/10.1093/gigascience/giac056           0.992806      True   \n",
       "64    https://doi.org/10.3389/fimmu.2021.680973           0.985401      True   \n",
       "\n",
       "                                        search_string  \n",
       "0   Computational pathology definitions, best prac...  \n",
       "1   Report on computational assessment of Tumor In...  \n",
       "2   Robust and accurate quantification of biomarke...  \n",
       "3   iW-Net an automatic and minimalistic interacti...  \n",
       "5   Airway segmentation and analysis for the study...  \n",
       "..                                                ...  \n",
       "54  Fully Automatic Deep Learning Framework for Pa...  \n",
       "57  Knowledge distillation with ensembles of convo...  \n",
       "59  Recommendations for diagnosing STIC a systemat...  \n",
       "61  A Decade of GigaScience The Challenges of Giga...  \n",
       "64  Impact of PD-L1 and PD-1 Expression on the Pro...  \n",
       "\n",
       "[240 rows x 9 columns]"
      ]
     },
     "execution_count": 18,
     "metadata": {},
     "output_type": "execute_result"
    }
   ],
   "source": [
    "pd.concat([df_links_match, df_links_match_new])"
   ]
  },
  {
   "cell_type": "code",
   "execution_count": 16,
   "id": "02ea5e0f",
   "metadata": {},
   "outputs": [
    {
     "name": "stdout",
     "output_type": "stream",
     "text": [
      "added: 199\n"
     ]
    }
   ],
   "source": [
    "match_df = df_links_match #df_links_match_new\n",
    "\n",
    "added_count = 0\n",
    "for bibkey, url in zip(match_df['bibkey'], match_df['url']):\n",
    "    for entry in diag_bib_raw:\n",
    "        if (entry.key).lower() == bibkey:\n",
    "            entry.fields['taverne_url'] = \"{\" + url + \"}\"\n",
    "            added_count += 1\n",
    "print('added:', added_count)"
   ]
  },
  {
   "cell_type": "markdown",
   "id": "0510aeb5",
   "metadata": {},
   "source": [
    "# Save new diag_taverne.bib"
   ]
  },
  {
   "cell_type": "code",
   "execution_count": 15,
   "id": "3903bd07",
   "metadata": {},
   "outputs": [],
   "source": [
    "path_output_diag_bib = os.path.join('..', 'diag_taverne.bib')"
   ]
  },
  {
   "cell_type": "code",
   "execution_count": 16,
   "id": "9f15d12e",
   "metadata": {},
   "outputs": [],
   "source": [
    "save_to_file(diag_bib_raw, None, path_output_diag_bib)"
   ]
  },
  {
   "cell_type": "markdown",
   "id": "a97338c3",
   "metadata": {},
   "source": [
    "Note for if we want to add other fields later, we need to adjust the \"entry.to_lines()\" function as well, because it only allows a specified list of fields to be written. I now added the \"taverne_url\" field to this list. "
   ]
  }
 ],
 "metadata": {
  "kernelspec": {
   "display_name": "Python 3 (ipykernel)",
   "language": "python",
   "name": "python3"
  },
  "language_info": {
   "codemirror_mode": {
    "name": "ipython",
    "version": 3
   },
   "file_extension": ".py",
   "mimetype": "text/x-python",
   "name": "python",
   "nbconvert_exporter": "python",
   "pygments_lexer": "ipython3",
   "version": "3.9.7"
  }
 },
 "nbformat": 4,
 "nbformat_minor": 5
}
