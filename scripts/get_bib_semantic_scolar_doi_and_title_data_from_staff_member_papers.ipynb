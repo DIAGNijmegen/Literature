{
 "cells": [
  {
   "cell_type": "markdown",
   "id": "d665ab78",
   "metadata": {},
   "source": [
    "Meeting notes:\n",
    "\n",
    "##### Make diag.bib update code (notebook)\n",
    "- Compare titles of bib and semantic scholar\n",
    "- Match\n",
    "- If match:\n",
    "    - Add semantic scholar ID to diag bib\n",
    "    - Update gscites field from bib entry\n",
    "- If no match:\n",
    "    - Check best matches, if DOI and Arxiv --> chose DOI \n",
    "    - Define right fields (look at code James) + citations + semantic scolar ID \n",
    "    - Add 'automatically added' field so we can trace back automation errors more easilty\n",
    "    - Add to bib   \n",
    "    \n",
    "##### Make sript that checks ss ids and adds new ones to diag bib\n",
    "    \n",
    "    \n",
    "##### Make script that can be used by DIAG members\n",
    "- Add doi/arxiv\n",
    "- if DOI check if Arxiv exists, if so --> remove Arxiv\n",
    "- Sort right fields from DOI --> add fields\n",
    "- Search for semantic scholar ID\n",
    "- Print fields so user can check it\n",
    "- Add to bib\n",
    "- Manual commit push\n",
    "\n",
    "##### Make script that checks all semantic scholar IDs and updates gscites\n",
    "- github action overnight?\n",
    "\n",
    "##### Note: \n",
    "- requests limit, 100 requests per 5 mins for ss \n",
    "    - 100 papers at once = 1 request\n",
    "- google doc: \n",
    "    - https://docs.google.com/document/d/1uFyh5Z-wieksq_4Bf8Br7wHpN-buHECunS0VurYnlvg/edit\n"
   ]
  },
  {
   "cell_type": "markdown",
   "id": "004a794c",
   "metadata": {},
   "source": [
    "# Libraries"
   ]
  },
  {
   "cell_type": "code",
   "execution_count": 2,
   "id": "a7cba022",
   "metadata": {},
   "outputs": [],
   "source": [
    "import os\n",
    "import numpy as np\n",
    "import pandas as pd\n",
    "\n",
    "import requests\n",
    "# from bibreader import parse_bibtex_file, get_bib_blocks\n",
    "from bib_handling_code.processbib import read_bibfile\n",
    "from bib_handling_code.processbib import save_to_file\n",
    "from difflib import SequenceMatcher"
   ]
  },
  {
   "cell_type": "markdown",
   "id": "018c028b",
   "metadata": {
    "jp-MarkdownHeadingCollapsed": true,
    "tags": []
   },
   "source": [
    "# Example from url giving 100 papers from one of Bram's semantic scolar IDs"
   ]
  },
  {
   "cell_type": "code",
   "execution_count": 3,
   "id": "acf0c756",
   "metadata": {},
   "outputs": [],
   "source": [
    "staff_id = 123637526 #8038506\n",
    "staff_ids = [123637526]"
   ]
  },
  {
   "cell_type": "code",
   "execution_count": 4,
   "id": "d020fd77",
   "metadata": {},
   "outputs": [],
   "source": [
    "url=f'https://api.semanticscholar.org/graph/v1/author/{staff_id}/papers?fields=year,title,authors,externalIds,citationCount&limit=100'\n",
    "\n",
    "r = requests.get(url)\n",
    "ss_staff_data = r.json()['data']"
   ]
  },
  {
   "cell_type": "code",
   "execution_count": 5,
   "id": "37b0c858",
   "metadata": {},
   "outputs": [
    {
     "data": {
      "text/plain": [
       "{'paperId': 'c70d5169b5c69171cc2ed3ec40eebda0630988d9',\n",
       " 'externalIds': {'DOI': '10.1038/s41598-020-62148-y', 'CorpusId': 257025991},\n",
       " 'title': 'Computer aided detection of tuberculosis on chest radiographs: An evaluation of the CAD4TB v6 system',\n",
       " 'year': 2020,\n",
       " 'citationCount': 0,\n",
       " 'authors': [{'authorId': '35730362', 'name': 'K. Murphy'},\n",
       "  {'authorId': '6214077', 'name': 'S. Habib'},\n",
       "  {'authorId': '40347668', 'name': 'S. M. Zaidi'},\n",
       "  {'authorId': '39726137', 'name': 'S. Khowaja'},\n",
       "  {'authorId': '2208892980', 'name': 'Aamir Khan'},\n",
       "  {'authorId': '144861586', 'name': 'J. Melendez'},\n",
       "  {'authorId': '152867460', 'name': 'E. Scholten'},\n",
       "  {'authorId': '81054906', 'name': 'Farhan Amad'},\n",
       "  {'authorId': '3504603', 'name': 'S. Schalekamp'},\n",
       "  {'authorId': '40442474', 'name': 'Maurits Verhagen'},\n",
       "  {'authorId': '38557856', 'name': 'R. Philipsen'},\n",
       "  {'authorId': '2074941083', 'name': 'Annet Meijers'},\n",
       "  {'authorId': '123637526', 'name': 'B. van Ginneken'}]}"
      ]
     },
     "metadata": {},
     "output_type": "display_data"
    }
   ],
   "source": [
    "for i in ss_staff_data:\n",
    "    if i['paperId'] == 'c70d5169b5c69171cc2ed3ec40eebda0630988d9':\n",
    "        display(i)"
   ]
  },
  {
   "cell_type": "markdown",
   "id": "a1923b6c",
   "metadata": {
    "tags": []
   },
   "source": [
    "# Function to get data from DOI/ArXiv"
   ]
  },
  {
   "cell_type": "code",
   "execution_count": 6,
   "id": "47df078a",
   "metadata": {},
   "outputs": [],
   "source": [
    "def get_doi_csl(doi):\n",
    "    response = requests.get(\n",
    "        f\"https://doi.org/{doi}\",\n",
    "        headers={\"Accept\": \"application/vnd.citationstyles.csl+json\"},\n",
    "        timeout=5,\n",
    "    )\n",
    "    response.raise_for_status()\n",
    "    return response.json()"
   ]
  },
  {
   "cell_type": "markdown",
   "id": "e7a40e68",
   "metadata": {
    "tags": []
   },
   "source": [
    "## Example"
   ]
  },
  {
   "cell_type": "code",
   "execution_count": 7,
   "id": "f953e5bd",
   "metadata": {},
   "outputs": [
    {
     "data": {
      "text/plain": [
       "dict_keys(['type', 'id', 'categories', 'author', 'issued', 'abstract', 'DOI', 'publisher', 'title', 'URL', 'copyright', 'version'])"
      ]
     },
     "execution_count": 7,
     "metadata": {},
     "output_type": "execute_result"
    }
   ],
   "source": [
    "get_doi_csl('10.48550/arXiv.2302.01738').keys()"
   ]
  },
  {
   "cell_type": "code",
   "execution_count": 8,
   "id": "9dfb1116",
   "metadata": {},
   "outputs": [
    {
     "data": {
      "text/plain": [
       "{'DOI': '10.1016/j.rmed.2023.107126', 'CorpusId': 256381535}"
      ]
     },
     "execution_count": 8,
     "metadata": {},
     "output_type": "execute_result"
    }
   ],
   "source": [
    "ss_staff_data[2]['externalIds']"
   ]
  },
  {
   "cell_type": "code",
   "execution_count": 9,
   "id": "66e86184-76a0-4502-b7cc-653e7f79a6d0",
   "metadata": {},
   "outputs": [],
   "source": [
    "staff_id = 8038506\n",
    "url=f'https://api.semanticscholar.org/graph/v1/author/{staff_id}/papers?fields=year,title,authors,externalIds,citationCount&limit=100'\n",
    "\n",
    "r = requests.get(url)\n",
    "ss_staff_data = r.json()['data']"
   ]
  },
  {
   "cell_type": "code",
   "execution_count": 10,
   "id": "acd555d4",
   "metadata": {},
   "outputs": [],
   "source": [
    "found_dois = []"
   ]
  },
  {
   "cell_type": "code",
   "execution_count": 11,
   "id": "2ab65b19",
   "metadata": {},
   "outputs": [],
   "source": [
    "found_arxiv_doi = False\n",
    "found_regular_doi = False"
   ]
  },
  {
   "cell_type": "code",
   "execution_count": 12,
   "id": "48474f2b",
   "metadata": {},
   "outputs": [
    {
     "name": "stdout",
     "output_type": "stream",
     "text": [
      "10.48550/arXiv.2302.01790\n",
      "10.1016/j.media.2023.102755\n"
     ]
    }
   ],
   "source": [
    "#ArXiv\n",
    "for ss_staff_entry in ss_staff_data:\n",
    "    if 'DOI' in ss_staff_entry['externalIds']:\n",
    "        if 'arXiv' in ss_staff_entry['externalIds']['DOI']:\n",
    "            arxiv_doi = ss_staff_entry['externalIds']['DOI']\n",
    "            found_arxiv_doi = True\n",
    "    if found_arxiv_doi:\n",
    "        break\n",
    "#DOI\n",
    "for ss_staff_entry in ss_staff_data:\n",
    "    if 'DOI' in ss_staff_entry['externalIds']:\n",
    "        if 'arXiv' not in ss_staff_entry['externalIds']['DOI']:\n",
    "            regular_doi = ss_staff_entry['externalIds']['DOI']\n",
    "            \n",
    "            found_regular_doi = True\n",
    "    if found_regular_doi:\n",
    "        break\n",
    "\n",
    "print(arxiv_doi)\n",
    "print(regular_doi)"
   ]
  },
  {
   "cell_type": "code",
   "execution_count": 13,
   "id": "d826ea97",
   "metadata": {},
   "outputs": [],
   "source": [
    "arxiv_doi_data = get_doi_csl(arxiv_doi)\n",
    "regular_doi_data = get_doi_csl(regular_doi)"
   ]
  },
  {
   "cell_type": "code",
   "execution_count": null,
   "id": "a91d036d-86a3-49fd-a728-424adcc33bb9",
   "metadata": {},
   "outputs": [],
   "source": []
  },
  {
   "cell_type": "code",
   "execution_count": 14,
   "id": "2a798b82-3c2b-4243-9b47-dfa49542713e",
   "metadata": {},
   "outputs": [],
   "source": [
    "for ss in ss_staff_data:\n",
    "    if 'type' in ss:\n",
    "        print(ss['type'])"
   ]
  },
  {
   "cell_type": "code",
   "execution_count": null,
   "id": "44aa237e-81fe-48de-8baa-67fc58310132",
   "metadata": {},
   "outputs": [],
   "source": []
  },
  {
   "cell_type": "code",
   "execution_count": null,
   "id": "058fe383-f8e2-408c-898d-a435e1f511b5",
   "metadata": {},
   "outputs": [],
   "source": []
  },
  {
   "cell_type": "code",
   "execution_count": null,
   "id": "2fb974c3-172a-4eeb-b5af-42aba6d9138b",
   "metadata": {},
   "outputs": [],
   "source": []
  },
  {
   "cell_type": "code",
   "execution_count": 15,
   "id": "c53645b3",
   "metadata": {},
   "outputs": [
    {
     "name": "stdout",
     "output_type": "stream",
     "text": [
      "type\n",
      "id\n",
      "categories\n",
      "author\n",
      "issued\n",
      "abstract\n",
      "DOI\n",
      "publisher\n",
      "title\n",
      "URL\n",
      "copyright\n",
      "version\n"
     ]
    }
   ],
   "source": [
    "[print(key) for key in arxiv_doi_data.keys()];"
   ]
  },
  {
   "cell_type": "code",
   "execution_count": 16,
   "id": "c9edab70-db1b-47cf-b14e-b3f76e430715",
   "metadata": {},
   "outputs": [
    {
     "data": {
      "text/plain": [
       "{'type': 'article',\n",
       " 'id': 'https://doi.org/10.48550/arxiv.2302.01790',\n",
       " 'categories': ['Computer Vision and Pattern Recognition (cs.CV)',\n",
       "  'FOS: Computer and information sciences',\n",
       "  'FOS: Computer and information sciences'],\n",
       " 'author': [{'family': 'Reinke', 'given': 'Annika'},\n",
       "  {'family': 'Tizabi', 'given': 'Minu D.'},\n",
       "  {'family': 'Baumgartner', 'given': 'Michael'},\n",
       "  {'family': 'Eisenmann', 'given': 'Matthias'},\n",
       "  {'family': 'Heckmann-Nötzel', 'given': 'Doreen'},\n",
       "  {'family': 'Kavur', 'given': 'A. Emre'},\n",
       "  {'family': 'Rädsch', 'given': 'Tim'},\n",
       "  {'family': 'Sudre', 'given': 'Carole H.'},\n",
       "  {'family': 'Acion', 'given': 'Laura'},\n",
       "  {'family': 'Antonelli', 'given': 'Michela'},\n",
       "  {'family': 'Arbel', 'given': 'Tal'},\n",
       "  {'family': 'Bakas', 'given': 'Spyridon'},\n",
       "  {'family': 'Benis', 'given': 'Arriel'},\n",
       "  {'family': 'Blaschko', 'given': 'Matthew'},\n",
       "  {'family': 'Büttner', 'given': 'Florian'},\n",
       "  {'family': 'Cardoso', 'given': 'M. Jorge'},\n",
       "  {'family': 'Cheplygina', 'given': 'Veronika'},\n",
       "  {'family': 'Chen', 'given': 'Jianxu'},\n",
       "  {'family': 'Christodoulou', 'given': 'Evangelia'},\n",
       "  {'family': 'Cimini', 'given': 'Beth A.'},\n",
       "  {'family': 'Collins', 'given': 'Gary S.'},\n",
       "  {'family': 'Farahani', 'given': 'Keyvan'},\n",
       "  {'family': 'Ferrer', 'given': 'Luciana'},\n",
       "  {'family': 'Galdran', 'given': 'Adrian'},\n",
       "  {'family': 'van Ginneken', 'given': 'Bram'},\n",
       "  {'family': 'Glocker', 'given': 'Ben'},\n",
       "  {'family': 'Godau', 'given': 'Patrick'},\n",
       "  {'family': 'Haase', 'given': 'Robert'},\n",
       "  {'family': 'Hashimoto', 'given': 'Daniel A.'},\n",
       "  {'family': 'Hoffman', 'given': 'Michael M.'},\n",
       "  {'family': 'Huisman', 'given': 'Merel'},\n",
       "  {'family': 'Isensee', 'given': 'Fabian'},\n",
       "  {'family': 'Jannin', 'given': 'Pierre'},\n",
       "  {'family': 'Kahn', 'given': 'Charles E.'},\n",
       "  {'family': 'Kainmueller', 'given': 'Dagmar'},\n",
       "  {'family': 'Kainz', 'given': 'Bernhard'},\n",
       "  {'family': 'Karargyris', 'given': 'Alexandros'},\n",
       "  {'family': 'Karthikesalingam', 'given': 'Alan'},\n",
       "  {'family': 'Kenngott', 'given': 'Hannes'},\n",
       "  {'family': 'Kleesiek', 'given': 'Jens'},\n",
       "  {'family': 'Kofler', 'given': 'Florian'},\n",
       "  {'family': 'Kooi', 'given': 'Thijs'},\n",
       "  {'family': 'Kopp-Schneider', 'given': 'Annette'},\n",
       "  {'family': 'Kozubek', 'given': 'Michal'},\n",
       "  {'family': 'Kreshuk', 'given': 'Anna'},\n",
       "  {'family': 'Kurc', 'given': 'Tahsin'},\n",
       "  {'family': 'Landman', 'given': 'Bennett A.'},\n",
       "  {'family': 'Litjens', 'given': 'Geert'},\n",
       "  {'family': 'Madani', 'given': 'Amin'},\n",
       "  {'family': 'Maier-Hein', 'given': 'Klaus'},\n",
       "  {'family': 'Martel', 'given': 'Anne L.'},\n",
       "  {'family': 'Mattson', 'given': 'Peter'},\n",
       "  {'family': 'Meijering', 'given': 'Erik'},\n",
       "  {'family': 'Menze', 'given': 'Bjoern'},\n",
       "  {'family': 'Moons', 'given': 'Karel G. M.'},\n",
       "  {'family': 'Müller', 'given': 'Henning'},\n",
       "  {'family': 'Nichyporuk', 'given': 'Brennan'},\n",
       "  {'family': 'Nickel', 'given': 'Felix'},\n",
       "  {'family': 'Petersen', 'given': 'Jens'},\n",
       "  {'family': 'Rafelski', 'given': 'Susanne M.'},\n",
       "  {'family': 'Rajpoot', 'given': 'Nasir'},\n",
       "  {'family': 'Reyes', 'given': 'Mauricio'},\n",
       "  {'family': 'Riegler', 'given': 'Michael A.'},\n",
       "  {'family': 'Rieke', 'given': 'Nicola'},\n",
       "  {'family': 'Saez-Rodriguez', 'given': 'Julio'},\n",
       "  {'family': 'Sánchez', 'given': 'Clara I.'},\n",
       "  {'family': 'Shetty', 'given': 'Shravya'},\n",
       "  {'family': 'van Smeden', 'given': 'Maarten'},\n",
       "  {'family': 'Summers', 'given': 'Ronald M.'},\n",
       "  {'family': 'Taha', 'given': 'Abdel A.'},\n",
       "  {'family': 'Tiulpin', 'given': 'Aleksei'},\n",
       "  {'family': 'Tsaftaris', 'given': 'Sotirios A.'},\n",
       "  {'family': 'Van Calster', 'given': 'Ben'},\n",
       "  {'family': 'Varoquaux', 'given': 'Gaël'},\n",
       "  {'family': 'Wiesenfarth', 'given': 'Manuel'},\n",
       "  {'family': 'Yaniv', 'given': 'Ziv R.'},\n",
       "  {'family': 'Jäger', 'given': 'Paul F.'},\n",
       "  {'family': 'Maier-Hein', 'given': 'Lena'}],\n",
       " 'issued': {'date-parts': [[2023]]},\n",
       " 'abstract': 'Validation metrics are key for the reliable tracking of scientific progress and for bridging the current chasm between artificial intelligence (AI) research and its translation into practice. However, increasing evidence shows that particularly in image analysis, metrics are often chosen inadequately in relation to the underlying research problem. This could be attributed to a lack of accessibility of metric-related knowledge: While taking into account the individual strengths, weaknesses, and limitations of validation metrics is a critical prerequisite to making educated choices, the relevant knowledge is currently scattered and poorly accessible to individual researchers. Based on a multi-stage Delphi process conducted by a multidisciplinary expert consortium as well as extensive community feedback, the present work provides the first reliable and comprehensive common point of access to information on pitfalls related to validation metrics in image analysis. Focusing on biomedical image analysis but with the potential of transfer to other fields, the addressed pitfalls generalize across application domains and are categorized according to a newly created, domain-agnostic taxonomy. To facilitate comprehension, illustrations and specific examples accompany each pitfall. As a structured body of information accessible to researchers of all levels of expertise, this work enhances global comprehension of a key topic in image analysis validation.',\n",
       " 'DOI': '10.48550/ARXIV.2302.01790',\n",
       " 'publisher': 'arXiv',\n",
       " 'title': 'Understanding metric-related pitfalls in image analysis validation',\n",
       " 'URL': 'https://arxiv.org/abs/2302.01790',\n",
       " 'copyright': 'Creative Commons Attribution Non Commercial No Derivatives 4.0 International',\n",
       " 'version': '2'}"
      ]
     },
     "execution_count": 16,
     "metadata": {},
     "output_type": "execute_result"
    }
   ],
   "source": [
    "arxiv_doi_data"
   ]
  },
  {
   "cell_type": "code",
   "execution_count": 17,
   "id": "4f331e05",
   "metadata": {},
   "outputs": [
    {
     "name": "stdout",
     "output_type": "stream",
     "text": [
      "indexed\n",
      "reference-count\n",
      "publisher\n",
      "license\n",
      "content-domain\n",
      "published-print\n",
      "DOI\n",
      "type\n",
      "created\n",
      "page\n",
      "update-policy\n",
      "source\n",
      "is-referenced-by-count\n",
      "title\n",
      "prefix\n",
      "volume\n",
      "author\n",
      "member\n",
      "reference\n",
      "container-title\n",
      "original-title\n",
      "language\n",
      "link\n",
      "deposited\n",
      "score\n",
      "resource\n",
      "subtitle\n",
      "short-title\n",
      "issued\n",
      "references-count\n",
      "alternative-id\n",
      "URL\n",
      "relation\n",
      "ISSN\n",
      "subject\n",
      "container-title-short\n",
      "published\n",
      "assertion\n",
      "article-number\n"
     ]
    }
   ],
   "source": [
    "[print(key) for key in regular_doi_data.keys()];"
   ]
  },
  {
   "cell_type": "code",
   "execution_count": 18,
   "id": "c97f3272-ef74-4ae0-a4a8-9c16eedd47eb",
   "metadata": {},
   "outputs": [
    {
     "data": {
      "text/plain": [
       "{'indexed': {'date-parts': [[2023, 2, 25]],\n",
       "  'date-time': '2023-02-25T05:29:46Z',\n",
       "  'timestamp': 1677302986187},\n",
       " 'reference-count': 38,\n",
       " 'publisher': 'Elsevier BV',\n",
       " 'license': [{'start': {'date-parts': [[2023, 4, 1]],\n",
       "    'date-time': '2023-04-01T00:00:00Z',\n",
       "    'timestamp': 1680307200000},\n",
       "   'content-version': 'tdm',\n",
       "   'delay-in-days': 0,\n",
       "   'URL': 'https://www.elsevier.com/tdm/userlicense/1.0/'},\n",
       "  {'start': {'date-parts': [[2023, 2, 6]],\n",
       "    'date-time': '2023-02-06T00:00:00Z',\n",
       "    'timestamp': 1675641600000},\n",
       "   'content-version': 'vor',\n",
       "   'delay-in-days': 0,\n",
       "   'URL': 'http://creativecommons.org/licenses/by/4.0/'}],\n",
       " 'content-domain': {'domain': ['elsevier.com', 'sciencedirect.com'],\n",
       "  'crossmark-restriction': True},\n",
       " 'published-print': {'date-parts': [[2023, 4]]},\n",
       " 'DOI': '10.1016/j.media.2023.102755',\n",
       " 'type': 'journal-article',\n",
       " 'created': {'date-parts': [[2023, 1, 25]],\n",
       "  'date-time': '2023-01-25T12:21:08Z',\n",
       "  'timestamp': 1674649268000},\n",
       " 'page': '102755',\n",
       " 'update-policy': 'http://dx.doi.org/10.1016/elsevier_cm_policy',\n",
       " 'source': 'Crossref',\n",
       " 'is-referenced-by-count': 0,\n",
       " 'title': 'Continual learning strategies for cancer-independent detection of lymph node metastases',\n",
       " 'prefix': '10.1016',\n",
       " 'volume': '85',\n",
       " 'author': [{'ORCID': 'http://orcid.org/0000-0001-7622-7998',\n",
       "   'authenticated-orcid': False,\n",
       "   'given': 'Péter',\n",
       "   'family': 'Bándi',\n",
       "   'sequence': 'first',\n",
       "   'affiliation': []},\n",
       "  {'given': 'Maschenka',\n",
       "   'family': 'Balkenhol',\n",
       "   'sequence': 'additional',\n",
       "   'affiliation': []},\n",
       "  {'given': 'Marcory',\n",
       "   'family': 'van Dijk',\n",
       "   'sequence': 'additional',\n",
       "   'affiliation': []},\n",
       "  {'ORCID': 'http://orcid.org/0000-0003-4100-916X',\n",
       "   'authenticated-orcid': False,\n",
       "   'given': 'Michel',\n",
       "   'family': 'Kok',\n",
       "   'sequence': 'additional',\n",
       "   'affiliation': []},\n",
       "  {'ORCID': 'http://orcid.org/0000-0003-2028-8972',\n",
       "   'authenticated-orcid': False,\n",
       "   'given': 'Bram',\n",
       "   'family': 'van Ginneken',\n",
       "   'sequence': 'additional',\n",
       "   'affiliation': []},\n",
       "  {'ORCID': 'http://orcid.org/0000-0001-7982-0754',\n",
       "   'authenticated-orcid': False,\n",
       "   'given': 'Jeroen',\n",
       "   'family': 'van der Laak',\n",
       "   'sequence': 'additional',\n",
       "   'affiliation': []},\n",
       "  {'ORCID': 'http://orcid.org/0000-0003-1554-1291',\n",
       "   'authenticated-orcid': False,\n",
       "   'given': 'Geert',\n",
       "   'family': 'Litjens',\n",
       "   'sequence': 'additional',\n",
       "   'affiliation': []}],\n",
       " 'member': '78',\n",
       " 'reference': [{'key': '10.1016/j.media.2023.102755_b1',\n",
       "   'doi-asserted-by': 'crossref',\n",
       "   'unstructured': 'Aljundi,\\xa0R., Chakravarty,\\xa0P., Tuytelaars,\\xa0T., 2017. Expert Gate: Lifelong Learning with a Network of Experts. In: IEEE Conference on Computer Vision and Pattern Recognition, Vol. 10. CVPR, pp. 7120–7129.',\n",
       "   'DOI': '10.1109/CVPR.2017.753'},\n",
       "  {'key': '10.1016/j.media.2023.102755_b2',\n",
       "   'doi-asserted-by': 'crossref',\n",
       "   'DOI': '10.7717/peerj.8242',\n",
       "   'article-title': 'Resolution-agnostic tissue segmentation in whole-slide histopathology images with convolutional neural networks',\n",
       "   'volume': '7',\n",
       "   'author': 'Bandi',\n",
       "   'year': '2019',\n",
       "   'journal-title': 'PeerJ'},\n",
       "  {'issue': '2',\n",
       "   'key': '10.1016/j.media.2023.102755_b3',\n",
       "   'doi-asserted-by': 'crossref',\n",
       "   'first-page': '550',\n",
       "   'DOI': '10.1109/TMI.2018.2867350',\n",
       "   'article-title': 'From detection of individual metastases to classification of lymph node status at the patient level: the CAMELYON17 challenge',\n",
       "   'volume': '38',\n",
       "   'author': 'Bandi',\n",
       "   'year': '2018',\n",
       "   'journal-title': 'IEEE Trans. Med. Imaging'},\n",
       "  {'key': '10.1016/j.media.2023.102755_b4',\n",
       "   'doi-asserted-by': 'crossref',\n",
       "   'first-page': '5',\n",
       "   'DOI': '10.1023/A:1010933404324',\n",
       "   'article-title': 'Random forests',\n",
       "   'volume': '45',\n",
       "   'author': 'Breiman',\n",
       "   'year': '2001',\n",
       "   'journal-title': 'Mach. Learn.'},\n",
       "  {'key': '10.1016/j.media.2023.102755_b5',\n",
       "   'doi-asserted-by': 'crossref',\n",
       "   'article-title': 'Clinical-grade computational pathology using weakly supervised deep learning on whole slide images',\n",
       "   'author': 'Campanella',\n",
       "   'year': '2019',\n",
       "   'journal-title': 'Nat. Med.',\n",
       "   'DOI': '10.1038/s41591-019-0508-1'},\n",
       "  {'key': '10.1016/j.media.2023.102755_b6',\n",
       "   'doi-asserted-by': 'crossref',\n",
       "   'first-page': '1581',\n",
       "   'DOI': '10.1002/cncr.20934',\n",
       "   'article-title': 'Clinical outcome of patients with lymph node-negative breast carcinoma who have sentinel lymph node micrometastases detected by immunohistochemistry',\n",
       "   'volume': '103',\n",
       "   'author': 'Chagpar',\n",
       "   'year': '2005',\n",
       "   'journal-title': 'Cancer'},\n",
       "  {'key': '10.1016/j.media.2023.102755_b7',\n",
       "   'doi-asserted-by': 'crossref',\n",
       "   'first-page': 'S297',\n",
       "   'DOI': '10.1016/j.nima.2010.11.042',\n",
       "   'article-title': 'Recent developments in imaging system assessment methodology, FROC analysis and the search model',\n",
       "   'volume': '648',\n",
       "   'author': 'Chakraborty',\n",
       "   'year': '2011',\n",
       "   'journal-title': 'Nucl. Instrum. Methods Phys. Res. A'},\n",
       "  {'key': '10.1016/j.media.2023.102755_b8',\n",
       "   'series-title': 'Lifelong Machine Learning',\n",
       "   'first-page': '55',\n",
       "   'author': 'Chen',\n",
       "   'year': '2018'},\n",
       "  {'key': '10.1016/j.media.2023.102755_b9',\n",
       "   'series-title': 'Medical Image Computing and Computer-Assisted Intervention',\n",
       "   'first-page': '411',\n",
       "   'article-title': 'Mitosis detection in breast cancer histology images with deep neural networks',\n",
       "   'author': 'Cireşan',\n",
       "   'year': '2013'},\n",
       "  {'key': '10.1016/j.media.2023.102755_b10',\n",
       "   'first-page': '3366',\n",
       "   'article-title': 'A continual learning survey: Defying forgetting in classification tasks',\n",
       "   'volume': '44',\n",
       "   'author': 'De\\xa0Lange',\n",
       "   'year': '2022',\n",
       "   'journal-title': 'IEEE Trans. Pattern Anal. Mach. Intell.'},\n",
       "  {'key': '10.1016/j.media.2023.102755_b11',\n",
       "   'doi-asserted-by': 'crossref',\n",
       "   'first-page': '1471',\n",
       "   'DOI': '10.1245/s10434-010-0985-4',\n",
       "   'article-title': 'The American joint committee on cancer: The 7th edition of the AJCC cancer staging manual and the future of TNM',\n",
       "   'volume': '17',\n",
       "   'author': 'Edge',\n",
       "   'year': '2010',\n",
       "   'journal-title': 'Ann. Surg. Oncol.'},\n",
       "  {'key': '10.1016/j.media.2023.102755_b12',\n",
       "   'doi-asserted-by': 'crossref',\n",
       "   'first-page': '2199',\n",
       "   'DOI': '10.1001/jama.2017.14585',\n",
       "   'article-title': 'Diagnostic assessment of deep learning algorithms for detection of Lymph node metastases in women with breast cancer',\n",
       "   'volume': '318',\n",
       "   'author': 'Ehteshami\\xa0Bejnordi',\n",
       "   'year': '2017',\n",
       "   'journal-title': 'JAMA'},\n",
       "  {'key': '10.1016/j.media.2023.102755_b13',\n",
       "   'doi-asserted-by': 'crossref',\n",
       "   'first-page': '613',\n",
       "   'DOI': '10.1177/001316447303300309',\n",
       "   'article-title': 'The equivalence of weighted Kappa and the intraclass correlation coefficient as measures of reliability',\n",
       "   'volume': '33',\n",
       "   'author': 'Fleiss',\n",
       "   'year': '1973',\n",
       "   'journal-title': 'Educ. Psychol. Meas.'},\n",
       "  {'key': '10.1016/j.media.2023.102755_b14',\n",
       "   'doi-asserted-by': 'crossref',\n",
       "   'first-page': '128',\n",
       "   'DOI': '10.1016/S1364-6613(99)01294-2',\n",
       "   'article-title': 'Catastrophic forgetting in connectionist networks',\n",
       "   'volume': '3',\n",
       "   'author': 'French',\n",
       "   'year': '1999',\n",
       "   'journal-title': 'Trends in Cognitive Sciences'},\n",
       "  {'key': '10.1016/j.media.2023.102755_b15',\n",
       "   'series-title': 'International Conference on Computer Vision',\n",
       "   'first-page': '1026',\n",
       "   'article-title': 'Delving deep into rectifiers: Surpassing human-level performance on ImageNet classification',\n",
       "   'author': 'He',\n",
       "   'year': '2015'},\n",
       "  {'key': '10.1016/j.media.2023.102755_b16',\n",
       "   'doi-asserted-by': 'crossref',\n",
       "   'unstructured': 'Huang,\\xa0G., Liu,\\xa0Z., van\\xa0der Maaten,\\xa0L., Weinberger,\\xa0K.Q., 2017. Densely Connected Convolutional Networks. In: IEEE Conference on Computer Vision and Pattern Recognition, Vol. 10. CVPR, pp. 2261–2269.',\n",
       "   'DOI': '10.1109/CVPR.2017.243'},\n",
       "  {'key': '10.1016/j.media.2023.102755_b17',\n",
       "   'article-title': 'On quadratic penalties in elastic weight consolidation',\n",
       "   'volume': '115',\n",
       "   'author': 'Huszar',\n",
       "   'year': '2017',\n",
       "   'journal-title': 'Proc. Natl. Acad. Sci.'},\n",
       "  {'key': '10.1016/j.media.2023.102755_b18',\n",
       "   'series-title': 'Proceedings of Machine Learning Research, Vol. 37',\n",
       "   'first-page': '448',\n",
       "   'article-title': 'Batch normalization: Accelerating deep network training by reducing internal covariate shift',\n",
       "   'author': 'Ioffe',\n",
       "   'year': '2015'},\n",
       "  {'key': '10.1016/j.media.2023.102755_b19',\n",
       "   'series-title': 'Proceedings of the International Conference on Machine Learning,',\n",
       "   'article-title': 'Beyond synthetic noise: Deep learning on controlled noisy labels',\n",
       "   'author': 'Jiang',\n",
       "   'year': '2020'},\n",
       "  {'key': '10.1016/j.media.2023.102755_b20',\n",
       "   'series-title': 'Adam: A method for stochastic optimization',\n",
       "   'author': 'Kingma',\n",
       "   'year': '2014'},\n",
       "  {'key': '10.1016/j.media.2023.102755_b21',\n",
       "   'doi-asserted-by': 'crossref',\n",
       "   'DOI': '10.1073/pnas.1611835114',\n",
       "   'article-title': 'Overcoming catastrophic forgetting in neural networks',\n",
       "   'volume': '114',\n",
       "   'author': 'Kirkpatrick',\n",
       "   'year': '2017',\n",
       "   'journal-title': 'Proc. Natl. Acad. Sci.'},\n",
       "  {'key': '10.1016/j.media.2023.102755_b22',\n",
       "   'series-title': 'Lifelong learning with dynamically expandable network',\n",
       "   'author': 'Lee',\n",
       "   'year': '2017'},\n",
       "  {'key': '10.1016/j.media.2023.102755_b23',\n",
       "   'doi-asserted-by': 'crossref',\n",
       "   'first-page': '1',\n",
       "   'DOI': '10.1093/gigascience/giy065',\n",
       "   'article-title': '1399 H&E-stained sentinel lymph node sections of breast cancer patients: the CAMELYON dataset',\n",
       "   'volume': '7',\n",
       "   'author': 'Litjens',\n",
       "   'year': '2018',\n",
       "   'journal-title': 'GigaScience'},\n",
       "  {'key': '10.1016/j.media.2023.102755_b24',\n",
       "   'article-title': 'Artificial intelligence–based breast cancer nodal metastasis detection: Insights into the black box for pathologists',\n",
       "   'volume': '143',\n",
       "   'author': 'Liu',\n",
       "   'year': '2018',\n",
       "   'journal-title': 'Arch. Pathol. Lab. Med.'},\n",
       "  {'key': '10.1016/j.media.2023.102755_b25',\n",
       "   'series-title': 'Advances in Neural Information Processing Systems, Vol. 30',\n",
       "   'first-page': '6467',\n",
       "   'article-title': 'Gradient episodic memory for continuum learning',\n",
       "   'author': 'Lopez-Paz',\n",
       "   'year': '2017'},\n",
       "  {'key': '10.1016/j.media.2023.102755_b26',\n",
       "   'unstructured': 'Maas,\\xa0A.L., Hannun,\\xa0A.Y., Ng,\\xa0A.Y., 2013. Rectifier nonlinearities improve neural network acoustic models. In: ICML Workshop on Deep Learning for Audio, Speech and Language Processing.'},\n",
       "  {'key': '10.1016/j.media.2023.102755_b27',\n",
       "   'series-title': 'IEEE Conference on Computer Vision and Pattern Recognition',\n",
       "   'first-page': '7765',\n",
       "   'article-title': 'PackNet: Adding multiple tasks to a single network by iterative pruning',\n",
       "   'author': 'Mallya',\n",
       "   'year': '2018'},\n",
       "  {'key': '10.1016/j.media.2023.102755_b28',\n",
       "   'doi-asserted-by': 'crossref',\n",
       "   'first-page': '109',\n",
       "   'DOI': '10.1016/S0079-7421(08)60536-8',\n",
       "   'article-title': 'Catastrophic interference in connectionist networks: The sequential learning problem',\n",
       "   'volume': '24',\n",
       "   'author': 'McCloskey',\n",
       "   'year': '1989',\n",
       "   'journal-title': 'Psychol. Learn. Motiv.'},\n",
       "  {'key': '10.1016/j.media.2023.102755_b29',\n",
       "   'doi-asserted-by': 'crossref',\n",
       "   'first-page': '54',\n",
       "   'DOI': '10.1016/j.neunet.2019.01.012',\n",
       "   'article-title': 'Continual lifelong learning with neural networks: A review',\n",
       "   'volume': '113',\n",
       "   'author': 'Parisi',\n",
       "   'year': '2019',\n",
       "   'journal-title': 'Neural Netw.'},\n",
       "  {'key': '10.1016/j.media.2023.102755_b30',\n",
       "   'series-title': 'IEEE Conference on Computer Vision and Pattern Recognition',\n",
       "   'first-page': '5533',\n",
       "   'article-title': 'iCaRL: Incremental classifier and representation learning',\n",
       "   'author': 'Rebuffi',\n",
       "   'year': '2017'},\n",
       "  {'key': '10.1016/j.media.2023.102755_b31',\n",
       "   'doi-asserted-by': 'crossref',\n",
       "   'first-page': '333',\n",
       "   'DOI': '10.1016/j.jamcollsurg.2008.10.036',\n",
       "   'volume': '208',\n",
       "   'author': 'Reed',\n",
       "   'year': '2009',\n",
       "   'journal-title': 'J. Am. Coll. Surg.'},\n",
       "  {'key': '10.1016/j.media.2023.102755_b32',\n",
       "   'series-title': 'Progressive neural networks',\n",
       "   'author': 'Rusu',\n",
       "   'year': '2016'},\n",
       "  {'key': '10.1016/j.media.2023.102755_b33',\n",
       "   'doi-asserted-by': 'crossref',\n",
       "   'DOI': '10.1109/TPAMI.2016.2572683',\n",
       "   'article-title': 'Fully convolutional networks for semantic segmentation',\n",
       "   'volume': '39',\n",
       "   'author': 'Shelhamer',\n",
       "   'year': '2017',\n",
       "   'journal-title': 'IEEE Trans. Pattern Anal. Mach. Intell.'},\n",
       "  {'key': '10.1016/j.media.2023.102755_b34',\n",
       "   'unstructured': 'Shin,\\xa0H., Lee,\\xa0J., Kim,\\xa0J., Kim,\\xa0J., 2017. Continual Learning with Deep Generative Replay. In: Advances in Neural Information Processing Systems.Vol. 30. ISBN: 9781510860964, pp. 2990–2999.'},\n",
       "  {'key': '10.1016/j.media.2023.102755_b35',\n",
       "   'series-title': 'TNM Classification of Malignant Tumours',\n",
       "   'author': 'Sobin',\n",
       "   'year': '2011'},\n",
       "  {'key': '10.1016/j.media.2023.102755_b36',\n",
       "   'doi-asserted-by': 'crossref',\n",
       "   'DOI': '10.1016/j.media.2019.101544',\n",
       "   'article-title': 'Quantifying the effects of data augmentation and stain color normalization in convolutional neural networks for computational pathology',\n",
       "   'volume': '58',\n",
       "   'author': 'Tellez',\n",
       "   'year': '2019',\n",
       "   'journal-title': 'Med. Image Anal.'},\n",
       "  {'key': '10.1016/j.media.2023.102755_b37',\n",
       "   'series-title': 'Learning to Learn',\n",
       "   'author': 'Thrun',\n",
       "   'year': '2012'},\n",
       "  {'key': '10.1016/j.media.2023.102755_b38',\n",
       "   'unstructured': 'Zenke,\\xa0F., Poole,\\xa0B., Ganguli,\\xa0S., 2017. Continual Learning Through Synaptic Intelligence. In: Proceedings of the 34th International Conference on Machine Learning, Vol. 70. pp. 3987—3995.'}],\n",
       " 'container-title': 'Medical Image Analysis',\n",
       " 'original-title': [],\n",
       " 'language': 'en',\n",
       " 'link': [{'URL': 'https://api.elsevier.com/content/article/PII:S1361841523000166?httpAccept=text/xml',\n",
       "   'content-type': 'text/xml',\n",
       "   'content-version': 'vor',\n",
       "   'intended-application': 'text-mining'},\n",
       "  {'URL': 'https://api.elsevier.com/content/article/PII:S1361841523000166?httpAccept=text/plain',\n",
       "   'content-type': 'text/plain',\n",
       "   'content-version': 'vor',\n",
       "   'intended-application': 'text-mining'}],\n",
       " 'deposited': {'date-parts': [[2023, 2, 24]],\n",
       "  'date-time': '2023-02-24T16:57:10Z',\n",
       "  'timestamp': 1677257830000},\n",
       " 'score': 1,\n",
       " 'resource': {'primary': {'URL': 'https://linkinghub.elsevier.com/retrieve/pii/S1361841523000166'}},\n",
       " 'subtitle': [],\n",
       " 'short-title': [],\n",
       " 'issued': {'date-parts': [[2023, 4]]},\n",
       " 'references-count': 38,\n",
       " 'alternative-id': ['S1361841523000166'],\n",
       " 'URL': 'http://dx.doi.org/10.1016/j.media.2023.102755',\n",
       " 'relation': {},\n",
       " 'ISSN': ['1361-8415'],\n",
       " 'subject': ['Computer Graphics and Computer-Aided Design',\n",
       "  'Health Informatics',\n",
       "  'Computer Vision and Pattern Recognition',\n",
       "  'Radiology, Nuclear Medicine and imaging',\n",
       "  'Radiological and Ultrasound Technology'],\n",
       " 'container-title-short': 'Medical Image Analysis',\n",
       " 'published': {'date-parts': [[2023, 4]]},\n",
       " 'assertion': [{'value': 'Elsevier',\n",
       "   'name': 'publisher',\n",
       "   'label': 'This article is maintained by'},\n",
       "  {'value': 'Continual learning strategies for cancer-independent detection of lymph node metastases',\n",
       "   'name': 'articletitle',\n",
       "   'label': 'Article Title'},\n",
       "  {'value': 'Medical Image Analysis',\n",
       "   'name': 'journaltitle',\n",
       "   'label': 'Journal Title'},\n",
       "  {'value': 'https://doi.org/10.1016/j.media.2023.102755',\n",
       "   'name': 'articlelink',\n",
       "   'label': 'CrossRef DOI link to publisher maintained version'},\n",
       "  {'value': 'article', 'name': 'content_type', 'label': 'Content Type'},\n",
       "  {'value': '© 2023 The Authors. Published by Elsevier B.V.',\n",
       "   'name': 'copyright',\n",
       "   'label': 'Copyright'}],\n",
       " 'article-number': '102755'}"
      ]
     },
     "execution_count": 18,
     "metadata": {},
     "output_type": "execute_result"
    }
   ],
   "source": [
    "regular_doi_data"
   ]
  },
  {
   "cell_type": "markdown",
   "id": "7f5fb859",
   "metadata": {},
   "source": [
    "---\n",
    "---\n",
    "---\n",
    "\n",
    "#####################################\n",
    "#  FINAL\n",
    "#####################################\n",
    "\n",
    "---\n",
    "---\n",
    "---\n"
   ]
  },
  {
   "cell_type": "markdown",
   "id": "03c2a616",
   "metadata": {},
   "source": [
    "# Import diag.bib"
   ]
  },
  {
   "cell_type": "code",
   "execution_count": 19,
   "id": "d5ad8c95",
   "metadata": {},
   "outputs": [],
   "source": [
    "path_diag_bib = os.path.join('..', 'diag.bib')\n",
    "diag_bib_raw = read_bibfile(None, path_diag_bib) # I changed the code in such a way that IF I give a second argument, it uses the second argument as a full path"
   ]
  },
  {
   "cell_type": "code",
   "execution_count": 20,
   "id": "60b9b13c",
   "metadata": {
    "scrolled": true
   },
   "outputs": [
    {
     "data": {
      "text/plain": [
       "2817"
      ]
     },
     "execution_count": 20,
     "metadata": {},
     "output_type": "execute_result"
    }
   ],
   "source": [
    "len(diag_bib_raw)"
   ]
  },
  {
   "cell_type": "code",
   "execution_count": 21,
   "id": "264bf0e5",
   "metadata": {},
   "outputs": [
    {
     "data": {
      "text/plain": [
       "{'author': '{Thijssen, Linda C.P. and de Rooij, Maarten and Barentsz, Jelle O. and Huisman, Henkjan J.}',\n",
       " 'title': '{Radiomics based automated quality assessment for T2W prostate MR images}',\n",
       " 'doi': '{10.1016/j.ejrad.2023.110928}',\n",
       " 'year': '{2023}',\n",
       " 'abstract': '{Purpose: The guidelines for prostate cancer recommend the use of MRI in the prostate cancer pathway. Due to the variability in prostate MR image quality, the reliability of this technique in the detection of prostate cancer is highly variable in clinical practice. This leads to the need for an objective and automated assessment of image quality to ensure an adequate acquisition and hereby to improve the reliability of MRI. The aim of this study is to investigate the feasibility of Blind/referenceless image spatial quality evaluator (Brisque) and radiomics in automated image quality assessment of T2-weighted (T2W) images. Method: Anonymized axial T2W images from 140 patients were scored for quality using a five-point Likert scale (low, suboptimal, acceptable, good, very good quality) in consensus by two readers. Images were dichotomized into clinically acceptable (very good, good and acceptable quality images) and clinically unacceptable (low and suboptimal quality images) in order to train and verify the model. Radiomics and Brisque features were extracted from a central cuboid volume including the prostate. A reduced feature set was used to fit a Linear Discriminant Analysis (LDA) model to predict image quality. Two hundred times repeated 5-fold cross-validation was used to train the model and test performance by assessing the classification accuracy, the discrimination accuracy as receiver operating curve - area under curve (ROC-AUC), and by generating confusion matrices. Results: Thirty-four images were classified as clinically unacceptable and 106 were classified as clinically acceptable. The accuracy of the independent test set (mean ± standard deviation) was 85.4 ± 5.5%. The ROC-AUC was 0.856 (0.851 – 0.861) (mean; 95% confidence interval). Conclusions:Radiomics AI can automatically detect a significant portion of T2W images of suboptimal image quality. This can help improve image quality at the time of acquisition, thus reducing repeat scans and improving diagnostic accuracy.}',\n",
       " 'url': '{http://dx.doi.org/10.1016/j.ejrad.2023.110928}',\n",
       " 'file': '{Thij23.pdf:pdf\\\\Thij23.pdf:PDF}',\n",
       " 'optnote': '{DIAG, RADIOLOGY}',\n",
       " 'journal': '{European Journal of Radiology}',\n",
       " 'citation-count': '{0}',\n",
       " 'automatic': '{yes}'}"
      ]
     },
     "execution_count": 21,
     "metadata": {},
     "output_type": "execute_result"
    }
   ],
   "source": [
    "diag_bib_raw[-1].fields"
   ]
  },
  {
   "cell_type": "code",
   "execution_count": 30,
   "id": "56c71b88",
   "metadata": {},
   "outputs": [],
   "source": [
    "bib_data = []\n",
    "for bib_entry in diag_bib_raw:\n",
    "    bibkey = bib_entry.key\n",
    "    bib_type = bib_entry.type\n",
    "    \n",
    "    bib_authors = None\n",
    "    bib_title = None\n",
    "    bib_doi = None\n",
    "    bib_gscites = None\n",
    "    bib_journal = None\n",
    "    bib_year = None\n",
    "    \n",
    "    if 'author' in bib_entry.fields:\n",
    "        bib_authors = bib_entry.fields['author'].strip('{ }')\n",
    "    if 'title' in bib_entry.fields:\n",
    "        bib_title = bib_entry.fields['title'].strip('{ }')\n",
    "    if 'doi' in bib_entry.fields:\n",
    "        bib_doi = bib_entry.fields['doi'].strip('{ }')\n",
    "    if 'gscites' in bib_entry.fields:\n",
    "        bib_gscites = bib_entry.fields['gscites'].strip('{ }')\n",
    "    if 'journal' in bib_entry.fields:\n",
    "        bib_journal = bib_entry.fields['journal'].strip('{ }')\n",
    "    if 'year' in bib_entry.fields:\n",
    "        bib_year = bib_entry.fields['year'].strip('{ }')\n",
    "    \n",
    "    bib_data.append([bibkey, bib_type, bib_title, bib_authors, bib_doi, bib_gscites, bib_journal, bib_year])\n",
    "bib_columns = ['bibkey', 'type', 'title', 'authors', 'doi', 'gs_citations', 'journal', 'year']\n",
    "df_bib_data = pd.DataFrame(bib_data, columns=bib_columns)"
   ]
  },
  {
   "cell_type": "code",
   "execution_count": 31,
   "id": "f58abbcf",
   "metadata": {},
   "outputs": [],
   "source": [
    "df_bib_data.to_csv('script_data/temp_diag_bib_summary.csv', index=False)"
   ]
  },
  {
   "cell_type": "code",
   "execution_count": 32,
   "id": "a8bf21a6",
   "metadata": {},
   "outputs": [
    {
     "data": {
      "text/html": [
       "<div>\n",
       "<style scoped>\n",
       "    .dataframe tbody tr th:only-of-type {\n",
       "        vertical-align: middle;\n",
       "    }\n",
       "\n",
       "    .dataframe tbody tr th {\n",
       "        vertical-align: top;\n",
       "    }\n",
       "\n",
       "    .dataframe thead th {\n",
       "        text-align: right;\n",
       "    }\n",
       "</style>\n",
       "<table border=\"1\" class=\"dataframe\">\n",
       "  <thead>\n",
       "    <tr style=\"text-align: right;\">\n",
       "      <th></th>\n",
       "      <th>bibkey</th>\n",
       "      <th>type</th>\n",
       "      <th>title</th>\n",
       "      <th>authors</th>\n",
       "      <th>doi</th>\n",
       "      <th>gs_citations</th>\n",
       "      <th>journal</th>\n",
       "      <th>year</th>\n",
       "    </tr>\n",
       "  </thead>\n",
       "  <tbody>\n",
       "    <tr>\n",
       "      <th>2812</th>\n",
       "      <td>Loma23a</td>\n",
       "      <td>conference</td>\n",
       "      <td>Deep learning for multi-class cell detection i...</td>\n",
       "      <td>Robin Lomans and Jeroen van der Laak and Iris ...</td>\n",
       "      <td>None</td>\n",
       "      <td>None</td>\n",
       "      <td>None</td>\n",
       "      <td>2023</td>\n",
       "    </tr>\n",
       "    <tr>\n",
       "      <th>2813</th>\n",
       "      <td>Geur23</td>\n",
       "      <td>mastersthesis</td>\n",
       "      <td>Self-supervised Out-of-Distribution detection ...</td>\n",
       "      <td>Geurtjens, Ruben and Peeters, Dr\\'{e} and Jaco...</td>\n",
       "      <td>None</td>\n",
       "      <td>None</td>\n",
       "      <td>Master thesis</td>\n",
       "      <td>2023</td>\n",
       "    </tr>\n",
       "    <tr>\n",
       "      <th>2814</th>\n",
       "      <td>Hend23a</td>\n",
       "      <td>article</td>\n",
       "      <td>Trends in the incidence of pulmonary nodules i...</td>\n",
       "      <td>Hendrix, Ward and Rutten, Matthieu and Hendrix...</td>\n",
       "      <td>10.1007/s00330-023-09826-3</td>\n",
       "      <td>None</td>\n",
       "      <td>ER</td>\n",
       "      <td>2023</td>\n",
       "    </tr>\n",
       "    <tr>\n",
       "      <th>2815</th>\n",
       "      <td>Graa23a</td>\n",
       "      <td>article</td>\n",
       "      <td>Lumbar spine segmentation in MR images: a data...</td>\n",
       "      <td>van der Graaf, Jasper W. and van Hooff, Mirand...</td>\n",
       "      <td>None</td>\n",
       "      <td>None</td>\n",
       "      <td>arXiv:2306.12217</td>\n",
       "      <td>2023</td>\n",
       "    </tr>\n",
       "    <tr>\n",
       "      <th>2816</th>\n",
       "      <td>Thij23</td>\n",
       "      <td>article</td>\n",
       "      <td>Radiomics based automated quality assessment f...</td>\n",
       "      <td>Thijssen, Linda C.P. and de Rooij, Maarten and...</td>\n",
       "      <td>10.1016/j.ejrad.2023.110928</td>\n",
       "      <td>None</td>\n",
       "      <td>European Journal of Radiology</td>\n",
       "      <td>2023</td>\n",
       "    </tr>\n",
       "  </tbody>\n",
       "</table>\n",
       "</div>"
      ],
      "text/plain": [
       "       bibkey           type  \\\n",
       "2812  Loma23a     conference   \n",
       "2813   Geur23  mastersthesis   \n",
       "2814  Hend23a        article   \n",
       "2815  Graa23a        article   \n",
       "2816   Thij23        article   \n",
       "\n",
       "                                                  title  \\\n",
       "2812  Deep learning for multi-class cell detection i...   \n",
       "2813  Self-supervised Out-of-Distribution detection ...   \n",
       "2814  Trends in the incidence of pulmonary nodules i...   \n",
       "2815  Lumbar spine segmentation in MR images: a data...   \n",
       "2816  Radiomics based automated quality assessment f...   \n",
       "\n",
       "                                                authors  \\\n",
       "2812  Robin Lomans and Jeroen van der Laak and Iris ...   \n",
       "2813  Geurtjens, Ruben and Peeters, Dr\\'{e} and Jaco...   \n",
       "2814  Hendrix, Ward and Rutten, Matthieu and Hendrix...   \n",
       "2815  van der Graaf, Jasper W. and van Hooff, Mirand...   \n",
       "2816  Thijssen, Linda C.P. and de Rooij, Maarten and...   \n",
       "\n",
       "                              doi gs_citations                        journal  \\\n",
       "2812                         None         None                           None   \n",
       "2813                         None         None                  Master thesis   \n",
       "2814   10.1007/s00330-023-09826-3         None                             ER   \n",
       "2815                         None         None               arXiv:2306.12217   \n",
       "2816  10.1016/j.ejrad.2023.110928         None  European Journal of Radiology   \n",
       "\n",
       "      year  \n",
       "2812  2023  \n",
       "2813  2023  \n",
       "2814  2023  \n",
       "2815  2023  \n",
       "2816  2023  "
      ]
     },
     "execution_count": 32,
     "metadata": {},
     "output_type": "execute_result"
    }
   ],
   "source": [
    "df_bib_data.tail()"
   ]
  },
  {
   "cell_type": "markdown",
   "id": "f0ceb322",
   "metadata": {},
   "source": [
    "Used for title matching"
   ]
  },
  {
   "cell_type": "code",
   "execution_count": 10,
   "id": "98d19bec",
   "metadata": {},
   "outputs": [
    {
     "data": {
      "text/html": [
       "<div>\n",
       "<style scoped>\n",
       "    .dataframe tbody tr th:only-of-type {\n",
       "        vertical-align: middle;\n",
       "    }\n",
       "\n",
       "    .dataframe tbody tr th {\n",
       "        vertical-align: top;\n",
       "    }\n",
       "\n",
       "    .dataframe thead th {\n",
       "        text-align: right;\n",
       "    }\n",
       "</style>\n",
       "<table border=\"1\" class=\"dataframe\">\n",
       "  <thead>\n",
       "    <tr style=\"text-align: right;\">\n",
       "      <th></th>\n",
       "      <th>bibkey</th>\n",
       "      <th>type</th>\n",
       "      <th>title</th>\n",
       "      <th>authors</th>\n",
       "      <th>doi</th>\n",
       "      <th>gs_citations</th>\n",
       "      <th>journal</th>\n",
       "    </tr>\n",
       "  </thead>\n",
       "  <tbody>\n",
       "    <tr>\n",
       "      <th>1069</th>\n",
       "      <td>Abas05</td>\n",
       "      <td>article</td>\n",
       "      <td>Analysis of regularity in the {EEG} background...</td>\n",
       "      <td>D. Ab\\'{a}solo and R. Hornero and P. Espino an...</td>\n",
       "      <td>10.1016/j.clinph.2005.04.001</td>\n",
       "      <td>233</td>\n",
       "      <td>CLINNP</td>\n",
       "    </tr>\n",
       "    <tr>\n",
       "      <th>1070</th>\n",
       "      <td>Genu22</td>\n",
       "      <td>conference</td>\n",
       "      <td>Imaging tumor-infiltrating CD8 (+) T-cells in ...</td>\n",
       "      <td>E. A. J. van Genugten and B. Piet and G. Schre...</td>\n",
       "      <td>None</td>\n",
       "      <td>None</td>\n",
       "      <td>None</td>\n",
       "    </tr>\n",
       "    <tr>\n",
       "      <th>1071</th>\n",
       "      <td>Abas05a</td>\n",
       "      <td>inproceedings</td>\n",
       "      <td>EEG} background activity analysis in {A}lzheim...</td>\n",
       "      <td>D. Ab\\'{a}solo and C. G\\'{o}mez and J. Poza an...</td>\n",
       "      <td>None</td>\n",
       "      <td>3</td>\n",
       "      <td>None</td>\n",
       "    </tr>\n",
       "    <tr>\n",
       "      <th>1072</th>\n",
       "      <td>Abel19</td>\n",
       "      <td>article</td>\n",
       "      <td>Computational pathology definitions, best prac...</td>\n",
       "      <td>Abels, Esther and Pantanowitz, Liron and Aeffn...</td>\n",
       "      <td>10.1002/path.5331</td>\n",
       "      <td>24</td>\n",
       "      <td>JPAT</td>\n",
       "    </tr>\n",
       "    <tr>\n",
       "      <th>1073</th>\n",
       "      <td>Abra08a</td>\n",
       "      <td>article</td>\n",
       "      <td>Evaluation of a system for automatic detection...</td>\n",
       "      <td>M. D. Abr\\`amoff and M. Niemeijer and M. S. A....</td>\n",
       "      <td>10.2337/dc07-1312</td>\n",
       "      <td>287</td>\n",
       "      <td>DC</td>\n",
       "    </tr>\n",
       "  </tbody>\n",
       "</table>\n",
       "</div>"
      ],
      "text/plain": [
       "       bibkey           type  \\\n",
       "1069   Abas05        article   \n",
       "1070   Genu22     conference   \n",
       "1071  Abas05a  inproceedings   \n",
       "1072   Abel19        article   \n",
       "1073  Abra08a        article   \n",
       "\n",
       "                                                  title  \\\n",
       "1069  Analysis of regularity in the {EEG} background...   \n",
       "1070  Imaging tumor-infiltrating CD8 (+) T-cells in ...   \n",
       "1071  EEG} background activity analysis in {A}lzheim...   \n",
       "1072  Computational pathology definitions, best prac...   \n",
       "1073  Evaluation of a system for automatic detection...   \n",
       "\n",
       "                                                authors  \\\n",
       "1069  D. Ab\\'{a}solo and R. Hornero and P. Espino an...   \n",
       "1070  E. A. J. van Genugten and B. Piet and G. Schre...   \n",
       "1071  D. Ab\\'{a}solo and C. G\\'{o}mez and J. Poza an...   \n",
       "1072  Abels, Esther and Pantanowitz, Liron and Aeffn...   \n",
       "1073  M. D. Abr\\`amoff and M. Niemeijer and M. S. A....   \n",
       "\n",
       "                               doi gs_citations journal  \n",
       "1069  10.1016/j.clinph.2005.04.001          233  CLINNP  \n",
       "1070                          None         None    None  \n",
       "1071                          None            3    None  \n",
       "1072             10.1002/path.5331           24    JPAT  \n",
       "1073             10.2337/dc07-1312          287      DC  "
      ]
     },
     "execution_count": 10,
     "metadata": {},
     "output_type": "execute_result"
    }
   ],
   "source": [
    "df_bib_data_with_titles = df_bib_data[df_bib_data['title'].notna()]\n",
    "df_bib_data_with_titles.head()"
   ]
  },
  {
   "cell_type": "markdown",
   "id": "31cc6693",
   "metadata": {},
   "source": [
    "# Gather ss and bib data for all staff member IDs"
   ]
  },
  {
   "cell_type": "code",
   "execution_count": 79,
   "id": "be3cb395",
   "metadata": {},
   "outputs": [],
   "source": [
    "staff_id_dict = {'Bram van Ginneken': [8038506, 123637526],\n",
    "'Francesco Ciompi': [143613202],\n",
    "'Alessa Hering': [153744566],\n",
    "'Henjan Huisman': [34754023],\n",
    "'Colin Jacobs': [2895994],\n",
    "'Peter Koopmans': [34726383],\n",
    "'Jeroen van der Laak': [145441238, 145388932],\n",
    "'Geert Litjens': [145959882],\n",
    "'James Meakin': [4960344],\n",
    "'Keelin Murphy': [35730362],\n",
    "'Ajay Patel': [2109170880, 2116215861],\n",
    "'Cornelia Schaefer-Prokop': [1419819133, 1445069528],\n",
    "'Matthieu Rutten': [2074975080, 2156546],\n",
    "'Jos Thannhauser': [5752941],\n",
    "\"Bram Platel\" : [1798137], \n",
    "\"Nico Karssemeijer\" : [1745574], \n",
    "\"Clarisa Sanchez\" : [144085811], \n",
    "\"Nikolas Lessman\" : [2913408], \n",
    "\"Jonas Teuwen\" : [32649341], \n",
    "\"Rashindra Manniesing\" : [2657081]}"
   ]
  },
  {
   "cell_type": "code",
   "execution_count": 107,
   "id": "aaef659b-c6ed-48bd-84d1-d58eb5caa429",
   "metadata": {},
   "outputs": [],
   "source": [
    "staff_year_dict = {\n",
    "'Bram van Ginneken':  {'start' : 1996, 'end': 9999},\n",
    "'Francesco Ciompi':  {'start' : 2013, 'end': 9999},\n",
    "'Alessa Hering':  {'start' : 2018, 'end': 9999},\n",
    "'Henjan Huisman':  {'start' : 1992, 'end': 9999},\n",
    "'Colin Jacobs':  {'start' : 2010, 'end': 9999},\n",
    "'Peter Koopmans':  {'start' : 2022, 'end': 9999},\n",
    "'Jeroen van der Laak':  {'start' : 1991, 'end': 9999},\n",
    "'Geert Litjens':  {'start' : 2016, 'end': 9999},\n",
    "'James Meakin':  {'start' : 2017, 'end': 9999},\n",
    "'Keelin Murphy':  {'start' : 2018, 'end': 9999},\n",
    "'Ajay Patel':  {'start' : 2015, 'end': 9999},\n",
    "'Cornelia Schaefer-Prokop':  {'start' : 2010, 'end': 9999},\n",
    "'Matthieu Rutten':  {'start' : 2019, 'end': 9999},\n",
    "'Jos Thannhauser': {'start' : 2022, 'end': 9999},\n",
    "\"Bram Platel\" : {'start' : 2010,  'end' : 2019},\n",
    "\"Nico Karssemeijer\" : {'start' : 1989, 'end' : 2022}, \n",
    "\"Clarisa Sanchez\" : {'start' : 2008, 'end' : 2021}, \n",
    "\"Nikolas Lessman\" : {'start' : 2019, 'end' : 2022}, \n",
    "\"Jonas Teuwen\" : {'start' : 2017, 'end' : 2020}, \n",
    "\"Rashindra Manniesing\" : {'start' : 2010, 'end' : 2021}\n",
    "}"
   ]
  },
  {
   "cell_type": "code",
   "execution_count": 108,
   "id": "994131dd-d8ca-4e15-8cb1-a829afd3e6b9",
   "metadata": {},
   "outputs": [
    {
     "data": {
      "text/plain": [
       "{'Bram van Ginneken': {'ids': [8038506, 123637526],\n",
       "  'years': {'start': 1996, 'end': 9999}},\n",
       " 'Francesco Ciompi': {'ids': [143613202],\n",
       "  'years': {'start': 2013, 'end': 9999}},\n",
       " 'Alessa Hering': {'ids': [153744566], 'years': {'start': 2018, 'end': 9999}},\n",
       " 'Henjan Huisman': {'ids': [34754023], 'years': {'start': 1992, 'end': 9999}},\n",
       " 'Colin Jacobs': {'ids': [2895994], 'years': {'start': 2010, 'end': 9999}},\n",
       " 'Peter Koopmans': {'ids': [34726383], 'years': {'start': 2022, 'end': 9999}},\n",
       " 'Jeroen van der Laak': {'ids': [145441238, 145388932],\n",
       "  'years': {'start': 1991, 'end': 9999}},\n",
       " 'Geert Litjens': {'ids': [145959882], 'years': {'start': 2016, 'end': 9999}},\n",
       " 'James Meakin': {'ids': [4960344], 'years': {'start': 2017, 'end': 9999}},\n",
       " 'Keelin Murphy': {'ids': [35730362], 'years': {'start': 2018, 'end': 9999}},\n",
       " 'Ajay Patel': {'ids': [2109170880, 2116215861],\n",
       "  'years': {'start': 2015, 'end': 9999}},\n",
       " 'Cornelia Schaefer-Prokop': {'ids': [1419819133, 1445069528],\n",
       "  'years': {'start': 2010, 'end': 9999}},\n",
       " 'Matthieu Rutten': {'ids': [2074975080, 2156546],\n",
       "  'years': {'start': 2019, 'end': 9999}},\n",
       " 'Jos Thannhauser': {'ids': [5752941], 'years': {'start': 2022, 'end': 9999}},\n",
       " 'Bram Platel': {'ids': [1798137], 'years': {'start': 2010, 'end': 2019}},\n",
       " 'Nico Karssemeijer': {'ids': [1745574],\n",
       "  'years': {'start': 1989, 'end': 2022}},\n",
       " 'Clarisa Sanchez': {'ids': [144085811],\n",
       "  'years': {'start': 2008, 'end': 2021}},\n",
       " 'Nikolas Lessman': {'ids': [2913408], 'years': {'start': 2019, 'end': 2022}},\n",
       " 'Jonas Teuwen': {'ids': [32649341], 'years': {'start': 2017, 'end': 2020}},\n",
       " 'Rashindra Manniesing': {'ids': [2657081],\n",
       "  'years': {'start': 2010, 'end': 2021}}}"
      ]
     },
     "execution_count": 108,
     "metadata": {},
     "output_type": "execute_result"
    }
   ],
   "source": [
    "staff_dict = {key: {'ids': staff_id_dict[key], 'years': staff_year_dict[key]} for key in staff_id_dict}\n",
    "staff_dict"
   ]
  },
  {
   "cell_type": "code",
   "execution_count": 109,
   "id": "0952f129",
   "metadata": {},
   "outputs": [],
   "source": [
    "# staff_ids = []\n",
    "# [staff_ids.extend(values) for values in staff_dict.values()];\n",
    "# staff_ids"
   ]
  },
  {
   "cell_type": "markdown",
   "id": "84cfaf34",
   "metadata": {},
   "source": [
    "## Semantic scolar"
   ]
  },
  {
   "cell_type": "code",
   "execution_count": 110,
   "id": "09eeb6cd-0f77-4548-a7b5-f0c7f0dee86a",
   "metadata": {},
   "outputs": [
    {
     "data": {
      "text/plain": [
       "True"
      ]
     },
     "execution_count": 110,
     "metadata": {},
     "output_type": "execute_result"
    }
   ],
   "source": [
    "1 < 2 < 9999"
   ]
  },
  {
   "cell_type": "code",
   "execution_count": 112,
   "id": "3cd27297",
   "metadata": {},
   "outputs": [
    {
     "name": "stdout",
     "output_type": "stream",
     "text": [
      "[1/20]: Bram van Ginneken\n",
      "\t\t 8038506\n",
      "\t\t 123637526\n",
      "[2/20]: Francesco Ciompi\n",
      "\t\t 143613202\n",
      "[3/20]: Alessa Hering\n",
      "\t\t 153744566\n",
      "[4/20]: Henjan Huisman\n",
      "\t\t 34754023\n",
      "[5/20]: Colin Jacobs\n",
      "\t\t 2895994\n",
      "[6/20]: Peter Koopmans\n",
      "\t\t 34726383\n",
      "[7/20]: Jeroen van der Laak\n",
      "\t\t 145441238\n",
      "\t\t 145388932\n",
      "[8/20]: Geert Litjens\n",
      "\t\t 145959882\n",
      "[9/20]: James Meakin\n",
      "\t\t 4960344\n",
      "[10/20]: Keelin Murphy\n",
      "\t\t 35730362\n",
      "[11/20]: Ajay Patel\n",
      "\t\t 2109170880\n",
      "\t\t 2116215861\n",
      "[12/20]: Cornelia Schaefer-Prokop\n",
      "\t\t 1419819133\n",
      "\t\t 1445069528\n",
      "[13/20]: Matthieu Rutten\n",
      "\t\t 2074975080\n",
      "\t\t 2156546\n",
      "[14/20]: Jos Thannhauser\n",
      "\t\t 5752941\n",
      "[15/20]: Bram Platel\n",
      "\t\t 1798137\n",
      "[16/20]: Nico Karssemeijer\n",
      "\t\t 1745574\n",
      "[17/20]: Clarisa Sanchez\n",
      "\t\t 144085811\n",
      "[18/20]: Nikolas Lessman\n",
      "\t\t 2913408\n",
      "[19/20]: Jonas Teuwen\n",
      "\t\t 32649341\n",
      "[20/20]: Rashindra Manniesing\n",
      "\t\t 2657081\n",
      "DONE\n"
     ]
    }
   ],
   "source": [
    "all_staff_id_ss_data = []\n",
    "\n",
    "# get data for staff memb|er\n",
    "for idx, (staff_name, values) in enumerate(staff_dict.items()):\n",
    "    staff_ids = values['ids']\n",
    "    staff_start = values['years']['start']\n",
    "    staff_end = values['years']['end']\n",
    "    print(f'[{idx+1}/{len(staff_dict.items())}]: {staff_name}')\n",
    "    for staff_id in staff_ids:\n",
    "        print('\\t\\t', staff_id)\n",
    "        staff_id_ss_data = []\n",
    "        # get semantic scolar data\n",
    "        url=f'https://api.semanticscholar.org/graph/v1/author/{staff_id}/papers?fields=year,title,authors,externalIds,citationCount&limit=500'\n",
    "        r = requests.get(url)\n",
    "        ss_staff_data = r.json()['data']\n",
    "\n",
    "        # loop over semantic scolar data entries\n",
    "        for ss_staff_entry in ss_staff_data:\n",
    "            ss_id = None\n",
    "            ss_title = None\n",
    "            ss_doi = None\n",
    "            ss_citations = None\n",
    "\n",
    "            if 'paperId' in ss_staff_entry:\n",
    "                ss_id = ss_staff_entry['paperId']\n",
    "            if 'title' in ss_staff_entry:\n",
    "                ss_title = ss_staff_entry['title']\n",
    "            if 'DOI' in ss_staff_entry['externalIds']:\n",
    "                ss_doi = ss_staff_entry['externalIds']['DOI']\n",
    "            if 'citationCount' in ss_staff_entry:\n",
    "                ss_citations = ss_staff_entry['citationCount']\n",
    "            if 'year' in ss_staff_entry:\n",
    "                ss_year = ss_staff_entry['year']\n",
    "\n",
    "            if not staff_start <= ss_year <= staff_end:\n",
    "                # probably doesnt belong to DIAG, still captured via another staff member if also in the same paper\n",
    "                continue\n",
    "                \n",
    "            staff_id_ss_data.append([staff_id, staff_name, staff_start, staff_end, ss_year, ss_id, ss_title, ss_doi, ss_citations])\n",
    "        all_staff_id_ss_data.extend(staff_id_ss_data)    \n",
    "ss_columns = ['staff_id', 'staff_name', 'staff_from', 'staff_till', 'ss_year', 'ss_id', 'title', 'doi', 'ss_citations']\n",
    "df_all_staff_id_ss_data = pd.DataFrame(all_staff_id_ss_data, columns=ss_columns)\n",
    "print('DONE')"
   ]
  },
  {
   "cell_type": "code",
   "execution_count": 115,
   "id": "70965b9f-26a9-4941-b891-6944ddbed33c",
   "metadata": {},
   "outputs": [],
   "source": [
    "df_all_staff_id_ss_data = df_all_staff_id_ss_data.sort_values('ss_id').reset_index(drop=True)"
   ]
  },
  {
   "cell_type": "code",
   "execution_count": 116,
   "id": "4729da6a",
   "metadata": {},
   "outputs": [],
   "source": [
    "df_all_staff_id_ss_data.to_csv('script_data/temp_semantic_scholar_all_staff_id_last_500_summary.csv', index=False)"
   ]
  },
  {
   "cell_type": "markdown",
   "id": "8d1fa513",
   "metadata": {},
   "source": [
    "# Loop for matching DOIs and titles"
   ]
  },
  {
   "cell_type": "code",
   "execution_count": 117,
   "id": "496813da-2278-46a1-90f8-61dad01304e9",
   "metadata": {},
   "outputs": [],
   "source": [
    "from collections import Counter"
   ]
  },
  {
   "cell_type": "code",
   "execution_count": 126,
   "id": "57054c47",
   "metadata": {},
   "outputs": [
    {
     "name": "stdout",
     "output_type": "stream",
     "text": [
      "[MATCHING ON DOIS]\n",
      "DONE\n",
      "843\n",
      "843\n"
     ]
    }
   ],
   "source": [
    "doi_match_data = []\n",
    "match_keys_columns = ['bibkey', 'ss_id', 'all_ss_ids', 'comment']\n",
    "print('[MATCHING ON DOIS]')\n",
    "# LOOP OVER BIB\n",
    "for idx_bib, row_bib in df_bib_data.iterrows():\n",
    "    bibkey = row_bib['bibkey']\n",
    "    comment = None\n",
    "    all_ss_ids = None\n",
    "    \n",
    "    bib_doi = row_bib['doi']\n",
    "    if bib_doi == None:\n",
    "        continue\n",
    "    index = bib_doi.find('10.')\n",
    "    bib_doi = bib_doi[index:] # remove url leading to doi identifier \n",
    "    doi_matching = df_all_staff_id_ss_data['doi'].isin([bib_doi])\n",
    "    \n",
    "    if doi_matching.any():\n",
    "        matches = df_all_staff_id_ss_data[doi_matching] # could be multiple in SS, search for \"Epithelium segmentation using deep learning\" paper from Wouter Bulten... \n",
    "        if len(Counter(matches['ss_id'])) == 1:\n",
    "            comment = 'single doi match'\n",
    "            match = matches.iloc[0]\n",
    "        if len(Counter(matches['ss_id'])) > 1:\n",
    "            all_ss_ids = list(Counter(matches[\"ss_id\"]).keys())\n",
    "            comment = f'multiple doi matches {all_ss_ids}, took the first one with most citations'\n",
    "            match = matches[matches['ss_citations'] == matches['ss_citations'].max()].iloc[0]\n",
    "        ss_id = match['ss_id']\n",
    "        doi_match_data.append([bibkey, ss_id, all_ss_ids, comment])\n",
    "\n",
    "df_doi_match_data = pd.DataFrame(doi_match_data, columns = match_keys_columns)\n",
    "df_doi_match_data.to_csv('script_data/temp_doi_match_data.csv', index=False)\n",
    "print('DONE')\n",
    "print(len(df_doi_match_data['comment'].notna()))\n",
    "print(len(df_doi_match_data))"
   ]
  },
  {
   "cell_type": "code",
   "execution_count": 119,
   "id": "1273afb7-f719-4737-9fef-fcbc47d78e54",
   "metadata": {},
   "outputs": [
    {
     "data": {
      "text/plain": [
       "array([  1,   1,   1,   1,   1,   1,   1,   1,   1,   1,   1,   1,   1,\n",
       "         1,   1,   1,   1,   1,   1,   1,   1,   1,   1,   1,   1,   1,\n",
       "       817], dtype=int64)"
      ]
     },
     "execution_count": 119,
     "metadata": {},
     "output_type": "execute_result"
    }
   ],
   "source": [
    "np.unique(df_doi_match_data['comment'], return_counts=True)[1]"
   ]
  },
  {
   "cell_type": "code",
   "execution_count": 120,
   "id": "16fd8225",
   "metadata": {},
   "outputs": [],
   "source": [
    "import time"
   ]
  },
  {
   "cell_type": "code",
   "execution_count": 121,
   "id": "ca875deb-7d8e-4e8e-a85a-62e75fdfee4b",
   "metadata": {},
   "outputs": [
    {
     "data": {
      "text/plain": [
       "staff_id                                                  2657081\n",
       "ss_id                    037ef7ea290efc6ff1e61a092d0fea42f0d4d2cf\n",
       "title           Automatic SIMD Parallelization of Embedded App...\n",
       "doi                                      10.1007/3-540-44520-X_46\n",
       "ss_citations                                                   15\n",
       "ss_year                                                      2000\n",
       "Name: 2621, dtype: object"
      ]
     },
     "execution_count": 121,
     "metadata": {},
     "output_type": "execute_result"
    }
   ],
   "source": [
    "row_ss"
   ]
  },
  {
   "cell_type": "code",
   "execution_count": 122,
   "id": "e417d6d0",
   "metadata": {},
   "outputs": [
    {
     "name": "stdout",
     "output_type": "stream",
     "text": [
      "[MATCHING ON TITLES]\n",
      "[0/2174]\n",
      "[50/2174]\n",
      "[100/2174]\n",
      "[150/2174]\n",
      "[200/2174]\n",
      "[250/2174]\n",
      "[300/2174]\n",
      "[350/2174]\n",
      "[400/2174]\n",
      "[450/2174]\n",
      "[500/2174]\n",
      "[550/2174]\n",
      "[600/2174]\n",
      "[650/2174]\n",
      "[700/2174]\n",
      "[750/2174]\n",
      "[800/2174]\n",
      "[850/2174]\n",
      "[900/2174]\n",
      "[950/2174]\n",
      "[1000/2174]\n",
      "[1050/2174]\n",
      "[1100/2174]\n",
      "[1150/2174]\n",
      "[1200/2174]\n",
      "[1250/2174]\n",
      "[1300/2174]\n",
      "[1350/2174]\n",
      "[1400/2174]\n",
      "[1450/2174]\n",
      "[1500/2174]\n",
      "[1550/2174]\n",
      "[1600/2174]\n",
      "[1650/2174]\n",
      "[1700/2174]\n",
      "[1750/2174]\n",
      "[1800/2174]\n",
      "[1850/2174]\n",
      "[1900/2174]\n",
      "[1950/2174]\n",
      "[2000/2174]\n",
      "[2050/2174]\n",
      "[2100/2174]\n",
      "[2150/2174]\n",
      "DONE\n",
      "1368.3956396579742 sec\n",
      "22.806593994299572 min\n"
     ]
    }
   ],
   "source": [
    "start = time.time()\n",
    "print('[MATCHING ON TITLES]')\n",
    "title_match_data = []\n",
    "for idx_ss, row_ss in df_all_staff_id_ss_data.iterrows():\n",
    "    if idx_ss % 50 == 0:\n",
    "        print(f'[{idx_ss}/{len(df_all_staff_id_ss_data)}]')\n",
    "    \n",
    "    ss_id = row_ss['ss_id']\n",
    "    # if ss_id in df_doi_match_data['ss_id']:\n",
    "    #     continue\n",
    " \n",
    "    ss_title = row_ss['title']\n",
    "    if pd.isna(ss_title):\n",
    "        continue\n",
    "    \n",
    "    title_match_ratios = df_bib_data_with_titles['title'].apply(lambda x: SequenceMatcher(\n",
    "        a=ss_title.lower(), \n",
    "        b=x.lower().replace('{', '').replace('}', '')).ratio())\n",
    "\n",
    "    max_ratio = title_match_ratios.max()\n",
    "    max_bibkey = df_bib_data_with_titles[title_match_ratios==max_ratio]['bibkey'].iloc[0]\n",
    "    max_bib_title = df_bib_data_with_titles[title_match_ratios==max_ratio]['title'].iloc[0]\n",
    "    max_bib_title = max_bib_title.replace('{', '').replace('}', '')\n",
    "    \n",
    "    up80_bibkeys = None\n",
    "    up80_bib_titles = None\n",
    "    up80_ratios = None\n",
    "    if sum(title_match_ratios>0.8) > 1:\n",
    "        \n",
    "        up80_bibkeys = list(df_bib_data_with_titles[title_match_ratios>0.8]['bibkey'])\n",
    "        up80_bib_titles = list(df_bib_data_with_titles[title_match_ratios>0.8]['title'])\n",
    "        up80_bib_titles = [up80_bib_title.replace('{', '').replace('}', '') for up80_bib_title in up80_bib_titles]\n",
    "        up80_ratios = list(title_match_ratios[title_match_ratios>0.8])\n",
    "    \n",
    "    title_match_data.append([ss_id, ss_title, \n",
    "                             max_bibkey, max_bib_title, max_ratio, \n",
    "                             up80_bibkeys, up80_bib_titles, up80_ratios])\n",
    "\n",
    "title_matches_columns = ['ss_id', 'ss_title', \n",
    "                         'max_bibkey' , 'max_bib_title', 'max_ratio',\n",
    "                         'up80_bibkeys' , 'up80_bib_titles', 'up80_ratios',\n",
    "                        ]\n",
    "df_title_match_data = pd.DataFrame(title_match_data, columns=title_matches_columns)\n",
    "df_title_match_data.to_csv('script_data/temp_title_match_data.csv', index=False)\n",
    "print('DONE')\n",
    "end = time.time()\n",
    "sec = end-start\n",
    "print(sec, 'sec')\n",
    "print(sec/60, 'min')"
   ]
  },
  {
   "cell_type": "code",
   "execution_count": 123,
   "id": "2bcd9e0d-0c71-4542-9df8-33060de9f323",
   "metadata": {},
   "outputs": [
    {
     "ename": "ZeroDivisionError",
     "evalue": "division by zero",
     "output_type": "error",
     "traceback": [
      "\u001b[1;31m---------------------------------------------------------------------------\u001b[0m",
      "\u001b[1;31mZeroDivisionError\u001b[0m                         Traceback (most recent call last)",
      "Cell \u001b[1;32mIn[123], line 1\u001b[0m\n\u001b[1;32m----> 1\u001b[0m \u001b[38;5;241;43m1\u001b[39;49m\u001b[38;5;241;43m/\u001b[39;49m\u001b[38;5;241;43m0\u001b[39;49m\n",
      "\u001b[1;31mZeroDivisionError\u001b[0m: division by zero"
     ]
    }
   ],
   "source": [
    "1/0"
   ]
  },
  {
   "cell_type": "code",
   "execution_count": 68,
   "id": "1ca0eec5-4b4d-4f71-a11f-2314deb96241",
   "metadata": {},
   "outputs": [
    {
     "data": {
      "text/html": [
       "<div>\n",
       "<style scoped>\n",
       "    .dataframe tbody tr th:only-of-type {\n",
       "        vertical-align: middle;\n",
       "    }\n",
       "\n",
       "    .dataframe tbody tr th {\n",
       "        vertical-align: top;\n",
       "    }\n",
       "\n",
       "    .dataframe thead th {\n",
       "        text-align: right;\n",
       "    }\n",
       "</style>\n",
       "<table border=\"1\" class=\"dataframe\">\n",
       "  <thead>\n",
       "    <tr style=\"text-align: right;\">\n",
       "      <th></th>\n",
       "      <th>ss_id</th>\n",
       "      <th>ss_title</th>\n",
       "      <th>max_bibkey</th>\n",
       "      <th>max_bib_title</th>\n",
       "      <th>max_ratio</th>\n",
       "      <th>up80_bibkeys</th>\n",
       "      <th>up80_bib_titles</th>\n",
       "      <th>up80_ratios</th>\n",
       "    </tr>\n",
       "  </thead>\n",
       "  <tbody>\n",
       "    <tr>\n",
       "      <th>0</th>\n",
       "      <td>1898998f27ce0750a42f8f3ca2ed7e292f05aee2</td>\n",
       "      <td>Understanding metric-related pitfalls in image...</td>\n",
       "      <td>Rein23</td>\n",
       "      <td>Understanding metric-related pitfalls in image...</td>\n",
       "      <td>1.000000</td>\n",
       "      <td>None</td>\n",
       "      <td>None</td>\n",
       "      <td>None</td>\n",
       "    </tr>\n",
       "    <tr>\n",
       "      <th>1</th>\n",
       "      <td>362c510dec0d566d22d5be3af0519fc7eec8bb86</td>\n",
       "      <td>Uncertainty-Aware Multiple-Instance Learning f...</td>\n",
       "      <td>Venh19</td>\n",
       "      <td>Machine Learning for Quantification of Age-Rel...</td>\n",
       "      <td>0.569038</td>\n",
       "      <td>None</td>\n",
       "      <td>None</td>\n",
       "      <td>None</td>\n",
       "    </tr>\n",
       "    <tr>\n",
       "      <th>2</th>\n",
       "      <td>4bcd672218ecec70473c84f6f1cc52c64031f3e5</td>\n",
       "      <td>Continual learning strategies for cancer-indep...</td>\n",
       "      <td>Band23</td>\n",
       "      <td>Continual learning strategies for cancer-indep...</td>\n",
       "      <td>1.000000</td>\n",
       "      <td>None</td>\n",
       "      <td>None</td>\n",
       "      <td>None</td>\n",
       "    </tr>\n",
       "    <tr>\n",
       "      <th>3</th>\n",
       "      <td>7981606bf8110ec6cc64baa22d694096f7862939</td>\n",
       "      <td>AIROGS: Artificial Intelligence for RObust Gla...</td>\n",
       "      <td>Thee20</td>\n",
       "      <td>Artificial intelligence for eye care</td>\n",
       "      <td>0.598131</td>\n",
       "      <td>None</td>\n",
       "      <td>None</td>\n",
       "      <td>None</td>\n",
       "    </tr>\n",
       "    <tr>\n",
       "      <th>4</th>\n",
       "      <td>e738d94746b0f33b1c48737022ab186618d4d4cd</td>\n",
       "      <td>SimpleRad: Patient-Friendly Dutch Radiology Re...</td>\n",
       "      <td>Ramo12</td>\n",
       "      <td>Supervised Content Based Image Retrieval Using...</td>\n",
       "      <td>0.556522</td>\n",
       "      <td>None</td>\n",
       "      <td>None</td>\n",
       "      <td>None</td>\n",
       "    </tr>\n",
       "    <tr>\n",
       "      <th>...</th>\n",
       "      <td>...</td>\n",
       "      <td>...</td>\n",
       "      <td>...</td>\n",
       "      <td>...</td>\n",
       "      <td>...</td>\n",
       "      <td>...</td>\n",
       "      <td>...</td>\n",
       "      <td>...</td>\n",
       "    </tr>\n",
       "    <tr>\n",
       "      <th>2617</th>\n",
       "      <td>c571f0f9e349c1a91c14a1c8369cc4ba26f105cc</td>\n",
       "      <td>Multiscale Vessel Enhancing Diffusion in CT An...</td>\n",
       "      <td>Mann05a</td>\n",
       "      <td>Multiscale vessel enhancing diffusion in CT an...</td>\n",
       "      <td>1.000000</td>\n",
       "      <td>None</td>\n",
       "      <td>None</td>\n",
       "      <td>None</td>\n",
       "    </tr>\n",
       "    <tr>\n",
       "      <th>2618</th>\n",
       "      <td>398c8bd06323a78750e2c10a479adea5c7955d19</td>\n",
       "      <td>Local Speed Functions in Level Set Based Vesse...</td>\n",
       "      <td>Mann04a</td>\n",
       "      <td>Local Speed Functions in Level Set Based Vesse...</td>\n",
       "      <td>1.000000</td>\n",
       "      <td>None</td>\n",
       "      <td>None</td>\n",
       "      <td>None</td>\n",
       "    </tr>\n",
       "    <tr>\n",
       "      <th>2619</th>\n",
       "      <td>92ca910411afa5d38677cdc432824e0f8934798e</td>\n",
       "      <td>Power Analysis of a General Convolution Algori...</td>\n",
       "      <td>Mann04</td>\n",
       "      <td>Power analysis of a general convolution algori...</td>\n",
       "      <td>1.000000</td>\n",
       "      <td>[Mann04, Mann99a]</td>\n",
       "      <td>[Power analysis of a general convolution algor...</td>\n",
       "      <td>[1.0, 1.0]</td>\n",
       "    </tr>\n",
       "    <tr>\n",
       "      <th>2620</th>\n",
       "      <td>fc919b984dbe2ecf931b21d8b94ff7ac845d3c7f</td>\n",
       "      <td>Skeletonization for reinitialization in level-...</td>\n",
       "      <td>Mann04b</td>\n",
       "      <td>Skeletonization for re-initialization in level...</td>\n",
       "      <td>0.981818</td>\n",
       "      <td>None</td>\n",
       "      <td>None</td>\n",
       "      <td>None</td>\n",
       "    </tr>\n",
       "    <tr>\n",
       "      <th>2621</th>\n",
       "      <td>037ef7ea290efc6ff1e61a092d0fea42f0d4d2cf</td>\n",
       "      <td>Automatic SIMD Parallelization of Embedded App...</td>\n",
       "      <td>Mann00</td>\n",
       "      <td>Automatic SIMD Parallelization of Embedded App...</td>\n",
       "      <td>1.000000</td>\n",
       "      <td>None</td>\n",
       "      <td>None</td>\n",
       "      <td>None</td>\n",
       "    </tr>\n",
       "  </tbody>\n",
       "</table>\n",
       "<p>2622 rows × 8 columns</p>\n",
       "</div>"
      ],
      "text/plain": [
       "                                         ss_id  \\\n",
       "0     1898998f27ce0750a42f8f3ca2ed7e292f05aee2   \n",
       "1     362c510dec0d566d22d5be3af0519fc7eec8bb86   \n",
       "2     4bcd672218ecec70473c84f6f1cc52c64031f3e5   \n",
       "3     7981606bf8110ec6cc64baa22d694096f7862939   \n",
       "4     e738d94746b0f33b1c48737022ab186618d4d4cd   \n",
       "...                                        ...   \n",
       "2617  c571f0f9e349c1a91c14a1c8369cc4ba26f105cc   \n",
       "2618  398c8bd06323a78750e2c10a479adea5c7955d19   \n",
       "2619  92ca910411afa5d38677cdc432824e0f8934798e   \n",
       "2620  fc919b984dbe2ecf931b21d8b94ff7ac845d3c7f   \n",
       "2621  037ef7ea290efc6ff1e61a092d0fea42f0d4d2cf   \n",
       "\n",
       "                                               ss_title max_bibkey  \\\n",
       "0     Understanding metric-related pitfalls in image...     Rein23   \n",
       "1     Uncertainty-Aware Multiple-Instance Learning f...     Venh19   \n",
       "2     Continual learning strategies for cancer-indep...     Band23   \n",
       "3     AIROGS: Artificial Intelligence for RObust Gla...     Thee20   \n",
       "4     SimpleRad: Patient-Friendly Dutch Radiology Re...     Ramo12   \n",
       "...                                                 ...        ...   \n",
       "2617  Multiscale Vessel Enhancing Diffusion in CT An...    Mann05a   \n",
       "2618  Local Speed Functions in Level Set Based Vesse...    Mann04a   \n",
       "2619  Power Analysis of a General Convolution Algori...     Mann04   \n",
       "2620  Skeletonization for reinitialization in level-...    Mann04b   \n",
       "2621  Automatic SIMD Parallelization of Embedded App...     Mann00   \n",
       "\n",
       "                                          max_bib_title  max_ratio  \\\n",
       "0     Understanding metric-related pitfalls in image...   1.000000   \n",
       "1     Machine Learning for Quantification of Age-Rel...   0.569038   \n",
       "2     Continual learning strategies for cancer-indep...   1.000000   \n",
       "3                  Artificial intelligence for eye care   0.598131   \n",
       "4     Supervised Content Based Image Retrieval Using...   0.556522   \n",
       "...                                                 ...        ...   \n",
       "2617  Multiscale vessel enhancing diffusion in CT an...   1.000000   \n",
       "2618  Local Speed Functions in Level Set Based Vesse...   1.000000   \n",
       "2619  Power analysis of a general convolution algori...   1.000000   \n",
       "2620  Skeletonization for re-initialization in level...   0.981818   \n",
       "2621  Automatic SIMD Parallelization of Embedded App...   1.000000   \n",
       "\n",
       "           up80_bibkeys                                    up80_bib_titles  \\\n",
       "0                  None                                               None   \n",
       "1                  None                                               None   \n",
       "2                  None                                               None   \n",
       "3                  None                                               None   \n",
       "4                  None                                               None   \n",
       "...                 ...                                                ...   \n",
       "2617               None                                               None   \n",
       "2618               None                                               None   \n",
       "2619  [Mann04, Mann99a]  [Power analysis of a general convolution algor...   \n",
       "2620               None                                               None   \n",
       "2621               None                                               None   \n",
       "\n",
       "     up80_ratios  \n",
       "0           None  \n",
       "1           None  \n",
       "2           None  \n",
       "3           None  \n",
       "4           None  \n",
       "...          ...  \n",
       "2617        None  \n",
       "2618        None  \n",
       "2619  [1.0, 1.0]  \n",
       "2620        None  \n",
       "2621        None  \n",
       "\n",
       "[2622 rows x 8 columns]"
      ]
     },
     "execution_count": 68,
     "metadata": {},
     "output_type": "execute_result"
    }
   ],
   "source": [
    "df_title_match_data"
   ]
  },
  {
   "cell_type": "code",
   "execution_count": 56,
   "id": "4428bd2c",
   "metadata": {},
   "outputs": [
    {
     "data": {
      "text/plain": [
       "['037ef7ea290efc6ff1e61a092d0fea42f0d4d2cf',\n",
       " 'Automatic SIMD Parallelization of Embedded Applications Based on Pattern Recognition',\n",
       " 'Mann00',\n",
       " 'Automatic SIMD Parallelization of Embedded Applications Based on Pattern Recognition',\n",
       " 1.0,\n",
       " None,\n",
       " None,\n",
       " None]"
      ]
     },
     "execution_count": 56,
     "metadata": {},
     "output_type": "execute_result"
    }
   ],
   "source": [
    "[ss_id, ss_title, max_bibkey, max_bib_title, max_ratio, up80_bibkeys, up80_bib_titles, up80_ratios]"
   ]
  },
  {
   "cell_type": "code",
   "execution_count": 57,
   "id": "d09a803b",
   "metadata": {},
   "outputs": [
    {
     "data": {
      "text/plain": [
       "bibkey                                                   Alves22a\n",
       "type                                                      article\n",
       "title           Fully Automatic Deep Learning Framework for Pa...\n",
       "authors         Alves, Nat\\'{a}lia and Schuurmans, Megan and L...\n",
       "doi                       https://doi.org/10.3390/cancers14020376\n",
       "gs_citations                                                 None\n",
       "journal                                                   Cancers\n",
       "Name: 1086, dtype: object"
      ]
     },
     "execution_count": 57,
     "metadata": {},
     "output_type": "execute_result"
    }
   ],
   "source": [
    "df_bib_data.iloc[1086]"
   ]
  },
  {
   "cell_type": "code",
   "execution_count": 58,
   "id": "16aaf6e0",
   "metadata": {},
   "outputs": [
    {
     "data": {
      "text/plain": [
       "bibkey                                                   Alves22b\n",
       "type                                                   conference\n",
       "title           Towards Safe Clinical Use of Artificial Intell...\n",
       "authors         Alves, Nat\\'{a}lia and Bosma, Joeran and Huism...\n",
       "doi                                                          None\n",
       "gs_citations                                                 None\n",
       "journal                                                      None\n",
       "Name: 1087, dtype: object"
      ]
     },
     "execution_count": 58,
     "metadata": {},
     "output_type": "execute_result"
    }
   ],
   "source": [
    "df_bib_data.iloc[1087]"
   ]
  },
  {
   "cell_type": "code",
   "execution_count": null,
   "id": "9ef16954",
   "metadata": {},
   "outputs": [],
   "source": []
  },
  {
   "cell_type": "code",
   "execution_count": null,
   "id": "e132282d",
   "metadata": {},
   "outputs": [],
   "source": []
  },
  {
   "cell_type": "code",
   "execution_count": null,
   "id": "86b54aae",
   "metadata": {},
   "outputs": [],
   "source": []
  },
  {
   "cell_type": "code",
   "execution_count": null,
   "id": "ab77afa5",
   "metadata": {},
   "outputs": [],
   "source": []
  },
  {
   "cell_type": "code",
   "execution_count": null,
   "id": "d5e3c053",
   "metadata": {},
   "outputs": [],
   "source": []
  },
  {
   "cell_type": "code",
   "execution_count": 59,
   "id": "4bc6850c",
   "metadata": {},
   "outputs": [],
   "source": [
    "max_ratio = title_match_ratios.max()\n",
    "max_bibkey = df_bib_data_with_titles[title_match_ratios==max_ratio]['bibkey'].iloc[0]\n",
    "max_bib_title = df_bib_data_with_titles[title_match_ratios==max_ratio]['title'].iloc[0]\n",
    "max_bib_title = max_bib_title.replace('{', '').replace('}', '')\n",
    "\n",
    "\n",
    "up80_bibkeys = None\n",
    "un80_bib_titles = None\n"
   ]
  },
  {
   "cell_type": "code",
   "execution_count": 60,
   "id": "0e9ce507",
   "metadata": {},
   "outputs": [
    {
     "data": {
      "text/plain": [
       "['037ef7ea290efc6ff1e61a092d0fea42f0d4d2cf',\n",
       " 'Geur23',\n",
       " 1.0,\n",
       " 'Self-supervised Out-of-Distribution detection for medicalimaging',\n",
       " 'Automatic SIMD Parallelization of Embedded Applications Based on Pattern Recognition']"
      ]
     },
     "execution_count": 60,
     "metadata": {},
     "output_type": "execute_result"
    }
   ],
   "source": [
    "[ss_id, bibkey, max_ratio, bib_title, ss_title]"
   ]
  },
  {
   "cell_type": "code",
   "execution_count": null,
   "id": "7645cbf8",
   "metadata": {},
   "outputs": [],
   "source": []
  },
  {
   "cell_type": "code",
   "execution_count": 61,
   "id": "ebd3f160",
   "metadata": {},
   "outputs": [
    {
     "data": {
      "text/plain": [
       "1979    Mann00\n",
       "Name: bibkey, dtype: object"
      ]
     },
     "execution_count": 61,
     "metadata": {},
     "output_type": "execute_result"
    }
   ],
   "source": [
    "df_bib_data_with_titles[title_match_ratios==max_ratio]['bibkey']"
   ]
  },
  {
   "cell_type": "code",
   "execution_count": 62,
   "id": "27620ff3",
   "metadata": {},
   "outputs": [
    {
     "data": {
      "text/plain": [
       "'Self-supervised Out-of-Distribution detection for medicalimaging'"
      ]
     },
     "execution_count": 62,
     "metadata": {},
     "output_type": "execute_result"
    }
   ],
   "source": [
    "bib_title"
   ]
  },
  {
   "cell_type": "code",
   "execution_count": 63,
   "id": "915f22fc",
   "metadata": {},
   "outputs": [
    {
     "data": {
      "text/plain": [
       "0.5"
      ]
     },
     "execution_count": 63,
     "metadata": {},
     "output_type": "execute_result"
    }
   ],
   "source": [
    "SequenceMatcher(a='AAaa', b=\"aaaa\").ratio()"
   ]
  },
  {
   "cell_type": "code",
   "execution_count": 65,
   "id": "12b8acc2",
   "metadata": {},
   "outputs": [],
   "source": [
    "# df_title_matches[df_title_matches['max_ratio']<=0.8].sort_values('max_ratio')"
   ]
  },
  {
   "cell_type": "code",
   "execution_count": 66,
   "id": "3f7ab020",
   "metadata": {},
   "outputs": [
    {
     "ename": "NameError",
     "evalue": "name 'df_title_matches' is not defined",
     "output_type": "error",
     "traceback": [
      "\u001b[1;31m---------------------------------------------------------------------------\u001b[0m",
      "\u001b[1;31mNameError\u001b[0m                                 Traceback (most recent call last)",
      "Cell \u001b[1;32mIn[66], line 1\u001b[0m\n\u001b[1;32m----> 1\u001b[0m \u001b[43mdf_title_matches\u001b[49m[df_title_matches[\u001b[38;5;124m'\u001b[39m\u001b[38;5;124mmax_ratio\u001b[39m\u001b[38;5;124m'\u001b[39m]\u001b[38;5;241m>\u001b[39m\u001b[38;5;241m0.8\u001b[39m]\n",
      "\u001b[1;31mNameError\u001b[0m: name 'df_title_matches' is not defined"
     ]
    }
   ],
   "source": [
    "df_title_matches[df_title_matches['max_ratio']>0.8]"
   ]
  },
  {
   "cell_type": "code",
   "execution_count": null,
   "id": "a234018f",
   "metadata": {},
   "outputs": [],
   "source": [
    "df_bib_data[title_match_ratios==max_ratio]"
   ]
  },
  {
   "cell_type": "code",
   "execution_count": null,
   "id": "a60cb5ed",
   "metadata": {},
   "outputs": [],
   "source": [
    "row_ss"
   ]
  },
  {
   "cell_type": "code",
   "execution_count": null,
   "id": "80a53778",
   "metadata": {
    "scrolled": true
   },
   "outputs": [],
   "source": [
    "df_bib_data[df_bib_data['title'].notna()]"
   ]
  },
  {
   "cell_type": "code",
   "execution_count": null,
   "id": "61ee3f7d",
   "metadata": {},
   "outputs": [],
   "source": [
    "len(df_match_keys)"
   ]
  },
  {
   "cell_type": "code",
   "execution_count": null,
   "id": "b141c551",
   "metadata": {},
   "outputs": [],
   "source": [
    "df_title_matches"
   ]
  },
  {
   "cell_type": "code",
   "execution_count": null,
   "id": "c788cb89",
   "metadata": {},
   "outputs": [],
   "source": [
    "# df_match_keys"
   ]
  },
  {
   "cell_type": "code",
   "execution_count": null,
   "id": "870da209",
   "metadata": {},
   "outputs": [],
   "source": []
  },
  {
   "cell_type": "code",
   "execution_count": null,
   "id": "f3e06592",
   "metadata": {},
   "outputs": [],
   "source": [
    "'Anto22' in df_match_keys['bibkey']"
   ]
  },
  {
   "cell_type": "code",
   "execution_count": null,
   "id": "3b77ac88",
   "metadata": {},
   "outputs": [],
   "source": [
    "df_staff_id_ss_data[doi_matching]['ss_citations'].max()"
   ]
  },
  {
   "cell_type": "code",
   "execution_count": null,
   "id": "3d8fe36b",
   "metadata": {},
   "outputs": [],
   "source": [
    "df_staff_id_ss_data[doi_matching][df_staff_id_ss_data[doi_matching]['ss_citations'] == df_staff_id_ss_data[doi_matching]['ss_citations'].max()].iloc[0]"
   ]
  },
  {
   "cell_type": "code",
   "execution_count": null,
   "id": "eb0ef91e",
   "metadata": {},
   "outputs": [],
   "source": [
    "df_staff_id_ss_data['doi']"
   ]
  },
  {
   "cell_type": "code",
   "execution_count": null,
   "id": "09bef712",
   "metadata": {},
   "outputs": [],
   "source": [
    "df_staff_id_ss_data[doi_matching]['ss_id'].item()"
   ]
  },
  {
   "cell_type": "code",
   "execution_count": null,
   "id": "9afce941",
   "metadata": {},
   "outputs": [],
   "source": [
    "row_bib"
   ]
  },
  {
   "cell_type": "code",
   "execution_count": null,
   "id": "fa00c73f",
   "metadata": {},
   "outputs": [],
   "source": [
    "row_ss['title']"
   ]
  },
  {
   "cell_type": "code",
   "execution_count": null,
   "id": "2900d2bb",
   "metadata": {},
   "outputs": [],
   "source": []
  },
  {
   "cell_type": "code",
   "execution_count": null,
   "id": "78be3865",
   "metadata": {},
   "outputs": [],
   "source": [
    "df_staff_id_ss_data['doi'].isin([row_bib['doi']]).any()"
   ]
  },
  {
   "cell_type": "code",
   "execution_count": null,
   "id": "62dba8c5",
   "metadata": {},
   "outputs": [],
   "source": [
    "pd.isin(row_bib['doi'], df_staff_id_ss_data['doi'])"
   ]
  },
  {
   "cell_type": "code",
   "execution_count": null,
   "id": "75705f00",
   "metadata": {},
   "outputs": [],
   "source": []
  },
  {
   "cell_type": "code",
   "execution_count": null,
   "id": "a0d5358a",
   "metadata": {},
   "outputs": [],
   "source": []
  },
  {
   "cell_type": "code",
   "execution_count": null,
   "id": "28236211",
   "metadata": {},
   "outputs": [],
   "source": [
    "bib_title = bib_entry.fields['title'].strip('{ }')\n",
    "ss_title = ss_entry"
   ]
  },
  {
   "cell_type": "code",
   "execution_count": null,
   "id": "35639483",
   "metadata": {},
   "outputs": [],
   "source": [
    "all_types = []\n",
    "for entry in diag_bib_raw:\n",
    "    all_types.append(entry.type)\n",
    "np.unique(all_types, return_counts=True)"
   ]
  },
  {
   "cell_type": "code",
   "execution_count": null,
   "id": "ee0aee0c",
   "metadata": {},
   "outputs": [],
   "source": [
    "selected_entries = []\n",
    "for entry in diag_bib_raw:\n",
    "    if entry.type in ['article']: #['article', 'book', 'conference', 'inbook', 'inproceedings']\n",
    "        selected_entries.append(entry)\n",
    "        print(entry.fields)"
   ]
  },
  {
   "cell_type": "code",
   "execution_count": null,
   "id": "7451bb6c",
   "metadata": {},
   "outputs": [],
   "source": [
    "[print(key) for key in selected_entries[0].fields.keys()];"
   ]
  },
  {
   "cell_type": "code",
   "execution_count": null,
   "id": "f133eae8",
   "metadata": {},
   "outputs": [],
   "source": []
  }
 ],
 "metadata": {
  "kernelspec": {
   "display_name": "Python 3 (ipykernel)",
   "language": "python",
   "name": "python3"
  },
  "language_info": {
   "codemirror_mode": {
    "name": "ipython",
    "version": 3
   },
   "file_extension": ".py",
   "mimetype": "text/x-python",
   "name": "python",
   "nbconvert_exporter": "python",
   "pygments_lexer": "ipython3",
   "version": "3.9.7"
  }
 },
 "nbformat": 4,
 "nbformat_minor": 5
}
