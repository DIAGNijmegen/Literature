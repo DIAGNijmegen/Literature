{
 "cells": [
  {
   "cell_type": "markdown",
   "id": "d665ab78",
   "metadata": {},
   "source": [
    "Meeting notes:\n",
    "\n",
    "##### Make diag.bib update code (notebook)\n",
    "- Compare titles of bib and semantic scholar\n",
    "- Match\n",
    "- If match:\n",
    "    - Add semantic scholar ID to diag bib\n",
    "    - Update gscites field from bib entry\n",
    "- If no match:\n",
    "    - Check best matches, if DOI and Arxiv --> chose DOI \n",
    "    - Define right fields (look at code James) + citations + semantic scolar ID \n",
    "    - Add 'automatically added' field so we can trace back automation errors more easilty\n",
    "    - Add to bib   \n",
    "    \n",
    "##### Make sript that checks ss ids and adds new ones to diag bib\n",
    "    \n",
    "    \n",
    "##### Make script that can be used by DIAG members\n",
    "- Add doi/arxiv\n",
    "- if DOI check if Arxiv exists, if so --> remove Arxiv\n",
    "- Sort right fields from DOI --> add fields\n",
    "- Search for semantic scholar ID\n",
    "- Print fields so user can check it\n",
    "- Add to bib\n",
    "- Manual commit push\n",
    "\n",
    "##### Make script that checks all semantic scholar IDs and updates gscites\n",
    "- github action overnight?\n",
    "\n",
    "##### Note: \n",
    "- requests limit, 100 requests per 5 mins for ss \n",
    "    - 100 papers at once = 1 request\n",
    "- google doc: \n",
    "    - https://docs.google.com/document/d/1uFyh5Z-wieksq_4Bf8Br7wHpN-buHECunS0VurYnlvg/edit\n"
   ]
  },
  {
   "cell_type": "markdown",
   "id": "004a794c",
   "metadata": {},
   "source": [
    "# Libraries"
   ]
  },
  {
   "cell_type": "code",
   "execution_count": 2,
   "id": "a7cba022",
   "metadata": {},
   "outputs": [],
   "source": [
    "import os\n",
    "import numpy as np\n",
    "import pandas as pd\n",
    "\n",
    "import requests\n",
    "# from bibreader import parse_bibtex_file, get_bib_blocks\n",
    "from bib_handling_code.processbib import read_bibfile\n",
    "from bib_handling_code.processbib import save_to_file\n",
    "from difflib import SequenceMatcher"
   ]
  },
  {
   "cell_type": "markdown",
   "id": "018c028b",
   "metadata": {},
   "source": [
    "# Example from url giving 100 papers from one of Bram's semantic scolar IDs"
   ]
  },
  {
   "cell_type": "code",
   "execution_count": 3,
   "id": "acf0c756",
   "metadata": {},
   "outputs": [],
   "source": [
    "staff_id = 123637526 #8038506\n",
    "staff_ids = [123637526]"
   ]
  },
  {
   "cell_type": "code",
   "execution_count": 4,
   "id": "d020fd77",
   "metadata": {},
   "outputs": [],
   "source": [
    "url=f'https://api.semanticscholar.org/graph/v1/author/{staff_id}/papers?fields=year,title,authors,externalIds,citationCount&limit=100'\n",
    "\n",
    "r = requests.get(url)\n",
    "ss_staff_data = r.json()['data']"
   ]
  },
  {
   "cell_type": "code",
   "execution_count": 5,
   "id": "37b0c858",
   "metadata": {},
   "outputs": [
    {
     "data": {
      "text/plain": [
       "{'paperId': 'c70d5169b5c69171cc2ed3ec40eebda0630988d9',\n",
       " 'externalIds': {'DOI': '10.1038/s41598-020-62148-y', 'CorpusId': 257025991},\n",
       " 'title': 'Computer aided detection of tuberculosis on chest radiographs: An evaluation of the CAD4TB v6 system',\n",
       " 'year': 2020,\n",
       " 'citationCount': 0,\n",
       " 'authors': [{'authorId': '35730362', 'name': 'K. Murphy'},\n",
       "  {'authorId': '6214077', 'name': 'S. Habib'},\n",
       "  {'authorId': '40347668', 'name': 'S. M. Zaidi'},\n",
       "  {'authorId': '39726137', 'name': 'S. Khowaja'},\n",
       "  {'authorId': '2208892980', 'name': 'Aamir Khan'},\n",
       "  {'authorId': '144861586', 'name': 'J. Melendez'},\n",
       "  {'authorId': '152867460', 'name': 'E. Scholten'},\n",
       "  {'authorId': '81054906', 'name': 'Farhan Amad'},\n",
       "  {'authorId': '3504603', 'name': 'S. Schalekamp'},\n",
       "  {'authorId': '40442474', 'name': 'Maurits Verhagen'},\n",
       "  {'authorId': '38557856', 'name': 'R. Philipsen'},\n",
       "  {'authorId': '2074941083', 'name': 'Annet Meijers'},\n",
       "  {'authorId': '123637526', 'name': 'B. van Ginneken'}]}"
      ]
     },
     "metadata": {},
     "output_type": "display_data"
    }
   ],
   "source": [
    "for i in ss_staff_data:\n",
    "    if i['paperId'] == 'c70d5169b5c69171cc2ed3ec40eebda0630988d9':\n",
    "        display(i)"
   ]
  },
  {
   "cell_type": "markdown",
   "id": "a1923b6c",
   "metadata": {},
   "source": [
    "# Function to get data from DOI/ArXiv"
   ]
  },
  {
   "cell_type": "code",
   "execution_count": 6,
   "id": "47df078a",
   "metadata": {},
   "outputs": [],
   "source": [
    "def get_doi_csl(doi):\n",
    "    response = requests.get(\n",
    "        f\"https://doi.org/{doi}\",\n",
    "        headers={\"Accept\": \"application/vnd.citationstyles.csl+json\"},\n",
    "        timeout=5,\n",
    "    )\n",
    "    response.raise_for_status()\n",
    "    return response.json()"
   ]
  },
  {
   "cell_type": "markdown",
   "id": "e7a40e68",
   "metadata": {},
   "source": [
    "# ####################\n",
    "# Example\n",
    "# ####################"
   ]
  },
  {
   "cell_type": "code",
   "execution_count": 7,
   "id": "f953e5bd",
   "metadata": {},
   "outputs": [
    {
     "data": {
      "text/plain": [
       "dict_keys(['type', 'id', 'categories', 'author', 'issued', 'abstract', 'DOI', 'publisher', 'title', 'URL', 'copyright', 'version'])"
      ]
     },
     "execution_count": 7,
     "metadata": {},
     "output_type": "execute_result"
    }
   ],
   "source": [
    "get_doi_csl('10.48550/arXiv.2302.01738').keys()"
   ]
  },
  {
   "cell_type": "code",
   "execution_count": 8,
   "id": "9dfb1116",
   "metadata": {},
   "outputs": [
    {
     "data": {
      "text/plain": [
       "{'DOI': '10.1117/1.JMI.9.5.052407',\n",
       " 'CorpusId': 249160972,\n",
       " 'PubMed': '35692896'}"
      ]
     },
     "execution_count": 8,
     "metadata": {},
     "output_type": "execute_result"
    }
   ],
   "source": [
    "ss_staff_data[2]['externalIds']"
   ]
  },
  {
   "cell_type": "code",
   "execution_count": 9,
   "id": "66e86184-76a0-4502-b7cc-653e7f79a6d0",
   "metadata": {},
   "outputs": [],
   "source": [
    "staff_id = 8038506\n",
    "url=f'https://api.semanticscholar.org/graph/v1/author/{staff_id}/papers?fields=year,title,authors,externalIds,citationCount&limit=100'\n",
    "\n",
    "r = requests.get(url)\n",
    "ss_staff_data = r.json()['data']"
   ]
  },
  {
   "cell_type": "code",
   "execution_count": 10,
   "id": "acd555d4",
   "metadata": {},
   "outputs": [],
   "source": [
    "found_dois = []"
   ]
  },
  {
   "cell_type": "code",
   "execution_count": 11,
   "id": "2ab65b19",
   "metadata": {},
   "outputs": [],
   "source": [
    "found_arxiv_doi = False\n",
    "found_regular_doi = False"
   ]
  },
  {
   "cell_type": "code",
   "execution_count": 12,
   "id": "48474f2b",
   "metadata": {},
   "outputs": [
    {
     "name": "stdout",
     "output_type": "stream",
     "text": [
      "10.48550/arXiv.2302.01790\n",
      "10.1016/j.media.2023.102755\n"
     ]
    }
   ],
   "source": [
    "#ArXiv\n",
    "for ss_staff_entry in ss_staff_data:\n",
    "    if 'DOI' in ss_staff_entry['externalIds']:\n",
    "        if 'arXiv' in ss_staff_entry['externalIds']['DOI']:\n",
    "            arxiv_doi = ss_staff_entry['externalIds']['DOI']\n",
    "            found_arxiv_doi = True\n",
    "    if found_arxiv_doi:\n",
    "        break\n",
    "#DOI\n",
    "for ss_staff_entry in ss_staff_data:\n",
    "    if 'DOI' in ss_staff_entry['externalIds']:\n",
    "        if 'arXiv' not in ss_staff_entry['externalIds']['DOI']:\n",
    "            regular_doi = ss_staff_entry['externalIds']['DOI']\n",
    "            \n",
    "            found_regular_doi = True\n",
    "    if found_regular_doi:\n",
    "        break\n",
    "\n",
    "print(arxiv_doi)\n",
    "print(regular_doi)"
   ]
  },
  {
   "cell_type": "code",
   "execution_count": 13,
   "id": "d826ea97",
   "metadata": {},
   "outputs": [],
   "source": [
    "arxiv_doi_data = get_doi_csl(arxiv_doi)\n",
    "regular_doi_data = get_doi_csl(regular_doi)"
   ]
  },
  {
   "cell_type": "code",
   "execution_count": null,
   "id": "a91d036d-86a3-49fd-a728-424adcc33bb9",
   "metadata": {},
   "outputs": [],
   "source": []
  },
  {
   "cell_type": "code",
   "execution_count": 21,
   "id": "2a798b82-3c2b-4243-9b47-dfa49542713e",
   "metadata": {},
   "outputs": [],
   "source": [
    "for ss in ss_staff_data:\n",
    "    if 'type' in ss:\n",
    "        print(ss['type'])"
   ]
  },
  {
   "cell_type": "code",
   "execution_count": null,
   "id": "44aa237e-81fe-48de-8baa-67fc58310132",
   "metadata": {},
   "outputs": [],
   "source": []
  },
  {
   "cell_type": "code",
   "execution_count": null,
   "id": "058fe383-f8e2-408c-898d-a435e1f511b5",
   "metadata": {},
   "outputs": [],
   "source": []
  },
  {
   "cell_type": "code",
   "execution_count": null,
   "id": "2fb974c3-172a-4eeb-b5af-42aba6d9138b",
   "metadata": {},
   "outputs": [],
   "source": []
  },
  {
   "cell_type": "code",
   "execution_count": 14,
   "id": "c53645b3",
   "metadata": {},
   "outputs": [
    {
     "name": "stdout",
     "output_type": "stream",
     "text": [
      "type\n",
      "id\n",
      "categories\n",
      "author\n",
      "issued\n",
      "abstract\n",
      "DOI\n",
      "publisher\n",
      "title\n",
      "URL\n",
      "copyright\n",
      "version\n"
     ]
    }
   ],
   "source": [
    "[print(key) for key in arxiv_doi_data.keys()];"
   ]
  },
  {
   "cell_type": "code",
   "execution_count": 17,
   "id": "c9edab70-db1b-47cf-b14e-b3f76e430715",
   "metadata": {},
   "outputs": [
    {
     "data": {
      "text/plain": [
       "{'type': 'article',\n",
       " 'id': 'https://doi.org/10.48550/arxiv.2302.01790',\n",
       " 'categories': ['Computer Vision and Pattern Recognition (cs.CV)',\n",
       "  'FOS: Computer and information sciences',\n",
       "  'FOS: Computer and information sciences'],\n",
       " 'author': [{'family': 'Reinke', 'given': 'Annika'},\n",
       "  {'family': 'Tizabi', 'given': 'Minu D.'},\n",
       "  {'family': 'Baumgartner', 'given': 'Michael'},\n",
       "  {'family': 'Eisenmann', 'given': 'Matthias'},\n",
       "  {'family': 'Heckmann-Nötzel', 'given': 'Doreen'},\n",
       "  {'family': 'Kavur', 'given': 'A. Emre'},\n",
       "  {'family': 'Rädsch', 'given': 'Tim'},\n",
       "  {'family': 'Sudre', 'given': 'Carole H.'},\n",
       "  {'family': 'Acion', 'given': 'Laura'},\n",
       "  {'family': 'Antonelli', 'given': 'Michela'},\n",
       "  {'family': 'Arbel', 'given': 'Tal'},\n",
       "  {'family': 'Bakas', 'given': 'Spyridon'},\n",
       "  {'family': 'Benis', 'given': 'Arriel'},\n",
       "  {'family': 'Blaschko', 'given': 'Matthew'},\n",
       "  {'family': 'Büttner', 'given': 'Florian'},\n",
       "  {'family': 'Cardoso', 'given': 'M. Jorge'},\n",
       "  {'family': 'Cheplygina', 'given': 'Veronika'},\n",
       "  {'family': 'Chen', 'given': 'Jianxu'},\n",
       "  {'family': 'Christodoulou', 'given': 'Evangelia'},\n",
       "  {'family': 'Cimini', 'given': 'Beth A.'},\n",
       "  {'family': 'Collins', 'given': 'Gary S.'},\n",
       "  {'family': 'Farahani', 'given': 'Keyvan'},\n",
       "  {'family': 'Ferrer', 'given': 'Luciana'},\n",
       "  {'family': 'Galdran', 'given': 'Adrian'},\n",
       "  {'family': 'van Ginneken', 'given': 'Bram'},\n",
       "  {'family': 'Glocker', 'given': 'Ben'},\n",
       "  {'family': 'Godau', 'given': 'Patrick'},\n",
       "  {'family': 'Haase', 'given': 'Robert'},\n",
       "  {'family': 'Hashimoto', 'given': 'Daniel A.'},\n",
       "  {'family': 'Hoffman', 'given': 'Michael M.'},\n",
       "  {'family': 'Huisman', 'given': 'Merel'},\n",
       "  {'family': 'Isensee', 'given': 'Fabian'},\n",
       "  {'family': 'Jannin', 'given': 'Pierre'},\n",
       "  {'family': 'Kahn', 'given': 'Charles E.'},\n",
       "  {'family': 'Kainmueller', 'given': 'Dagmar'},\n",
       "  {'family': 'Kainz', 'given': 'Bernhard'},\n",
       "  {'family': 'Karargyris', 'given': 'Alexandros'},\n",
       "  {'family': 'Karthikesalingam', 'given': 'Alan'},\n",
       "  {'family': 'Kenngott', 'given': 'Hannes'},\n",
       "  {'family': 'Kleesiek', 'given': 'Jens'},\n",
       "  {'family': 'Kofler', 'given': 'Florian'},\n",
       "  {'family': 'Kooi', 'given': 'Thijs'},\n",
       "  {'family': 'Kopp-Schneider', 'given': 'Annette'},\n",
       "  {'family': 'Kozubek', 'given': 'Michal'},\n",
       "  {'family': 'Kreshuk', 'given': 'Anna'},\n",
       "  {'family': 'Kurc', 'given': 'Tahsin'},\n",
       "  {'family': 'Landman', 'given': 'Bennett A.'},\n",
       "  {'family': 'Litjens', 'given': 'Geert'},\n",
       "  {'family': 'Madani', 'given': 'Amin'},\n",
       "  {'family': 'Maier-Hein', 'given': 'Klaus'},\n",
       "  {'family': 'Martel', 'given': 'Anne L.'},\n",
       "  {'family': 'Mattson', 'given': 'Peter'},\n",
       "  {'family': 'Meijering', 'given': 'Erik'},\n",
       "  {'family': 'Menze', 'given': 'Bjoern'},\n",
       "  {'family': 'Moons', 'given': 'Karel G. M.'},\n",
       "  {'family': 'Müller', 'given': 'Henning'},\n",
       "  {'family': 'Nichyporuk', 'given': 'Brennan'},\n",
       "  {'family': 'Nickel', 'given': 'Felix'},\n",
       "  {'family': 'Petersen', 'given': 'Jens'},\n",
       "  {'family': 'Rafelski', 'given': 'Susanne M.'},\n",
       "  {'family': 'Rajpoot', 'given': 'Nasir'},\n",
       "  {'family': 'Reyes', 'given': 'Mauricio'},\n",
       "  {'family': 'Riegler', 'given': 'Michael A.'},\n",
       "  {'family': 'Rieke', 'given': 'Nicola'},\n",
       "  {'family': 'Saez-Rodriguez', 'given': 'Julio'},\n",
       "  {'family': 'Sánchez', 'given': 'Clara I.'},\n",
       "  {'family': 'Shetty', 'given': 'Shravya'},\n",
       "  {'family': 'van Smeden', 'given': 'Maarten'},\n",
       "  {'family': 'Summers', 'given': 'Ronald M.'},\n",
       "  {'family': 'Taha', 'given': 'Abdel A.'},\n",
       "  {'family': 'Tiulpin', 'given': 'Aleksei'},\n",
       "  {'family': 'Tsaftaris', 'given': 'Sotirios A.'},\n",
       "  {'family': 'Van Calster', 'given': 'Ben'},\n",
       "  {'family': 'Varoquaux', 'given': 'Gaël'},\n",
       "  {'family': 'Wiesenfarth', 'given': 'Manuel'},\n",
       "  {'family': 'Yaniv', 'given': 'Ziv R.'},\n",
       "  {'family': 'Jäger', 'given': 'Paul F.'},\n",
       "  {'family': 'Maier-Hein', 'given': 'Lena'}],\n",
       " 'issued': {'date-parts': [[2023]]},\n",
       " 'abstract': 'Validation metrics are key for the reliable tracking of scientific progress and for bridging the current chasm between artificial intelligence (AI) research and its translation into practice. However, increasing evidence shows that particularly in image analysis, metrics are often chosen inadequately in relation to the underlying research problem. This could be attributed to a lack of accessibility of metric-related knowledge: While taking into account the individual strengths, weaknesses, and limitations of validation metrics is a critical prerequisite to making educated choices, the relevant knowledge is currently scattered and poorly accessible to individual researchers. Based on a multi-stage Delphi process conducted by a multidisciplinary expert consortium as well as extensive community feedback, the present work provides the first reliable and comprehensive common point of access to information on pitfalls related to validation metrics in image analysis. Focusing on biomedical image analysis but with the potential of transfer to other fields, the addressed pitfalls generalize across application domains and are categorized according to a newly created, domain-agnostic taxonomy. To facilitate comprehension, illustrations and specific examples accompany each pitfall. As a structured body of information accessible to researchers of all levels of expertise, this work enhances global comprehension of a key topic in image analysis validation.',\n",
       " 'DOI': '10.48550/ARXIV.2302.01790',\n",
       " 'publisher': 'arXiv',\n",
       " 'title': 'Understanding metric-related pitfalls in image analysis validation',\n",
       " 'URL': 'https://arxiv.org/abs/2302.01790',\n",
       " 'copyright': 'Creative Commons Attribution Non Commercial No Derivatives 4.0 International',\n",
       " 'version': '2'}"
      ]
     },
     "execution_count": 17,
     "metadata": {},
     "output_type": "execute_result"
    }
   ],
   "source": [
    "arxiv_doi_data"
   ]
  },
  {
   "cell_type": "code",
   "execution_count": 15,
   "id": "4f331e05",
   "metadata": {},
   "outputs": [
    {
     "name": "stdout",
     "output_type": "stream",
     "text": [
      "indexed\n",
      "reference-count\n",
      "publisher\n",
      "license\n",
      "content-domain\n",
      "published-print\n",
      "DOI\n",
      "type\n",
      "created\n",
      "page\n",
      "update-policy\n",
      "source\n",
      "is-referenced-by-count\n",
      "title\n",
      "prefix\n",
      "volume\n",
      "author\n",
      "member\n",
      "reference\n",
      "container-title\n",
      "original-title\n",
      "language\n",
      "link\n",
      "deposited\n",
      "score\n",
      "resource\n",
      "subtitle\n",
      "short-title\n",
      "issued\n",
      "references-count\n",
      "alternative-id\n",
      "URL\n",
      "relation\n",
      "ISSN\n",
      "subject\n",
      "container-title-short\n",
      "published\n",
      "assertion\n",
      "article-number\n"
     ]
    }
   ],
   "source": [
    "[print(key) for key in regular_doi_data.keys()];"
   ]
  },
  {
   "cell_type": "code",
   "execution_count": 16,
   "id": "c97f3272-ef74-4ae0-a4a8-9c16eedd47eb",
   "metadata": {},
   "outputs": [
    {
     "data": {
      "text/plain": [
       "{'indexed': {'date-parts': [[2023, 2, 25]],\n",
       "  'date-time': '2023-02-25T05:29:46Z',\n",
       "  'timestamp': 1677302986187},\n",
       " 'reference-count': 38,\n",
       " 'publisher': 'Elsevier BV',\n",
       " 'license': [{'start': {'date-parts': [[2023, 4, 1]],\n",
       "    'date-time': '2023-04-01T00:00:00Z',\n",
       "    'timestamp': 1680307200000},\n",
       "   'content-version': 'tdm',\n",
       "   'delay-in-days': 0,\n",
       "   'URL': 'https://www.elsevier.com/tdm/userlicense/1.0/'},\n",
       "  {'start': {'date-parts': [[2023, 2, 6]],\n",
       "    'date-time': '2023-02-06T00:00:00Z',\n",
       "    'timestamp': 1675641600000},\n",
       "   'content-version': 'vor',\n",
       "   'delay-in-days': 0,\n",
       "   'URL': 'http://creativecommons.org/licenses/by/4.0/'}],\n",
       " 'content-domain': {'domain': ['elsevier.com', 'sciencedirect.com'],\n",
       "  'crossmark-restriction': True},\n",
       " 'published-print': {'date-parts': [[2023, 4]]},\n",
       " 'DOI': '10.1016/j.media.2023.102755',\n",
       " 'type': 'journal-article',\n",
       " 'created': {'date-parts': [[2023, 1, 25]],\n",
       "  'date-time': '2023-01-25T12:21:08Z',\n",
       "  'timestamp': 1674649268000},\n",
       " 'page': '102755',\n",
       " 'update-policy': 'http://dx.doi.org/10.1016/elsevier_cm_policy',\n",
       " 'source': 'Crossref',\n",
       " 'is-referenced-by-count': 0,\n",
       " 'title': 'Continual learning strategies for cancer-independent detection of lymph node metastases',\n",
       " 'prefix': '10.1016',\n",
       " 'volume': '85',\n",
       " 'author': [{'ORCID': 'http://orcid.org/0000-0001-7622-7998',\n",
       "   'authenticated-orcid': False,\n",
       "   'given': 'Péter',\n",
       "   'family': 'Bándi',\n",
       "   'sequence': 'first',\n",
       "   'affiliation': []},\n",
       "  {'given': 'Maschenka',\n",
       "   'family': 'Balkenhol',\n",
       "   'sequence': 'additional',\n",
       "   'affiliation': []},\n",
       "  {'given': 'Marcory',\n",
       "   'family': 'van Dijk',\n",
       "   'sequence': 'additional',\n",
       "   'affiliation': []},\n",
       "  {'ORCID': 'http://orcid.org/0000-0003-4100-916X',\n",
       "   'authenticated-orcid': False,\n",
       "   'given': 'Michel',\n",
       "   'family': 'Kok',\n",
       "   'sequence': 'additional',\n",
       "   'affiliation': []},\n",
       "  {'ORCID': 'http://orcid.org/0000-0003-2028-8972',\n",
       "   'authenticated-orcid': False,\n",
       "   'given': 'Bram',\n",
       "   'family': 'van Ginneken',\n",
       "   'sequence': 'additional',\n",
       "   'affiliation': []},\n",
       "  {'ORCID': 'http://orcid.org/0000-0001-7982-0754',\n",
       "   'authenticated-orcid': False,\n",
       "   'given': 'Jeroen',\n",
       "   'family': 'van der Laak',\n",
       "   'sequence': 'additional',\n",
       "   'affiliation': []},\n",
       "  {'ORCID': 'http://orcid.org/0000-0003-1554-1291',\n",
       "   'authenticated-orcid': False,\n",
       "   'given': 'Geert',\n",
       "   'family': 'Litjens',\n",
       "   'sequence': 'additional',\n",
       "   'affiliation': []}],\n",
       " 'member': '78',\n",
       " 'reference': [{'key': '10.1016/j.media.2023.102755_b1',\n",
       "   'doi-asserted-by': 'crossref',\n",
       "   'unstructured': 'Aljundi,\\xa0R., Chakravarty,\\xa0P., Tuytelaars,\\xa0T., 2017. Expert Gate: Lifelong Learning with a Network of Experts. In: IEEE Conference on Computer Vision and Pattern Recognition, Vol. 10. CVPR, pp. 7120–7129.',\n",
       "   'DOI': '10.1109/CVPR.2017.753'},\n",
       "  {'key': '10.1016/j.media.2023.102755_b2',\n",
       "   'doi-asserted-by': 'crossref',\n",
       "   'DOI': '10.7717/peerj.8242',\n",
       "   'article-title': 'Resolution-agnostic tissue segmentation in whole-slide histopathology images with convolutional neural networks',\n",
       "   'volume': '7',\n",
       "   'author': 'Bandi',\n",
       "   'year': '2019',\n",
       "   'journal-title': 'PeerJ'},\n",
       "  {'issue': '2',\n",
       "   'key': '10.1016/j.media.2023.102755_b3',\n",
       "   'doi-asserted-by': 'crossref',\n",
       "   'first-page': '550',\n",
       "   'DOI': '10.1109/TMI.2018.2867350',\n",
       "   'article-title': 'From detection of individual metastases to classification of lymph node status at the patient level: the CAMELYON17 challenge',\n",
       "   'volume': '38',\n",
       "   'author': 'Bandi',\n",
       "   'year': '2018',\n",
       "   'journal-title': 'IEEE Trans. Med. Imaging'},\n",
       "  {'key': '10.1016/j.media.2023.102755_b4',\n",
       "   'doi-asserted-by': 'crossref',\n",
       "   'first-page': '5',\n",
       "   'DOI': '10.1023/A:1010933404324',\n",
       "   'article-title': 'Random forests',\n",
       "   'volume': '45',\n",
       "   'author': 'Breiman',\n",
       "   'year': '2001',\n",
       "   'journal-title': 'Mach. Learn.'},\n",
       "  {'key': '10.1016/j.media.2023.102755_b5',\n",
       "   'doi-asserted-by': 'crossref',\n",
       "   'article-title': 'Clinical-grade computational pathology using weakly supervised deep learning on whole slide images',\n",
       "   'author': 'Campanella',\n",
       "   'year': '2019',\n",
       "   'journal-title': 'Nat. Med.',\n",
       "   'DOI': '10.1038/s41591-019-0508-1'},\n",
       "  {'key': '10.1016/j.media.2023.102755_b6',\n",
       "   'doi-asserted-by': 'crossref',\n",
       "   'first-page': '1581',\n",
       "   'DOI': '10.1002/cncr.20934',\n",
       "   'article-title': 'Clinical outcome of patients with lymph node-negative breast carcinoma who have sentinel lymph node micrometastases detected by immunohistochemistry',\n",
       "   'volume': '103',\n",
       "   'author': 'Chagpar',\n",
       "   'year': '2005',\n",
       "   'journal-title': 'Cancer'},\n",
       "  {'key': '10.1016/j.media.2023.102755_b7',\n",
       "   'doi-asserted-by': 'crossref',\n",
       "   'first-page': 'S297',\n",
       "   'DOI': '10.1016/j.nima.2010.11.042',\n",
       "   'article-title': 'Recent developments in imaging system assessment methodology, FROC analysis and the search model',\n",
       "   'volume': '648',\n",
       "   'author': 'Chakraborty',\n",
       "   'year': '2011',\n",
       "   'journal-title': 'Nucl. Instrum. Methods Phys. Res. A'},\n",
       "  {'key': '10.1016/j.media.2023.102755_b8',\n",
       "   'series-title': 'Lifelong Machine Learning',\n",
       "   'first-page': '55',\n",
       "   'author': 'Chen',\n",
       "   'year': '2018'},\n",
       "  {'key': '10.1016/j.media.2023.102755_b9',\n",
       "   'series-title': 'Medical Image Computing and Computer-Assisted Intervention',\n",
       "   'first-page': '411',\n",
       "   'article-title': 'Mitosis detection in breast cancer histology images with deep neural networks',\n",
       "   'author': 'Cireşan',\n",
       "   'year': '2013'},\n",
       "  {'key': '10.1016/j.media.2023.102755_b10',\n",
       "   'first-page': '3366',\n",
       "   'article-title': 'A continual learning survey: Defying forgetting in classification tasks',\n",
       "   'volume': '44',\n",
       "   'author': 'De\\xa0Lange',\n",
       "   'year': '2022',\n",
       "   'journal-title': 'IEEE Trans. Pattern Anal. Mach. Intell.'},\n",
       "  {'key': '10.1016/j.media.2023.102755_b11',\n",
       "   'doi-asserted-by': 'crossref',\n",
       "   'first-page': '1471',\n",
       "   'DOI': '10.1245/s10434-010-0985-4',\n",
       "   'article-title': 'The American joint committee on cancer: The 7th edition of the AJCC cancer staging manual and the future of TNM',\n",
       "   'volume': '17',\n",
       "   'author': 'Edge',\n",
       "   'year': '2010',\n",
       "   'journal-title': 'Ann. Surg. Oncol.'},\n",
       "  {'key': '10.1016/j.media.2023.102755_b12',\n",
       "   'doi-asserted-by': 'crossref',\n",
       "   'first-page': '2199',\n",
       "   'DOI': '10.1001/jama.2017.14585',\n",
       "   'article-title': 'Diagnostic assessment of deep learning algorithms for detection of Lymph node metastases in women with breast cancer',\n",
       "   'volume': '318',\n",
       "   'author': 'Ehteshami\\xa0Bejnordi',\n",
       "   'year': '2017',\n",
       "   'journal-title': 'JAMA'},\n",
       "  {'key': '10.1016/j.media.2023.102755_b13',\n",
       "   'doi-asserted-by': 'crossref',\n",
       "   'first-page': '613',\n",
       "   'DOI': '10.1177/001316447303300309',\n",
       "   'article-title': 'The equivalence of weighted Kappa and the intraclass correlation coefficient as measures of reliability',\n",
       "   'volume': '33',\n",
       "   'author': 'Fleiss',\n",
       "   'year': '1973',\n",
       "   'journal-title': 'Educ. Psychol. Meas.'},\n",
       "  {'key': '10.1016/j.media.2023.102755_b14',\n",
       "   'doi-asserted-by': 'crossref',\n",
       "   'first-page': '128',\n",
       "   'DOI': '10.1016/S1364-6613(99)01294-2',\n",
       "   'article-title': 'Catastrophic forgetting in connectionist networks',\n",
       "   'volume': '3',\n",
       "   'author': 'French',\n",
       "   'year': '1999',\n",
       "   'journal-title': 'Trends in Cognitive Sciences'},\n",
       "  {'key': '10.1016/j.media.2023.102755_b15',\n",
       "   'series-title': 'International Conference on Computer Vision',\n",
       "   'first-page': '1026',\n",
       "   'article-title': 'Delving deep into rectifiers: Surpassing human-level performance on ImageNet classification',\n",
       "   'author': 'He',\n",
       "   'year': '2015'},\n",
       "  {'key': '10.1016/j.media.2023.102755_b16',\n",
       "   'doi-asserted-by': 'crossref',\n",
       "   'unstructured': 'Huang,\\xa0G., Liu,\\xa0Z., van\\xa0der Maaten,\\xa0L., Weinberger,\\xa0K.Q., 2017. Densely Connected Convolutional Networks. In: IEEE Conference on Computer Vision and Pattern Recognition, Vol. 10. CVPR, pp. 2261–2269.',\n",
       "   'DOI': '10.1109/CVPR.2017.243'},\n",
       "  {'key': '10.1016/j.media.2023.102755_b17',\n",
       "   'article-title': 'On quadratic penalties in elastic weight consolidation',\n",
       "   'volume': '115',\n",
       "   'author': 'Huszar',\n",
       "   'year': '2017',\n",
       "   'journal-title': 'Proc. Natl. Acad. Sci.'},\n",
       "  {'key': '10.1016/j.media.2023.102755_b18',\n",
       "   'series-title': 'Proceedings of Machine Learning Research, Vol. 37',\n",
       "   'first-page': '448',\n",
       "   'article-title': 'Batch normalization: Accelerating deep network training by reducing internal covariate shift',\n",
       "   'author': 'Ioffe',\n",
       "   'year': '2015'},\n",
       "  {'key': '10.1016/j.media.2023.102755_b19',\n",
       "   'series-title': 'Proceedings of the International Conference on Machine Learning,',\n",
       "   'article-title': 'Beyond synthetic noise: Deep learning on controlled noisy labels',\n",
       "   'author': 'Jiang',\n",
       "   'year': '2020'},\n",
       "  {'key': '10.1016/j.media.2023.102755_b20',\n",
       "   'series-title': 'Adam: A method for stochastic optimization',\n",
       "   'author': 'Kingma',\n",
       "   'year': '2014'},\n",
       "  {'key': '10.1016/j.media.2023.102755_b21',\n",
       "   'doi-asserted-by': 'crossref',\n",
       "   'DOI': '10.1073/pnas.1611835114',\n",
       "   'article-title': 'Overcoming catastrophic forgetting in neural networks',\n",
       "   'volume': '114',\n",
       "   'author': 'Kirkpatrick',\n",
       "   'year': '2017',\n",
       "   'journal-title': 'Proc. Natl. Acad. Sci.'},\n",
       "  {'key': '10.1016/j.media.2023.102755_b22',\n",
       "   'series-title': 'Lifelong learning with dynamically expandable network',\n",
       "   'author': 'Lee',\n",
       "   'year': '2017'},\n",
       "  {'key': '10.1016/j.media.2023.102755_b23',\n",
       "   'doi-asserted-by': 'crossref',\n",
       "   'first-page': '1',\n",
       "   'DOI': '10.1093/gigascience/giy065',\n",
       "   'article-title': '1399 H&E-stained sentinel lymph node sections of breast cancer patients: the CAMELYON dataset',\n",
       "   'volume': '7',\n",
       "   'author': 'Litjens',\n",
       "   'year': '2018',\n",
       "   'journal-title': 'GigaScience'},\n",
       "  {'key': '10.1016/j.media.2023.102755_b24',\n",
       "   'article-title': 'Artificial intelligence–based breast cancer nodal metastasis detection: Insights into the black box for pathologists',\n",
       "   'volume': '143',\n",
       "   'author': 'Liu',\n",
       "   'year': '2018',\n",
       "   'journal-title': 'Arch. Pathol. Lab. Med.'},\n",
       "  {'key': '10.1016/j.media.2023.102755_b25',\n",
       "   'series-title': 'Advances in Neural Information Processing Systems, Vol. 30',\n",
       "   'first-page': '6467',\n",
       "   'article-title': 'Gradient episodic memory for continuum learning',\n",
       "   'author': 'Lopez-Paz',\n",
       "   'year': '2017'},\n",
       "  {'key': '10.1016/j.media.2023.102755_b26',\n",
       "   'unstructured': 'Maas,\\xa0A.L., Hannun,\\xa0A.Y., Ng,\\xa0A.Y., 2013. Rectifier nonlinearities improve neural network acoustic models. In: ICML Workshop on Deep Learning for Audio, Speech and Language Processing.'},\n",
       "  {'key': '10.1016/j.media.2023.102755_b27',\n",
       "   'series-title': 'IEEE Conference on Computer Vision and Pattern Recognition',\n",
       "   'first-page': '7765',\n",
       "   'article-title': 'PackNet: Adding multiple tasks to a single network by iterative pruning',\n",
       "   'author': 'Mallya',\n",
       "   'year': '2018'},\n",
       "  {'key': '10.1016/j.media.2023.102755_b28',\n",
       "   'doi-asserted-by': 'crossref',\n",
       "   'first-page': '109',\n",
       "   'DOI': '10.1016/S0079-7421(08)60536-8',\n",
       "   'article-title': 'Catastrophic interference in connectionist networks: The sequential learning problem',\n",
       "   'volume': '24',\n",
       "   'author': 'McCloskey',\n",
       "   'year': '1989',\n",
       "   'journal-title': 'Psychol. Learn. Motiv.'},\n",
       "  {'key': '10.1016/j.media.2023.102755_b29',\n",
       "   'doi-asserted-by': 'crossref',\n",
       "   'first-page': '54',\n",
       "   'DOI': '10.1016/j.neunet.2019.01.012',\n",
       "   'article-title': 'Continual lifelong learning with neural networks: A review',\n",
       "   'volume': '113',\n",
       "   'author': 'Parisi',\n",
       "   'year': '2019',\n",
       "   'journal-title': 'Neural Netw.'},\n",
       "  {'key': '10.1016/j.media.2023.102755_b30',\n",
       "   'series-title': 'IEEE Conference on Computer Vision and Pattern Recognition',\n",
       "   'first-page': '5533',\n",
       "   'article-title': 'iCaRL: Incremental classifier and representation learning',\n",
       "   'author': 'Rebuffi',\n",
       "   'year': '2017'},\n",
       "  {'key': '10.1016/j.media.2023.102755_b31',\n",
       "   'doi-asserted-by': 'crossref',\n",
       "   'first-page': '333',\n",
       "   'DOI': '10.1016/j.jamcollsurg.2008.10.036',\n",
       "   'volume': '208',\n",
       "   'author': 'Reed',\n",
       "   'year': '2009',\n",
       "   'journal-title': 'J. Am. Coll. Surg.'},\n",
       "  {'key': '10.1016/j.media.2023.102755_b32',\n",
       "   'series-title': 'Progressive neural networks',\n",
       "   'author': 'Rusu',\n",
       "   'year': '2016'},\n",
       "  {'key': '10.1016/j.media.2023.102755_b33',\n",
       "   'doi-asserted-by': 'crossref',\n",
       "   'DOI': '10.1109/TPAMI.2016.2572683',\n",
       "   'article-title': 'Fully convolutional networks for semantic segmentation',\n",
       "   'volume': '39',\n",
       "   'author': 'Shelhamer',\n",
       "   'year': '2017',\n",
       "   'journal-title': 'IEEE Trans. Pattern Anal. Mach. Intell.'},\n",
       "  {'key': '10.1016/j.media.2023.102755_b34',\n",
       "   'unstructured': 'Shin,\\xa0H., Lee,\\xa0J., Kim,\\xa0J., Kim,\\xa0J., 2017. Continual Learning with Deep Generative Replay. In: Advances in Neural Information Processing Systems.Vol. 30. ISBN: 9781510860964, pp. 2990–2999.'},\n",
       "  {'key': '10.1016/j.media.2023.102755_b35',\n",
       "   'series-title': 'TNM Classification of Malignant Tumours',\n",
       "   'author': 'Sobin',\n",
       "   'year': '2011'},\n",
       "  {'key': '10.1016/j.media.2023.102755_b36',\n",
       "   'doi-asserted-by': 'crossref',\n",
       "   'DOI': '10.1016/j.media.2019.101544',\n",
       "   'article-title': 'Quantifying the effects of data augmentation and stain color normalization in convolutional neural networks for computational pathology',\n",
       "   'volume': '58',\n",
       "   'author': 'Tellez',\n",
       "   'year': '2019',\n",
       "   'journal-title': 'Med. Image Anal.'},\n",
       "  {'key': '10.1016/j.media.2023.102755_b37',\n",
       "   'series-title': 'Learning to Learn',\n",
       "   'author': 'Thrun',\n",
       "   'year': '2012'},\n",
       "  {'key': '10.1016/j.media.2023.102755_b38',\n",
       "   'unstructured': 'Zenke,\\xa0F., Poole,\\xa0B., Ganguli,\\xa0S., 2017. Continual Learning Through Synaptic Intelligence. In: Proceedings of the 34th International Conference on Machine Learning, Vol. 70. pp. 3987—3995.'}],\n",
       " 'container-title': 'Medical Image Analysis',\n",
       " 'original-title': [],\n",
       " 'language': 'en',\n",
       " 'link': [{'URL': 'https://api.elsevier.com/content/article/PII:S1361841523000166?httpAccept=text/xml',\n",
       "   'content-type': 'text/xml',\n",
       "   'content-version': 'vor',\n",
       "   'intended-application': 'text-mining'},\n",
       "  {'URL': 'https://api.elsevier.com/content/article/PII:S1361841523000166?httpAccept=text/plain',\n",
       "   'content-type': 'text/plain',\n",
       "   'content-version': 'vor',\n",
       "   'intended-application': 'text-mining'}],\n",
       " 'deposited': {'date-parts': [[2023, 2, 24]],\n",
       "  'date-time': '2023-02-24T16:57:10Z',\n",
       "  'timestamp': 1677257830000},\n",
       " 'score': 1,\n",
       " 'resource': {'primary': {'URL': 'https://linkinghub.elsevier.com/retrieve/pii/S1361841523000166'}},\n",
       " 'subtitle': [],\n",
       " 'short-title': [],\n",
       " 'issued': {'date-parts': [[2023, 4]]},\n",
       " 'references-count': 38,\n",
       " 'alternative-id': ['S1361841523000166'],\n",
       " 'URL': 'http://dx.doi.org/10.1016/j.media.2023.102755',\n",
       " 'relation': {},\n",
       " 'ISSN': ['1361-8415'],\n",
       " 'subject': ['Computer Graphics and Computer-Aided Design',\n",
       "  'Health Informatics',\n",
       "  'Computer Vision and Pattern Recognition',\n",
       "  'Radiology, Nuclear Medicine and imaging',\n",
       "  'Radiological and Ultrasound Technology'],\n",
       " 'container-title-short': 'Medical Image Analysis',\n",
       " 'published': {'date-parts': [[2023, 4]]},\n",
       " 'assertion': [{'value': 'Elsevier',\n",
       "   'name': 'publisher',\n",
       "   'label': 'This article is maintained by'},\n",
       "  {'value': 'Continual learning strategies for cancer-independent detection of lymph node metastases',\n",
       "   'name': 'articletitle',\n",
       "   'label': 'Article Title'},\n",
       "  {'value': 'Medical Image Analysis',\n",
       "   'name': 'journaltitle',\n",
       "   'label': 'Journal Title'},\n",
       "  {'value': 'https://doi.org/10.1016/j.media.2023.102755',\n",
       "   'name': 'articlelink',\n",
       "   'label': 'CrossRef DOI link to publisher maintained version'},\n",
       "  {'value': 'article', 'name': 'content_type', 'label': 'Content Type'},\n",
       "  {'value': '© 2023 The Authors. Published by Elsevier B.V.',\n",
       "   'name': 'copyright',\n",
       "   'label': 'Copyright'}],\n",
       " 'article-number': '102755'}"
      ]
     },
     "execution_count": 16,
     "metadata": {},
     "output_type": "execute_result"
    }
   ],
   "source": [
    "regular_doi_data"
   ]
  },
  {
   "cell_type": "markdown",
   "id": "7f5fb859",
   "metadata": {},
   "source": [
    "# ####################################\n",
    "#  FINAL\n",
    "# ####################################"
   ]
  },
  {
   "cell_type": "code",
   "execution_count": 15,
   "id": "d6550bdf",
   "metadata": {},
   "outputs": [],
   "source": [
    "# df_bib_data = pd.read_csv('script_data/temp_diag_bib_summary.csv')\n",
    "# df_all_staff_id_ss_data = pd.read_csv('script_data/temp_semantic_scholar_all_staff_id_last_100_summary.csv')\n",
    "# df_doi_match_data = pd.read_csv('script_data/temp_doi_match_data.csv')\n",
    "# df_title_match_data = pd.read_csv('script_data/temp_title_match_data.csv')"
   ]
  },
  {
   "cell_type": "code",
   "execution_count": 16,
   "id": "00ef6f8d",
   "metadata": {},
   "outputs": [],
   "source": [
    "# df_bib_data"
   ]
  },
  {
   "cell_type": "code",
   "execution_count": 17,
   "id": "9d4f3e6e",
   "metadata": {},
   "outputs": [],
   "source": [
    "# df_all_staff_id_ss_data"
   ]
  },
  {
   "cell_type": "code",
   "execution_count": 18,
   "id": "991eeac9",
   "metadata": {},
   "outputs": [],
   "source": [
    "# df_doi_match_data"
   ]
  },
  {
   "cell_type": "code",
   "execution_count": 19,
   "id": "971d2f83",
   "metadata": {},
   "outputs": [],
   "source": [
    "# df_title_match_data"
   ]
  },
  {
   "cell_type": "markdown",
   "id": "03c2a616",
   "metadata": {},
   "source": [
    "# Import diag.bib"
   ]
  },
  {
   "cell_type": "code",
   "execution_count": 20,
   "id": "d5ad8c95",
   "metadata": {},
   "outputs": [],
   "source": [
    "path_diag_bib = os.path.join('..', 'diag.bib')\n",
    "diag_bib_raw = read_bibfile(None, path_diag_bib) # I changed the code in such a way that IF I give a second argument, it uses the second argument as a full path"
   ]
  },
  {
   "cell_type": "code",
   "execution_count": 21,
   "id": "60b9b13c",
   "metadata": {
    "scrolled": true
   },
   "outputs": [
    {
     "data": {
      "text/plain": [
       "2787"
      ]
     },
     "execution_count": 21,
     "metadata": {},
     "output_type": "execute_result"
    }
   ],
   "source": [
    "len(diag_bib_raw)"
   ]
  },
  {
   "cell_type": "code",
   "execution_count": 22,
   "id": "264bf0e5",
   "metadata": {},
   "outputs": [
    {
     "data": {
      "text/plain": [
       "{'author': '{de Wilde, Bram and Saha, Anindo and ten Broek, Richard PG and Huisman, Henkjan}',\n",
       " 'title': '{Medical diffusion on a budget: textual inversion for medical image generation}',\n",
       " 'journal': '{arXiv:2303.13430}',\n",
       " 'optnote': '{DIAG, RADIOLOGY}',\n",
       " 'year': '{2023}'}"
      ]
     },
     "execution_count": 22,
     "metadata": {},
     "output_type": "execute_result"
    }
   ],
   "source": [
    "diag_bib_raw[-1].fields"
   ]
  },
  {
   "cell_type": "code",
   "execution_count": 48,
   "id": "56c71b88",
   "metadata": {},
   "outputs": [],
   "source": [
    "bib_data = []\n",
    "for bib_entry in diag_bib_raw:\n",
    "    bibkey = bib_entry.key\n",
    "    bib_type = bib_entry.type\n",
    "    \n",
    "    bib_authors = None\n",
    "    bib_title = None\n",
    "    bib_doi = None\n",
    "    bib_gscites = None\n",
    "    bib_journal = None\n",
    "    \n",
    "    if 'author' in bib_entry.fields:\n",
    "        bib_authors = bib_entry.fields['author'].strip('{ }')\n",
    "    if 'title' in bib_entry.fields:\n",
    "        bib_title = bib_entry.fields['title'].strip('{ }')\n",
    "    if 'doi' in bib_entry.fields:\n",
    "        bib_doi = bib_entry.fields['doi'].strip('{ }')\n",
    "    if 'gscites' in bib_entry.fields:\n",
    "        bib_gscites = bib_entry.fields['gscites'].strip('{ }')\n",
    "    if 'journal' in bib_entry.fields:\n",
    "        bib_journal = bib_entry.fields['journal'].strip('{ }')\n",
    "    \n",
    "    bib_data.append([bibkey, bib_type, bib_title, bib_authors, bib_doi, bib_gscites, bib_journal])\n",
    "bib_columns = ['bibkey', 'type', 'title', 'authors', 'doi', 'gs_citations', 'journal']\n",
    "df_bib_data = pd.DataFrame(bib_data, columns=bib_columns)"
   ]
  },
  {
   "cell_type": "code",
   "execution_count": 49,
   "id": "f58abbcf",
   "metadata": {},
   "outputs": [],
   "source": [
    "df_bib_data.to_csv('script_data/temp_diag_bib_summary.csv', index=False)"
   ]
  },
  {
   "cell_type": "code",
   "execution_count": 25,
   "id": "a8bf21a6",
   "metadata": {},
   "outputs": [
    {
     "data": {
      "text/html": [
       "<div>\n",
       "<style scoped>\n",
       "    .dataframe tbody tr th:only-of-type {\n",
       "        vertical-align: middle;\n",
       "    }\n",
       "\n",
       "    .dataframe tbody tr th {\n",
       "        vertical-align: top;\n",
       "    }\n",
       "\n",
       "    .dataframe thead th {\n",
       "        text-align: right;\n",
       "    }\n",
       "</style>\n",
       "<table border=\"1\" class=\"dataframe\">\n",
       "  <thead>\n",
       "    <tr style=\"text-align: right;\">\n",
       "      <th></th>\n",
       "      <th>bibkey</th>\n",
       "      <th>type</th>\n",
       "      <th>title</th>\n",
       "      <th>doi</th>\n",
       "      <th>gs_citations</th>\n",
       "      <th>journal</th>\n",
       "    </tr>\n",
       "  </thead>\n",
       "  <tbody>\n",
       "    <tr>\n",
       "      <th>2782</th>\n",
       "      <td>Graa23</td>\n",
       "      <td>article</td>\n",
       "      <td>MRI image features with an evident relation to...</td>\n",
       "      <td>10.1007/s00586-023-07602-x</td>\n",
       "      <td>None</td>\n",
       "      <td>European Spine Journal</td>\n",
       "    </tr>\n",
       "    <tr>\n",
       "      <th>2783</th>\n",
       "      <td>Graa22</td>\n",
       "      <td>conference</td>\n",
       "      <td>Segmentation of vertebrae and intervertebral d...</td>\n",
       "      <td>10.1117/12.2611423</td>\n",
       "      <td>None</td>\n",
       "      <td>None</td>\n",
       "    </tr>\n",
       "    <tr>\n",
       "      <th>2784</th>\n",
       "      <td>Alves22c</td>\n",
       "      <td>inproceedings</td>\n",
       "      <td>Uncertainty-Guided Self-learning Framework for...</td>\n",
       "      <td>https://doi.org/10.1007/978-3-031-23911-3_11</td>\n",
       "      <td>None</td>\n",
       "      <td>None</td>\n",
       "    </tr>\n",
       "    <tr>\n",
       "      <th>2785</th>\n",
       "      <td>Wild23a</td>\n",
       "      <td>article</td>\n",
       "      <td>Inter-and Intra-Observer Variability and the E...</td>\n",
       "      <td>https://doi.org/10.3390/jimaging9030055</td>\n",
       "      <td>None</td>\n",
       "      <td>Journal of Imaging</td>\n",
       "    </tr>\n",
       "    <tr>\n",
       "      <th>2786</th>\n",
       "      <td>Wild23b</td>\n",
       "      <td>article</td>\n",
       "      <td>Medical diffusion on a budget: textual inversi...</td>\n",
       "      <td>None</td>\n",
       "      <td>None</td>\n",
       "      <td>arXiv:2303.13430</td>\n",
       "    </tr>\n",
       "  </tbody>\n",
       "</table>\n",
       "</div>"
      ],
      "text/plain": [
       "        bibkey           type  \\\n",
       "2782    Graa23        article   \n",
       "2783    Graa22     conference   \n",
       "2784  Alves22c  inproceedings   \n",
       "2785   Wild23a        article   \n",
       "2786   Wild23b        article   \n",
       "\n",
       "                                                  title  \\\n",
       "2782  MRI image features with an evident relation to...   \n",
       "2783  Segmentation of vertebrae and intervertebral d...   \n",
       "2784  Uncertainty-Guided Self-learning Framework for...   \n",
       "2785  Inter-and Intra-Observer Variability and the E...   \n",
       "2786  Medical diffusion on a budget: textual inversi...   \n",
       "\n",
       "                                               doi gs_citations  \\\n",
       "2782                    10.1007/s00586-023-07602-x         None   \n",
       "2783                            10.1117/12.2611423         None   \n",
       "2784  https://doi.org/10.1007/978-3-031-23911-3_11         None   \n",
       "2785       https://doi.org/10.3390/jimaging9030055         None   \n",
       "2786                                          None         None   \n",
       "\n",
       "                     journal  \n",
       "2782  European Spine Journal  \n",
       "2783                    None  \n",
       "2784                    None  \n",
       "2785      Journal of Imaging  \n",
       "2786        arXiv:2303.13430  "
      ]
     },
     "execution_count": 25,
     "metadata": {},
     "output_type": "execute_result"
    }
   ],
   "source": [
    "df_bib_data.tail()"
   ]
  },
  {
   "cell_type": "markdown",
   "id": "f0ceb322",
   "metadata": {},
   "source": [
    "Used for title matching"
   ]
  },
  {
   "cell_type": "code",
   "execution_count": 26,
   "id": "98d19bec",
   "metadata": {},
   "outputs": [
    {
     "data": {
      "text/html": [
       "<div>\n",
       "<style scoped>\n",
       "    .dataframe tbody tr th:only-of-type {\n",
       "        vertical-align: middle;\n",
       "    }\n",
       "\n",
       "    .dataframe tbody tr th {\n",
       "        vertical-align: top;\n",
       "    }\n",
       "\n",
       "    .dataframe thead th {\n",
       "        text-align: right;\n",
       "    }\n",
       "</style>\n",
       "<table border=\"1\" class=\"dataframe\">\n",
       "  <thead>\n",
       "    <tr style=\"text-align: right;\">\n",
       "      <th></th>\n",
       "      <th>bibkey</th>\n",
       "      <th>type</th>\n",
       "      <th>title</th>\n",
       "      <th>doi</th>\n",
       "      <th>gs_citations</th>\n",
       "      <th>journal</th>\n",
       "    </tr>\n",
       "  </thead>\n",
       "  <tbody>\n",
       "    <tr>\n",
       "      <th>1065</th>\n",
       "      <td>Abas05</td>\n",
       "      <td>article</td>\n",
       "      <td>Analysis of regularity in the {EEG} background...</td>\n",
       "      <td>10.1016/j.clinph.2005.04.001</td>\n",
       "      <td>233</td>\n",
       "      <td>CLINNP</td>\n",
       "    </tr>\n",
       "    <tr>\n",
       "      <th>1066</th>\n",
       "      <td>Genu22</td>\n",
       "      <td>conference</td>\n",
       "      <td>Imaging tumor-infiltrating CD8 (+) T-cells in ...</td>\n",
       "      <td>None</td>\n",
       "      <td>None</td>\n",
       "      <td>None</td>\n",
       "    </tr>\n",
       "    <tr>\n",
       "      <th>1067</th>\n",
       "      <td>Abas05a</td>\n",
       "      <td>inproceedings</td>\n",
       "      <td>EEG} background activity analysis in {A}lzheim...</td>\n",
       "      <td>None</td>\n",
       "      <td>3</td>\n",
       "      <td>None</td>\n",
       "    </tr>\n",
       "    <tr>\n",
       "      <th>1068</th>\n",
       "      <td>Abel19</td>\n",
       "      <td>article</td>\n",
       "      <td>Computational pathology definitions, best prac...</td>\n",
       "      <td>10.1002/path.5331</td>\n",
       "      <td>24</td>\n",
       "      <td>JPAT</td>\n",
       "    </tr>\n",
       "    <tr>\n",
       "      <th>1069</th>\n",
       "      <td>Abra08a</td>\n",
       "      <td>article</td>\n",
       "      <td>Evaluation of a system for automatic detection...</td>\n",
       "      <td>10.2337/dc07-1312</td>\n",
       "      <td>287</td>\n",
       "      <td>DC</td>\n",
       "    </tr>\n",
       "  </tbody>\n",
       "</table>\n",
       "</div>"
      ],
      "text/plain": [
       "       bibkey           type  \\\n",
       "1065   Abas05        article   \n",
       "1066   Genu22     conference   \n",
       "1067  Abas05a  inproceedings   \n",
       "1068   Abel19        article   \n",
       "1069  Abra08a        article   \n",
       "\n",
       "                                                  title  \\\n",
       "1065  Analysis of regularity in the {EEG} background...   \n",
       "1066  Imaging tumor-infiltrating CD8 (+) T-cells in ...   \n",
       "1067  EEG} background activity analysis in {A}lzheim...   \n",
       "1068  Computational pathology definitions, best prac...   \n",
       "1069  Evaluation of a system for automatic detection...   \n",
       "\n",
       "                               doi gs_citations journal  \n",
       "1065  10.1016/j.clinph.2005.04.001          233  CLINNP  \n",
       "1066                          None         None    None  \n",
       "1067                          None            3    None  \n",
       "1068             10.1002/path.5331           24    JPAT  \n",
       "1069             10.2337/dc07-1312          287      DC  "
      ]
     },
     "execution_count": 26,
     "metadata": {},
     "output_type": "execute_result"
    }
   ],
   "source": [
    "df_bib_data_with_titles = df_bib_data[df_bib_data['title'].notna()]\n",
    "df_bib_data_with_titles.head()"
   ]
  },
  {
   "cell_type": "markdown",
   "id": "31cc6693",
   "metadata": {},
   "source": [
    "# Gather ss and bib data for all staff member IDs"
   ]
  },
  {
   "cell_type": "code",
   "execution_count": 27,
   "id": "be3cb395",
   "metadata": {},
   "outputs": [],
   "source": [
    "staff_dict = {'Bram van Ginneken': [8038506, 123637526],\n",
    "'Francesco Ciompi': [143613202],\n",
    "'Alessa Hering': [153744566],\n",
    "'Henjan Huisman': [34754023],\n",
    "'Colin Jacobs': [2895994],\n",
    "'Peter Koopmans': [34726383],\n",
    "'Jeroen van der Laak': [145441238, 145388932],\n",
    "'Geert Litjens': [145959882],\n",
    "'James Meakin': [4960344],\n",
    "'Keelin Murphy': [35730362],\n",
    "'Ajay Patel': [2109170880, 2116215861],\n",
    "'Cornelia Schaefer-Prokop': [1419819133, 1445069528],\n",
    "'Matthieu Rutten': [2074975080, 2156546],\n",
    "'Jos Thannhauser': [5752941]}"
   ]
  },
  {
   "cell_type": "code",
   "execution_count": 28,
   "id": "0952f129",
   "metadata": {},
   "outputs": [
    {
     "data": {
      "text/plain": [
       "[8038506,\n",
       " 123637526,\n",
       " 143613202,\n",
       " 153744566,\n",
       " 34754023,\n",
       " 2895994,\n",
       " 34726383,\n",
       " 145441238,\n",
       " 145388932,\n",
       " 145959882,\n",
       " 4960344,\n",
       " 35730362,\n",
       " 2109170880,\n",
       " 2116215861,\n",
       " 1419819133,\n",
       " 1445069528,\n",
       " 2074975080,\n",
       " 2156546,\n",
       " 5752941]"
      ]
     },
     "execution_count": 28,
     "metadata": {},
     "output_type": "execute_result"
    }
   ],
   "source": [
    "staff_ids = []\n",
    "[staff_ids.extend(values) for values in staff_dict.values()];\n",
    "staff_ids"
   ]
  },
  {
   "cell_type": "markdown",
   "id": "84cfaf34",
   "metadata": {},
   "source": [
    "## Semantic scolar"
   ]
  },
  {
   "cell_type": "code",
   "execution_count": 29,
   "id": "3cd27297",
   "metadata": {},
   "outputs": [
    {
     "name": "stdout",
     "output_type": "stream",
     "text": [
      "[1/19]: 8038506\n",
      "[2/19]: 123637526\n",
      "[3/19]: 143613202\n",
      "[4/19]: 153744566\n",
      "[5/19]: 34754023\n",
      "[6/19]: 2895994\n",
      "[7/19]: 34726383\n",
      "[8/19]: 145441238\n",
      "[9/19]: 145388932\n",
      "[10/19]: 145959882\n",
      "[11/19]: 4960344\n",
      "[12/19]: 35730362\n",
      "[13/19]: 2109170880\n",
      "[14/19]: 2116215861\n",
      "[15/19]: 1419819133\n",
      "[16/19]: 1445069528\n",
      "[17/19]: 2074975080\n",
      "[18/19]: 2156546\n",
      "[19/19]: 5752941\n",
      "DONE\n"
     ]
    }
   ],
   "source": [
    "all_staff_id_ss_data = []\n",
    "\n",
    "# get data for staff member\n",
    "for idx_staff_id, staff_id in enumerate(staff_ids):\n",
    "    print(f'[{idx_staff_id+1}/{len(staff_ids)}]: {staff_id}')\n",
    "    staff_id_ss_data = []\n",
    "    # get semantic scolar data\n",
    "    url=f'https://api.semanticscholar.org/graph/v1/author/{staff_id}/papers?fields=year,title,authors,externalIds,citationCount&limit=100'\n",
    "    r = requests.get(url)\n",
    "    ss_staff_data = r.json()['data']\n",
    "    \n",
    "    # loop over semantic scolar data entries\n",
    "    for ss_staff_entry in ss_staff_data:\n",
    "        ss_id = None\n",
    "        ss_title = None\n",
    "        ss_doi = None\n",
    "        ss_citations = None\n",
    "\n",
    "        if 'paperId' in ss_staff_entry:\n",
    "            ss_id = ss_staff_entry['paperId']\n",
    "        if 'title' in ss_staff_entry:\n",
    "            ss_title = ss_staff_entry['title']\n",
    "        if 'DOI' in ss_staff_entry['externalIds']:\n",
    "            ss_doi = ss_staff_entry['externalIds']['DOI']\n",
    "        if 'citationCount' in ss_staff_entry:\n",
    "            ss_citations = ss_staff_entry['citationCount']\n",
    "\n",
    "        staff_id_ss_data.append([staff_id, ss_id, ss_title, ss_doi, ss_citations])\n",
    "    all_staff_id_ss_data.extend(staff_id_ss_data)    \n",
    "ss_columns = ['staff_id', 'ss_id', 'title', 'doi', 'ss_citations']\n",
    "df_all_staff_id_ss_data = pd.DataFrame(all_staff_id_ss_data, columns=ss_columns)\n",
    "print('DONE')"
   ]
  },
  {
   "cell_type": "code",
   "execution_count": 30,
   "id": "40bb950a",
   "metadata": {},
   "outputs": [
    {
     "data": {
      "text/html": [
       "<div>\n",
       "<style scoped>\n",
       "    .dataframe tbody tr th:only-of-type {\n",
       "        vertical-align: middle;\n",
       "    }\n",
       "\n",
       "    .dataframe tbody tr th {\n",
       "        vertical-align: top;\n",
       "    }\n",
       "\n",
       "    .dataframe thead th {\n",
       "        text-align: right;\n",
       "    }\n",
       "</style>\n",
       "<table border=\"1\" class=\"dataframe\">\n",
       "  <thead>\n",
       "    <tr style=\"text-align: right;\">\n",
       "      <th></th>\n",
       "      <th>staff_id</th>\n",
       "      <th>ss_id</th>\n",
       "      <th>title</th>\n",
       "      <th>doi</th>\n",
       "      <th>ss_citations</th>\n",
       "    </tr>\n",
       "  </thead>\n",
       "  <tbody>\n",
       "    <tr>\n",
       "      <th>0</th>\n",
       "      <td>8038506</td>\n",
       "      <td>1898998f27ce0750a42f8f3ca2ed7e292f05aee2</td>\n",
       "      <td>Understanding metric-related pitfalls in image...</td>\n",
       "      <td>10.48550/arXiv.2302.01790</td>\n",
       "      <td>5</td>\n",
       "    </tr>\n",
       "    <tr>\n",
       "      <th>1</th>\n",
       "      <td>8038506</td>\n",
       "      <td>362c510dec0d566d22d5be3af0519fc7eec8bb86</td>\n",
       "      <td>Uncertainty-Aware Multiple-Instance Learning f...</td>\n",
       "      <td>None</td>\n",
       "      <td>0</td>\n",
       "    </tr>\n",
       "    <tr>\n",
       "      <th>2</th>\n",
       "      <td>8038506</td>\n",
       "      <td>4bcd672218ecec70473c84f6f1cc52c64031f3e5</td>\n",
       "      <td>Continual learning strategies for cancer-indep...</td>\n",
       "      <td>10.1016/j.media.2023.102755</td>\n",
       "      <td>0</td>\n",
       "    </tr>\n",
       "    <tr>\n",
       "      <th>3</th>\n",
       "      <td>8038506</td>\n",
       "      <td>7981606bf8110ec6cc64baa22d694096f7862939</td>\n",
       "      <td>AIROGS: Artificial Intelligence for RObust Gla...</td>\n",
       "      <td>10.48550/arXiv.2302.01738</td>\n",
       "      <td>2</td>\n",
       "    </tr>\n",
       "    <tr>\n",
       "      <th>4</th>\n",
       "      <td>8038506</td>\n",
       "      <td>e738d94746b0f33b1c48737022ab186618d4d4cd</td>\n",
       "      <td>SimpleRad: Patient-Friendly Dutch Radiology Re...</td>\n",
       "      <td>10.1007/978-3-031-28241-6_18</td>\n",
       "      <td>0</td>\n",
       "    </tr>\n",
       "    <tr>\n",
       "      <th>...</th>\n",
       "      <td>...</td>\n",
       "      <td>...</td>\n",
       "      <td>...</td>\n",
       "      <td>...</td>\n",
       "      <td>...</td>\n",
       "    </tr>\n",
       "    <tr>\n",
       "      <th>1107</th>\n",
       "      <td>5752941</td>\n",
       "      <td>7971250a0b35dd47790d09e0c1d1fdcd16c5e802</td>\n",
       "      <td>Future directions in resuscitation care: Towar...</td>\n",
       "      <td>10.1016/J.RESUSCITATION.2018.07.350</td>\n",
       "      <td>0</td>\n",
       "    </tr>\n",
       "    <tr>\n",
       "      <th>1108</th>\n",
       "      <td>5752941</td>\n",
       "      <td>3cfe71ef252b69aeaa7d5e70b84afb518e253e82</td>\n",
       "      <td>Ventricular fibrillation waveform characterist...</td>\n",
       "      <td>10.1016/j.resuscitation.2017.03.029</td>\n",
       "      <td>8</td>\n",
       "    </tr>\n",
       "    <tr>\n",
       "      <th>1109</th>\n",
       "      <td>5752941</td>\n",
       "      <td>183eca01f54b6aca310e7d68a48a1bd6724745dd</td>\n",
       "      <td>Abstract 19221: Inter Shock Changes of the Ven...</td>\n",
       "      <td>None</td>\n",
       "      <td>0</td>\n",
       "    </tr>\n",
       "    <tr>\n",
       "      <th>1110</th>\n",
       "      <td>5752941</td>\n",
       "      <td>1b1b6d1c122164f90cecfa7150becf536a99b92d</td>\n",
       "      <td>Abstract 19090: Ventricular Fibrillation Wavef...</td>\n",
       "      <td>None</td>\n",
       "      <td>0</td>\n",
       "    </tr>\n",
       "    <tr>\n",
       "      <th>1111</th>\n",
       "      <td>5752941</td>\n",
       "      <td>4cc849616719e9989d22a8fb586231762579f08c</td>\n",
       "      <td>Ventricular fibrillation waveform characterist...</td>\n",
       "      <td>10.1016/j.resuscitation.2015.08.014</td>\n",
       "      <td>15</td>\n",
       "    </tr>\n",
       "  </tbody>\n",
       "</table>\n",
       "<p>1112 rows × 5 columns</p>\n",
       "</div>"
      ],
      "text/plain": [
       "      staff_id                                     ss_id  \\\n",
       "0      8038506  1898998f27ce0750a42f8f3ca2ed7e292f05aee2   \n",
       "1      8038506  362c510dec0d566d22d5be3af0519fc7eec8bb86   \n",
       "2      8038506  4bcd672218ecec70473c84f6f1cc52c64031f3e5   \n",
       "3      8038506  7981606bf8110ec6cc64baa22d694096f7862939   \n",
       "4      8038506  e738d94746b0f33b1c48737022ab186618d4d4cd   \n",
       "...        ...                                       ...   \n",
       "1107   5752941  7971250a0b35dd47790d09e0c1d1fdcd16c5e802   \n",
       "1108   5752941  3cfe71ef252b69aeaa7d5e70b84afb518e253e82   \n",
       "1109   5752941  183eca01f54b6aca310e7d68a48a1bd6724745dd   \n",
       "1110   5752941  1b1b6d1c122164f90cecfa7150becf536a99b92d   \n",
       "1111   5752941  4cc849616719e9989d22a8fb586231762579f08c   \n",
       "\n",
       "                                                  title  \\\n",
       "0     Understanding metric-related pitfalls in image...   \n",
       "1     Uncertainty-Aware Multiple-Instance Learning f...   \n",
       "2     Continual learning strategies for cancer-indep...   \n",
       "3     AIROGS: Artificial Intelligence for RObust Gla...   \n",
       "4     SimpleRad: Patient-Friendly Dutch Radiology Re...   \n",
       "...                                                 ...   \n",
       "1107  Future directions in resuscitation care: Towar...   \n",
       "1108  Ventricular fibrillation waveform characterist...   \n",
       "1109  Abstract 19221: Inter Shock Changes of the Ven...   \n",
       "1110  Abstract 19090: Ventricular Fibrillation Wavef...   \n",
       "1111  Ventricular fibrillation waveform characterist...   \n",
       "\n",
       "                                      doi  ss_citations  \n",
       "0               10.48550/arXiv.2302.01790             5  \n",
       "1                                    None             0  \n",
       "2             10.1016/j.media.2023.102755             0  \n",
       "3               10.48550/arXiv.2302.01738             2  \n",
       "4            10.1007/978-3-031-28241-6_18             0  \n",
       "...                                   ...           ...  \n",
       "1107  10.1016/J.RESUSCITATION.2018.07.350             0  \n",
       "1108  10.1016/j.resuscitation.2017.03.029             8  \n",
       "1109                                 None             0  \n",
       "1110                                 None             0  \n",
       "1111  10.1016/j.resuscitation.2015.08.014            15  \n",
       "\n",
       "[1112 rows x 5 columns]"
      ]
     },
     "execution_count": 30,
     "metadata": {},
     "output_type": "execute_result"
    }
   ],
   "source": [
    "df_all_staff_id_ss_data"
   ]
  },
  {
   "cell_type": "code",
   "execution_count": 31,
   "id": "25a77e44-3720-4aba-a122-8e94fba9a56b",
   "metadata": {},
   "outputs": [
    {
     "data": {
      "text/html": [
       "<div>\n",
       "<style scoped>\n",
       "    .dataframe tbody tr th:only-of-type {\n",
       "        vertical-align: middle;\n",
       "    }\n",
       "\n",
       "    .dataframe tbody tr th {\n",
       "        vertical-align: top;\n",
       "    }\n",
       "\n",
       "    .dataframe thead th {\n",
       "        text-align: right;\n",
       "    }\n",
       "</style>\n",
       "<table border=\"1\" class=\"dataframe\">\n",
       "  <thead>\n",
       "    <tr style=\"text-align: right;\">\n",
       "      <th></th>\n",
       "      <th>staff_id</th>\n",
       "      <th>ss_id</th>\n",
       "      <th>title</th>\n",
       "      <th>doi</th>\n",
       "      <th>ss_citations</th>\n",
       "    </tr>\n",
       "  </thead>\n",
       "  <tbody>\n",
       "    <tr>\n",
       "      <th>144</th>\n",
       "      <td>123637526</td>\n",
       "      <td>90a870cbb9897124193ba18c5358fe45b6260621</td>\n",
       "      <td>Feasibility of end-to-end trainable two-stage ...</td>\n",
       "      <td>10.1117/12.2551331</td>\n",
       "      <td>2</td>\n",
       "    </tr>\n",
       "    <tr>\n",
       "      <th>448</th>\n",
       "      <td>2895994</td>\n",
       "      <td>90a870cbb9897124193ba18c5358fe45b6260621</td>\n",
       "      <td>Feasibility of end-to-end trainable two-stage ...</td>\n",
       "      <td>10.1117/12.2551331</td>\n",
       "      <td>2</td>\n",
       "    </tr>\n",
       "  </tbody>\n",
       "</table>\n",
       "</div>"
      ],
      "text/plain": [
       "      staff_id                                     ss_id  \\\n",
       "144  123637526  90a870cbb9897124193ba18c5358fe45b6260621   \n",
       "448    2895994  90a870cbb9897124193ba18c5358fe45b6260621   \n",
       "\n",
       "                                                 title                 doi  \\\n",
       "144  Feasibility of end-to-end trainable two-stage ...  10.1117/12.2551331   \n",
       "448  Feasibility of end-to-end trainable two-stage ...  10.1117/12.2551331   \n",
       "\n",
       "     ss_citations  \n",
       "144             2  \n",
       "448             2  "
      ]
     },
     "execution_count": 31,
     "metadata": {},
     "output_type": "execute_result"
    }
   ],
   "source": [
    "df_all_staff_id_ss_data[df_all_staff_id_ss_data['ss_id']=='90a870cbb9897124193ba18c5358fe45b6260621']"
   ]
  },
  {
   "cell_type": "code",
   "execution_count": 32,
   "id": "4729da6a",
   "metadata": {},
   "outputs": [],
   "source": [
    "df_all_staff_id_ss_data.to_csv('script_data/temp_semantic_scholar_all_staff_id_last_100_summary.csv', index=False)"
   ]
  },
  {
   "cell_type": "markdown",
   "id": "8d1fa513",
   "metadata": {},
   "source": [
    "# Loop for matching DOIs and titles"
   ]
  },
  {
   "cell_type": "code",
   "execution_count": 33,
   "id": "496813da-2278-46a1-90f8-61dad01304e9",
   "metadata": {},
   "outputs": [],
   "source": [
    "from collections import Counter"
   ]
  },
  {
   "cell_type": "code",
   "execution_count": 34,
   "id": "57054c47",
   "metadata": {},
   "outputs": [
    {
     "name": "stdout",
     "output_type": "stream",
     "text": [
      "[MATCHING ON DOIS]\n",
      "DONE\n",
      "319\n",
      "319\n"
     ]
    }
   ],
   "source": [
    "doi_match_data = []\n",
    "match_keys_columns = ['bibkey', 'ss_id', 'comment']\n",
    "print('[MATCHING ON DOIS]')\n",
    "for idx_bib, row_bib in df_bib_data.iterrows():\n",
    "    bibkey = row_bib['bibkey']\n",
    "    comment = None\n",
    "    \n",
    "    bib_doi = row_bib['doi']\n",
    "    if bib_doi == None:\n",
    "        continue\n",
    "    doi_matching = df_all_staff_id_ss_data['doi'].isin([bib_doi])\n",
    "    \n",
    "    if doi_matching.any():\n",
    "        matches = df_all_staff_id_ss_data[doi_matching] # could be multiple in SS, search for \"Epithelium segmentation using deep learning\" paper from Wouter Bulten... \n",
    "        if len(Counter(matches['ss_id'])) == 1:\n",
    "            comment = 'single doi match'\n",
    "            match = matches.iloc[0]\n",
    "        if len(Counter(matches['ss_id'])) > 1:\n",
    "            comment = f'multiple doi matches {list(Counter(matches[\"ss_id\"]).keys())}, took the first one with most citations'\n",
    "            match = matches[matches['ss_citations'] == matches['ss_citations'].max()].iloc[0]\n",
    "        ss_id = match['ss_id']\n",
    "        doi_match_data.append([bibkey, ss_id, comment])\n",
    "\n",
    "df_doi_match_data = pd.DataFrame(doi_match_data, columns = match_keys_columns)\n",
    "df_doi_match_data.to_csv('script_data/temp_doi_match_data.csv', index=False)\n",
    "print('DONE')\n",
    "print(len(df_doi_match_data['comment'].notna()))\n",
    "print(len(df_doi_match_data))"
   ]
  },
  {
   "cell_type": "code",
   "execution_count": 35,
   "id": "1c7bf587-c417-4558-b152-3cf6dbe7a90c",
   "metadata": {},
   "outputs": [
    {
     "data": {
      "text/html": [
       "<div>\n",
       "<style scoped>\n",
       "    .dataframe tbody tr th:only-of-type {\n",
       "        vertical-align: middle;\n",
       "    }\n",
       "\n",
       "    .dataframe tbody tr th {\n",
       "        vertical-align: top;\n",
       "    }\n",
       "\n",
       "    .dataframe thead th {\n",
       "        text-align: right;\n",
       "    }\n",
       "</style>\n",
       "<table border=\"1\" class=\"dataframe\">\n",
       "  <thead>\n",
       "    <tr style=\"text-align: right;\">\n",
       "      <th></th>\n",
       "      <th>bibkey</th>\n",
       "      <th>ss_id</th>\n",
       "      <th>comment</th>\n",
       "    </tr>\n",
       "  </thead>\n",
       "  <tbody>\n",
       "    <tr>\n",
       "      <th>0</th>\n",
       "      <td>Altu20</td>\n",
       "      <td>90a870cbb9897124193ba18c5358fe45b6260621</td>\n",
       "      <td>single doi match</td>\n",
       "    </tr>\n",
       "    <tr>\n",
       "      <th>1</th>\n",
       "      <td>Amga20</td>\n",
       "      <td>b4c4c3dc91d42114023b0575c3e2273b87446ff7</td>\n",
       "      <td>multiple doi matches ['69999230b02054b82254684...</td>\n",
       "    </tr>\n",
       "    <tr>\n",
       "      <th>2</th>\n",
       "      <td>Anto22</td>\n",
       "      <td>979a9f247700d00ff2c3f0612d5eb001379f93c8</td>\n",
       "      <td>multiple doi matches ['979a9f247700d00ff2c3f06...</td>\n",
       "    </tr>\n",
       "    <tr>\n",
       "      <th>3</th>\n",
       "      <td>Apru19</td>\n",
       "      <td>0c44949334771d4e331d792bc0db77c7fe708ca2</td>\n",
       "      <td>single doi match</td>\n",
       "    </tr>\n",
       "    <tr>\n",
       "      <th>4</th>\n",
       "      <td>Ares19</td>\n",
       "      <td>b3dc561dd990cebc626e10318b8582a198aa3571</td>\n",
       "      <td>single doi match</td>\n",
       "    </tr>\n",
       "    <tr>\n",
       "      <th>...</th>\n",
       "      <td>...</td>\n",
       "      <td>...</td>\n",
       "      <td>...</td>\n",
       "    </tr>\n",
       "    <tr>\n",
       "      <th>314</th>\n",
       "      <td>Hude20</td>\n",
       "      <td>c52daf1cb971120c4083116cfc213acbaac6faaf</td>\n",
       "      <td>multiple doi matches ['c52daf1cb971120c4083116...</td>\n",
       "    </tr>\n",
       "    <tr>\n",
       "      <th>315</th>\n",
       "      <td>Vina22</td>\n",
       "      <td>6df1dd59f69d05d00e0b41b3220781b614584362</td>\n",
       "      <td>single doi match</td>\n",
       "    </tr>\n",
       "    <tr>\n",
       "      <th>316</th>\n",
       "      <td>Adam22a</td>\n",
       "      <td>516b2dc6c3761458c8fa6f5759295673e86a42db</td>\n",
       "      <td>single doi match</td>\n",
       "    </tr>\n",
       "    <tr>\n",
       "      <th>317</th>\n",
       "      <td>Adam22b</td>\n",
       "      <td>c661857719657aac571718e3d48cb66b8fc1e941</td>\n",
       "      <td>single doi match</td>\n",
       "    </tr>\n",
       "    <tr>\n",
       "      <th>318</th>\n",
       "      <td>Sido23</td>\n",
       "      <td>42f306e5fe8d8a22bc805f0f98e3fd2c292f06ac</td>\n",
       "      <td>single doi match</td>\n",
       "    </tr>\n",
       "  </tbody>\n",
       "</table>\n",
       "<p>319 rows × 3 columns</p>\n",
       "</div>"
      ],
      "text/plain": [
       "      bibkey                                     ss_id  \\\n",
       "0     Altu20  90a870cbb9897124193ba18c5358fe45b6260621   \n",
       "1     Amga20  b4c4c3dc91d42114023b0575c3e2273b87446ff7   \n",
       "2     Anto22  979a9f247700d00ff2c3f0612d5eb001379f93c8   \n",
       "3     Apru19  0c44949334771d4e331d792bc0db77c7fe708ca2   \n",
       "4     Ares19  b3dc561dd990cebc626e10318b8582a198aa3571   \n",
       "..       ...                                       ...   \n",
       "314   Hude20  c52daf1cb971120c4083116cfc213acbaac6faaf   \n",
       "315   Vina22  6df1dd59f69d05d00e0b41b3220781b614584362   \n",
       "316  Adam22a  516b2dc6c3761458c8fa6f5759295673e86a42db   \n",
       "317  Adam22b  c661857719657aac571718e3d48cb66b8fc1e941   \n",
       "318   Sido23  42f306e5fe8d8a22bc805f0f98e3fd2c292f06ac   \n",
       "\n",
       "                                               comment  \n",
       "0                                     single doi match  \n",
       "1    multiple doi matches ['69999230b02054b82254684...  \n",
       "2    multiple doi matches ['979a9f247700d00ff2c3f06...  \n",
       "3                                     single doi match  \n",
       "4                                     single doi match  \n",
       "..                                                 ...  \n",
       "314  multiple doi matches ['c52daf1cb971120c4083116...  \n",
       "315                                   single doi match  \n",
       "316                                   single doi match  \n",
       "317                                   single doi match  \n",
       "318                                   single doi match  \n",
       "\n",
       "[319 rows x 3 columns]"
      ]
     },
     "execution_count": 35,
     "metadata": {},
     "output_type": "execute_result"
    }
   ],
   "source": [
    "df_doi_match_data"
   ]
  },
  {
   "cell_type": "code",
   "execution_count": 36,
   "id": "003dd81f",
   "metadata": {},
   "outputs": [
    {
     "data": {
      "text/html": [
       "<div>\n",
       "<style scoped>\n",
       "    .dataframe tbody tr th:only-of-type {\n",
       "        vertical-align: middle;\n",
       "    }\n",
       "\n",
       "    .dataframe tbody tr th {\n",
       "        vertical-align: top;\n",
       "    }\n",
       "\n",
       "    .dataframe thead th {\n",
       "        text-align: right;\n",
       "    }\n",
       "</style>\n",
       "<table border=\"1\" class=\"dataframe\">\n",
       "  <thead>\n",
       "    <tr style=\"text-align: right;\">\n",
       "      <th></th>\n",
       "      <th>staff_id</th>\n",
       "      <th>ss_id</th>\n",
       "      <th>title</th>\n",
       "      <th>doi</th>\n",
       "      <th>ss_citations</th>\n",
       "    </tr>\n",
       "  </thead>\n",
       "  <tbody>\n",
       "    <tr>\n",
       "      <th>424</th>\n",
       "      <td>2895994</td>\n",
       "      <td>42f306e5fe8d8a22bc805f0f98e3fd2c292f06ac</td>\n",
       "      <td>Multi-source data approach for personalized ou...</td>\n",
       "      <td>10.1007/s10654-023-00975-9</td>\n",
       "      <td>0</td>\n",
       "    </tr>\n",
       "    <tr>\n",
       "      <th>909</th>\n",
       "      <td>1419819133</td>\n",
       "      <td>42f306e5fe8d8a22bc805f0f98e3fd2c292f06ac</td>\n",
       "      <td>Multi-source data approach for personalized ou...</td>\n",
       "      <td>10.1007/s10654-023-00975-9</td>\n",
       "      <td>0</td>\n",
       "    </tr>\n",
       "  </tbody>\n",
       "</table>\n",
       "</div>"
      ],
      "text/plain": [
       "       staff_id                                     ss_id  \\\n",
       "424     2895994  42f306e5fe8d8a22bc805f0f98e3fd2c292f06ac   \n",
       "909  1419819133  42f306e5fe8d8a22bc805f0f98e3fd2c292f06ac   \n",
       "\n",
       "                                                 title  \\\n",
       "424  Multi-source data approach for personalized ou...   \n",
       "909  Multi-source data approach for personalized ou...   \n",
       "\n",
       "                            doi  ss_citations  \n",
       "424  10.1007/s10654-023-00975-9             0  \n",
       "909  10.1007/s10654-023-00975-9             0  "
      ]
     },
     "execution_count": 36,
     "metadata": {},
     "output_type": "execute_result"
    }
   ],
   "source": [
    "matches"
   ]
  },
  {
   "cell_type": "code",
   "execution_count": 37,
   "id": "16fd8225",
   "metadata": {},
   "outputs": [],
   "source": [
    "import time"
   ]
  },
  {
   "cell_type": "code",
   "execution_count": 38,
   "id": "e417d6d0",
   "metadata": {},
   "outputs": [
    {
     "name": "stdout",
     "output_type": "stream",
     "text": [
      "[MATCHING ON TITLES]\n",
      "[0/1112]\n",
      "[50/1112]\n",
      "[100/1112]\n",
      "[150/1112]\n",
      "[200/1112]\n",
      "[250/1112]\n",
      "[300/1112]\n",
      "[350/1112]\n",
      "[400/1112]\n",
      "[450/1112]\n",
      "[500/1112]\n",
      "[550/1112]\n",
      "[600/1112]\n",
      "[650/1112]\n",
      "[700/1112]\n",
      "[750/1112]\n",
      "[800/1112]\n",
      "[850/1112]\n",
      "[900/1112]\n",
      "[950/1112]\n",
      "[1000/1112]\n",
      "[1050/1112]\n",
      "[1100/1112]\n",
      "DONE\n",
      "750.2382960319519 sec\n",
      "12.503971600532532 min\n"
     ]
    }
   ],
   "source": [
    "start = time.time()\n",
    "print('[MATCHING ON TITLES]')\n",
    "title_match_data = []\n",
    "for idx_ss, row_ss in df_all_staff_id_ss_data.iterrows():\n",
    "    if idx_ss % 50 == 0:\n",
    "        print(f'[{idx_ss}/{len(df_all_staff_id_ss_data)}]')\n",
    "    \n",
    "    ss_id = row_ss['ss_id']\n",
    "    # if ss_id in df_doi_match_data['ss_id']:\n",
    "    #     continue\n",
    " \n",
    "    ss_title = row_ss['title']\n",
    "    if pd.isna(ss_title):\n",
    "        continue\n",
    "    \n",
    "    title_match_ratios = df_bib_data_with_titles['title'].apply(lambda x: SequenceMatcher(\n",
    "        a=ss_title.lower(), \n",
    "        b=x.lower().replace('{', '').replace('}', '')).ratio())\n",
    "\n",
    "    max_ratio = title_match_ratios.max()\n",
    "    max_bibkey = df_bib_data_with_titles[title_match_ratios==max_ratio]['bibkey'].iloc[0]\n",
    "    max_bib_title = df_bib_data_with_titles[title_match_ratios==max_ratio]['title'].iloc[0]\n",
    "    max_bib_title = max_bib_title.replace('{', '').replace('}', '')\n",
    "    \n",
    "    up80_bibkeys = None\n",
    "    up80_bib_titles = None\n",
    "    up80_ratios = None\n",
    "    if sum(title_match_ratios>0.8) > 1:\n",
    "        \n",
    "        up80_bibkeys = list(df_bib_data_with_titles[title_match_ratios>0.8]['bibkey'])\n",
    "        up80_bib_titles = list(df_bib_data_with_titles[title_match_ratios>0.8]['title'])\n",
    "        up80_bib_titles = [up80_bib_title.replace('{', '').replace('}', '') for up80_bib_title in up80_bib_titles]\n",
    "        up80_ratios = list(title_match_ratios[title_match_ratios>0.8])\n",
    "    \n",
    "    title_match_data.append([ss_id, ss_title, \n",
    "                             max_bibkey, max_bib_title, max_ratio, \n",
    "                             up80_bibkeys, up80_bib_titles, up80_ratios])\n",
    "\n",
    "title_matches_columns = ['ss_id', 'ss_title', \n",
    "                         'max_bibkey' , 'max_bib_title', 'max_ratio',\n",
    "                         'up80_bibkeys' , 'up80_bib_titles', 'up80_ratios',\n",
    "                        ]\n",
    "df_title_match_data = pd.DataFrame(title_match_data, columns=title_matches_columns)\n",
    "df_title_match_data.to_csv('script_data/temp_title_match_data.csv', index=False)\n",
    "print('DONE')\n",
    "end = time.time()\n",
    "sec = end-start\n",
    "print(sec, 'sec')\n",
    "print(sec/60, 'min')"
   ]
  },
  {
   "cell_type": "code",
   "execution_count": 39,
   "id": "4428bd2c",
   "metadata": {},
   "outputs": [
    {
     "data": {
      "text/plain": [
       "['4cc849616719e9989d22a8fb586231762579f08c',\n",
       " 'Ventricular fibrillation waveform characteristics differ according to the presence of a previous myocardial infarction: A surface ECG study in ICD-patients.',\n",
       " 'Gall13',\n",
       " 'Normalization of CT scans reconstructed with different kernels to reduce variability in emphysema measurements',\n",
       " 0.42857142857142855,\n",
       " None,\n",
       " None,\n",
       " None]"
      ]
     },
     "execution_count": 39,
     "metadata": {},
     "output_type": "execute_result"
    }
   ],
   "source": [
    "[ss_id, ss_title, max_bibkey, max_bib_title, max_ratio, up80_bibkeys, up80_bib_titles, up80_ratios]"
   ]
  },
  {
   "cell_type": "code",
   "execution_count": 40,
   "id": "d09a803b",
   "metadata": {},
   "outputs": [
    {
     "data": {
      "text/plain": [
       "bibkey                                      Anto21\n",
       "type                                       article\n",
       "title           The Medical Segmentation Decathlon\n",
       "doi                                           None\n",
       "gs_citations                                  None\n",
       "journal            arXiv preprint arXiv:2106.05735\n",
       "Name: 1086, dtype: object"
      ]
     },
     "execution_count": 40,
     "metadata": {},
     "output_type": "execute_result"
    }
   ],
   "source": [
    "df_bib_data.iloc[1086]"
   ]
  },
  {
   "cell_type": "code",
   "execution_count": 41,
   "id": "16aaf6e0",
   "metadata": {},
   "outputs": [
    {
     "data": {
      "text/plain": [
       "bibkey                                           Anto22\n",
       "type                                            article\n",
       "title           The {Medical} {Segmentation} {Decathlon\n",
       "doi                          10.1038/s41467-022-30695-9\n",
       "gs_citations                                       None\n",
       "journal                                          NATCOM\n",
       "Name: 1087, dtype: object"
      ]
     },
     "execution_count": 41,
     "metadata": {},
     "output_type": "execute_result"
    }
   ],
   "source": [
    "df_bib_data.iloc[1087]"
   ]
  },
  {
   "cell_type": "code",
   "execution_count": null,
   "id": "9ef16954",
   "metadata": {},
   "outputs": [],
   "source": []
  },
  {
   "cell_type": "code",
   "execution_count": null,
   "id": "e132282d",
   "metadata": {},
   "outputs": [],
   "source": []
  },
  {
   "cell_type": "code",
   "execution_count": null,
   "id": "86b54aae",
   "metadata": {},
   "outputs": [],
   "source": []
  },
  {
   "cell_type": "code",
   "execution_count": null,
   "id": "ab77afa5",
   "metadata": {},
   "outputs": [],
   "source": []
  },
  {
   "cell_type": "code",
   "execution_count": null,
   "id": "d5e3c053",
   "metadata": {},
   "outputs": [],
   "source": []
  },
  {
   "cell_type": "code",
   "execution_count": 42,
   "id": "4bc6850c",
   "metadata": {},
   "outputs": [],
   "source": [
    "max_ratio = title_match_ratios.max()\n",
    "max_bibkey = df_bib_data_with_titles[title_match_ratios==max_ratio]['bibkey'].iloc[0]\n",
    "max_bib_title = df_bib_data_with_titles[title_match_ratios==max_ratio]['title'].iloc[0]\n",
    "max_bib_title = max_bib_title.replace('{', '').replace('}', '')\n",
    "\n",
    "\n",
    "up80_bibkeys = None\n",
    "un80_bib_titles = None\n"
   ]
  },
  {
   "cell_type": "code",
   "execution_count": 43,
   "id": "0e9ce507",
   "metadata": {},
   "outputs": [
    {
     "data": {
      "text/plain": [
       "['4cc849616719e9989d22a8fb586231762579f08c',\n",
       " 'Wild23b',\n",
       " 0.42857142857142855,\n",
       " 'Medical diffusion on a budget: textual inversion for medical image generation',\n",
       " 'Ventricular fibrillation waveform characteristics differ according to the presence of a previous myocardial infarction: A surface ECG study in ICD-patients.']"
      ]
     },
     "execution_count": 43,
     "metadata": {},
     "output_type": "execute_result"
    }
   ],
   "source": [
    "[ss_id, bibkey, max_ratio, bib_title, ss_title]"
   ]
  },
  {
   "cell_type": "code",
   "execution_count": null,
   "id": "7645cbf8",
   "metadata": {},
   "outputs": [],
   "source": []
  },
  {
   "cell_type": "code",
   "execution_count": 44,
   "id": "ebd3f160",
   "metadata": {},
   "outputs": [
    {
     "data": {
      "text/plain": [
       "1403    Gall13\n",
       "Name: bibkey, dtype: object"
      ]
     },
     "execution_count": 44,
     "metadata": {},
     "output_type": "execute_result"
    }
   ],
   "source": [
    "df_bib_data_with_titles[title_match_ratios==max_ratio]['bibkey']"
   ]
  },
  {
   "cell_type": "code",
   "execution_count": 45,
   "id": "27620ff3",
   "metadata": {},
   "outputs": [
    {
     "data": {
      "text/plain": [
       "'Medical diffusion on a budget: textual inversion for medical image generation'"
      ]
     },
     "execution_count": 45,
     "metadata": {},
     "output_type": "execute_result"
    }
   ],
   "source": [
    "bib_title"
   ]
  },
  {
   "cell_type": "code",
   "execution_count": 46,
   "id": "915f22fc",
   "metadata": {},
   "outputs": [
    {
     "data": {
      "text/plain": [
       "0.5"
      ]
     },
     "execution_count": 46,
     "metadata": {},
     "output_type": "execute_result"
    }
   ],
   "source": [
    "SequenceMatcher(a='AAaa', b=\"aaaa\").ratio()"
   ]
  },
  {
   "cell_type": "code",
   "execution_count": 47,
   "id": "12b8acc2",
   "metadata": {},
   "outputs": [
    {
     "ename": "NameError",
     "evalue": "name 'df_title_matches' is not defined",
     "output_type": "error",
     "traceback": [
      "\u001b[1;31m---------------------------------------------------------------------------\u001b[0m",
      "\u001b[1;31mNameError\u001b[0m                                 Traceback (most recent call last)",
      "Cell \u001b[1;32mIn[47], line 1\u001b[0m\n\u001b[1;32m----> 1\u001b[0m \u001b[43mdf_title_matches\u001b[49m[df_title_matches[\u001b[38;5;124m'\u001b[39m\u001b[38;5;124mmax_ratio\u001b[39m\u001b[38;5;124m'\u001b[39m]\u001b[38;5;241m<\u001b[39m\u001b[38;5;241m=\u001b[39m\u001b[38;5;241m0.8\u001b[39m]\u001b[38;5;241m.\u001b[39msort_values(\u001b[38;5;124m'\u001b[39m\u001b[38;5;124mmax_ratio\u001b[39m\u001b[38;5;124m'\u001b[39m)\n",
      "\u001b[1;31mNameError\u001b[0m: name 'df_title_matches' is not defined"
     ]
    }
   ],
   "source": [
    "df_title_matches[df_title_matches['max_ratio']<=0.8].sort_values('max_ratio')"
   ]
  },
  {
   "cell_type": "code",
   "execution_count": null,
   "id": "3f7ab020",
   "metadata": {},
   "outputs": [],
   "source": [
    "df_title_matches[df_title_matches['max_ratio']>0.8]"
   ]
  },
  {
   "cell_type": "code",
   "execution_count": null,
   "id": "a234018f",
   "metadata": {},
   "outputs": [],
   "source": [
    "df_bib_data[title_match_ratios==max_ratio]"
   ]
  },
  {
   "cell_type": "code",
   "execution_count": null,
   "id": "a60cb5ed",
   "metadata": {},
   "outputs": [],
   "source": [
    "row_ss"
   ]
  },
  {
   "cell_type": "code",
   "execution_count": null,
   "id": "80a53778",
   "metadata": {
    "scrolled": true
   },
   "outputs": [],
   "source": [
    "df_bib_data[df_bib_data['title'].notna()]"
   ]
  },
  {
   "cell_type": "code",
   "execution_count": null,
   "id": "61ee3f7d",
   "metadata": {},
   "outputs": [],
   "source": [
    "len(df_match_keys)"
   ]
  },
  {
   "cell_type": "code",
   "execution_count": null,
   "id": "b141c551",
   "metadata": {},
   "outputs": [],
   "source": [
    "df_title_matches"
   ]
  },
  {
   "cell_type": "code",
   "execution_count": null,
   "id": "c788cb89",
   "metadata": {},
   "outputs": [],
   "source": [
    "# df_match_keys"
   ]
  },
  {
   "cell_type": "code",
   "execution_count": null,
   "id": "870da209",
   "metadata": {},
   "outputs": [],
   "source": []
  },
  {
   "cell_type": "code",
   "execution_count": null,
   "id": "f3e06592",
   "metadata": {},
   "outputs": [],
   "source": [
    "'Anto22' in df_match_keys['bibkey']"
   ]
  },
  {
   "cell_type": "code",
   "execution_count": null,
   "id": "3b77ac88",
   "metadata": {},
   "outputs": [],
   "source": [
    "df_staff_id_ss_data[doi_matching]['ss_citations'].max()"
   ]
  },
  {
   "cell_type": "code",
   "execution_count": null,
   "id": "3d8fe36b",
   "metadata": {},
   "outputs": [],
   "source": [
    "df_staff_id_ss_data[doi_matching][df_staff_id_ss_data[doi_matching]['ss_citations'] == df_staff_id_ss_data[doi_matching]['ss_citations'].max()].iloc[0]"
   ]
  },
  {
   "cell_type": "code",
   "execution_count": null,
   "id": "eb0ef91e",
   "metadata": {},
   "outputs": [],
   "source": [
    "df_staff_id_ss_data['doi']"
   ]
  },
  {
   "cell_type": "code",
   "execution_count": null,
   "id": "09bef712",
   "metadata": {},
   "outputs": [],
   "source": [
    "df_staff_id_ss_data[doi_matching]['ss_id'].item()"
   ]
  },
  {
   "cell_type": "code",
   "execution_count": null,
   "id": "9afce941",
   "metadata": {},
   "outputs": [],
   "source": [
    "row_bib"
   ]
  },
  {
   "cell_type": "code",
   "execution_count": null,
   "id": "fa00c73f",
   "metadata": {},
   "outputs": [],
   "source": [
    "row_ss['title']"
   ]
  },
  {
   "cell_type": "code",
   "execution_count": null,
   "id": "2900d2bb",
   "metadata": {},
   "outputs": [],
   "source": []
  },
  {
   "cell_type": "code",
   "execution_count": null,
   "id": "78be3865",
   "metadata": {},
   "outputs": [],
   "source": [
    "df_staff_id_ss_data['doi'].isin([row_bib['doi']]).any()"
   ]
  },
  {
   "cell_type": "code",
   "execution_count": null,
   "id": "62dba8c5",
   "metadata": {},
   "outputs": [],
   "source": [
    "pd.isin(row_bib['doi'], df_staff_id_ss_data['doi'])"
   ]
  },
  {
   "cell_type": "code",
   "execution_count": null,
   "id": "75705f00",
   "metadata": {},
   "outputs": [],
   "source": []
  },
  {
   "cell_type": "code",
   "execution_count": null,
   "id": "a0d5358a",
   "metadata": {},
   "outputs": [],
   "source": []
  },
  {
   "cell_type": "code",
   "execution_count": null,
   "id": "28236211",
   "metadata": {},
   "outputs": [],
   "source": [
    "bib_title = bib_entry.fields['title'].strip('{ }')\n",
    "ss_title = ss_entry"
   ]
  },
  {
   "cell_type": "code",
   "execution_count": null,
   "id": "35639483",
   "metadata": {},
   "outputs": [],
   "source": [
    "all_types = []\n",
    "for entry in diag_bib_raw:\n",
    "    all_types.append(entry.type)\n",
    "np.unique(all_types, return_counts=True)"
   ]
  },
  {
   "cell_type": "code",
   "execution_count": null,
   "id": "ee0aee0c",
   "metadata": {},
   "outputs": [],
   "source": [
    "selected_entries = []\n",
    "for entry in diag_bib_raw:\n",
    "    if entry.type in ['article']: #['article', 'book', 'conference', 'inbook', 'inproceedings']\n",
    "        selected_entries.append(entry)\n",
    "        print(entry.fields)"
   ]
  },
  {
   "cell_type": "code",
   "execution_count": null,
   "id": "7451bb6c",
   "metadata": {},
   "outputs": [],
   "source": [
    "[print(key) for key in selected_entries[0].fields.keys()];"
   ]
  },
  {
   "cell_type": "code",
   "execution_count": null,
   "id": "f133eae8",
   "metadata": {},
   "outputs": [],
   "source": []
  }
 ],
 "metadata": {
  "kernelspec": {
   "display_name": "Python 3 (ipykernel)",
   "language": "python",
   "name": "python3"
  },
  "language_info": {
   "codemirror_mode": {
    "name": "ipython",
    "version": 3
   },
   "file_extension": ".py",
   "mimetype": "text/x-python",
   "name": "python",
   "nbconvert_exporter": "python",
   "pygments_lexer": "ipython3",
   "version": "3.9.7"
  }
 },
 "nbformat": 4,
 "nbformat_minor": 5
}
