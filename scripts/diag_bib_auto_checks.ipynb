{
 "cells": [
  {
   "cell_type": "code",
   "execution_count": 1,
   "id": "c5df60b9",
   "metadata": {},
   "outputs": [],
   "source": [
    "# !pip install pyarxiv\n",
    "# !pip install pybtex\n",
    "# !pip install dropbox\n",
    "# !pip install tqdm\n",
    "# !pip install pycolors2\n",
    "# !pip install pdf2image"
   ]
  },
  {
   "cell_type": "markdown",
   "id": "618d7d0e",
   "metadata": {},
   "source": [
    "# Libraries"
   ]
  },
  {
   "cell_type": "code",
   "execution_count": 14,
   "id": "c8fb2ae2",
   "metadata": {},
   "outputs": [],
   "source": [
    "from pathlib import Path\n",
    "from processbib import read_bibfile\n",
    "from processbib import save_to_file\n",
    "import pandas as pd\n",
    "import os\n",
    "import numpy as np"
   ]
  },
  {
   "cell_type": "markdown",
   "id": "b4227f78",
   "metadata": {},
   "source": [
    "# Imports"
   ]
  },
  {
   "cell_type": "markdown",
   "id": "be436550",
   "metadata": {},
   "source": [
    "### diag bib"
   ]
  },
  {
   "cell_type": "code",
   "execution_count": 48,
   "id": "e8650e1d",
   "metadata": {},
   "outputs": [],
   "source": [
    "path_diag_bib = os.path.join('..', 'diag.bib')\n",
    "path_output_diag_bib = os.path.join('..', 'diag_taverne.bib')"
   ]
  },
  {
   "cell_type": "code",
   "execution_count": 49,
   "id": "ac38218a",
   "metadata": {},
   "outputs": [],
   "source": [
    "diag_bib_raw = read_bibfile(None, path_diag_bib) # I changed the code in such a way that IF I give a second argument, it uses the second argument as a full path"
   ]
  },
  {
   "cell_type": "markdown",
   "id": "fc710a92",
   "metadata": {},
   "source": [
    "# PhD and Master thesis checks "
   ]
  },
  {
   "cell_type": "code",
   "execution_count": 35,
   "id": "02ea5e0f",
   "metadata": {},
   "outputs": [],
   "source": [
    "all_types = []\n",
    "for entry in diag_bib_raw:\n",
    "    all_types.append(entry.type)\n",
    "np.unique(all_types, return_counts=True)"
   ]
  },
  {
   "cell_type": "markdown",
   "id": "d986dad3",
   "metadata": {},
   "source": [
    "I first checked whether there was anything added in the journal fields of the phd thesis and master thesis entries. \n",
    "\n",
    "There were no journal fields for these entries, so we can make them in the following loop"
   ]
  },
  {
   "cell_type": "code",
   "execution_count": 42,
   "id": "57a9adac",
   "metadata": {},
   "outputs": [],
   "source": [
    "phd_entries = []\n",
    "for entry in diag_bib_raw:\n",
    "    if entry.type == 'phdthesis':\n",
    "        entry.fields['journal'] = 'PhD thesis'\n",
    "    if entry.type == 'mastersthesis':\n",
    "        entry.fields['journal'] = 'Master thesis'\n",
    "    else:\n",
    "        pass"
   ]
  },
  {
   "cell_type": "markdown",
   "id": "0510aeb5",
   "metadata": {},
   "source": [
    "# Save new diag_taverne.bib"
   ]
  },
  {
   "cell_type": "code",
   "execution_count": 46,
   "id": "3903bd07",
   "metadata": {},
   "outputs": [],
   "source": [
    "path_output_diag_bib = os.path.join('..', 'diag.bib')"
   ]
  },
  {
   "cell_type": "code",
   "execution_count": 47,
   "id": "9f15d12e",
   "metadata": {},
   "outputs": [],
   "source": [
    "save_to_file(diag_bib_raw, None, path_output_diag_bib)"
   ]
  }
 ],
 "metadata": {
  "kernelspec": {
   "display_name": "Python 3 (ipykernel)",
   "language": "python",
   "name": "python3"
  },
  "language_info": {
   "codemirror_mode": {
    "name": "ipython",
    "version": 3
   },
   "file_extension": ".py",
   "mimetype": "text/x-python",
   "name": "python",
   "nbconvert_exporter": "python",
   "pygments_lexer": "ipython3",
   "version": "3.9.7"
  }
 },
 "nbformat": 4,
 "nbformat_minor": 5
}
