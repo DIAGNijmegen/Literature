{
 "cells": [
  {
   "cell_type": "code",
   "execution_count": 1,
   "id": "c5df60b9",
   "metadata": {},
   "outputs": [],
   "source": [
    "# !pip install pyarxiv\n",
    "# !pip install pybtex\n",
    "# !pip install dropbox\n",
    "# !pip install tqdm\n",
    "# !pip install pycolors2\n",
    "# !pip install pdf2image"
   ]
  },
  {
   "cell_type": "markdown",
   "id": "618d7d0e",
   "metadata": {},
   "source": [
    "# Libraries"
   ]
  },
  {
   "cell_type": "code",
   "execution_count": 1,
   "id": "c8fb2ae2",
   "metadata": {},
   "outputs": [],
   "source": [
    "from pathlib import Path\n",
    "from bib_handling_code.processbib import read_bibfile\n",
    "from bib_handling_code.processbib import save_to_file\n",
    "import pandas as pd\n",
    "import os\n",
    "import numpy as np"
   ]
  },
  {
   "cell_type": "markdown",
   "id": "b4227f78",
   "metadata": {},
   "source": [
    "# Imports"
   ]
  },
  {
   "cell_type": "markdown",
   "id": "be436550",
   "metadata": {},
   "source": [
    "### diag bib"
   ]
  },
  {
   "cell_type": "code",
   "execution_count": 2,
   "id": "e8650e1d",
   "metadata": {},
   "outputs": [],
   "source": [
    "path_diag_bib = os.path.join('..', 'diag.bib')\n",
    "path_output_diag_bib = os.path.join('..', 'diag_taverne.bib')"
   ]
  },
  {
   "cell_type": "code",
   "execution_count": 3,
   "id": "ac38218a",
   "metadata": {},
   "outputs": [],
   "source": [
    "diag_bib_raw = read_bibfile(None, path_diag_bib) # I changed the code in such a way that IF I give a second argument, it uses the second argument as a full path"
   ]
  },
  {
   "cell_type": "markdown",
   "id": "fc710a92",
   "metadata": {},
   "source": [
    "# PhD and Master thesis checks "
   ]
  },
  {
   "cell_type": "code",
   "execution_count": 5,
   "id": "02ea5e0f",
   "metadata": {},
   "outputs": [
    {
     "data": {
      "text/plain": [
       "(array(['article', 'book', 'conference', 'inbook', 'inproceedings',\n",
       "        'mastersthesis', 'misc', 'patent', 'phdthesis', 'string'],\n",
       "       dtype='<U13'),\n",
       " array([ 866,   13,  317,    1,  393,   41,    3,    1,   80, 1065],\n",
       "       dtype=int64))"
      ]
     },
     "execution_count": 5,
     "metadata": {},
     "output_type": "execute_result"
    }
   ],
   "source": [
    "all_types = []\n",
    "for entry in diag_bib_raw:\n",
    "    all_types.append(entry.type)\n",
    "np.unique(all_types, return_counts=True)"
   ]
  },
  {
   "cell_type": "markdown",
   "id": "d986dad3",
   "metadata": {},
   "source": [
    "I first checked whether there was anything added in the journal fields of the phd thesis and master thesis entries. \n",
    "\n",
    "There were no journal fields for these entries, so we can make them in the following loop"
   ]
  },
  {
   "cell_type": "code",
   "execution_count": 6,
   "id": "89e378d0",
   "metadata": {},
   "outputs": [
    {
     "data": {
      "text/plain": [
       "{'author': '{Antonissen, N and Venkadesh, K and Gietema, H and Vliegenthart, R and Saghir, Z and Scholten, E. Th and Prokop, M and Schaefer-Prokop, C and Jacobs, C\\u202f}',\n",
       " 'booktitle': 'ECR',\n",
       " 'title': '{Retrospective validation of nodule management based on deep learning-based malignancy thresholds in lung cancer screening}',\n",
       " 'abstract': '{Purpose: We previously developed and validated a deep learning (DL) algorithm for malignancy risk estimation of screen-detected nodules. The nodule risk cut-off for a positive screen, triggering more intensive follow-up (either short-term follow-up, PET-CT or biopsy), varies in existing nodule management protocols; 1-2% for Lung-RADS (cat 3), 6% for PanCan2b (CAT3). In this study, we investigated two DL-based malignancy thresholds to define a positive screen, compared to existing nodule management protocols.\\n Methods and materials: All baseline CT-scans from the Danish Lung Cancer Screening Trial were linked to lung cancer diagnosis within 2 years, resulting in 2,019 non-cancer and 18 cancer cases. The DL-based malignancy risk was computed for all screen-detected nodules using two malignancy risk cut-off points (6% and 10%), as threshold for a positive screen. For both Lung-RADS and PanCan2b, we used the published nodule-risk cut-offs for a positive screen. Sensitivity and False Positive Rate (FPR) were calculated for all baseline scans (n=2,037) using the risk dominant nodule per scan.\\n Results: At a threshold of 6%, DL achieved the highest sensitivity with 88.9% compared to 83.3% of Lung-RADS and 77.8% with PanCan2b. DL and PanCan2b yielded comparable FPR of 3.6% and 4.1%, respectively, while Lung-RADS had a higher FPR of 8.7%. Increasing the DL threshold to ≥10% resulted in a sensitivity of 88.9%, and a FPR of 2.5%.\\n Conclusion: DL-based nodule risk cut-offs achieved the highest sensitivity and lowest FPR for defining a positive screen, triggering more intense diagnostic work-up. Increasing the risk cut-off from 6% to 10% further decreased the FPR without alteration of sensitivity.\\n Limitations: This study is a retrospective analysis on data from one screening trial and one screening round. More external validation is needed, including validation for incidence screenings.}',\n",
       " 'optnote': '{DIAG, RADIOLOGY}',\n",
       " 'year': '{2023}'}"
      ]
     },
     "execution_count": 6,
     "metadata": {},
     "output_type": "execute_result"
    }
   ],
   "source": [
    "entry.fields"
   ]
  },
  {
   "cell_type": "code",
   "execution_count": 10,
   "id": "57a9adac",
   "metadata": {},
   "outputs": [],
   "source": [
    "phd_entries = []\n",
    "for entry in diag_bib_raw:\n",
    "    if entry.type == 'phdthesis':\n",
    "        entry.fields['journal'] = '{PhD thesis}'\n",
    "    if entry.type == 'mastersthesis':\n",
    "        entry.fields['journal'] = '{Master thesis}'\n",
    "    else:\n",
    "        pass"
   ]
  },
  {
   "cell_type": "markdown",
   "id": "0510aeb5",
   "metadata": {},
   "source": [
    "# Save new diag_taverne.bib"
   ]
  },
  {
   "cell_type": "code",
   "execution_count": 11,
   "id": "3903bd07",
   "metadata": {},
   "outputs": [],
   "source": [
    "path_output_diag_bib = os.path.join('..', 'diag.bib')"
   ]
  },
  {
   "cell_type": "code",
   "execution_count": 12,
   "id": "9f15d12e",
   "metadata": {},
   "outputs": [],
   "source": [
    "# save_to_file(diag_bib_raw, None, path_output_diag_bib)"
   ]
  },
  {
   "cell_type": "code",
   "execution_count": null,
   "id": "27d3722f",
   "metadata": {},
   "outputs": [],
   "source": []
  }
 ],
 "metadata": {
  "kernelspec": {
   "display_name": "Python 3 (ipykernel)",
   "language": "python",
   "name": "python3"
  },
  "language_info": {
   "codemirror_mode": {
    "name": "ipython",
    "version": 3
   },
   "file_extension": ".py",
   "mimetype": "text/x-python",
   "name": "python",
   "nbconvert_exporter": "python",
   "pygments_lexer": "ipython3",
   "version": "3.9.7"
  }
 },
 "nbformat": 4,
 "nbformat_minor": 5
}
